{
  "nbformat": 4,
  "nbformat_minor": 0,
  "metadata": {
    "colab": {
      "name": "MΑ2-S07",
      "provenance": [],
      "collapsed_sections": [],
      "toc_visible": true
    },
    "kernelspec": {
      "name": "python3",
      "display_name": "Python 3"
    },
    "accelerator": "GPU"
  },
  "cells": [
    {
      "cell_type": "markdown",
      "metadata": {
        "id": "9IdE98HnESPa"
      },
      "source": [
        "# Νευρωνικά Δίκτυα και Ευφυή Συστήματα - Άσκηση 1 (Small Dataset)\n",
        "Ομάδα M.A.2\n",
        "\n",
        "Δαβαράκης Θεοδωρής       ΑΜ : 03115002\n",
        "\n",
        "Θεοδοσίου Ιωάννης        ΑΜ : 03115056\n",
        "\n",
        "Βόσινας Κωνσταντίνος     ΑΜ : 03116435\n",
        "\n"
      ]
    },
    {
      "cell_type": "markdown",
      "metadata": {
        "id": "bKXCvCOx1aGN"
      },
      "source": [
        "\n",
        "### Μέρος 1 - Παρουσίαση του Dataset"
      ]
    },
    {
      "cell_type": "markdown",
      "metadata": {
        "id": "LQIbyMqs2Eqj"
      },
      "source": [
        "Στην πρώτη εργαστηριακή άσκηση θα αναλύσουμε την απόδοση διάφορων classifier σε δύο dataset, ένα μικρό και ένα μεγάλο. Σε αυτό το notebook θα ασχοληθούμε με το μικρό dataset S07 - ionosphere.\n",
        "\n",
        "Το dataset αποτελείται από μετρήσεις radar στην ιονόσφαιρα, οι οποίες χαρακτηρίζονται είτε 'Good' είτε 'Bad'.\n",
        "\n",
        "Αρχικά, εγκαθιστούμε τις βιβλιοθήκες που θα χρειαστούμε στη συνέχεια."
      ]
    },
    {
      "cell_type": "code",
      "metadata": {
        "id": "2r8EzFTYh05J",
        "outputId": "3ff7325e-0bd7-48cb-96a4-08931733faa6",
        "colab": {
          "base_uri": "https://localhost:8080/",
          "height": 258
        }
      },
      "source": [
        "!pip install --upgrade pip #upgrade pip package installer\n",
        "!pip install scikit-learn --upgrade #upgrade scikit-learn package\n",
        "!pip install numpy --upgrade #upgrade numpy package\n",
        "!pip install pandas --upgrade #--upgrade #upgrade pandas package\n",
        "!pip install scipy --upgrade"
      ],
      "execution_count": null,
      "outputs": [
        {
          "output_type": "stream",
          "text": [
            "Requirement already up-to-date: pip in /usr/local/lib/python3.6/dist-packages (19.3.1)\n",
            "Requirement already up-to-date: scikit-learn in /usr/local/lib/python3.6/dist-packages (0.22)\n",
            "Requirement already satisfied, skipping upgrade: scipy>=0.17.0 in /usr/local/lib/python3.6/dist-packages (from scikit-learn) (1.4.0)\n",
            "Requirement already satisfied, skipping upgrade: joblib>=0.11 in /usr/local/lib/python3.6/dist-packages (from scikit-learn) (0.14.1)\n",
            "Requirement already satisfied, skipping upgrade: numpy>=1.11.0 in /usr/local/lib/python3.6/dist-packages (from scikit-learn) (1.17.4)\n",
            "Requirement already up-to-date: numpy in /usr/local/lib/python3.6/dist-packages (1.17.4)\n",
            "Requirement already up-to-date: pandas in /usr/local/lib/python3.6/dist-packages (0.25.3)\n",
            "Requirement already satisfied, skipping upgrade: numpy>=1.13.3 in /usr/local/lib/python3.6/dist-packages (from pandas) (1.17.4)\n",
            "Requirement already satisfied, skipping upgrade: python-dateutil>=2.6.1 in /usr/local/lib/python3.6/dist-packages (from pandas) (2.6.1)\n",
            "Requirement already satisfied, skipping upgrade: pytz>=2017.2 in /usr/local/lib/python3.6/dist-packages (from pandas) (2018.9)\n",
            "Requirement already satisfied, skipping upgrade: six>=1.5 in /usr/local/lib/python3.6/dist-packages (from python-dateutil>=2.6.1->pandas) (1.12.0)\n",
            "Requirement already up-to-date: scipy in /usr/local/lib/python3.6/dist-packages (1.4.0)\n",
            "Requirement already satisfied, skipping upgrade: numpy>=1.13.3 in /usr/local/lib/python3.6/dist-packages (from scipy) (1.17.4)\n"
          ],
          "name": "stdout"
        }
      ]
    },
    {
      "cell_type": "code",
      "metadata": {
        "id": "QYFGG0tyOHa7"
      },
      "source": [
        "import pandas as pd\n",
        "import numpy as np\n",
        "import scipy\n",
        "from sklearn.model_selection import train_test_split\n",
        "from sklearn.metrics import accuracy_score, f1_score, confusion_matrix, classification_report\n",
        "import matplotlib.pyplot as plt\n",
        "from seaborn import heatmap"
      ],
      "execution_count": null,
      "outputs": []
    },
    {
      "cell_type": "markdown",
      "metadata": {
        "id": "pL-1SMox3EwQ"
      },
      "source": [
        "Το dataset αποτελείται από 351 δείγματα, κάθε δείγμα έχει 34 χαρακτηριστικά, τα οποία είναι τύπου float ή integer, στο διάστημα [-1,1]. Το dataset δεν έχει επικεφαλίδες, αλλά έχει αρίθμηση γραμμών και στηλών, ενώ δεν υπάρχουν απουσιάζουσες τιμές.\n",
        "\n",
        "Τα δεδομένα του dataset ανήκουν σε 2 κλάσεις, με τα labels g και b. Βρίσκονται στην τελευταία στήλη του dataset. Δε χρειάστηκαν μετατροπές στο αρχείο txt, αλλά χρειάστηκε να βγάλουμε τις στηλες αρίθμησης από το dataframe."
      ]
    },
    {
      "cell_type": "code",
      "metadata": {
        "id": "2YyopL8vTcxZ",
        "outputId": "964e1b10-d8b4-4667-b5a0-50f081d9cece",
        "colab": {
          "base_uri": "https://localhost:8080/",
          "height": 272
        }
      },
      "source": [
        "# import data\n",
        "df=pd.read_csv('ionosphere.data',header=None)\n",
        "print(df)\n",
        "labels_df = df.iloc[:,[-1]]\n",
        "features_df = df.iloc[:, 0:-1]\n",
        "np_features = features_df.values\n",
        "print('Contains NaN elements : ',np.isnan(np_features).any())"
      ],
      "execution_count": null,
      "outputs": [
        {
          "output_type": "stream",
          "text": [
            "     0   1        2        3        4   ...       30       31       32       33  34\n",
            "0     1   0  0.99539 -0.05889  0.85243  ...  0.42267 -0.54487  0.18641 -0.45300   g\n",
            "1     1   0  1.00000 -0.18829  0.93035  ... -0.16626 -0.06288 -0.13738 -0.02447   b\n",
            "2     1   0  1.00000 -0.03365  1.00000  ...  0.60436 -0.24180  0.56045 -0.38238   g\n",
            "3     1   0  1.00000 -0.45161  1.00000  ...  0.25682  1.00000 -0.32382  1.00000   b\n",
            "4     1   0  1.00000 -0.02401  0.94140  ... -0.05707 -0.59573 -0.04608 -0.65697   g\n",
            "..   ..  ..      ...      ...      ...  ...      ...      ...      ...      ...  ..\n",
            "346   1   0  0.83508  0.08298  0.73739  ...  0.86660 -0.10714  0.90546 -0.04307   g\n",
            "347   1   0  0.95113  0.00419  0.95183  ...  0.94066 -0.00035  0.91483  0.04712   g\n",
            "348   1   0  0.94701 -0.00034  0.93207  ...  0.92459  0.00442  0.92697 -0.00577   g\n",
            "349   1   0  0.90608 -0.01657  0.98122  ...  0.96022 -0.03757  0.87403 -0.16243   g\n",
            "350   1   0  0.84710  0.13533  0.73638  ...  0.75747 -0.06678  0.85764 -0.06151   g\n",
            "\n",
            "[351 rows x 35 columns]\n",
            "Contains NaN elements :  False\n"
          ],
          "name": "stdout"
        }
      ]
    },
    {
      "cell_type": "code",
      "metadata": {
        "id": "NczpgykEFjUV"
      },
      "source": [
        "mapping = {'g': 1, 'b': 0}\n",
        "labels_df = labels_df.replace(mapping)\n",
        "np_labels = labels_df.values.flatten()"
      ],
      "execution_count": null,
      "outputs": []
    },
    {
      "cell_type": "markdown",
      "metadata": {
        "id": "WeKltOrIY4Yk"
      },
      "source": [
        "Στο σύνολο παρατηρούμε ύπαρξη 64.10% εμφανίσεων της κλάσης 'g' και 35.90% της κλάσης 'b', οπότε δεν είναι ισορροπημένο."
      ]
    },
    {
      "cell_type": "code",
      "metadata": {
        "id": "hYZzrgmWY1kb",
        "outputId": "b52af539-3e16-4249-bf56-2b6b6b1f7f1d",
        "colab": {
          "base_uri": "https://localhost:8080/",
          "height": 51
        }
      },
      "source": [
        "g_count = np.count_nonzero(np_labels)\n",
        "b_count = len(np_labels) - g_count\n",
        "\n",
        "print(\"Occurences of class \\'g\\' : \", \"{0:.2f}\".format(100*g_count/(len(np_labels))), \"%\")\n",
        "print(\"Occurences of class \\'b\\' : \", \"{0:.2f}\".format(100*b_count/(len(np_labels))), \"%\")"
      ],
      "execution_count": null,
      "outputs": [
        {
          "output_type": "stream",
          "text": [
            "Occurences of class 'g' :  64.10 %\n",
            "Occurences of class 'b' :  35.90 %\n"
          ],
          "name": "stdout"
        }
      ]
    },
    {
      "cell_type": "markdown",
      "metadata": {
        "id": "yfSZXVklaJlL"
      },
      "source": [
        "Διαχωρίζουμε σε train και test set με την επιλογή stratify, ώστε να χωριστούν ισάξια σε train και test sets. Παρατηρούμε ότι διατηρείται η ανισσοροπία στα train και test sets."
      ]
    },
    {
      "cell_type": "code",
      "metadata": {
        "id": "EKqQbo-FYl5a"
      },
      "source": [
        "#split in train and test set \n",
        "\n",
        "x_train, x_test, y_train, y_test = train_test_split(np_features, np_labels,stratify=np_labels, test_size=0.2)"
      ],
      "execution_count": null,
      "outputs": []
    },
    {
      "cell_type": "code",
      "metadata": {
        "id": "3549nM1wNngF",
        "outputId": "72000795-d172-4839-c99e-e7da768c323d",
        "colab": {
          "base_uri": "https://localhost:8080/",
          "height": 85
        }
      },
      "source": [
        "g_count = np.count_nonzero(y_train)\n",
        "b_count = len(y_train) - g_count\n",
        "\n",
        "print(\"Occurences of class \\'g\\' in train set : \", \"{0:.2f}\".format(100*g_count/(len(y_train))), \"%\")\n",
        "print(\"Occurences of class \\'b\\' in train set : \", \"{0:.2f}\".format(100*b_count/(len(y_train))), \"%\")\n",
        "\n",
        "g_count = np.count_nonzero(y_test)\n",
        "b_count = len(y_test) - g_count\n",
        "\n",
        "print(\"Occurences of class \\'g\\' in test set : \", \"{0:.2f}\".format(100*g_count/(len(y_test))), \"%\")\n",
        "print(\"Occurences of class \\'b\\' in test set : \", \"{0:.2f}\".format(100*b_count/(len(y_test))), \"%\")"
      ],
      "execution_count": null,
      "outputs": [
        {
          "output_type": "stream",
          "text": [
            "Occurences of class 'g' in train set :  63.93 %\n",
            "Occurences of class 'b' in train set :  36.07 %\n",
            "Occurences of class 'g' in test set :  64.79 %\n",
            "Occurences of class 'b' in test set :  35.21 %\n"
          ],
          "name": "stdout"
        }
      ]
    },
    {
      "cell_type": "markdown",
      "metadata": {
        "id": "5C31GY-v36ru"
      },
      "source": [
        "Με αυτό ολοκληρώνεται η προεπεξεργασία στο dataset και θα προχωρήσουμε στην αξιολόγηση βασικών ταξινομητών πάνω σε αυτό."
      ]
    },
    {
      "cell_type": "markdown",
      "metadata": {
        "id": "MZ2wnMAfG8mG"
      },
      "source": [
        "## Μέρος 2 - Baseline Classification"
      ]
    },
    {
      "cell_type": "markdown",
      "metadata": {
        "id": "igeobes54IH0"
      },
      "source": [
        "Σε αυτό το τμήμα θα εφαρμόσουμε στο dataset τον dummy clasifier με διάφορες στρατηγικές, καθώς και τον knn clasifier για μερικές τιμές του k. Θα εξάγουμε συμπεράσματα σχετικά με την απόδοσή τους με τη χρήση των μετρικών f1-micro, f1-macro average scores."
      ]
    },
    {
      "cell_type": "markdown",
      "metadata": {
        "id": "mIxe9Xn0aqdq"
      },
      "source": [
        "Αρχικά, δημιουργούμε μια συνάρτηση που εμφανίζει τον confusion matrix, την οποία θα χρησιμοποιήσουμε στη συνέχεια.\n",
        "\n"
      ]
    },
    {
      "cell_type": "code",
      "metadata": {
        "id": "6Gw_bwL3mrGg"
      },
      "source": [
        "def plot_confusion_matrix(cm,\n",
        "                          target_names,\n",
        "                          title='Confusion matrix'):\n",
        "    import itertools\n",
        "\n",
        "    cmap = plt.get_cmap('Blues')\n",
        "\n",
        "    plt.figure(figsize=(8, 6))\n",
        "    plt.imshow(cm, interpolation='nearest', cmap=cmap)\n",
        "    plt.title(title)\n",
        "    plt.colorbar()\n",
        "\n",
        "    if target_names is not None:\n",
        "        tick_marks = np.arange(len(target_names))\n",
        "        plt.xticks(tick_marks, target_names, rotation=45)\n",
        "        plt.yticks(tick_marks, target_names)\n",
        "\n",
        "\n",
        "\n",
        "    thresh = cm.max() / 1.5\n",
        "    for i, j in itertools.product(range(cm.shape[0]), range(cm.shape[1])):\n",
        "      plt.text(j, i, \"{:,}\".format(cm[i, j]),\n",
        "      horizontalalignment=\"center\",\n",
        "      color=\"white\" if cm[i, j] > thresh else \"black\")\n",
        "\n",
        "\n",
        "    plt.tight_layout()\n",
        "    plt.ylabel('True label')\n",
        "    plt.xlabel('Predicted label')\n",
        "    plt.show()\n"
      ],
      "execution_count": null,
      "outputs": []
    },
    {
      "cell_type": "markdown",
      "metadata": {
        "id": "i3rb0Jz6ILGL"
      },
      "source": [
        "Δημιουργούμε μια συνάρτηση για να εμφανίζουμε τα ζητούμενα bar plots του κάθε ερωτήματος. Παίρνει ως όρισμα μια λίστα με classifiers, δύο λίστες με μετρικές και τα labels τους και τυπώνει στο ίδιο διάγραμμα τα αντίστοιχα bar plots."
      ]
    },
    {
      "cell_type": "code",
      "metadata": {
        "id": "qg-7SaMswmjh"
      },
      "source": [
        "def bar_plot(x_values, val1, val2, label1, label2, ylabel, title):\n",
        "  x = np.arange(len(x_values))\n",
        "  fig, ax = plt.subplots(figsize = (10,8))\n",
        "  width = 0.4\n",
        "\n",
        "  rects1 = ax.bar(x-width/2, val1, width, label = label1)\n",
        "  rects2 = ax.bar(x+width/2, val2, width, label = label2)\n",
        "\n",
        "  ax.set_ylabel(ylabel)\n",
        "  ax.set_title(title)\n",
        "  ax.set_xticks(x)\n",
        "  ax.set_xticklabels(x_values)\n",
        "  ax.legend()\n",
        "  fig.tight_layout()\n",
        "\n",
        "  plt.show()"
      ],
      "execution_count": null,
      "outputs": []
    },
    {
      "cell_type": "markdown",
      "metadata": {
        "id": "NhtuXLt8av1M"
      },
      "source": [
        "Σε πρώτη φάση θα χρησιμοποιήσουμε τον dummy clasifier με τις παρακάτω στρατηγικές:\n",
        "\n",
        "* $\\text{constant=0}$ και $\\text{constant=1}$. Προβλέπει συνεχώς 0 ή 1.\n",
        "* $\\text{stratified}$. Δημιουργεί προβλέψεις με βάση την κατανομή των κλάσεων στο αρχικό dataset.\n",
        "* $\\text{most_frequent}$. Προβλέπει την πιο συχνά εμφανιζόμενη κλάση.\n",
        "* $\\text{uniform}$. Προβλέπει τυχαία αποτελέσματα που ακολουθούν κανονική κατανομή.\n",
        "\n",
        "Για κάθε classification εμφανίζουμε το confusion matrix και τα f1-micro score και f1-macro score. Επιπλέον, εμφανίζουμε σε bar plots τα παραπάνω scores και το classification report του καλύτερου ταξινομητή.\n",
        "Για κάθε στρατηγική κρατάμε το χρόνο εκτέλεσης για τα στάδια εκμάθησης (fit) και πρόβλεψης (predict) ξεχωριστά."
      ]
    },
    {
      "cell_type": "code",
      "metadata": {
        "id": "ViR5BTAkXuWa",
        "outputId": "9251d35f-266d-48f0-e431-de69a0da9e27",
        "colab": {
          "base_uri": "https://localhost:8080/",
          "height": 1000
        }
      },
      "source": [
        "#dummy classifier\n",
        "from sklearn.dummy import DummyClassifier\n",
        "from time import time\n",
        "\n",
        "strategies = ['most_frequent', 'stratified', 'uniform', 'constant = 0', 'constant = 1'] \n",
        "\n",
        "dummy_f1_macro=[]\n",
        "dummy_f1_micro=[]\n",
        "test_scores = [] \n",
        "dummy_time_fit=[]\n",
        "dummy_time_predict=[]\n",
        "\n",
        "\n",
        "for s in strategies: \n",
        "  if s =='constant = 0':\n",
        "    dclf = DummyClassifier(strategy = 'constant', constant = 0) \n",
        "  elif s =='constant = 1': \n",
        "    dclf = DummyClassifier(strategy = 'constant', constant = 1) \n",
        "  else: \n",
        "    dclf = DummyClassifier(strategy = s)\n",
        "  \n",
        "  start = time()\n",
        "  dclf.fit(x_train, y_train)\n",
        "  end = time()\n",
        "\n",
        "  dummy_time_fit.append(end - start)\n",
        "\n",
        "  start = time()\n",
        "  y_pred = dclf.predict(x_test)\n",
        "  end = time()\n",
        "\n",
        "  dummy_time_predict.append(end - start)\n",
        "  \n",
        "  score_micro = f1_score(y_test,y_pred, average = 'micro')\n",
        "  score_macro = f1_score(y_test,y_pred, average = 'macro')\n",
        "\n",
        "  plot_confusion_matrix(confusion_matrix(y_test, y_pred),\n",
        "                          ['b','g'],\n",
        "                          title='Confusion matrix, strategy : '+ s)\n",
        "  \n",
        "  print('f1-macro average for', s,' is ', score_macro)\n",
        "  print('f1-macro average for', s,' is ', score_micro)\n",
        "\n",
        "  test_scores.append((score_micro+score_macro)/2)\n",
        "  dummy_f1_micro.append(score_micro)\n",
        "  dummy_f1_macro.append(score_macro)"
      ],
      "execution_count": null,
      "outputs": [
        {
          "output_type": "display_data",
          "data": {
            "image/png": "[encoded data removed]",
            "text/plain": [
              "<Figure size 576x432 with 2 Axes>"
            ]
          },
          "metadata": {
            "tags": []
          }
        },
        {
          "output_type": "stream",
          "text": [
            "f1-macro average for most_frequent  is  0.39316239316239315\n",
            "f1-macro average for most_frequent  is  0.647887323943662\n"
          ],
          "name": "stdout"
        },
        {
          "output_type": "display_data",
          "data": {
            "image/png": "[encoded data removed]",
            "text/plain": [
              "<Figure size 576x432 with 2 Axes>"
            ]
          },
          "metadata": {
            "tags": []
          }
        },
        {
          "output_type": "stream",
          "text": [
            "f1-macro average for stratified  is  0.5793285055957867\n",
            "f1-macro average for stratified  is  0.6197183098591549\n"
          ],
          "name": "stdout"
        },
        {
          "output_type": "display_data",
          "data": {
            "image/png": "[encoded data removed]",
            "text/plain": [
              "<Figure size 576x432 with 2 Axes>"
            ]
          },
          "metadata": {
            "tags": []
          }
        },
        {
          "output_type": "stream",
          "text": [
            "f1-macro average for uniform  is  0.4871001031991744\n",
            "f1-macro average for uniform  is  0.5070422535211268\n"
          ],
          "name": "stdout"
        },
        {
          "output_type": "display_data",
          "data": {
            "image/png": "[encoded data removed]",
            "text/plain": [
              "<Figure size 576x432 with 2 Axes>"
            ]
          },
          "metadata": {
            "tags": []
          }
        },
        {
          "output_type": "stream",
          "text": [
            "f1-macro average for constant = 0  is  0.26041666666666663\n",
            "f1-macro average for constant = 0  is  0.352112676056338\n"
          ],
          "name": "stdout"
        },
        {
          "output_type": "display_data",
          "data": {
            "image/png": "[encoded data removed]",
            "text/plain": [
              "<Figure size 576x432 with 2 Axes>"
            ]
          },
          "metadata": {
            "tags": []
          }
        },
        {
          "output_type": "stream",
          "text": [
            "f1-macro average for constant = 1  is  0.39316239316239315\n",
            "f1-macro average for constant = 1  is  0.647887323943662\n"
          ],
          "name": "stdout"
        }
      ]
    },
    {
      "cell_type": "markdown",
      "metadata": {
        "id": "ikF-EXvZJtfz"
      },
      "source": [
        "Εμφανίζουμε σε bar plots για κάθε στρατηγική του dummy classifier f1_micro και f2_micro averages."
      ]
    },
    {
      "cell_type": "code",
      "metadata": {
        "id": "AEOs1m5cwfF2",
        "outputId": "8bc41821-a510-4cf3-9e4a-bd4bd1ffaa15",
        "colab": {
          "base_uri": "https://localhost:8080/",
          "height": 585
        }
      },
      "source": [
        "# bar plots for dummy clasifier\n",
        "bar_plot(strategies, dummy_f1_micro, dummy_f1_macro, \"f1_micro score\", \"f1_macro score\", \"Scores\", 'F1 average scores for dummy classifier strategies')"
      ],
      "execution_count": null,
      "outputs": [
        {
          "output_type": "display_data",
          "data": {
            "image/png": "[encoded data removed]",
            "text/plain": [
              "<Figure size 720x576 with 1 Axes>"
            ]
          },
          "metadata": {
            "tags": []
          }
        }
      ]
    },
    {
      "cell_type": "markdown",
      "metadata": {
        "id": "ArRR5hgBKMDM"
      },
      "source": [
        "Τέλος εμφανίζουμε τα αποτελέσματα της καλύτερης στρατηγικής για τον dummy classifier με βάση τα train δεδομένα."
      ]
    },
    {
      "cell_type": "code",
      "metadata": {
        "id": "wfAKgdXF8xzr",
        "outputId": "c7384307-e0a9-42be-e18e-31064ad1afce",
        "colab": {
          "base_uri": "https://localhost:8080/",
          "height": 258
        }
      },
      "source": [
        "#results for best dummy classifier\n",
        "\n",
        "best_strategy=strategies[np.argmax(test_scores)]\n",
        "print(\"the best strategy regarding the training set is: \",best_strategy)\n",
        "dclf_best=DummyClassifier(strategy = best_strategy)\n",
        "dclf_best.fit(x_train,y_train)\n",
        "y_pr=dclf_best.predict(x_test)\n",
        "\n",
        "print(\"f1-macro score is: \",f1_score(y_test,y_pr,average = 'macro'),\" and f1-micro score is: \",f1_score(y_test,y_pr,average = 'micro'))\n",
        "\n",
        "print(classification_report(y_test, y_pred))"
      ],
      "execution_count": null,
      "outputs": [
        {
          "output_type": "stream",
          "text": [
            "the best strategy regarding the training set is:  stratified\n",
            "f1-macro score is:  0.5604761904761906  and f1-micro score is:  0.6338028169014085\n",
            "              precision    recall  f1-score   support\n",
            "\n",
            "           0       0.00      0.00      0.00        25\n",
            "           1       0.65      1.00      0.79        46\n",
            "\n",
            "    accuracy                           0.65        71\n",
            "   macro avg       0.32      0.50      0.39        71\n",
            "weighted avg       0.42      0.65      0.51        71\n",
            "\n"
          ],
          "name": "stdout"
        },
        {
          "output_type": "stream",
          "text": [
            "/usr/local/lib/python3.6/dist-packages/sklearn/metrics/_classification.py:1268: UndefinedMetricWarning: Precision and F-score are ill-defined and being set to 0.0 in labels with no predicted samples. Use `zero_division` parameter to control this behavior.\n",
            "  _warn_prf(average, modifier, msg_start, len(result))\n"
          ],
          "name": "stderr"
        }
      ]
    },
    {
      "cell_type": "markdown",
      "metadata": {
        "id": "uppUkz2j7ubL"
      },
      "source": [
        "Παρατηρούμε πως δεν είναι κάποια στρατηγική του dummy classifier μονίμως η καλύτερη. Εδώ προέκυψε ως καλύτερη η stratified. Με τη uniform, παρατηρούμε f1-score κοντά στο 0.5, ενώ το dataset δεν είναι ισορροπημένο. Τη χειρότερη απόδοση την πετυχαίνουμε με την constant = 0, το οποίο είναι λογική, αφού έχουμε περίπου τα μισά δείγματα της αντίστοιχης κλάσης."
      ]
    },
    {
      "cell_type": "markdown",
      "metadata": {
        "id": "EeywTOWKbEe_"
      },
      "source": [
        "### Baseline classification για τον knn\n",
        "\n",
        "Στη συνέχεια, εκτελούμε τις ίδιες μετρήσεις για τον ταξινομητή knn, για τιμές k = [1, 3, 5, 7, 9, 11]. Και πάλι, υπολογίζουμε f1-marco και f1-micro average scores, τα οποία αναπαριστούμε σε bar plots."
      ]
    },
    {
      "cell_type": "code",
      "metadata": {
        "id": "hjNZN4ImbJhW",
        "outputId": "406d5cf2-dcf6-4a06-a928-ee783923c564",
        "colab": {
          "base_uri": "https://localhost:8080/",
          "height": 1000
        }
      },
      "source": [
        "from sklearn.neighbors import KNeighborsClassifier\n",
        "\n",
        "k_values = [1, 3, 5, 7, 9, 11]\n",
        "\n",
        "knn_f1_macro=[]\n",
        "knn_f1_micro=[]\n",
        "test_scores_knn = [] \n",
        "for k in k_values: \n",
        "  knn_default = KNeighborsClassifier(n_neighbors=k)\n",
        "  knn_default.fit(x_train, y_train)\n",
        "  y_pred =knn_default.predict(x_test)\n",
        "  f1_micro = f1_score(y_test,y_pred, average = 'micro')\n",
        "  f1_macro = f1_score(y_test,y_pred, average = 'macro')\n",
        "\n",
        "  plot_confusion_matrix(confusion_matrix(y_test, y_pred),\n",
        "                          ['b','g'],\n",
        "                          title='Confusion matrix, k : ')\n",
        "  print('f1-micro average for k =', k,' is ', f1_micro)\n",
        "  print('f1-macro average for k =', k,' is ', f1_macro)\n",
        "  test_scores_knn.append((f1_micro+f1_macro)/2)\n",
        "  knn_f1_micro.append(f1_micro)\n",
        "  knn_f1_macro.append(f1_macro)\n"
      ],
      "execution_count": null,
      "outputs": [
        {
          "output_type": "display_data",
          "data": {
            "image/png": "[encoded data removed]",
            "text/plain": [
              "<Figure size 576x432 with 2 Axes>"
            ]
          },
          "metadata": {
            "tags": []
          }
        },
        {
          "output_type": "stream",
          "text": [
            "f1-micro average for k = 1  is  0.9014084507042254\n",
            "f1-macro average for k = 1  is  0.8832511158092553\n"
          ],
          "name": "stdout"
        },
        {
          "output_type": "display_data",
          "data": {
            "image/png": "[encoded data removed]",
            "text/plain": [
              "<Figure size 576x432 with 2 Axes>"
            ]
          },
          "metadata": {
            "tags": []
          }
        },
        {
          "output_type": "stream",
          "text": [
            "f1-micro average for k = 3  is  0.8450704225352113\n",
            "f1-macro average for k = 3  is  0.811398212992031\n"
          ],
          "name": "stdout"
        },
        {
          "output_type": "display_data",
          "data": {
            "image/png": "[encoded data removed]",
            "text/plain": [
              "<Figure size 576x432 with 2 Axes>"
            ]
          },
          "metadata": {
            "tags": []
          }
        },
        {
          "output_type": "stream",
          "text": [
            "f1-micro average for k = 5  is  0.8450704225352113\n",
            "f1-macro average for k = 5  is  0.8165374677002584\n"
          ],
          "name": "stdout"
        },
        {
          "output_type": "display_data",
          "data": {
            "image/png": "[encoded data removed]",
            "text/plain": [
              "<Figure size 576x432 with 2 Axes>"
            ]
          },
          "metadata": {
            "tags": []
          }
        },
        {
          "output_type": "stream",
          "text": [
            "f1-micro average for k = 7  is  0.8450704225352113\n",
            "f1-macro average for k = 7  is  0.811398212992031\n"
          ],
          "name": "stdout"
        },
        {
          "output_type": "display_data",
          "data": {
            "image/png": "[encoded data removed]",
            "text/plain": [
              "<Figure size 576x432 with 2 Axes>"
            ]
          },
          "metadata": {
            "tags": []
          }
        },
        {
          "output_type": "stream",
          "text": [
            "f1-micro average for k = 9  is  0.8591549295774648\n",
            "f1-macro average for k = 9  is  0.8309523809523811\n"
          ],
          "name": "stdout"
        },
        {
          "output_type": "display_data",
          "data": {
            "image/png": "[encoded data removed]",
            "text/plain": [
              "<Figure size 576x432 with 2 Axes>"
            ]
          },
          "metadata": {
            "tags": []
          }
        },
        {
          "output_type": "stream",
          "text": [
            "f1-micro average for k = 11  is  0.8309859154929577\n",
            "f1-macro average for k = 11  is  0.784412955465587\n"
          ],
          "name": "stdout"
        }
      ]
    },
    {
      "cell_type": "code",
      "metadata": {
        "id": "FYJvjadH8vTW",
        "outputId": "1b455269-81e3-4d87-9ea5-ed085289d98b",
        "colab": {
          "base_uri": "https://localhost:8080/",
          "height": 585
        }
      },
      "source": [
        "# bar plots for dummy clasifier\n",
        "\n",
        "bar_plot(k_values, knn_f1_micro, knn_f1_macro, \"f1 macro score\", \"f1 micro score\", \"Scores\", \"F1 average scores for knn clasifier\")"
      ],
      "execution_count": null,
      "outputs": [
        {
          "output_type": "display_data",
          "data": {
            "image/png": "[encoded data removed]",
            "text/plain": [
              "<Figure size 720x576 with 1 Axes>"
            ]
          },
          "metadata": {
            "tags": []
          }
        }
      ]
    },
    {
      "cell_type": "code",
      "metadata": {
        "id": "TpyVgd5H94F_",
        "outputId": "0f6ecb72-5097-47ac-8b55-112e24c23512",
        "colab": {
          "base_uri": "https://localhost:8080/",
          "height": 204
        }
      },
      "source": [
        "best_strategy=k_values[np.argmax(test_scores_knn)]\n",
        "print(\"The best strategy regarding the training set is: k=\",best_strategy)\n",
        "dclf_best=KNeighborsClassifier(n_neighbors=best_strategy)\n",
        "dclf_best.fit(x_train,y_train)\n",
        "y_pr=dclf_best.predict(x_test)\n",
        "\n",
        "print(\"f1-macro score is: \",f1_score(y_test,y_pr,average = 'macro'),\" and f1-micro score is: \",f1_score(y_test,y_pr,average = 'micro'))\n",
        "\n",
        "print(classification_report(y_test, y_pred))"
      ],
      "execution_count": null,
      "outputs": [
        {
          "output_type": "stream",
          "text": [
            "The best strategy regarding the training set is: k= 1\n",
            "f1-macro score is:  0.8832511158092553  and f1-micro score is:  0.9014084507042254\n",
            "              precision    recall  f1-score   support\n",
            "\n",
            "           0       1.00      0.52      0.68        25\n",
            "           1       0.79      1.00      0.88        46\n",
            "\n",
            "    accuracy                           0.83        71\n",
            "   macro avg       0.90      0.76      0.78        71\n",
            "weighted avg       0.87      0.83      0.81        71\n",
            "\n"
          ],
          "name": "stdout"
        }
      ]
    },
    {
      "cell_type": "markdown",
      "metadata": {
        "id": "KqBZ2Ria-lIG"
      },
      "source": [
        "Προκύπτει ως καλύτερο k για το συγκεκριμένο test set το k=1, με όσο το k αυξάνεται να μειώνεται η ακρίβεια. Όπως και στους dummy clasifiers, η τιμή f1_macro και f1_micro είναι διαφορετική."
      ]
    },
    {
      "cell_type": "markdown",
      "metadata": {
        "id": "fKp9ArxDa-Rr"
      },
      "source": [
        "## Μέρος 3 - Optimisation"
      ]
    },
    {
      "cell_type": "markdown",
      "metadata": {
        "id": "98JMYy4z_Er7"
      },
      "source": [
        "Σε αυτό το μέρος θα βελτιστοποιήσουμε τον KNN classifier μεσώ gridsearch, έχοντας ως υπερπαραμέτρους τον αριθμό γειτόνων k και το PCA. Αυτή η διαδικασία θα γίνει μόνο στον NearestNeighbors, αφού οι dummy clasifiers επιλέγουν με βάση το πλήθος των κλάσεων στο dataset, το οποίο έχουμε εξισορροπήσει."
      ]
    },
    {
      "cell_type": "markdown",
      "metadata": {
        "id": "JUog-RKqRk7g"
      },
      "source": [
        "Για να αντιμετωπίσουμε την ανισσοροπία του dataset, μπορούμε να εφαρμόσουμε στο train set undersampling ή oversampling. Επειδή το dataset είναι ήδη μικρό, θα χαθεί σημαντική πληροφορία αν κάνουμε undersampling, οπότε επιλέγουμε να εφαρμόσουμε oversampling."
      ]
    },
    {
      "cell_type": "code",
      "metadata": {
        "id": "AIozxuZuX5U-",
        "outputId": "121bfcfd-700a-4ef7-9dd3-409051bba975",
        "colab": {
          "base_uri": "https://localhost:8080/",
          "height": 173
        }
      },
      "source": [
        "from imblearn.over_sampling import RandomOverSampler\n",
        "sampler = RandomOverSampler()\n",
        "x_train_resampled, y_train_resampled = sampler.fit_sample(x_train, y_train)\n",
        "\n",
        "b_count = np.count_nonzero(y_train_resampled)\n",
        "g_count = len(y_train_resampled) - b_count\n",
        "print(\"Occurences of class \\'g\\' in train set : \", \"{0:.2f}\".format(100*g_count/(len(y_train_resampled))), \"%\")\n",
        "print(\"Occurences of class \\'b\\' in train set : \", \"{0:.2f}\".format(100*b_count/(len(y_train_resampled))), \"%\")\n",
        "\n",
        "\n",
        "x_train = x_train_resampled\n",
        "y_train = y_train_resampled\n"
      ],
      "execution_count": null,
      "outputs": [
        {
          "output_type": "stream",
          "text": [
            "Occurences of class 'g' in train set :  50.00 %\n",
            "Occurences of class 'b' in train set :  50.00 %\n"
          ],
          "name": "stdout"
        },
        {
          "output_type": "stream",
          "text": [
            "/usr/local/lib/python3.6/dist-packages/sklearn/externals/six.py:31: FutureWarning: The module is deprecated in version 0.21 and will be removed in version 0.23 since we've dropped support for Python 2.7. Please rely on the official version of six (https://pypi.org/project/six/).\n",
            "  \"(https://pypi.org/project/six/).\", FutureWarning)\n",
            "/usr/local/lib/python3.6/dist-packages/sklearn/utils/deprecation.py:144: FutureWarning: The sklearn.neighbors.base module is  deprecated in version 0.22 and will be removed in version 0.24. The corresponding classes / functions should instead be imported from sklearn.neighbors. Anything that cannot be imported from sklearn.neighbors is now part of the private API.\n",
            "  warnings.warn(message, FutureWarning)\n",
            "/usr/local/lib/python3.6/dist-packages/sklearn/utils/deprecation.py:87: FutureWarning: Function safe_indexing is deprecated; safe_indexing is deprecated in version 0.22 and will be removed in version 0.24.\n",
            "  warnings.warn(msg, category=FutureWarning)\n"
          ],
          "name": "stderr"
        }
      ]
    },
    {
      "cell_type": "code",
      "metadata": {
        "id": "7WCNKBgVwePC",
        "outputId": "d7fd291a-dec7-4db7-e026-71bee092766d",
        "colab": {
          "base_uri": "https://localhost:8080/",
          "height": 54
        }
      },
      "source": [
        "from sklearn.decomposition import PCA\n",
        "from random import randint\n",
        "# we test knn for default parameter k = 5\n",
        "\n",
        "knn_default=KNeighborsClassifier(n_neighbors=5)\n",
        "knn_default.fit(x_train,y_train)\n",
        "\n",
        "y_pred_def=knn_default.predict(x_test)\n",
        "f1_macro_def=f1_score(y_test,y_pred,average = 'macro')\n",
        "f1_micro_def=f1_score(y_test,y_pred,average = 'micro')\n",
        "print(\"For initial k=5 and no PCA dimension reduction we have f1 macro: \",f1_macro_def,\"and f1 micro: \",f1_micro_def)\n"
      ],
      "execution_count": null,
      "outputs": [
        {
          "output_type": "stream",
          "text": [
            "For initial k=5 and no PCA dimension reduction we have f1 macro:  0.784412955465587 and f1 micro:  0.8309859154929577\n"
          ],
          "name": "stdout"
        }
      ]
    },
    {
      "cell_type": "markdown",
      "metadata": {
        "id": "vLv2GZl5CJ2V"
      },
      "source": [
        "Στη συνέχεια υλοποιούμε τη συνάρτηση cross validation που θα χρησιμοποιήσουμε. Δέχεται ως δεδομένα τον ταξινομητή, τους πίνακες x_train και y_train, το πλήθος των γειτόνων και τη μετρική την οποία θέλουμε να χρησιμοποιήσουμε για αξιολόγηση. Eπιστρέφει τον μέσο όρο των scores για τα n folds."
      ]
    },
    {
      "cell_type": "code",
      "metadata": {
        "id": "wIuqh3Q7WhT1"
      },
      "source": [
        "def run_kfold(clf,x,y,n_values,metric):\n",
        "\n",
        "  fold_size = len(x)//n_values\n",
        "\n",
        "  outcomes = []\n",
        "  fold = 0\n",
        "  for index in range(n_values):\n",
        "    start = index * fold_size;\n",
        "    end = start + fold_size;\n",
        "\n",
        "    # slicing arrays based on start and end indices\n",
        "    X_test = x[start:end]\n",
        "    Y_test = y[start:end]\n",
        "    X_train = np.concatenate((x[:start], x[end:]), axis = 0)\n",
        "    Y_train = np.concatenate((y[:start], y[end:]), axis = 0)\n",
        "    \n",
        "    clf.fit(X_train, Y_train)\n",
        "    predictions = clf.predict(X_test)\n",
        "    accuracy = f1_score(Y_test, predictions, average = metric)\n",
        "    outcomes.append(accuracy)\n",
        "    \n",
        "  return np.mean(outcomes)"
      ],
      "execution_count": null,
      "outputs": []
    },
    {
      "cell_type": "markdown",
      "metadata": {
        "id": "m5_UlP6bCqR9"
      },
      "source": [
        "Με χρήση της παραπάνω συνάρτησης εκτελούμε gridsearch για τιμές k στο διάστημε [1,35] και για τιμές PCA στο διάστημα [1, 35], αφού το κάθε δείγμα έχει 35 features. Για κάθε συνδυασμό τιμών υπολογίζουμε τα f1_micro και f1_macro scores, τα οποία διατηρούμε στον πίνακα knn_scores."
      ]
    },
    {
      "cell_type": "code",
      "metadata": {
        "id": "DkfXDNbPhJju",
        "outputId": "88879178-71b7-4210-c517-b1e2d996cfce",
        "colab": {
          "base_uri": "https://localhost:8080/",
          "height": 51
        }
      },
      "source": [
        "#optimize knn classifier\n",
        "from sklearn.decomposition import PCA\n",
        "from sklearn.model_selection import cross_val_score\n",
        "from sklearn.neighbors import KNeighborsClassifier\n",
        "import warnings\n",
        "warnings.filterwarnings('ignore')\n",
        "knn_scores = {}\n",
        "\n",
        "for n in range(0, 35):\n",
        "\n",
        "  if n > 0:\n",
        "    pca=PCA(n_components=n)\n",
        "    x_train_principal=pca.fit_transform(x_train)\n",
        "  else:\n",
        "    x_train_principal = x_train\n",
        "  \n",
        "  for k in range(1,51,2):\n",
        "      knn = KNeighborsClassifier(n_neighbors=k)\n",
        "      scores_macro = run_kfold(knn, x_train_principal, y_train, 10, 'macro')\n",
        "      \n",
        "      scores_micro = run_kfold(knn, x_train_principal, y_train, 10, 'micro')\n",
        "      knn_scores[(n,k)]= (scores_macro + scores_micro) / 2\n",
        "    \n",
        "(n_best,k_best)=max(knn_scores, key=knn_scores.get)\n",
        "print(\"The optimal value of PCA reduction is :\", n_best)\n",
        "print(\"The optimal value of neighbors is :\", k_best)"
      ],
      "execution_count": null,
      "outputs": [
        {
          "output_type": "stream",
          "text": [
            "The optimal value of PCA reduction is : 11\n",
            "The optimal value of neighbors is : 1\n"
          ],
          "name": "stdout"
        }
      ]
    },
    {
      "cell_type": "markdown",
      "metadata": {
        "id": "HV_aJXmNOAUN"
      },
      "source": [
        "Παρατηρούμε ότι η βέλτιστη απόδοση σύμφωνα με το cross validation προκύπτει για τιμή neighbors = 1 και PCA = 10. Στη συνέχεια, τρέχουμε τον knn classifier για αυτές τις υπερπαραμέτρους στο test set και εμφανίζουμε τα αποτελέσματα."
      ]
    },
    {
      "cell_type": "code",
      "metadata": {
        "id": "rHDPyAlHveBW",
        "outputId": "3b9f63e6-f2ba-44db-f975-a9508c56ebcd",
        "colab": {
          "base_uri": "https://localhost:8080/",
          "height": 204
        }
      },
      "source": [
        "#test knn on the test set\n",
        "from sklearn.metrics import classification_report, confusion_matrix\n",
        "\n",
        "pca_best=PCA(n_components=n_best)\n",
        "knn_best=KNeighborsClassifier(n_neighbors=k_best)\n",
        "x_train_principal=pca_best.fit_transform(x_train)\n",
        "\n",
        "start = time()\n",
        "knn_best.fit(x_train_principal,y_train)\n",
        "end = time()\n",
        "knn_time_fit = (end - start)\n",
        "\n",
        "x_test_principal=pca_best.transform(x_test)\n",
        "\n",
        "start = time()\n",
        "y_pred=knn_best.predict(x_test_principal)\n",
        "end = time()\n",
        "knn_time_predict = end - start\n",
        "\n",
        "knn_f1micro=f1_score(y_test,y_pred,average = 'micro')\n",
        "knn_f1macro=f1_score(y_test,y_pred,average = 'macro')\n",
        "print(\"f1 micro average for optimized knn is: \",knn_f1micro)\n",
        "print(\"f1 macro average for optimized knn is: \",knn_f1macro)\n",
        "\n",
        "print(classification_report(y_test, y_pred))"
      ],
      "execution_count": null,
      "outputs": [
        {
          "output_type": "stream",
          "text": [
            "f1 micro average for optimized knn is:  0.9436619718309859\n",
            "f1 macro average for optimized knn is:  0.9356884057971016\n",
            "              precision    recall  f1-score   support\n",
            "\n",
            "           0       1.00      0.84      0.91        25\n",
            "           1       0.92      1.00      0.96        46\n",
            "\n",
            "    accuracy                           0.94        71\n",
            "   macro avg       0.96      0.92      0.94        71\n",
            "weighted avg       0.95      0.94      0.94        71\n",
            "\n"
          ],
          "name": "stdout"
        }
      ]
    },
    {
      "cell_type": "markdown",
      "metadata": {
        "id": "9VjDVotLU3sw"
      },
      "source": [
        "Εμφανίζουμε σε bar plots τους χρόνους για την εκπαίδευση και πρόβλεψη όλων των ταξιμονητών.Όπως είναι αναμενόμενο παρατηρούμε οτι ο χρόνος πρόβλεψης του KNN είναι κατα πολύ μεγαλύτερος των αντίστοιχων χρόνων όλων των στρατηγικών του dummy classifier."
      ]
    },
    {
      "cell_type": "code",
      "metadata": {
        "id": "EN6EsXM-TBL-"
      },
      "source": [
        "fit_times = dummy_time_fit.copy()\n",
        "fit_times = [i * 1000 for i in fit_times]\n",
        "fit_times.append(knn_time_fit*1000)\n",
        "\n",
        "predict_times = dummy_time_predict.copy()\n",
        "predict_times = [i * 1000 for i in predict_times]\n",
        "predict_times.append(knn_time_predict*1000)\n",
        "\n",
        "strats = strategies.copy()\n",
        "strats.append(\"Optimal knn\")\n",
        "\n"
      ],
      "execution_count": null,
      "outputs": []
    },
    {
      "cell_type": "code",
      "metadata": {
        "id": "vpNU9VvY4zUH",
        "outputId": "376054c3-47dc-45df-818e-d2605f5ef0a4",
        "colab": {
          "base_uri": "https://localhost:8080/",
          "height": 585
        }
      },
      "source": [
        "bar_plot(strats, fit_times, predict_times, \"Fit time\", \"Predict time\", \"Time (ms)\", \"Fit and predict times for classifiers\")"
      ],
      "execution_count": null,
      "outputs": [
        {
          "output_type": "display_data",
          "data": {
            "image/png": "[encoded data removed]",
            "text/plain": [
              "<Figure size 720x576 with 1 Axes>"
            ]
          },
          "metadata": {
            "tags": []
          }
        }
      ]
    },
    {
      "cell_type": "markdown",
      "metadata": {
        "id": "TVXgTzyrWBDR"
      },
      "source": [
        "Τέλος εμφανίζουμε και τα bar plots για τις μετρικές micro και macro όλων των ταξινομητων."
      ]
    },
    {
      "cell_type": "code",
      "metadata": {
        "id": "gR-1JPjnf4Zh",
        "outputId": "2f8370f7-2b63-4479-ecae-31c103a91bf9",
        "colab": {
          "base_uri": "https://localhost:8080/",
          "height": 34
        }
      },
      "source": [
        "#bar plots for all classifiers\n",
        "#knn_couples=[(20,5),(n_best,k_best)]\n",
        "#knn_sc\n",
        "\"\"\"strategies.append(\"Initial KNN\")\n",
        "total_f1_micro=dummy_f1_micro\n",
        "total_f1_macro=dummy_f1_macro\n",
        "\n",
        "total_f1_micro.append(knn_f1micro)\n",
        "total_f1_macro.append(knn_f1macro)\n",
        "\n",
        "total_f1_micro.append(f1_micro_def)\n",
        "total_f1_macro.append(f1_macro_def)\"\"\"\n",
        "stra=strats.copy()\n",
        "stra.append(\"Initial KNN\")\n",
        "micro=dummy_f1_micro.copy()\n",
        "macro=dummy_f1_macro.copy()\n",
        "micro.append(knn_f1micro)\n",
        "macro.append(knn_f1macro)\n",
        "micro.append(f1_micro_def)\n",
        "macro.append(f1_macro_def)"
      ],
      "execution_count": null,
      "outputs": [
        {
          "output_type": "stream",
          "text": [
            "7 7 7\n"
          ],
          "name": "stdout"
        }
      ]
    },
    {
      "cell_type": "code",
      "metadata": {
        "id": "E_fCmtj671W8",
        "outputId": "4762bc3d-bda1-4478-a27e-22e29b3b57b0",
        "colab": {
          "base_uri": "https://localhost:8080/",
          "height": 585
        }
      },
      "source": [
        "bar_plot(stra, micro, macro, \"F1 micro score\", \"F1 macro score\", \"Scores\", \"F1 scores for all clasifiers\")"
      ],
      "execution_count": null,
      "outputs": [
        {
          "output_type": "display_data",
          "data": {
            "image/png": "[encoded data removed]",
            "text/plain": [
              "<Figure size 720x576 with 1 Axes>"
            ]
          },
          "metadata": {
            "tags": []
          }
        }
      ]
    },
    {
      "cell_type": "markdown",
      "metadata": {
        "id": "FqTE5UiJfe_5"
      },
      "source": [
        "## Συμπεράσματα βελτιστοποίησης\n",
        "\n",
        "\n",
        "\n",
        "*   Αναφορικά με τους χρόνους εκτέλεσης, παρατηρούμε πως οι dummy classifiers έχουν μικρά fit και predict time, αφού πρακτικά δεν εκτελούν κάποια πράξη. Αντίθετα ο knn classifier είναι αργός τόσο στο στάδιο fit και ιδιαίτερα στο στάδιο predict, το οποίο ήταν αναμμενόμενο, λόγω της σχετικής πολυπλοκότητας του.\n",
        "*   Σχετικά με τις επιδόσεις, παρατηρούμε ότι ο default knn έχει καλύτερη επίδοση από όλους τους dummy clasifiers. Για τους dummy ταξινομητές όπως αναφέραμε δεν κάναμε κάποια βελιστοποίηση ενώ για τον knn ταξινομητή φαίνεται απο τις δύο τελευταίες στήλες του διαγράμματος η διαφορά του στην απόδοση όπως προέκυψε μετά την βελτιστοποίηση. Μετά το gridsearch προκύπτει τιμή k = 1 και PCA = 11 ζευγος με το οποίο συνεπάγεται αύξηση στην ακρίβεια του KNN της τάξης 10% σε σχέση με την default τιμή του ταξινομητή.\n"
      ]
    }
  ]
}