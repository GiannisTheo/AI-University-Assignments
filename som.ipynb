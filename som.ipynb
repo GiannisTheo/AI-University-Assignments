{
  "nbformat": 4,
  "nbformat_minor": 0,
  "metadata": {
    "colab": {
      "name": "Άσκηση_2_final.ipynb",
      "provenance": [],
      "collapsed_sections": [
        "Wnzw5MG55I6r",
        "aViHqlQcPSyP",
        "UTNgwBfjPSyc",
        "3LsmvSyVykTU",
        "AH-bgaEQqkEW",
        "LOnF3cNBqkEa",
        "Ilj88svGqkEe",
        "8IvHkTUHyu78",
        "FEdWS4rZqkFZ",
        "9Up8xF68qkGU",
        "zglAwf9cqkGy",
        "Z3koqtKMWrpG",
        "xDjxgggkXDlj",
        "VEEs8q1ldBfG",
        "pCyw-ePHe2aL",
        "5j3Z0lA1rE8c",
        "b7h57pbfYzTK",
        "4yoYBYR8bSz8",
        "stGHsEimUO0l"
      ]
    },
    "kernelspec": {
      "display_name": "Python 3",
      "language": "python",
      "name": "python3"
    },
    "language_info": {
      "codemirror_mode": {
        "name": "ipython",
        "version": 3
      },
      "file_extension": ".py",
      "mimetype": "text/x-python",
      "name": "python",
      "nbconvert_exporter": "python",
      "pygments_lexer": "ipython3",
      "version": "3.7.3"
    }
  },
  "cells": [
    {
      "cell_type": "markdown",
      "metadata": {
        "id": "hLFXD3IePSyL"
      },
      "source": [
        "# Εργαστηριακή Άσκηση 2. Μη επιβλεπόμενη μάθηση. \n",
        "\n",
        "\n",
        "## Σύστημα συστάσεων βασισμένο στο περιεχόμενο\n",
        "## Σημασιολογική απεικόνιση δεδομένων με χρήση SOM \n",
        "\n",
        "### Στοιχεία Ομάδας\n",
        "\n",
        "Βόσινας Κωνσταντίνος 3116435\n",
        "\n",
        "Θεοδοσίου Γιάννης 3115056\n",
        "\n",
        "Δαβαράκης Θεόδωρος 3115002\n",
        "\n",
        "\n",
        "Αριθμός Ομάδας Μ.Α.2\n"
      ]
    },
    {
      "cell_type": "markdown",
      "metadata": {
        "id": "Wnzw5MG55I6r"
      },
      "source": [
        "## Εισαγωγή βιβλιοθηκών"
      ]
    },
    {
      "cell_type": "code",
      "metadata": {
        "id": "w6bmEK7pF_Bb",
        "outputId": "f793bb2c-da05-4718-9f7e-3b2342958e00",
        "colab": {
          "base_uri": "https://localhost:8080/",
          "height": 336
        }
      },
      "source": [
        "!pip install somoclu --upgrade"
      ],
      "execution_count": null,
      "outputs": [
        {
          "output_type": "stream",
          "text": [
            "Collecting somoclu\n",
            "\u001b[?25l  Downloading https://files.pythonhosted.org/packages/15/83/4b76845d8a2b0d70c27e7bdad363f36187b2adfc2851724ae76b47e0e348/somoclu-1.7.5.tar.gz (6.1MB)\n",
            "\u001b[K     |████████████████████████████████| 6.2MB 7.9MB/s \n",
            "\u001b[?25hRequirement already satisfied, skipping upgrade: numpy in /usr/local/lib/python3.6/dist-packages (from somoclu) (1.17.5)\n",
            "Requirement already satisfied, skipping upgrade: matplotlib in /usr/local/lib/python3.6/dist-packages (from somoclu) (3.1.2)\n",
            "Requirement already satisfied, skipping upgrade: scipy in /usr/local/lib/python3.6/dist-packages (from somoclu) (1.4.1)\n",
            "Requirement already satisfied, skipping upgrade: cycler>=0.10 in /usr/local/lib/python3.6/dist-packages (from matplotlib->somoclu) (0.10.0)\n",
            "Requirement already satisfied, skipping upgrade: kiwisolver>=1.0.1 in /usr/local/lib/python3.6/dist-packages (from matplotlib->somoclu) (1.1.0)\n",
            "Requirement already satisfied, skipping upgrade: python-dateutil>=2.1 in /usr/local/lib/python3.6/dist-packages (from matplotlib->somoclu) (2.6.1)\n",
            "Requirement already satisfied, skipping upgrade: pyparsing!=2.0.4,!=2.1.2,!=2.1.6,>=2.0.1 in /usr/local/lib/python3.6/dist-packages (from matplotlib->somoclu) (2.4.6)\n",
            "Requirement already satisfied, skipping upgrade: six in /usr/local/lib/python3.6/dist-packages (from cycler>=0.10->matplotlib->somoclu) (1.12.0)\n",
            "Requirement already satisfied, skipping upgrade: setuptools in /usr/local/lib/python3.6/dist-packages (from kiwisolver>=1.0.1->matplotlib->somoclu) (42.0.2)\n",
            "Building wheels for collected packages: somoclu\n",
            "  Building wheel for somoclu (setup.py) ... \u001b[?25l\u001b[?25hdone\n",
            "  Created wheel for somoclu: filename=somoclu-1.7.5-cp36-cp36m-linux_x86_64.whl size=420848 sha256=a8a42732a93e1adefc9cfae006e5671cbfbbe7d7bc8c2ede413a0ffe4184eedf\n",
            "  Stored in directory: /root/.cache/pip/wheels/85/3c/e5/5b1c535e93453367a8e3d35a377d3c668da00369b1a4302ad8\n",
            "Successfully built somoclu\n",
            "Installing collected packages: somoclu\n",
            "Successfully installed somoclu-1.7.5\n"
          ],
          "name": "stdout"
        }
      ]
    },
    {
      "cell_type": "code",
      "metadata": {
        "id": "oIn6hX_2qkDe",
        "outputId": "2dab437e-e6e5-4d30-b556-14ed40866bea",
        "colab": {
          "base_uri": "https://localhost:8080/",
          "height": 70
        }
      },
      "source": [
        "import numpy as np\n",
        "import nltk\n",
        "import pandas as pd\n",
        "from nltk.corpus import stopwords\n",
        "import string\n",
        "from nltk.stem.porter import PorterStemmer\n",
        "from nltk.stem import WordNetLemmatizer\n",
        "from sklearn.feature_extraction.text import TfidfVectorizer\n",
        "import joblib\n",
        "\n",
        "import matplotlib\n",
        "from sklearn.externals import joblib\n",
        "from sklearn.cluster import KMeans\n",
        "# we will plot inside the notebook and not in separate window\n",
        "%matplotlib inline\n",
        "\n",
        "\n",
        "# Import linear_kernel\n",
        "from sklearn.metrics.pairwise import linear_kernel\n",
        "\n",
        "import somoclu\n",
        "import matplotlib.pyplot as plt\n",
        "# we will plot inside the notebook and not in separate window\n",
        "%matplotlib inline\n"
      ],
      "execution_count": null,
      "outputs": [
        {
          "output_type": "stream",
          "text": [
            "/usr/local/lib/python3.6/dist-packages/sklearn/externals/joblib/__init__.py:15: FutureWarning: sklearn.externals.joblib is deprecated in 0.21 and will be removed in 0.23. Please import this functionality directly from joblib, which can be installed with: pip install joblib. If this warning is raised when loading pickled models, you may need to re-serialize those models with scikit-learn 0.21+.\n",
            "  warnings.warn(msg, category=FutureWarning)\n"
          ],
          "name": "stderr"
        }
      ]
    },
    {
      "cell_type": "markdown",
      "metadata": {
        "id": "aViHqlQcPSyP"
      },
      "source": [
        "## Εισαγωγή του Dataset"
      ]
    },
    {
      "cell_type": "code",
      "metadata": {
        "id": "62SOj46gPSyS"
      },
      "source": [
        "\n",
        "dataset_url = \"https://drive.google.com/uc?export=download&id=1PdkVDENX12tQliCk_HtUnAUbfxXvnWuG\"\n",
        "df_data_1 = pd.read_csv(dataset_url, sep='\\t',  header=None, quoting=3, error_bad_lines=False)"
      ],
      "execution_count": null,
      "outputs": []
    },
    {
      "cell_type": "code",
      "metadata": {
        "id": "-FSmKzDWqkDn",
        "outputId": "e8e4e146-fe2c-4f0e-8aa7-72137d642514"
      },
      "source": [
        "joblib.dump(df_data_1, 'df_data_1.pkl') "
      ],
      "execution_count": null,
      "outputs": [
        {
          "output_type": "execute_result",
          "data": {
            "text/plain": [
              "['df_data_1.pkl']"
            ]
          },
          "metadata": {
            "tags": []
          },
          "execution_count": 227
        }
      ]
    },
    {
      "cell_type": "code",
      "metadata": {
        "id": "2POlqDjkPSyY"
      },
      "source": [
        "# βάλτε το seed που αντιστοιχεί στην ομάδα σας\n",
        "# Team Number: M.A.2\n",
        "# Team Seed : 2\n",
        "team_seed_number = 2\n",
        "\n",
        "movie_seeds_url = \"https://drive.google.com/uc?export=download&id=1RRoiOjhD0JB3l4oHNFOmPUqZHDphIdwL\"\n",
        "df_data_2 = pd.read_csv(movie_seeds_url, header=None, error_bad_lines=False)\n",
        "\n",
        "# επιλέγεται \n",
        "my_index = df_data_2.iloc[team_seed_number,:].values\n",
        "\n",
        "titles = df_data_1.iloc[:, [2]].values[my_index] # movie titles (string)\n",
        "categories = df_data_1.iloc[:, [3]].values[my_index] # movie categories (string)\n",
        "bins = df_data_1.iloc[:, [4]]\n",
        "catbins = bins[4].str.split(',', expand=True).values.astype(np.float)[my_index] # movie categories in binary form (1 feature per category)\n",
        "summaries =  df_data_1.iloc[:, [5]].values[my_index] # movie summaries (string)\n",
        "corpus = summaries[:,0].tolist() # list form of summaries"
      ],
      "execution_count": null,
      "outputs": []
    },
    {
      "cell_type": "markdown",
      "metadata": {
        "id": "JGvzIIB1qkDx"
      },
      "source": [
        "Αποθήκευση των επιμέρους πινακων"
      ]
    },
    {
      "cell_type": "code",
      "metadata": {
        "id": "nMUzPSR4qkDy",
        "outputId": "bcb4d7d2-75d2-4410-8f3e-a95ce3d4cd86"
      },
      "source": [
        "joblib.dump(corpus, 'corpus_5000.pkl')\n",
        "joblib.dump(titles, 'titles.pkl')\n",
        "joblib.dump(categories, 'categories.pkl')"
      ],
      "execution_count": null,
      "outputs": [
        {
          "output_type": "execute_result",
          "data": {
            "text/plain": [
              "['categories.pkl']"
            ]
          },
          "metadata": {
            "tags": []
          },
          "execution_count": 122
        }
      ]
    },
    {
      "cell_type": "markdown",
      "metadata": {
        "id": "UTNgwBfjPSyc"
      },
      "source": [
        "# Εφαρμογή 1. Υλοποίηση συστήματος συστάσεων ταινιών βασισμένο στο περιεχόμενο"
      ]
    },
    {
      "cell_type": "markdown",
      "metadata": {
        "id": "DD5KuSKrxQ8I"
      },
      "source": [
        "## Βασικό σύστημα συστάσεων ταινιών\n",
        "\n",
        "Μετατροπή το corpus σε αναπαράσταση tf-idf. Χρήση της TfidfVectorizer() συνάρτησης χωρίς παραμέτρους"
      ]
    },
    {
      "cell_type": "code",
      "metadata": {
        "id": "s5YP6XCZPSyh"
      },
      "source": [
        "vectorizer = TfidfVectorizer()\n",
        "vectorizer.fit(corpus)\n",
        "corpus_tf_idf = vectorizer.transform(corpus)\n",
        "\n",
        "doc_terms = vectorizer.inverse_transform(corpus_tf_idf)\n"
      ],
      "execution_count": null,
      "outputs": []
    },
    {
      "cell_type": "code",
      "metadata": {
        "id": "y_Cw0brpnisF",
        "outputId": "88b0b29d-a518-4b7b-f251-75b703a304b8",
        "colab": {
          "base_uri": "https://localhost:8080/",
          "height": 34
        }
      },
      "source": [
        "print(corpus_tf_idf.shape)"
      ],
      "execution_count": null,
      "outputs": [
        {
          "output_type": "stream",
          "text": [
            "(5000, 48965)\n"
          ],
          "name": "stdout"
        }
      ]
    },
    {
      "cell_type": "markdown",
      "metadata": {
        "id": "eiLPr7j0qkEM"
      },
      "source": [
        "Υπολογισμός της ομοιότητας συνιμιτόνου"
      ]
    },
    {
      "cell_type": "code",
      "metadata": {
        "id": "kAsmvt-4qkEN"
      },
      "source": [
        "# Compute the cosine similarity matrix\n",
        "cosine_sim = linear_kernel(corpus_tf_idf, corpus_tf_idf)"
      ],
      "execution_count": null,
      "outputs": []
    },
    {
      "cell_type": "code",
      "metadata": {
        "id": "IxUQmnn5qkER",
        "outputId": "dc0b75d1-8cf8-4aee-bf44-6cc62c4ed8ec",
        "colab": {
          "base_uri": "https://localhost:8080/",
          "height": 34
        }
      },
      "source": [
        "print(cosine_sim.shape)"
      ],
      "execution_count": null,
      "outputs": [
        {
          "output_type": "stream",
          "text": [
            "(5000, 5000)\n"
          ],
          "name": "stdout"
        }
      ]
    },
    {
      "cell_type": "markdown",
      "metadata": {
        "id": "3LsmvSyVykTU"
      },
      "source": [
        "### Βασικές συναρτήσεις\n"
      ]
    },
    {
      "cell_type": "markdown",
      "metadata": {
        "id": "AH-bgaEQqkEW"
      },
      "source": [
        "#### Συνάρτηση: content_recommender\n",
        "\n",
        "**Επιστρέφει τα ids των προτεινόμενων ταινιών**"
      ]
    },
    {
      "cell_type": "code",
      "metadata": {
        "id": "ZonmHThAqkEX"
      },
      "source": [
        "# Inputs:\n",
        "# target_movie: το id της ταινίας της οποίας οι προτειμόμενες ταινίες πρόκειται να υπoλογισθούν\n",
        "# max_recommendations: ο αριθμός προτεινόμενων ταινιών\n",
        "# cosine_sim: ο πίνακας με τις ομοιότητες συνιμιτόνου\n",
        "\n",
        "# Output:\n",
        "# πίνακας με τα ids των προτεινόμενων ταινι΄ών\n",
        "\n",
        "def content_recommender(target_movie, max_recommendations, cosine_sim, \n",
        "                        titles=titles, categories=categories, corpus=corpus):\n",
        "\n",
        "    # Get the pairwsie similarity scores of all movies with that movie\n",
        "    sim_scores = list(enumerate(cosine_sim[target_movie]))\n",
        "\n",
        "    # Sort the movies based on the similarity scores\n",
        "    sim_scores = sorted(sim_scores, key=lambda x: x[1], reverse=True)\n",
        "    \n",
        "\n",
        "    # Get the scores of the max_recommendations most similar movies\n",
        "    sim_scores = sim_scores[1:max_recommendations+1]\n",
        "    #print(sim_scores)\n",
        "\n",
        "    # Get the movie indices\n",
        "    movie_indices = [i[0] for i in sim_scores]\n",
        "    #print(movie_indices)\n",
        "    \n",
        "    return sim_scores\n"
      ],
      "execution_count": null,
      "outputs": []
    },
    {
      "cell_type": "markdown",
      "metadata": {
        "id": "LOnF3cNBqkEa"
      },
      "source": [
        "#### Συναρτηση: best_fitters\n",
        "\n",
        "**Επιστρέφει την λίστα με τις πιο πετυχημένες (ως προς τον βαθμό ομοιότητας συνιμιτόνου) προτεινόμενες ταινίες**"
      ]
    },
    {
      "cell_type": "code",
      "metadata": {
        "id": "cPG2iK2SqkEb"
      },
      "source": [
        "\n",
        "\n",
        "# Inputs:\n",
        "# size: συνολικό πλήθος ταινιών\n",
        "# max_recommendations: ο αριθμός προτεινόμενων ταινιών\n",
        "# cosine_sim: ο πίνακας με τις ομοιότητες συνιμιτόνου\n",
        "\n",
        "# Output:\n",
        "# λίστα ταινιών με τις πιο πετυχημένες (ως προς τον βαθμό ομοιότητας συνιμιτόνου) προτεινόμενες ταινίες\n",
        "\n",
        "def best_fitters(size, max_recommendations, cosine_sim):\n",
        "    max = []\n",
        "    for i in range(size):\n",
        "        max.append(content_recommender(i, 1, cosine_sim)[0][1])\n",
        "\n",
        "    max = np.array(max)\n",
        "    sim_scores = list(enumerate(max))\n",
        "    #print(sim_scores)\n",
        "    sim_scores = sorted(sim_scores, key=lambda x: x[1], reverse=True)\n",
        "    movie_indices = [i[0] for i in sim_scores]\n",
        "    #print(movie_indices)\n",
        "    # Get the scores of the max_recommendations most similar movies\n",
        "    movie_indices = movie_indices[0:max_recommendations]\n",
        "    top_sim_scores = sim_scores[0:max_recommendations]\n",
        "    print(movie_indices)\n",
        "    print(top_sim_scores)\n"
      ],
      "execution_count": null,
      "outputs": []
    },
    {
      "cell_type": "markdown",
      "metadata": {
        "id": "Ilj88svGqkEe"
      },
      "source": [
        "#### Συνάρτηση: print_results\n",
        "\n",
        "**Τυπώνει ένα αρχικό τμήμα της περιγραφής των προτεινόμενων ταινιών.**\n",
        "**Χρησιμοποιείται κατά την διάρκεια βελτίωσης του συστήματος**"
      ]
    },
    {
      "cell_type": "code",
      "metadata": {
        "id": "9JnDf0auqkEf"
      },
      "source": [
        "# Inputs:\n",
        "# target_movie: το id της ταινίας της οποίας οι προτειμόμενες ταινίες πρόκειται να υπoλογισθούν\n",
        "# max_recommendations: ο αριθμός προτεινόμενων ταινιών\n",
        "# cosine_sim: ο πίνακας με τις ομοιότητες συνιμιτόνου\n",
        "\n",
        "# Output:\n",
        "# Τυπώνει ένα αρχικό τμήμα της περιγραφής των προτεινόμενων ταινιών. \n",
        "# Χρησιμοποιείται κατά την διάρκεια βελτίωσης του συστήματος \n",
        "\n",
        "def print_results(target_movie,max_recommendations, cosine_sim, full=False, titles=titles, categories=categories, corpus=corpus):\n",
        "    \n",
        "    print(\"**** Target movie: \", target_movie)\n",
        "    print(\"Title: \", titles[target_movie])\n",
        "    print(\"Genres: \", categories[target_movie])\n",
        "    if full == False:\n",
        "        print(\"Summary: \", corpus[target_movie][:500])\n",
        "    else:\n",
        "        print(\"Summary: \", corpus[target_movie])\n",
        "    rec = content_recommender(target_movie, max_recommendations, cosine_sim)\n",
        "    print(\"\\n**** Brief description of recommended movies: \\n\", rec)\n",
        "       \n",
        "    # Print the recommended movies\n",
        "    print(\"\\n****\", max_recommendations, \" most related movies based on content:\")\n",
        "    for i in range(max_recommendations):\n",
        "        print(\"**** Recommended movie No.: \", i+1)\n",
        "        print(\"Movie Id: \", rec[i][0])\n",
        "        print(\"Title: \", titles[rec[i][0]])\n",
        "        print(\"Genres: \", categories[rec[i][0]])\n",
        "        if full == False:\n",
        "            print(\"Summary: \", corpus[rec[i][0]][:500])\n",
        "        else:\n",
        "            print(\"Summary: \", corpus[rec[i][0]])\n",
        "        print(\"------------------\")\n",
        "\n",
        "    "
      ],
      "execution_count": null,
      "outputs": []
    },
    {
      "cell_type": "markdown",
      "metadata": {
        "id": "TOAo1P-GqkEj"
      },
      "source": [
        "Τρεις τυχαία επιλεγμένες ταινίες θα είναι η βάση του ελέγχου του συστήματος συστάσεων. Οι τρεις αυτές ταινίες είναι: 363, 1955 και 3000. "
      ]
    },
    {
      "cell_type": "code",
      "metadata": {
        "id": "JAO8PbzYqkEk",
        "outputId": "08ca873f-86ad-42d6-e797-a3d5dd679d69"
      },
      "source": [
        "print_results(363,3, cosine_sim, full = False)"
      ],
      "execution_count": null,
      "outputs": [
        {
          "output_type": "stream",
          "text": [
            "**** Target movie:  363\n",
            "Title:  ['Muppet Treasure Island']\n",
            "Genres:  ['\"Adventure\",  \"Children\\'s/Family\",  \"Musical\",  \"Children\\'s\",  \"Comedy\",  \"Music\",  \"Family Film\",  \"Family-Oriented Adventure\"']\n",
            "Summary:  Jim Hawkins  is a young orphan living with his friends Gonzo and Rizzo at the Admiral Benbow inn in England. Dreaming of sea voyages, Jim only has the tales of Billy Bones  to help, Bones telling Jim and the inn patrons of Captain Flint , his old captain, burying his treasure on a remote island and killing all of his crew, and that no one knows the whereabouts of the map. One night, Blind Pew, a fellow pirate, arrives and gives Bones the black spot. Bones dies of a heart attack but reveals to Ji\n",
            "\n",
            "**** Brief description of recommended movies: \n",
            " [(3149, 0.7299676735006725), (145, 0.48479301559281673), (2165, 0.3049091823780149)]\n",
            "\n",
            "**** 3  most related movies based on content:\n",
            "**** Recommended movie No.:  1\n",
            "Movie Id:  3149\n",
            "Title:  ['Treasure Island']\n",
            "Genres:  ['\"Swashbuckler films\",  \"Adventure\",  \"Black-and-white\",  \"Action/Adventure\",  \"Drama\",  \"Family Film\"']\n",
            "Summary:  Young Jim Hawkins  and his mother run the Admiral Benbow, a tavern near Bristol, England. One dark and stormy night, during a birthday celebration, the mysterious Billy Bones  arrives and drunkenly talks about treasure. Soon after, Bones is visited by Black Dog then Pew, and drops dead, leaving a chest, which he bragged contained gold and jewels. Instead of money, Jim finds a map that his friend Dr. Livesey  realizes will lead them to the famous Flint treasure. Squire Trelawney  raises money for\n",
            "------------------\n",
            "**** Recommended movie No.:  2\n",
            "Movie Id:  145\n",
            "Title:  ['Treasure Island']\n",
            "Genres:  ['\"Family Film\",  \"Adventure\"']\n",
            "Summary:  Jim Hawkins  is a young man who works at a pub with his mother . When a drunken old sailor named Billy Bones  comes in for a drink and dies, Jim gets his hands on an old pirate's treasure map. Immediately taking action, he then enlists the help of Squire Trelawney  and Dr. Livesey  to join him as he locates the island on the map. Together, they join a ship lead by Captain Smollett  that will lead them to their destination. When word of the treasure reaches the rest of the ship's crew, the ship's\n",
            "------------------\n",
            "**** Recommended movie No.:  3\n",
            "Movie Id:  2165\n",
            "Title:  ['Lord Jim']\n",
            "Genres:  ['\"Action/Adventure\",  \"Action\",  \"Drama\",  \"Adventure\",  \"Film adaptation\"']\n",
            "Summary:  Jim  is a promising young English merchant seaman who rises to first officer under Captain Marlow . However, Jim is injured and left at Java. When he is fit again, he signs on with the first available ship, a dilapidated freighter called the S.S. Patna, crammed with hundreds of Muslims on pilgrimage to Mecca. When a storm threatens the leaking ship, the crew panics and takes to the lifeboats without a thought for their passengers; Jim in a moment of weakness joins them. When they reach port, the\n",
            "------------------\n"
          ],
          "name": "stdout"
        }
      ]
    },
    {
      "cell_type": "markdown",
      "metadata": {
        "id": "pxzuWjOgqkEo"
      },
      "source": [
        "Οι 3 πρώτες προτεινόμες ταινίες για την ταινία 363 είναι σχετικές."
      ]
    },
    {
      "cell_type": "code",
      "metadata": {
        "id": "GRTykANGqkEp",
        "outputId": "998d027b-d86c-4375-bf38-f502ae1c3c6f"
      },
      "source": [
        "print_results(1985,3, cosine_sim, full = False)"
      ],
      "execution_count": null,
      "outputs": [
        {
          "output_type": "stream",
          "text": [
            "**** Target movie:  1985\n",
            "Title:  [\"Child's Play 2\"]\n",
            "Genres:  ['\"Thriller\",  \"Horror\",  \"Supernatural\",  \"Cult\",  \"Comedy\",  \"Slasher\"']\n",
            "Summary:   Two years have passed since the events of the first film. The Play Pals company has the original doll reconstructed for analysis. Mr. Sullivan, the CEO, meets with his assistant, Mattson, with regards to the doll's reconstruction.Mattson informs Mr. Sullivan that Andy has been placed in foster care and was taken away for a psychiatric evaluation, his mother has been taken to a Mental Hospital. He also informs Sullivan that someone at the company may have tampered with the doll's voice cassette.\n",
            "\n",
            "**** Brief description of recommended movies: \n",
            " [(1133, 0.6842270839518009), (3753, 0.6783900654865775), (3966, 0.4385293908985913)]\n",
            "\n",
            "**** 3  most related movies based on content:\n",
            "**** Recommended movie No.:  1\n",
            "Movie Id:  1133\n",
            "Title:  [\"Child's Play\"]\n",
            "Genres:  ['\"Horror\",  \"Indie\",  \"Supernatural\",  \"Psychological thriller\",  \"Cult\",  \"Mystery\",  \"Slasher\"']\n",
            "Summary:  On November 9, 1988 in Chicago, Illinois, while being chased by homicide detective Mike Norris , serial killer Charles Lee Ray , also known as \"Chucky\" and \"The Lakeshore Strangler\", is shot and mortally wounded. Knowing he cannot escape, Charles takes cover inside a seemingly old toy store. He looms around until he falls on a stack of \"Good Guy\" themed dolls. He uses a voodoo ritual to transfer his soul into one of the dolls. The store is then struck by lightning and catches on fire; sending Mi\n",
            "------------------\n",
            "**** Recommended movie No.:  2\n",
            "Movie Id:  3753\n",
            "Title:  [\"Child's Play 3\"]\n",
            "Genres:  ['\"Cult\",  \"Supernatural\",  \"Horror\",  \"Slasher\",  \"Comedy\"']\n",
            "Summary:  Eight years after the events of Child's Play 2, Play Pals  has recovered from bad publicity arising from Chucky's murder spree. The company releases a new line of Good Guy dolls and recycles Chucky's remains. However, the soul of serial killer Charles Lee Ray still inhabited the remains, and Chucky is soon revived in a new doll body. Chucky is unwittingly given to Play Pals' CEO Mr. Sullivan, whom Chucky tortures and kills using various instruments. He then uses computer records to relocate Andy\n",
            "------------------\n",
            "**** Recommended movie No.:  3\n",
            "Movie Id:  3966\n",
            "Title:  [\"Before the Devil Knows You're Dead\"]\n",
            "Genres:  ['\"Thriller\",  \"Crime Fiction\",  \"Indie\",  \"Family Drama\",  \"Drama\",  \"Crime Thriller\"']\n",
            "Summary:  Note: The story is explained here in its chronological order, rather than as it is presented in the film. Andy Hanson  is a finance executive at a real estate firm in New York City. Facing an upcoming audit, which he knows will reveal that he has embezzled thousands from his employer, Andy decides to escape to Brazil , but desperately needs money to establish himself in Rio as he has spent all the money he stole paying for drugs. His brother Hank  needs money to pay child support  and his daught\n",
            "------------------\n"
          ],
          "name": "stdout"
        }
      ]
    },
    {
      "cell_type": "markdown",
      "metadata": {
        "id": "BaFm9I2OqkEs"
      },
      "source": [
        "Οι 3 πρώτες προτεινόμες ταινίες για την ταινία 1985 είναι σχετικές."
      ]
    },
    {
      "cell_type": "code",
      "metadata": {
        "scrolled": true,
        "id": "zFV5cVj9qkEt",
        "outputId": "cd717f8c-f702-42d4-b6b2-a2162342cc8c"
      },
      "source": [
        "print_results(3000,3, cosine_sim, full = False)"
      ],
      "execution_count": null,
      "outputs": [
        {
          "output_type": "stream",
          "text": [
            "**** Target movie:  3000\n",
            "Title:  ['Dr. Jekyll and Mr. Mouse']\n",
            "Genres:  ['\"Short Film\",  \"Comedy\"']\n",
            "Summary:    Near a basement window are two milk bottles. Through the basement window, Tom reaches for one of the bottles and then snatches it, rushing into the living room to pour it in his bowl and drink it but Jerry also wants Tom's milk. Tom makes various attempts to catch Jerry but when they all fail, the cat dreams up a murderous plot to rid himself of his annoyance. The next scene shows Tom mixing chemicals such as moth balls, acid, and poison into his milk. When Tom stirs the deadly elixir with a s\n",
            "\n",
            "**** Brief description of recommended movies: \n",
            " [(1357, 0.6745354040749771), (3717, 0.6655960530398346), (2518, 0.6135464056204174)]\n",
            "\n",
            "**** 3  most related movies based on content:\n",
            "**** Recommended movie No.:  1\n",
            "Movie Id:  1357\n",
            "Title:  ['The Zoot Cat']\n",
            "Genres:  ['\"Family Film\",  \"Comedy\",  \"Animation\"']\n",
            "Summary:   The cartoon opens with a Valentine note to Toots from Tom with a pink ribbon tied to the card and the ribbon is tied to Jerry who is in a gift box. Meanwhile Tom is getting ready for a date with his whiskers in curlers and putting lard on the top of his head. He puts a little cologne on and even puts some on Jerry and then closes the box on him. He then proudly marches over to his female friend's house. Tom knocks on the door, rings the doorbell, and yells out, \"Yoo hoo! Hey Toots!\" Tom then dr\n",
            "------------------\n",
            "**** Recommended movie No.:  2\n",
            "Movie Id:  3717\n",
            "Title:  ['The Midnight Snack']\n",
            "Genres:  ['\"Short Film\",  \"Family Film\",  \"Comedy\",  \"Animation\"']\n",
            "Summary:   The cartoon takes place in a kitchen at midnight. Jerry pokes his head out of the refrigerator door and steals some cheese, unaware that Tom is watching him. Tom weighs the mouse down enough such that he can no longer see in front of him. After Jerry falls off from a rolling pin, Tom emerges from his hiding place with a smug face. Jerry \"salutes\" the cat and returns the slice of cheese to the refrigerator. He then proceeds to steal just a tiny bit of cheese, but Tom stomps on his tail with one \n",
            "------------------\n",
            "**** Recommended movie No.:  3\n",
            "Movie Id:  2518\n",
            "Title:  ['Buddies Thicker Than Water']\n",
            "Genres:  ['\"Comedy\"']\n",
            "Summary:  On a snowy night in New York City, Jerry is comfortably asleep in his hole inside a penthouse, while Tom tries to keep from freezing to death in the alley below, having been thrown out by the owner. He writes a note, slips it into a bottle, and throws it up to hit the penthouse window. Jerry, awakened by the noise, goes out to the balcony and finds both this note and a second one sent up by Tom:  Rushing to the alley, Jerry finds the frozen-solid Tom and drags him back upstairs on a trash can li\n",
            "------------------\n"
          ],
          "name": "stdout"
        }
      ]
    },
    {
      "cell_type": "markdown",
      "metadata": {
        "id": "THkzCYOsqkEw"
      },
      "source": [
        "Οι 3 πρώτες προτεινόμες ταινίες για την ταινία 3000 είναι σχετικές."
      ]
    },
    {
      "cell_type": "markdown",
      "metadata": {
        "id": "8IvHkTUHyu78"
      },
      "source": [
        "### Βελτιστοποίηση του συστήματος συστάσεων\n"
      ]
    },
    {
      "cell_type": "markdown",
      "metadata": {
        "id": "dYdaCD84qkEy"
      },
      "source": [
        "Παραμετροποίηση του Vectorizer:\n",
        "\n",
        "Αφαίρεση των english stopwords και αφαίρεση των όρων που εμφανίζονται σε λιγότερα από 10 documents"
      ]
    },
    {
      "cell_type": "code",
      "metadata": {
        "id": "yLEEE8DwqkEz",
        "outputId": "6875d88d-1271-4e54-a3ef-552ca8912ef6",
        "colab": {
          "base_uri": "https://localhost:8080/",
          "height": 50
        }
      },
      "source": [
        "vectorizer = TfidfVectorizer(stop_words='english',min_df=10)\n",
        "vectorizer.fit(corpus)\n",
        "corpus_tf_idf = vectorizer.transform(corpus)\n",
        "\n",
        "print(corpus_tf_idf.shape)\n",
        "doc_terms = vectorizer.inverse_transform(corpus_tf_idf)\n",
        "\n",
        "# Compute the cosine similarity matrix\n",
        "cosine_sim = linear_kernel(corpus_tf_idf, corpus_tf_idf)\n",
        "print(cosine_sim.shape)"
      ],
      "execution_count": null,
      "outputs": [
        {
          "output_type": "stream",
          "text": [
            "(5000, 8285)\n",
            "(5000, 5000)\n"
          ],
          "name": "stdout"
        }
      ]
    },
    {
      "cell_type": "markdown",
      "metadata": {
        "id": "2nwjxNkRqkE2"
      },
      "source": [
        "Παρατηρείται αισθητή μείωση της διαστατικότητας και του όγκου δεδομένων.\n",
        "\n",
        "Έλεγχος απόδοσης του συστήματος:"
      ]
    },
    {
      "cell_type": "code",
      "metadata": {
        "id": "k4TdAnd3qkE3",
        "outputId": "44fd99ef-0132-4378-e342-c59490414807"
      },
      "source": [
        "print_results(363,4,cosine_sim, full=False)"
      ],
      "execution_count": null,
      "outputs": [
        {
          "output_type": "stream",
          "text": [
            "**** Target movie:  363\n",
            "Title:  ['Muppet Treasure Island']\n",
            "Genres:  ['\"Adventure\",  \"Children\\'s/Family\",  \"Musical\",  \"Children\\'s\",  \"Comedy\",  \"Music\",  \"Family Film\",  \"Family-Oriented Adventure\"']\n",
            "Summary:  Jim Hawkins  is a young orphan living with his friends Gonzo and Rizzo at the Admiral Benbow inn in England. Dreaming of sea voyages, Jim only has the tales of Billy Bones  to help, Bones telling Jim and the inn patrons of Captain Flint , his old captain, burying his treasure on a remote island and killing all of his crew, and that no one knows the whereabouts of the map. One night, Blind Pew, a fellow pirate, arrives and gives Bones the black spot. Bones dies of a heart attack but reveals to Ji\n",
            "\n",
            "**** Brief description of recommended movies: \n",
            " [(3149, 0.782763169603188), (145, 0.4636582053792966), (2165, 0.35989905378428405), (2187, 0.30525278431503095)]\n",
            "\n",
            "**** 4  most related movies based on content:\n",
            "**** Recommended movie No.:  1\n",
            "Movie Id:  3149\n",
            "Title:  ['Treasure Island']\n",
            "Genres:  ['\"Swashbuckler films\",  \"Adventure\",  \"Black-and-white\",  \"Action/Adventure\",  \"Drama\",  \"Family Film\"']\n",
            "Summary:  Young Jim Hawkins  and his mother run the Admiral Benbow, a tavern near Bristol, England. One dark and stormy night, during a birthday celebration, the mysterious Billy Bones  arrives and drunkenly talks about treasure. Soon after, Bones is visited by Black Dog then Pew, and drops dead, leaving a chest, which he bragged contained gold and jewels. Instead of money, Jim finds a map that his friend Dr. Livesey  realizes will lead them to the famous Flint treasure. Squire Trelawney  raises money for\n",
            "------------------\n",
            "**** Recommended movie No.:  2\n",
            "Movie Id:  145\n",
            "Title:  ['Treasure Island']\n",
            "Genres:  ['\"Family Film\",  \"Adventure\"']\n",
            "Summary:  Jim Hawkins  is a young man who works at a pub with his mother . When a drunken old sailor named Billy Bones  comes in for a drink and dies, Jim gets his hands on an old pirate's treasure map. Immediately taking action, he then enlists the help of Squire Trelawney  and Dr. Livesey  to join him as he locates the island on the map. Together, they join a ship lead by Captain Smollett  that will lead them to their destination. When word of the treasure reaches the rest of the ship's crew, the ship's\n",
            "------------------\n",
            "**** Recommended movie No.:  3\n",
            "Movie Id:  2165\n",
            "Title:  ['Lord Jim']\n",
            "Genres:  ['\"Action/Adventure\",  \"Action\",  \"Drama\",  \"Adventure\",  \"Film adaptation\"']\n",
            "Summary:  Jim  is a promising young English merchant seaman who rises to first officer under Captain Marlow . However, Jim is injured and left at Java. When he is fit again, he signs on with the first available ship, a dilapidated freighter called the S.S. Patna, crammed with hundreds of Muslims on pilgrimage to Mecca. When a storm threatens the leaking ship, the crew panics and takes to the lifeboats without a thought for their passengers; Jim in a moment of weakness joins them. When they reach port, the\n",
            "------------------\n",
            "**** Recommended movie No.:  4\n",
            "Movie Id:  2187\n",
            "Title:  ['The Revolt of Mamie Stover']\n",
            "Genres:  ['\"Romantic drama\",  \"Romance Film\",  \"Drama\"']\n",
            "Summary:  Set in 1941, the film focuses on Mamie Stover , a San Francisco prostitute who is chased away from the city by several policemen. Sent away on a boat, she sets out to Honolulu, where onboard she meets Jim Blair ([[Richard Egan , a successful writer who thinks of Mamie as a Cinderella-like beauty. Flattered, Mamie enjoys not being associated with her less-than glamorous occupation and falls in love with the man. A shipboard romance is cut short when Mamie notices Jim being romantically welcomed a\n",
            "------------------\n"
          ],
          "name": "stdout"
        }
      ]
    },
    {
      "cell_type": "markdown",
      "metadata": {
        "id": "o8uJYyisqkE6"
      },
      "source": [
        "Οι τρεις πρώτες ταινίες είναι άμεσα σχετικές με την ταινία στόχο. Η πλοκή της τέταρτης διαδραματίζεται σε πλοίο όπως και οι τρεις πρώτες.\n"
      ]
    },
    {
      "cell_type": "code",
      "metadata": {
        "id": "PsTfc0KSqkE7",
        "outputId": "76e4ddb2-cf7f-4809-d6fb-45b5ec2d1238"
      },
      "source": [
        "print_results(1985,4,cosine_sim, full=False)"
      ],
      "execution_count": null,
      "outputs": [
        {
          "output_type": "stream",
          "text": [
            "**** Target movie:  1985\n",
            "Title:  [\"Child's Play 2\"]\n",
            "Genres:  ['\"Thriller\",  \"Horror\",  \"Supernatural\",  \"Cult\",  \"Comedy\",  \"Slasher\"']\n",
            "Summary:   Two years have passed since the events of the first film. The Play Pals company has the original doll reconstructed for analysis. Mr. Sullivan, the CEO, meets with his assistant, Mattson, with regards to the doll's reconstruction.Mattson informs Mr. Sullivan that Andy has been placed in foster care and was taken away for a psychiatric evaluation, his mother has been taken to a Mental Hospital. He also informs Sullivan that someone at the company may have tampered with the doll's voice cassette.\n",
            "\n",
            "**** Brief description of recommended movies: \n",
            " [(3966, 0.5780098420497392), (30, 0.5581053787226369), (316, 0.5566750393745084), (3753, 0.5446245533935657)]\n",
            "\n",
            "**** 4  most related movies based on content:\n",
            "**** Recommended movie No.:  1\n",
            "Movie Id:  3966\n",
            "Title:  [\"Before the Devil Knows You're Dead\"]\n",
            "Genres:  ['\"Thriller\",  \"Crime Fiction\",  \"Indie\",  \"Family Drama\",  \"Drama\",  \"Crime Thriller\"']\n",
            "Summary:  Note: The story is explained here in its chronological order, rather than as it is presented in the film. Andy Hanson  is a finance executive at a real estate firm in New York City. Facing an upcoming audit, which he knows will reveal that he has embezzled thousands from his employer, Andy decides to escape to Brazil , but desperately needs money to establish himself in Rio as he has spent all the money he stole paying for drugs. His brother Hank  needs money to pay child support  and his daught\n",
            "------------------\n",
            "**** Recommended movie No.:  2\n",
            "Movie Id:  30\n",
            "Title:  ['An American Werewolf in Paris']\n",
            "Genres:  ['\"Horror\",  \"Comedy\",  \"Horror Comedy\"']\n",
            "Summary:  Andy McDermott is a tourist seeing the sights of Paris with his friends Brad and Chris. When Serafine Pigot leaps off the Eiffel Tower just before Andy is about to bungee jump, he executes a mid-air rescue. She vanishes into the night, leaving Andy intrigued – and also unaware that she is the daughter of David Kessler and Alex Price, the couple seen 16 years earlier in the first film. That night, Andy, Chris, and Brad attend a night club called \"Club de la Lune\". The club's owner, Claude, is act\n",
            "------------------\n",
            "**** Recommended movie No.:  3\n",
            "Movie Id:  316\n",
            "Title:  ['The Man']\n",
            "Genres:  ['\"Crime Fiction\",  \"Action/Adventure\",  \"Action\",  \"Buddy film\",  \"Comedy\"']\n",
            "Summary:   A man named Andy Fiddler  is in his bathroom, preparing a speech. He works for a dental supply company, and lives in Milwaukee, Wisconsin. He will soon be giving a speech to investors in Detroit. At Detroit, ATF agent Derrick Vann , whose partner was recently murdered, is trying to retrieve some guns that were stolen from a federal armory, and are soon to be sold. After a visit to his informant Booty  , he sets up a buy. He is to go to a diner and be reading a USA Today. Unfortunately, Andy is \n",
            "------------------\n",
            "**** Recommended movie No.:  4\n",
            "Movie Id:  3753\n",
            "Title:  [\"Child's Play 3\"]\n",
            "Genres:  ['\"Cult\",  \"Supernatural\",  \"Horror\",  \"Slasher\",  \"Comedy\"']\n",
            "Summary:  Eight years after the events of Child's Play 2, Play Pals  has recovered from bad publicity arising from Chucky's murder spree. The company releases a new line of Good Guy dolls and recycles Chucky's remains. However, the soul of serial killer Charles Lee Ray still inhabited the remains, and Chucky is soon revived in a new doll body. Chucky is unwittingly given to Play Pals' CEO Mr. Sullivan, whom Chucky tortures and kills using various instruments. He then uses computer records to relocate Andy\n",
            "------------------\n"
          ],
          "name": "stdout"
        }
      ]
    },
    {
      "cell_type": "markdown",
      "metadata": {
        "id": "q1Bc7ergqkE_"
      },
      "source": [
        "Πρόκειται για ταινίες τρόμου."
      ]
    },
    {
      "cell_type": "code",
      "metadata": {
        "id": "x-3kInyjqkFA",
        "outputId": "52038059-a0b3-497f-cbdd-cc2667c4c0c7"
      },
      "source": [
        "print_results(3000,4,cosine_sim, full=False)"
      ],
      "execution_count": null,
      "outputs": [
        {
          "output_type": "stream",
          "text": [
            "**** Target movie:  3000\n",
            "Title:  ['Dr. Jekyll and Mr. Mouse']\n",
            "Genres:  ['\"Short Film\",  \"Comedy\"']\n",
            "Summary:    Near a basement window are two milk bottles. Through the basement window, Tom reaches for one of the bottles and then snatches it, rushing into the living room to pour it in his bowl and drink it but Jerry also wants Tom's milk. Tom makes various attempts to catch Jerry but when they all fail, the cat dreams up a murderous plot to rid himself of his annoyance. The next scene shows Tom mixing chemicals such as moth balls, acid, and poison into his milk. When Tom stirs the deadly elixir with a s\n",
            "\n",
            "**** Brief description of recommended movies: \n",
            " [(2836, 0.7606153605819377), (1357, 0.7583840648700464), (3717, 0.7175455211086056), (2610, 0.6848639073286296)]\n",
            "\n",
            "**** 4  most related movies based on content:\n",
            "**** Recommended movie No.:  1\n",
            "Movie Id:  2836\n",
            "Title:  ['Safety Second']\n",
            "Genres:  ['\"Short Film\",  \"Family Film\",  \"Animated cartoon\"']\n",
            "Summary:   The cartoon opens with Jerry and Nibbles asleep in their beds. Jerry wakes up and looks at his calendar, and seeing it's the Fourth of July, wakes up Nibbles. He instantly brings out the fireworks, but Jerry stuffs them back into the shed and impresses the daily quotation on his protege: Make it safe and sane. Jerry and Nibbles then go outside and enjoy their holiday with noisemakers with Jerry showing him it's still the Fourth of July without fireworks. before Nibbles  lights a firework from h\n",
            "------------------\n",
            "**** Recommended movie No.:  2\n",
            "Movie Id:  1357\n",
            "Title:  ['The Zoot Cat']\n",
            "Genres:  ['\"Family Film\",  \"Comedy\",  \"Animation\"']\n",
            "Summary:   The cartoon opens with a Valentine note to Toots from Tom with a pink ribbon tied to the card and the ribbon is tied to Jerry who is in a gift box. Meanwhile Tom is getting ready for a date with his whiskers in curlers and putting lard on the top of his head. He puts a little cologne on and even puts some on Jerry and then closes the box on him. He then proudly marches over to his female friend's house. Tom knocks on the door, rings the doorbell, and yells out, \"Yoo hoo! Hey Toots!\" Tom then dr\n",
            "------------------\n",
            "**** Recommended movie No.:  3\n",
            "Movie Id:  3717\n",
            "Title:  ['The Midnight Snack']\n",
            "Genres:  ['\"Short Film\",  \"Family Film\",  \"Comedy\",  \"Animation\"']\n",
            "Summary:   The cartoon takes place in a kitchen at midnight. Jerry pokes his head out of the refrigerator door and steals some cheese, unaware that Tom is watching him. Tom weighs the mouse down enough such that he can no longer see in front of him. After Jerry falls off from a rolling pin, Tom emerges from his hiding place with a smug face. Jerry \"salutes\" the cat and returns the slice of cheese to the refrigerator. He then proceeds to steal just a tiny bit of cheese, but Tom stomps on his tail with one \n",
            "------------------\n",
            "**** Recommended movie No.:  4\n",
            "Movie Id:  2610\n",
            "Title:  ['Down and Outing']\n",
            "Genres:  ['\"Comedy\"']\n",
            "Summary:   Tom accompanies his owner, Clint Clobber, who has severe anger management issues, on a fishing trip. Seeing this as the perfect opportunity to humiliate Tom, Jerry gathers some fishing supplies and tags along. While Clobber is loading the car with supplies, Tom is resting in the back of the car, when suddenly, Jerry throws a spare fishing pole at his head. He then grabs a fence out of the garden and uses it to climb into the car, but is met by Tom, who responds by catapulting him out of the veh\n",
            "------------------\n"
          ],
          "name": "stdout"
        }
      ]
    },
    {
      "cell_type": "markdown",
      "metadata": {
        "id": "NKBxMTh2qkFC"
      },
      "source": [
        "Όλες οι προτεινόμενες ταινίες είναι ισχυρά σχετικές ως προς την ταινία στόχο."
      ]
    },
    {
      "cell_type": "markdown",
      "metadata": {
        "id": "x7PBFNNJqkFD"
      },
      "source": [
        "#### Παραμετροποίηση του Vectorizer:\n",
        "\n",
        "Αφαίρεση των english stopwords\n",
        "Αφαίρεση των όρων που εμφανίζονται σε λιγότερα από 10 documents\n",
        "Αφαίρεση των όρων που εμφανίζονται σε περισσότερα από το 40% των κειμένων"
      ]
    },
    {
      "cell_type": "code",
      "metadata": {
        "id": "mngpc3DuqkFE",
        "outputId": "d1bf30a2-8150-45bd-8758-174c6dac2dd1"
      },
      "source": [
        "vectorizer = TfidfVectorizer(stop_words='english',min_df=10, max_df=0.4, analyzer='word', max_features = 5000)\n",
        "vectorizer.fit(corpus)\n",
        "corpus_tf_idf = vectorizer.transform(corpus)\n",
        "\n",
        "print(corpus_tf_idf.shape)\n",
        "doc_terms = vectorizer.inverse_transform(corpus_tf_idf)\n",
        "\n",
        "# Compute the cosine similarity matrix\n",
        "cosine_sim = linear_kernel(corpus_tf_idf, corpus_tf_idf)\n",
        "print(cosine_sim.shape)"
      ],
      "execution_count": null,
      "outputs": [
        {
          "output_type": "stream",
          "text": [
            "(5000, 5000)\n",
            "(5000, 5000)\n"
          ],
          "name": "stdout"
        }
      ]
    },
    {
      "cell_type": "code",
      "metadata": {
        "id": "ff7BKB_yqkFH",
        "outputId": "e19b116e-3fd7-42fa-98cc-97c9352c9c2f"
      },
      "source": [
        "joblib.dump(corpus_tf_idf, '10+0_4+word+5000.pkl')"
      ],
      "execution_count": null,
      "outputs": [
        {
          "output_type": "execute_result",
          "data": {
            "text/plain": [
              "['10+0_4+word+5000.pkl']"
            ]
          },
          "metadata": {
            "tags": []
          },
          "execution_count": 325
        }
      ]
    },
    {
      "cell_type": "markdown",
      "metadata": {
        "id": "buTRlpPBqkFJ"
      },
      "source": [
        "Περαιτέρω μείωση της διαστατικότητας και του όγκου δεδομένων.\n",
        "\n",
        "Έλεγχος απόδοσης του συστήματος:"
      ]
    },
    {
      "cell_type": "code",
      "metadata": {
        "id": "OhZZQzA3qkFK",
        "outputId": "c7a7f44b-749d-44e6-a103-f1441c24c1f3"
      },
      "source": [
        "print_results(363,5, cosine_sim, full=False)"
      ],
      "execution_count": null,
      "outputs": [
        {
          "output_type": "stream",
          "text": [
            "**** Target movie:  363\n",
            "Title:  ['Muppet Treasure Island']\n",
            "Genres:  ['\"Adventure\",  \"Children\\'s/Family\",  \"Musical\",  \"Children\\'s\",  \"Comedy\",  \"Music\",  \"Family Film\",  \"Family-Oriented Adventure\"']\n",
            "Summary:  Jim Hawkins  is a young orphan living with his friends Gonzo and Rizzo at the Admiral Benbow inn in England. Dreaming of sea voyages, Jim only has the tales of Billy Bones  to help, Bones telling Jim and the inn patrons of Captain Flint , his old captain, burying his treasure on a remote island and killing all of his crew, and that no one knows the whereabouts of the map. One night, Blind Pew, a fellow pirate, arrives and gives Bones the black spot. Bones dies of a heart attack but reveals to Ji\n",
            "\n",
            "**** Brief description of recommended movies: \n",
            " [(3149, 0.8137151827461518), (145, 0.4783338735286019), (2165, 0.3814155902329643), (2187, 0.31999482810814356), (1459, 0.3074615580736215)]\n",
            "\n",
            "**** 5  most related movies based on content:\n",
            "**** Recommended movie No.:  1\n",
            "Movie Id:  3149\n",
            "Title:  ['Treasure Island']\n",
            "Genres:  ['\"Swashbuckler films\",  \"Adventure\",  \"Black-and-white\",  \"Action/Adventure\",  \"Drama\",  \"Family Film\"']\n",
            "Summary:  Young Jim Hawkins  and his mother run the Admiral Benbow, a tavern near Bristol, England. One dark and stormy night, during a birthday celebration, the mysterious Billy Bones  arrives and drunkenly talks about treasure. Soon after, Bones is visited by Black Dog then Pew, and drops dead, leaving a chest, which he bragged contained gold and jewels. Instead of money, Jim finds a map that his friend Dr. Livesey  realizes will lead them to the famous Flint treasure. Squire Trelawney  raises money for\n",
            "------------------\n",
            "**** Recommended movie No.:  2\n",
            "Movie Id:  145\n",
            "Title:  ['Treasure Island']\n",
            "Genres:  ['\"Family Film\",  \"Adventure\"']\n",
            "Summary:  Jim Hawkins  is a young man who works at a pub with his mother . When a drunken old sailor named Billy Bones  comes in for a drink and dies, Jim gets his hands on an old pirate's treasure map. Immediately taking action, he then enlists the help of Squire Trelawney  and Dr. Livesey  to join him as he locates the island on the map. Together, they join a ship lead by Captain Smollett  that will lead them to their destination. When word of the treasure reaches the rest of the ship's crew, the ship's\n",
            "------------------\n",
            "**** Recommended movie No.:  3\n",
            "Movie Id:  2165\n",
            "Title:  ['Lord Jim']\n",
            "Genres:  ['\"Action/Adventure\",  \"Action\",  \"Drama\",  \"Adventure\",  \"Film adaptation\"']\n",
            "Summary:  Jim  is a promising young English merchant seaman who rises to first officer under Captain Marlow . However, Jim is injured and left at Java. When he is fit again, he signs on with the first available ship, a dilapidated freighter called the S.S. Patna, crammed with hundreds of Muslims on pilgrimage to Mecca. When a storm threatens the leaking ship, the crew panics and takes to the lifeboats without a thought for their passengers; Jim in a moment of weakness joins them. When they reach port, the\n",
            "------------------\n",
            "**** Recommended movie No.:  4\n",
            "Movie Id:  2187\n",
            "Title:  ['The Revolt of Mamie Stover']\n",
            "Genres:  ['\"Romantic drama\",  \"Romance Film\",  \"Drama\"']\n",
            "Summary:  Set in 1941, the film focuses on Mamie Stover , a San Francisco prostitute who is chased away from the city by several policemen. Sent away on a boat, she sets out to Honolulu, where onboard she meets Jim Blair ([[Richard Egan , a successful writer who thinks of Mamie as a Cinderella-like beauty. Flattered, Mamie enjoys not being associated with her less-than glamorous occupation and falls in love with the man. A shipboard romance is cut short when Mamie notices Jim being romantically welcomed a\n",
            "------------------\n",
            "**** Recommended movie No.:  5\n",
            "Movie Id:  1459\n",
            "Title:  ['The Pirates of Penzance']\n",
            "Genres:  ['\"Musical\",  \"Romance Film\",  \"Comedy\"']\n",
            "Summary:  Frederic  was sent in the care of his nursemaid, Ruth , to be apprenticed to a pilot. But she misunderstood her instructions, being hard of hearing, and apprenticed him instead to a pirate . Now he is turning 21 years old, and his service is finished, so he decides to leave the Pirates of Penzance. Ruth wants him to take her with him, but he soon meets some young maidens, the daughters of Major-General Stanley ([[George Rose , and realizes that Ruth is \"plain and old\". Frederic quickly falls in \n",
            "------------------\n"
          ],
          "name": "stdout"
        }
      ]
    },
    {
      "cell_type": "markdown",
      "metadata": {
        "id": "x-IdE9K7qkFP"
      },
      "source": [
        "Η 5η προτεινόμενη ταινία είναι μια ταινία με πειρατές."
      ]
    },
    {
      "cell_type": "code",
      "metadata": {
        "id": "1CEeAo0QqkFQ",
        "outputId": "e710e867-0f95-4817-8f21-d368aa9f480b"
      },
      "source": [
        "print_results(1985,6,cosine_sim, full=False)"
      ],
      "execution_count": null,
      "outputs": [
        {
          "output_type": "stream",
          "text": [
            "**** Target movie:  1985\n",
            "Title:  [\"Child's Play 2\"]\n",
            "Genres:  ['\"Thriller\",  \"Horror\",  \"Supernatural\",  \"Cult\",  \"Comedy\",  \"Slasher\"']\n",
            "Summary:   Two years have passed since the events of the first film. The Play Pals company has the original doll reconstructed for analysis. Mr. Sullivan, the CEO, meets with his assistant, Mattson, with regards to the doll's reconstruction.Mattson informs Mr. Sullivan that Andy has been placed in foster care and was taken away for a psychiatric evaluation, his mother has been taken to a Mental Hospital. He also informs Sullivan that someone at the company may have tampered with the doll's voice cassette.\n",
            "\n",
            "**** Brief description of recommended movies: \n",
            " [(3966, 0.5904675558721564), (30, 0.5767251937946442), (316, 0.5699228499953297), (3753, 0.567195400385126), (4886, 0.5644030555689139), (377, 0.49255395994468953)]\n",
            "\n",
            "**** 6  most related movies based on content:\n",
            "**** Recommended movie No.:  1\n",
            "Movie Id:  3966\n",
            "Title:  [\"Before the Devil Knows You're Dead\"]\n",
            "Genres:  ['\"Thriller\",  \"Crime Fiction\",  \"Indie\",  \"Family Drama\",  \"Drama\",  \"Crime Thriller\"']\n",
            "Summary:  Note: The story is explained here in its chronological order, rather than as it is presented in the film. Andy Hanson  is a finance executive at a real estate firm in New York City. Facing an upcoming audit, which he knows will reveal that he has embezzled thousands from his employer, Andy decides to escape to Brazil , but desperately needs money to establish himself in Rio as he has spent all the money he stole paying for drugs. His brother Hank  needs money to pay child support  and his daught\n",
            "------------------\n",
            "**** Recommended movie No.:  2\n",
            "Movie Id:  30\n",
            "Title:  ['An American Werewolf in Paris']\n",
            "Genres:  ['\"Horror\",  \"Comedy\",  \"Horror Comedy\"']\n",
            "Summary:  Andy McDermott is a tourist seeing the sights of Paris with his friends Brad and Chris. When Serafine Pigot leaps off the Eiffel Tower just before Andy is about to bungee jump, he executes a mid-air rescue. She vanishes into the night, leaving Andy intrigued – and also unaware that she is the daughter of David Kessler and Alex Price, the couple seen 16 years earlier in the first film. That night, Andy, Chris, and Brad attend a night club called \"Club de la Lune\". The club's owner, Claude, is act\n",
            "------------------\n",
            "**** Recommended movie No.:  3\n",
            "Movie Id:  316\n",
            "Title:  ['The Man']\n",
            "Genres:  ['\"Crime Fiction\",  \"Action/Adventure\",  \"Action\",  \"Buddy film\",  \"Comedy\"']\n",
            "Summary:   A man named Andy Fiddler  is in his bathroom, preparing a speech. He works for a dental supply company, and lives in Milwaukee, Wisconsin. He will soon be giving a speech to investors in Detroit. At Detroit, ATF agent Derrick Vann , whose partner was recently murdered, is trying to retrieve some guns that were stolen from a federal armory, and are soon to be sold. After a visit to his informant Booty  , he sets up a buy. He is to go to a diner and be reading a USA Today. Unfortunately, Andy is \n",
            "------------------\n",
            "**** Recommended movie No.:  4\n",
            "Movie Id:  3753\n",
            "Title:  [\"Child's Play 3\"]\n",
            "Genres:  ['\"Cult\",  \"Supernatural\",  \"Horror\",  \"Slasher\",  \"Comedy\"']\n",
            "Summary:  Eight years after the events of Child's Play 2, Play Pals  has recovered from bad publicity arising from Chucky's murder spree. The company releases a new line of Good Guy dolls and recycles Chucky's remains. However, the soul of serial killer Charles Lee Ray still inhabited the remains, and Chucky is soon revived in a new doll body. Chucky is unwittingly given to Play Pals' CEO Mr. Sullivan, whom Chucky tortures and kills using various instruments. He then uses computer records to relocate Andy\n",
            "------------------\n",
            "**** Recommended movie No.:  5\n",
            "Movie Id:  4886\n",
            "Title:  [\"His Brother's Ghost\"]\n",
            "Genres:  ['\"Western\",  \"Comedy\",  \"B-Western\"']\n",
            "Summary:  When a group of gunmen are running sharecroppers off their land, rancher Andy Jones sends for his friend Billy Carson to organise the sharecroppers to fight. Andy is soon mortally wounded by the gunmen, but before his death schemes for his no good twin brother Fuzzy to be sent for to impersonate him. The gunmen, witnessing Andy's funeral fear that Fuzzy is Andy's avenging ghost.\n",
            "------------------\n",
            "**** Recommended movie No.:  6\n",
            "Movie Id:  377\n",
            "Title:  ['Streets of Blood']\n",
            "Genres:  ['\"Thriller\",  \"Crime Fiction\",  \"Mystery\",  \"Drama\",  \"Crime Thriller\",  \"Action\"']\n",
            "Summary:  During the rage of Hurricane Katrina, Detective Andy Devereaux  discovers the body of his former partner in a close to underwater warehouse. Quickly forgetting about his discovery, he joins a newly transferred detective named Stan Johnson  trying to end a conflict involving looters. Post-Katrina, Andy and Stan are now partners. They work with corrupt detectives Pepe  and Barney , who are caught up in the murder of an undercover narcotics agent. Investigating the escalating police corruption in N\n",
            "------------------\n"
          ],
          "name": "stdout"
        }
      ]
    },
    {
      "cell_type": "markdown",
      "metadata": {
        "id": "I15LYTDuqkFU"
      },
      "source": [
        "Και οι 6 προτεινόμες ταινίες είναι ταινίες τρόμου."
      ]
    },
    {
      "cell_type": "code",
      "metadata": {
        "id": "JrP4jjgrqkFV",
        "outputId": "cab48db3-035d-40a5-f06c-7dd5be4e2f30"
      },
      "source": [
        "print_results(3000,6, cosine_sim, full=False)"
      ],
      "execution_count": null,
      "outputs": [
        {
          "output_type": "stream",
          "text": [
            "**** Target movie:  3000\n",
            "Title:  ['Dr. Jekyll and Mr. Mouse']\n",
            "Genres:  ['\"Short Film\",  \"Comedy\"']\n",
            "Summary:    Near a basement window are two milk bottles. Through the basement window, Tom reaches for one of the bottles and then snatches it, rushing into the living room to pour it in his bowl and drink it but Jerry also wants Tom's milk. Tom makes various attempts to catch Jerry but when they all fail, the cat dreams up a murderous plot to rid himself of his annoyance. The next scene shows Tom mixing chemicals such as moth balls, acid, and poison into his milk. When Tom stirs the deadly elixir with a s\n",
            "\n",
            "**** Brief description of recommended movies: \n",
            " [(2836, 0.7860060431604275), (1357, 0.7761302753903949), (3717, 0.7657433331842852), (4118, 0.722390899051335), (2610, 0.7018888434473699), (3106, 0.6920199126971859)]\n",
            "\n",
            "**** 6  most related movies based on content:\n",
            "**** Recommended movie No.:  1\n",
            "Movie Id:  2836\n",
            "Title:  ['Safety Second']\n",
            "Genres:  ['\"Short Film\",  \"Family Film\",  \"Animated cartoon\"']\n",
            "Summary:   The cartoon opens with Jerry and Nibbles asleep in their beds. Jerry wakes up and looks at his calendar, and seeing it's the Fourth of July, wakes up Nibbles. He instantly brings out the fireworks, but Jerry stuffs them back into the shed and impresses the daily quotation on his protege: Make it safe and sane. Jerry and Nibbles then go outside and enjoy their holiday with noisemakers with Jerry showing him it's still the Fourth of July without fireworks. before Nibbles  lights a firework from h\n",
            "------------------\n",
            "**** Recommended movie No.:  2\n",
            "Movie Id:  1357\n",
            "Title:  ['The Zoot Cat']\n",
            "Genres:  ['\"Family Film\",  \"Comedy\",  \"Animation\"']\n",
            "Summary:   The cartoon opens with a Valentine note to Toots from Tom with a pink ribbon tied to the card and the ribbon is tied to Jerry who is in a gift box. Meanwhile Tom is getting ready for a date with his whiskers in curlers and putting lard on the top of his head. He puts a little cologne on and even puts some on Jerry and then closes the box on him. He then proudly marches over to his female friend's house. Tom knocks on the door, rings the doorbell, and yells out, \"Yoo hoo! Hey Toots!\" Tom then dr\n",
            "------------------\n",
            "**** Recommended movie No.:  3\n",
            "Movie Id:  3717\n",
            "Title:  ['The Midnight Snack']\n",
            "Genres:  ['\"Short Film\",  \"Family Film\",  \"Comedy\",  \"Animation\"']\n",
            "Summary:   The cartoon takes place in a kitchen at midnight. Jerry pokes his head out of the refrigerator door and steals some cheese, unaware that Tom is watching him. Tom weighs the mouse down enough such that he can no longer see in front of him. After Jerry falls off from a rolling pin, Tom emerges from his hiding place with a smug face. Jerry \"salutes\" the cat and returns the slice of cheese to the refrigerator. He then proceeds to steal just a tiny bit of cheese, but Tom stomps on his tail with one \n",
            "------------------\n",
            "**** Recommended movie No.:  4\n",
            "Movie Id:  4118\n",
            "Title:  ['Texas Tom']\n",
            "Genres:  ['\"Western\",  \"Family Film\",  \"Animation\"']\n",
            "Summary:  Tom and Jerry are engaged in some Western-flavored cat-and-mouse games  when Tom spots a pretty cowgirl cat. Overcome with lust, Tom dresses up in his best cowboy duds and tries to impress the cowgirl, but Jerry sabotages his efforts. Tom takes out tobacco and rolls it up on a piece of paper, then uses Jerry's tongue to stick it closed, Tom smokes it and breathes out the smoke to spell \"Howdy\" as The cowgirl is flustered and giggly. At one point he sings a song for her on a guitar but has a reco\n",
            "------------------\n",
            "**** Recommended movie No.:  5\n",
            "Movie Id:  2610\n",
            "Title:  ['Down and Outing']\n",
            "Genres:  ['\"Comedy\"']\n",
            "Summary:   Tom accompanies his owner, Clint Clobber, who has severe anger management issues, on a fishing trip. Seeing this as the perfect opportunity to humiliate Tom, Jerry gathers some fishing supplies and tags along. While Clobber is loading the car with supplies, Tom is resting in the back of the car, when suddenly, Jerry throws a spare fishing pole at his head. He then grabs a fence out of the garden and uses it to climb into the car, but is met by Tom, who responds by catapulting him out of the veh\n",
            "------------------\n",
            "**** Recommended movie No.:  6\n",
            "Movie Id:  3106\n",
            "Title:  ['Cat and Dupli-cat']\n",
            "Genres:  ['\"Short Film\",  \"Family Film\",  \"Comedy\",  \"Animation\"']\n",
            "Summary:   Tom is rowing amongst some docks under the crescent moon, singing the Neapolitan ballad \"Santa Lucia\" the whole way in an operatic baritone voice. As he reaches the docks, he finds Jerry rowing in a small cup and mimicking him. Tom picks up the cup, steals some tea, sugar, and a spoon from a nearby cruise ship, and covers Jerry with both before he can finish. Tom then begins to drink the Jerry-tea, but an orange cat  pulls on Tom's tail, points at an empty plate, and holds his hand out as if to\n",
            "------------------\n"
          ],
          "name": "stdout"
        }
      ]
    },
    {
      "cell_type": "markdown",
      "metadata": {
        "id": "bfnHP875qkFY"
      },
      "source": [
        "Απόλυτα σχετικές ταινίες."
      ]
    },
    {
      "cell_type": "markdown",
      "metadata": {
        "id": "FEdWS4rZqkFZ"
      },
      "source": [
        "### Προεπεξεργασία των δεδομένων\n"
      ]
    },
    {
      "cell_type": "markdown",
      "metadata": {
        "id": "ZTMB387qqkFa"
      },
      "source": [
        "Συνάρτηση thorough_filter: Αφαίρεση των σημείων στίξης "
      ]
    },
    {
      "cell_type": "code",
      "metadata": {
        "id": "QPJIECkTqkFb"
      },
      "source": [
        "def thorough_filter(words):\n",
        "    filtered_words = []\n",
        "    for word in words:\n",
        "        pun = []\n",
        "        for letter in word:\n",
        "            pun.append(letter in string.punctuation)\n",
        "        if not all(pun):\n",
        "            filtered_words.append(word)\n",
        "    return filtered_words"
      ],
      "execution_count": null,
      "outputs": []
    },
    {
      "cell_type": "markdown",
      "metadata": {
        "id": "zx9YrCCOqkFe"
      },
      "source": [
        "Συνάρτηση preprocess_document: \n",
        "\n",
        "1. Μετατροπή όλων των γραμμάτων σε πεζά. \n",
        "2. Χωρισμός των λέξεων (tokenization)\n",
        "3. Αφαίρεση των σημείων στίξης\n",
        "4. Ληματοποίηση και αφαίρεση των καταλήξεων"
      ]
    },
    {
      "cell_type": "code",
      "metadata": {
        "id": "fAR-DDwJqkFf"
      },
      "source": [
        "nltk.download('wordnet')\n",
        "nltk.download('punkt')\n",
        "nltk.download('stopwords')\n",
        "wordnet_lemmatizer = WordNetLemmatizer()\n",
        "porter_stemmer = PorterStemmer()"
      ],
      "execution_count": null,
      "outputs": []
    },
    {
      "cell_type": "code",
      "metadata": {
        "id": "q8YopG_yqkFh"
      },
      "source": [
        "import collections\n",
        "\n",
        "def preprocess_document(document):\n",
        "    words = nltk.word_tokenize(document.lower())\n",
        "    filtered_words = [word for word in words if word not in stopwords.words('english') + list(string.punctuation)]\n",
        "    filtered_words = thorough_filter(filtered_words)\n",
        "    stemmed_words = [porter_stemmer.stem(wordnet_lemmatizer.lemmatize(word)) for word in filtered_words]\n",
        "    return stemmed_words"
      ],
      "execution_count": null,
      "outputs": []
    },
    {
      "cell_type": "code",
      "metadata": {
        "id": "M048ueVBqkFj"
      },
      "source": [
        "preprocessed_corpus = [preprocess_document(doc) for doc in corpus]"
      ],
      "execution_count": null,
      "outputs": []
    },
    {
      "cell_type": "code",
      "metadata": {
        "id": "x7SJ2sprqkFl",
        "outputId": "9cd6a5b7-b358-4961-f2a6-84cf63daef57"
      },
      "source": [
        "# Αποθήκευση για μελλοντική χρήση\n",
        "joblib.dump(preprocessed_corpus, 'preprocessed_corpus.pkl') "
      ],
      "execution_count": null,
      "outputs": [
        {
          "output_type": "execute_result",
          "data": {
            "text/plain": [
              "['preprocessed_corpus.pkl']"
            ]
          },
          "metadata": {
            "tags": []
          },
          "execution_count": 336
        }
      ]
    },
    {
      "cell_type": "code",
      "metadata": {
        "id": "ZsA0HHy-qkFp"
      },
      "source": [
        "corpus_completed = []\n",
        "for words in preprocessed_corpus:\n",
        "  corpus_completed.append(' '.join(words))"
      ],
      "execution_count": null,
      "outputs": []
    },
    {
      "cell_type": "markdown",
      "metadata": {
        "id": "UI24zY-6qkFr"
      },
      "source": [
        "#### Παραμετροποίηση του Vectorizer:\n",
        "\n",
        "Αφαίρεση των english stopwords\n",
        "Αφαίρεση των όρων που εμφανίζονται σε λιγότερα από 10 documents\n",
        "Αφαίρεση των όρων που εμφανίζονται σε περισσότερα από το 50% των κειμένων"
      ]
    },
    {
      "cell_type": "code",
      "metadata": {
        "scrolled": true,
        "id": "X-XOgOaMqkFt",
        "outputId": "30ac8dc2-94c3-43ff-ffa4-29faaa3d4dbb"
      },
      "source": [
        "vectorizer = TfidfVectorizer(stop_words='english',min_df=10, max_df=0.5)\n",
        "vectorizer.fit(corpus_completed)\n",
        "corpus_tf_idf = vectorizer.transform(corpus_completed)\n",
        "\n",
        "print(corpus_tf_idf.shape)\n",
        "doc_terms = vectorizer.inverse_transform(corpus_tf_idf)\n",
        "\n",
        "# Compute the cosine similarity matrix\n",
        "cosine_sim = linear_kernel(corpus_tf_idf, corpus_tf_idf)\n",
        "print(cosine_sim.shape)"
      ],
      "execution_count": null,
      "outputs": [
        {
          "output_type": "stream",
          "text": [
            "(5000, 6000)\n",
            "(5000, 5000)\n"
          ],
          "name": "stdout"
        }
      ]
    },
    {
      "cell_type": "markdown",
      "metadata": {
        "id": "Iprj_eWGqkFx"
      },
      "source": [
        "Μείωση της διαστατικότητας."
      ]
    },
    {
      "cell_type": "code",
      "metadata": {
        "id": "u6DI_1X2qkFy",
        "outputId": "3b20d279-51be-4f15-d0ce-199830441225"
      },
      "source": [
        "joblib.dump(corpus_tf_idf, 'preprocessed_corpus+10+0_5.pkl') "
      ],
      "execution_count": null,
      "outputs": [
        {
          "output_type": "execute_result",
          "data": {
            "text/plain": [
              "['preprocessed_corpus+10+0_5.pkl']"
            ]
          },
          "metadata": {
            "tags": []
          },
          "execution_count": 339
        }
      ]
    },
    {
      "cell_type": "markdown",
      "metadata": {
        "id": "P0_v5cSG41Ow"
      },
      "source": [
        "Το μέγεθος του preprocessed_corpus+10+0_5.pkl είναι: 5484ΚΒ"
      ]
    },
    {
      "cell_type": "code",
      "metadata": {
        "id": "nhyqn4zoqkF7",
        "outputId": "e2776dc5-3174-4f1f-af1c-1c1895564319"
      },
      "source": [
        "print_results(363,6,cosine_sim,full=False)"
      ],
      "execution_count": null,
      "outputs": [
        {
          "output_type": "stream",
          "text": [
            "**** Target movie:  363\n",
            "Title:  ['Muppet Treasure Island']\n",
            "Genres:  ['\"Adventure\",  \"Children\\'s/Family\",  \"Musical\",  \"Children\\'s\",  \"Comedy\",  \"Music\",  \"Family Film\",  \"Family-Oriented Adventure\"']\n",
            "Summary:  Jim Hawkins  is a young orphan living with his friends Gonzo and Rizzo at the Admiral Benbow inn in England. Dreaming of sea voyages, Jim only has the tales of Billy Bones  to help, Bones telling Jim and the inn patrons of Captain Flint , his old captain, burying his treasure on a remote island and killing all of his crew, and that no one knows the whereabouts of the map. One night, Blind Pew, a fellow pirate, arrives and gives Bones the black spot. Bones dies of a heart attack but reveals to Ji\n",
            "\n",
            "**** Brief description of recommended movies: \n",
            " [(3149, 0.8103855180958013), (145, 0.534667355927152), (2165, 0.3705858326024972), (2187, 0.3280369449017843), (1459, 0.32117509909671094), (4252, 0.30526000838696365)]\n",
            "\n",
            "**** 6  most related movies based on content:\n",
            "**** Recommended movie No.:  1\n",
            "Movie Id:  3149\n",
            "Title:  ['Treasure Island']\n",
            "Genres:  ['\"Swashbuckler films\",  \"Adventure\",  \"Black-and-white\",  \"Action/Adventure\",  \"Drama\",  \"Family Film\"']\n",
            "Summary:  Young Jim Hawkins  and his mother run the Admiral Benbow, a tavern near Bristol, England. One dark and stormy night, during a birthday celebration, the mysterious Billy Bones  arrives and drunkenly talks about treasure. Soon after, Bones is visited by Black Dog then Pew, and drops dead, leaving a chest, which he bragged contained gold and jewels. Instead of money, Jim finds a map that his friend Dr. Livesey  realizes will lead them to the famous Flint treasure. Squire Trelawney  raises money for\n",
            "------------------\n",
            "**** Recommended movie No.:  2\n",
            "Movie Id:  145\n",
            "Title:  ['Treasure Island']\n",
            "Genres:  ['\"Family Film\",  \"Adventure\"']\n",
            "Summary:  Jim Hawkins  is a young man who works at a pub with his mother . When a drunken old sailor named Billy Bones  comes in for a drink and dies, Jim gets his hands on an old pirate's treasure map. Immediately taking action, he then enlists the help of Squire Trelawney  and Dr. Livesey  to join him as he locates the island on the map. Together, they join a ship lead by Captain Smollett  that will lead them to their destination. When word of the treasure reaches the rest of the ship's crew, the ship's\n",
            "------------------\n",
            "**** Recommended movie No.:  3\n",
            "Movie Id:  2165\n",
            "Title:  ['Lord Jim']\n",
            "Genres:  ['\"Action/Adventure\",  \"Action\",  \"Drama\",  \"Adventure\",  \"Film adaptation\"']\n",
            "Summary:  Jim  is a promising young English merchant seaman who rises to first officer under Captain Marlow . However, Jim is injured and left at Java. When he is fit again, he signs on with the first available ship, a dilapidated freighter called the S.S. Patna, crammed with hundreds of Muslims on pilgrimage to Mecca. When a storm threatens the leaking ship, the crew panics and takes to the lifeboats without a thought for their passengers; Jim in a moment of weakness joins them. When they reach port, the\n",
            "------------------\n",
            "**** Recommended movie No.:  4\n",
            "Movie Id:  2187\n",
            "Title:  ['The Revolt of Mamie Stover']\n",
            "Genres:  ['\"Romantic drama\",  \"Romance Film\",  \"Drama\"']\n",
            "Summary:  Set in 1941, the film focuses on Mamie Stover , a San Francisco prostitute who is chased away from the city by several policemen. Sent away on a boat, she sets out to Honolulu, where onboard she meets Jim Blair ([[Richard Egan , a successful writer who thinks of Mamie as a Cinderella-like beauty. Flattered, Mamie enjoys not being associated with her less-than glamorous occupation and falls in love with the man. A shipboard romance is cut short when Mamie notices Jim being romantically welcomed a\n",
            "------------------\n",
            "**** Recommended movie No.:  5\n",
            "Movie Id:  1459\n",
            "Title:  ['The Pirates of Penzance']\n",
            "Genres:  ['\"Musical\",  \"Romance Film\",  \"Comedy\"']\n",
            "Summary:  Frederic  was sent in the care of his nursemaid, Ruth , to be apprenticed to a pilot. But she misunderstood her instructions, being hard of hearing, and apprenticed him instead to a pirate . Now he is turning 21 years old, and his service is finished, so he decides to leave the Pirates of Penzance. Ruth wants him to take her with him, but he soon meets some young maidens, the daughters of Major-General Stanley ([[George Rose , and realizes that Ruth is \"plain and old\". Frederic quickly falls in \n",
            "------------------\n",
            "**** Recommended movie No.:  6\n",
            "Movie Id:  4252\n",
            "Title:  ['Harsh Times']\n",
            "Genres:  ['\"Crime Fiction\",  \"Thriller\",  \"Gangster Film\",  \"Indie\",  \"Drama\",  \"Action\"']\n",
            "Summary:  Jim Davis  is an ex-Army Ranger who suffers from Post-traumatic Stress Disorder. Jim has a Mexican girlfriend, Marta , whom he is determined to marry, and bring into the United States to start a life together. With this in mind, Jim returns to Los Angeles. In L.A. he meets up with his best friend Mike Alonzo ([[Freddy Rodriguez . Mike's longtime girlfriend, Sylvia , a young attorney, is on the warpath over his failure to get a job  and she encourages Jim to help Mike hand out resumes. After bein\n",
            "------------------\n"
          ],
          "name": "stdout"
        }
      ]
    },
    {
      "cell_type": "markdown",
      "metadata": {
        "id": "yR4qYbT8qkF_"
      },
      "source": [
        "Προτεινει ταινιες με πρωταγωνιστές με όνομα 'Jim' που δεν ειναι επιθυμητό. Κάποιες από αυτές μοιράζονται και στοιχεία όπως θάλασσα και πλοία που είναι αποδεκτά. "
      ]
    },
    {
      "cell_type": "code",
      "metadata": {
        "id": "kv6krhJRqkGA",
        "outputId": "ebf20222-6283-4c2f-cd21-91dfb2944978"
      },
      "source": [
        "print_results(1985,6,cosine_sim)"
      ],
      "execution_count": null,
      "outputs": [
        {
          "output_type": "stream",
          "text": [
            "**** Target movie:  1985\n",
            "Title:  [\"Child's Play 2\"]\n",
            "Genres:  ['\"Thriller\",  \"Horror\",  \"Supernatural\",  \"Cult\",  \"Comedy\",  \"Slasher\"']\n",
            "Summary:   Two years have passed since the events of the first film. The Play Pals company has the original doll reconstructed for analysis. Mr. Sullivan, the CEO, meets with his assistant, Mattson, with regards to the doll's reconstruction.Mattson informs Mr. Sullivan that Andy has been placed in foster care and was taken away for a psychiatric evaluation, his mother has been taken to a Mental Hospital. He also informs Sullivan that someone at the company may have tampered with the doll's voice cassette.\n",
            "\n",
            "**** Brief description of recommended movies: \n",
            " [(3966, 0.5802189382819717), (316, 0.5642104679702756), (3753, 0.5560920490177745), (30, 0.5307374953933158), (1133, 0.48861401675154026), (377, 0.48495056910861717)]\n",
            "\n",
            "**** 6  most related movies based on content:\n",
            "**** Recommended movie No.:  1\n",
            "Movie Id:  3966\n",
            "Title:  [\"Before the Devil Knows You're Dead\"]\n",
            "Genres:  ['\"Thriller\",  \"Crime Fiction\",  \"Indie\",  \"Family Drama\",  \"Drama\",  \"Crime Thriller\"']\n",
            "Summary:  Note: The story is explained here in its chronological order, rather than as it is presented in the film. Andy Hanson  is a finance executive at a real estate firm in New York City. Facing an upcoming audit, which he knows will reveal that he has embezzled thousands from his employer, Andy decides to escape to Brazil , but desperately needs money to establish himself in Rio as he has spent all the money he stole paying for drugs. His brother Hank  needs money to pay child support  and his daught\n",
            "------------------\n",
            "**** Recommended movie No.:  2\n",
            "Movie Id:  316\n",
            "Title:  ['The Man']\n",
            "Genres:  ['\"Crime Fiction\",  \"Action/Adventure\",  \"Action\",  \"Buddy film\",  \"Comedy\"']\n",
            "Summary:   A man named Andy Fiddler  is in his bathroom, preparing a speech. He works for a dental supply company, and lives in Milwaukee, Wisconsin. He will soon be giving a speech to investors in Detroit. At Detroit, ATF agent Derrick Vann , whose partner was recently murdered, is trying to retrieve some guns that were stolen from a federal armory, and are soon to be sold. After a visit to his informant Booty  , he sets up a buy. He is to go to a diner and be reading a USA Today. Unfortunately, Andy is \n",
            "------------------\n",
            "**** Recommended movie No.:  3\n",
            "Movie Id:  3753\n",
            "Title:  [\"Child's Play 3\"]\n",
            "Genres:  ['\"Cult\",  \"Supernatural\",  \"Horror\",  \"Slasher\",  \"Comedy\"']\n",
            "Summary:  Eight years after the events of Child's Play 2, Play Pals  has recovered from bad publicity arising from Chucky's murder spree. The company releases a new line of Good Guy dolls and recycles Chucky's remains. However, the soul of serial killer Charles Lee Ray still inhabited the remains, and Chucky is soon revived in a new doll body. Chucky is unwittingly given to Play Pals' CEO Mr. Sullivan, whom Chucky tortures and kills using various instruments. He then uses computer records to relocate Andy\n",
            "------------------\n",
            "**** Recommended movie No.:  4\n",
            "Movie Id:  30\n",
            "Title:  ['An American Werewolf in Paris']\n",
            "Genres:  ['\"Horror\",  \"Comedy\",  \"Horror Comedy\"']\n",
            "Summary:  Andy McDermott is a tourist seeing the sights of Paris with his friends Brad and Chris. When Serafine Pigot leaps off the Eiffel Tower just before Andy is about to bungee jump, he executes a mid-air rescue. She vanishes into the night, leaving Andy intrigued – and also unaware that she is the daughter of David Kessler and Alex Price, the couple seen 16 years earlier in the first film. That night, Andy, Chris, and Brad attend a night club called \"Club de la Lune\". The club's owner, Claude, is act\n",
            "------------------\n",
            "**** Recommended movie No.:  5\n",
            "Movie Id:  1133\n",
            "Title:  [\"Child's Play\"]\n",
            "Genres:  ['\"Horror\",  \"Indie\",  \"Supernatural\",  \"Psychological thriller\",  \"Cult\",  \"Mystery\",  \"Slasher\"']\n",
            "Summary:  On November 9, 1988 in Chicago, Illinois, while being chased by homicide detective Mike Norris , serial killer Charles Lee Ray , also known as \"Chucky\" and \"The Lakeshore Strangler\", is shot and mortally wounded. Knowing he cannot escape, Charles takes cover inside a seemingly old toy store. He looms around until he falls on a stack of \"Good Guy\" themed dolls. He uses a voodoo ritual to transfer his soul into one of the dolls. The store is then struck by lightning and catches on fire; sending Mi\n",
            "------------------\n",
            "**** Recommended movie No.:  6\n",
            "Movie Id:  377\n",
            "Title:  ['Streets of Blood']\n",
            "Genres:  ['\"Thriller\",  \"Crime Fiction\",  \"Mystery\",  \"Drama\",  \"Crime Thriller\",  \"Action\"']\n",
            "Summary:  During the rage of Hurricane Katrina, Detective Andy Devereaux  discovers the body of his former partner in a close to underwater warehouse. Quickly forgetting about his discovery, he joins a newly transferred detective named Stan Johnson  trying to end a conflict involving looters. Post-Katrina, Andy and Stan are now partners. They work with corrupt detectives Pepe  and Barney , who are caught up in the murder of an undercover narcotics agent. Investigating the escalating police corruption in N\n",
            "------------------\n"
          ],
          "name": "stdout"
        }
      ]
    },
    {
      "cell_type": "code",
      "metadata": {
        "id": "tm32ao1OqkGH",
        "outputId": "011a935d-7c6e-4e96-bbd1-9025b127c828"
      },
      "source": [
        "print_results(3000,6, cosine_sim)"
      ],
      "execution_count": null,
      "outputs": [
        {
          "output_type": "stream",
          "text": [
            "**** Target movie:  3000\n",
            "Title:  ['Dr. Jekyll and Mr. Mouse']\n",
            "Genres:  ['\"Short Film\",  \"Comedy\"']\n",
            "Summary:    Near a basement window are two milk bottles. Through the basement window, Tom reaches for one of the bottles and then snatches it, rushing into the living room to pour it in his bowl and drink it but Jerry also wants Tom's milk. Tom makes various attempts to catch Jerry but when they all fail, the cat dreams up a murderous plot to rid himself of his annoyance. The next scene shows Tom mixing chemicals such as moth balls, acid, and poison into his milk. When Tom stirs the deadly elixir with a s\n",
            "\n",
            "**** Brief description of recommended movies: \n",
            " [(1357, 0.7630010365469245), (3717, 0.7242468810447604), (4118, 0.6878116467900162), (2610, 0.6867009188939446), (2518, 0.6475406899365704), (3106, 0.645191482163356)]\n",
            "\n",
            "**** 6  most related movies based on content:\n",
            "**** Recommended movie No.:  1\n",
            "Movie Id:  1357\n",
            "Title:  ['The Zoot Cat']\n",
            "Genres:  ['\"Family Film\",  \"Comedy\",  \"Animation\"']\n",
            "Summary:   The cartoon opens with a Valentine note to Toots from Tom with a pink ribbon tied to the card and the ribbon is tied to Jerry who is in a gift box. Meanwhile Tom is getting ready for a date with his whiskers in curlers and putting lard on the top of his head. He puts a little cologne on and even puts some on Jerry and then closes the box on him. He then proudly marches over to his female friend's house. Tom knocks on the door, rings the doorbell, and yells out, \"Yoo hoo! Hey Toots!\" Tom then dr\n",
            "------------------\n",
            "**** Recommended movie No.:  2\n",
            "Movie Id:  3717\n",
            "Title:  ['The Midnight Snack']\n",
            "Genres:  ['\"Short Film\",  \"Family Film\",  \"Comedy\",  \"Animation\"']\n",
            "Summary:   The cartoon takes place in a kitchen at midnight. Jerry pokes his head out of the refrigerator door and steals some cheese, unaware that Tom is watching him. Tom weighs the mouse down enough such that he can no longer see in front of him. After Jerry falls off from a rolling pin, Tom emerges from his hiding place with a smug face. Jerry \"salutes\" the cat and returns the slice of cheese to the refrigerator. He then proceeds to steal just a tiny bit of cheese, but Tom stomps on his tail with one \n",
            "------------------\n",
            "**** Recommended movie No.:  3\n",
            "Movie Id:  4118\n",
            "Title:  ['Texas Tom']\n",
            "Genres:  ['\"Western\",  \"Family Film\",  \"Animation\"']\n",
            "Summary:  Tom and Jerry are engaged in some Western-flavored cat-and-mouse games  when Tom spots a pretty cowgirl cat. Overcome with lust, Tom dresses up in his best cowboy duds and tries to impress the cowgirl, but Jerry sabotages his efforts. Tom takes out tobacco and rolls it up on a piece of paper, then uses Jerry's tongue to stick it closed, Tom smokes it and breathes out the smoke to spell \"Howdy\" as The cowgirl is flustered and giggly. At one point he sings a song for her on a guitar but has a reco\n",
            "------------------\n",
            "**** Recommended movie No.:  4\n",
            "Movie Id:  2610\n",
            "Title:  ['Down and Outing']\n",
            "Genres:  ['\"Comedy\"']\n",
            "Summary:   Tom accompanies his owner, Clint Clobber, who has severe anger management issues, on a fishing trip. Seeing this as the perfect opportunity to humiliate Tom, Jerry gathers some fishing supplies and tags along. While Clobber is loading the car with supplies, Tom is resting in the back of the car, when suddenly, Jerry throws a spare fishing pole at his head. He then grabs a fence out of the garden and uses it to climb into the car, but is met by Tom, who responds by catapulting him out of the veh\n",
            "------------------\n",
            "**** Recommended movie No.:  5\n",
            "Movie Id:  2518\n",
            "Title:  ['Buddies Thicker Than Water']\n",
            "Genres:  ['\"Comedy\"']\n",
            "Summary:  On a snowy night in New York City, Jerry is comfortably asleep in his hole inside a penthouse, while Tom tries to keep from freezing to death in the alley below, having been thrown out by the owner. He writes a note, slips it into a bottle, and throws it up to hit the penthouse window. Jerry, awakened by the noise, goes out to the balcony and finds both this note and a second one sent up by Tom:  Rushing to the alley, Jerry finds the frozen-solid Tom and drags him back upstairs on a trash can li\n",
            "------------------\n",
            "**** Recommended movie No.:  6\n",
            "Movie Id:  3106\n",
            "Title:  ['Cat and Dupli-cat']\n",
            "Genres:  ['\"Short Film\",  \"Family Film\",  \"Comedy\",  \"Animation\"']\n",
            "Summary:   Tom is rowing amongst some docks under the crescent moon, singing the Neapolitan ballad \"Santa Lucia\" the whole way in an operatic baritone voice. As he reaches the docks, he finds Jerry rowing in a small cup and mimicking him. Tom picks up the cup, steals some tea, sugar, and a spoon from a nearby cruise ship, and covers Jerry with both before he can finish. Tom then begins to drink the Jerry-tea, but an orange cat  pulls on Tom's tail, points at an empty plate, and holds his hand out as if to\n",
            "------------------\n"
          ],
          "name": "stdout"
        }
      ]
    },
    {
      "cell_type": "code",
      "metadata": {
        "id": "AfBfknVRqkGJ",
        "outputId": "cc64923b-3e86-4695-a7bd-5be5f291209f"
      },
      "source": [
        "print_results(3000,6, cosine_sim)"
      ],
      "execution_count": null,
      "outputs": [
        {
          "output_type": "stream",
          "text": [
            "[(1357, 0.7630010365469245), (3717, 0.7242468810447604), (4118, 0.6878116467900162), (2610, 0.6867009188939446), (2518, 0.6475406899365704), (3106, 0.645191482163356)]\n",
            "['Dr. Jekyll and Mr. Mouse'] \n",
            "   Near a basement window are two milk bottles. Through the basement window, Tom reaches for one of the bottles and then snatches it, rushing into the living room to pour it in his bowl and drink it but Jerry also wants Tom's milk. Tom makes various attempts to catch Jerry but when they all fail, the cat dreams up a murderous plot to rid himself of his annoyance. The next scene shows Tom mixing chemicals such as moth balls, acid, and poison into his milk. When Tom stirs the deadly elixir with a s\n",
            "-----------------\n",
            "['The Zoot Cat'] \n",
            "  The cartoon opens with a Valentine note to Toots from Tom with a pink ribbon tied to the card and the ribbon is tied to Jerry who is in a gift box. Meanwhile Tom is getting ready for a date with his whiskers in curlers and putting lard on the top of his head. He puts a little cologne on and even puts some on Jerry and then closes the box on him. He then proudly marches over to his female friend's house. Tom knocks on the door, rings the doorbell, and yells out, \"Yoo hoo! Hey Toots!\" Tom then dr\n",
            "-----------------\n",
            "['The Midnight Snack'] \n",
            "  The cartoon takes place in a kitchen at midnight. Jerry pokes his head out of the refrigerator door and steals some cheese, unaware that Tom is watching him. Tom weighs the mouse down enough such that he can no longer see in front of him. After Jerry falls off from a rolling pin, Tom emerges from his hiding place with a smug face. Jerry \"salutes\" the cat and returns the slice of cheese to the refrigerator. He then proceeds to steal just a tiny bit of cheese, but Tom stomps on his tail with one \n",
            "-----------------\n",
            "['Texas Tom'] \n",
            " Tom and Jerry are engaged in some Western-flavored cat-and-mouse games  when Tom spots a pretty cowgirl cat. Overcome with lust, Tom dresses up in his best cowboy duds and tries to impress the cowgirl, but Jerry sabotages his efforts. Tom takes out tobacco and rolls it up on a piece of paper, then uses Jerry's tongue to stick it closed, Tom smokes it and breathes out the smoke to spell \"Howdy\" as The cowgirl is flustered and giggly. At one point he sings a song for her on a guitar but has a reco\n",
            "-----------------\n",
            "['Down and Outing'] \n",
            "  Tom accompanies his owner, Clint Clobber, who has severe anger management issues, on a fishing trip. Seeing this as the perfect opportunity to humiliate Tom, Jerry gathers some fishing supplies and tags along. While Clobber is loading the car with supplies, Tom is resting in the back of the car, when suddenly, Jerry throws a spare fishing pole at his head. He then grabs a fence out of the garden and uses it to climb into the car, but is met by Tom, who responds by catapulting him out of the veh\n",
            "-----------------\n",
            "['Buddies Thicker Than Water'] \n",
            " On a snowy night in New York City, Jerry is comfortably asleep in his hole inside a penthouse, while Tom tries to keep from freezing to death in the alley below, having been thrown out by the owner. He writes a note, slips it into a bottle, and throws it up to hit the penthouse window. Jerry, awakened by the noise, goes out to the balcony and finds both this note and a second one sent up by Tom:  Rushing to the alley, Jerry finds the frozen-solid Tom and drags him back upstairs on a trash can li\n",
            "-----------------\n",
            "['Cat and Dupli-cat'] \n",
            "  Tom is rowing amongst some docks under the crescent moon, singing the Neapolitan ballad \"Santa Lucia\" the whole way in an operatic baritone voice. As he reaches the docks, he finds Jerry rowing in a small cup and mimicking him. Tom picks up the cup, steals some tea, sugar, and a spoon from a nearby cruise ship, and covers Jerry with both before he can finish. Tom then begins to drink the Jerry-tea, but an orange cat  pulls on Tom's tail, points at an empty plate, and holds his hand out as if to\n",
            "-----------------\n"
          ],
          "name": "stdout"
        }
      ]
    },
    {
      "cell_type": "markdown",
      "metadata": {
        "id": "JU71Jt4DqkGM"
      },
      "source": [
        "Υπάρχουν στοιχεία που το σύστημα εκλαμβάνει ως ομοιότητα περιεχομένου ενώ επί της ουσίας δεν είναι επιθυμητό να συνυπολογίζονται (όπως για παράδειγμα τα ονόματα των πρωταγωνιστών).\n",
        "\n",
        "Για να δημιουργηθεί η λίστα με τέτοια στοιχεία, τυπώνεται το vocabulary του Vectorizer."
      ]
    },
    {
      "cell_type": "code",
      "metadata": {
        "id": "iYqJNHw9qkGN",
        "outputId": "4e7e50d6-6e32-4e49-bd4b-1e09e478f1c2"
      },
      "source": [
        "vocabulary = vectorizer.get_feature_names()\n",
        "print(len(vocabulary))\n",
        "print(vocabulary)"
      ],
      "execution_count": null,
      "outputs": [
        {
          "output_type": "stream",
          "text": [
            "6000\n",
            "['00', '000', '01', '06', '08', '10', '100', '11', '12', '13', '14', '15', '16', '17', '18', '19', '1920', '1930', '1939', '1940', '1942', '1943', '1944', '1945', '1950', '1960', '1966', '1968', '1969', '1970', '1972', '1973', '1975', '1979', '1980', '1982', '1984', '1988', '1989', '1990', '1991', '1995', '1998', '1999', '19th', '20', '200', '2000', '2001', '2002', '2003', '2004', '2005', '2006', '2007', '2008', '2009', '2010', '2011', '2012', '20th', '21', '22', '23', '24', '25', '27', '28', '29', '30', '300', '31', '35', '38', '40', '400', '45', '48', '50', '500', '52', '60', '70', '72', '7th', '80', '90', 'abandon', 'abdomen', 'abduct', 'abil', 'abl', 'abnorm', 'aboard', 'aborigin', 'abort', 'abraham', 'abroad', 'abruptli', 'absenc', 'absent', 'absolut', 'absorb', 'absurd', 'abus', 'academ', 'academi', 'acceler', 'accent', 'accept', 'access', 'accid', 'accident', 'accommod', 'accompani', 'accomplic', 'accomplish', 'accord', 'accordingli', 'accost', 'account', 'accus', 'ace', 'achiev', 'acid', 'acknowledg', 'acp', 'acquaint', 'acquir', 'acquit', 'act', 'action', 'activ', 'activist', 'actor', 'actress', 'actual', 'ad', 'adam', 'adapt', 'add', 'addict', 'addit', 'address', 'adjac', 'adjust', 'administ', 'administr', 'admir', 'admiss', 'admit', 'adolesc', 'adolf', 'adopt', 'ador', 'adrian', 'adult', 'advanc', 'advantag', 'adventur', 'adversari', 'advertis', 'advic', 'advis', 'advisor', 'advoc', 'aerial', 'affair', 'affect', 'affection', 'afflict', 'affluent', 'afford', 'afraid', 'africa', 'african', 'aft', 'afterlif', 'aftermath', 'afternoon', 'afterward', 'ag', 'age', 'agenc', 'agenda', 'agent', 'aggress', 'agit', 'ago', 'agoni', 'agre', 'agreement', 'ahead', 'ai', 'aid', 'ail', 'aim', 'air', 'aircraft', 'airlin', 'airplan', 'airport', 'ajay', 'aka', 'al', 'alan', 'alarm', 'alaska', 'albeit', 'albert', 'album', 'alcohol', 'alert', 'alex', 'alexand', 'alfr', 'ali', 'alia', 'alibi', 'alic', 'alien', 'alik', 'aliv', 'allan', 'alleg', 'allegedli', 'allen', 'alley', 'alli', 'allianc', 'allison', 'allow', 'alon', 'alongsid', 'aloud', 'alreadi', 'alright', 'altar', 'alter', 'altern', 'alway', 'amanda', 'amar', 'amateur', 'amaz', 'ambassador', 'ambigu', 'ambit', 'ambiti', 'ambul', 'ambush', 'amend', 'america', 'american', 'ami', 'amid', 'amidst', 'ammunit', 'amnesia', 'amor', 'amus', 'analysi', 'analyz', 'anand', 'ancestor', 'ancestr', 'anchor', 'ancient', 'anderson', 'andi', 'andrea', 'andrew', 'android', 'angel', 'angela', 'anger', 'angri', 'angrili', 'anguish', 'anim', 'animos', 'anita', 'anjali', 'ankl', 'ann', 'anna', 'anni', 'anniversari', 'announc', 'annoy', 'annual', 'anonym', 'anoth', 'answer', 'ant', 'antagon', 'antagonist', 'anthoni', 'anthropomorph', 'anti', 'antic', 'anticip', 'antidot', 'antiqu', 'anton', 'anxieti', 'anxiou', 'anybodi', 'anymor', 'anyon', 'anyth', 'anywher', 'apart', 'ape', 'apocalypt', 'apollo', 'apolog', 'apologis', 'appal', 'appar', 'apparit', 'appeal', 'appear', 'appeas', 'appl', 'applaud', 'applaus', 'appli', 'applianc', 'applic', 'appoint', 'appreci', 'apprehend', 'apprentic', 'approach', 'appropri', 'approv', 'april', 'arab', 'arch', 'archaeologist', 'archer', 'archi', 'architect', 'architectur', 'archiv', 'arctic', 'area', 'arena', 'argentina', 'argu', 'argument', 'aris', 'aristocrat', 'arizona', 'arjun', 'arm', 'armi', 'armor', 'arnold', 'arous', 'arrang', 'array', 'arrest', 'arriv', 'arrog', 'arrow', 'art', 'arthur', 'articl', 'artifact', 'artifici', 'artilleri', 'artist', 'artwork', 'ascend', 'ash', 'asham', 'ashok', 'ashor', 'asia', 'asian', 'asid', 'ask', 'asleep', 'aspect', 'aspir', 'ass', 'assail', 'assassin', 'assault', 'assembl', 'assert', 'asset', 'assign', 'assist', 'associ', 'assort', 'assum', 'assumpt', 'assur', 'astonish', 'astronaut', 'asylum', 'athlet', 'atlant', 'atlanta', 'atmospher', 'atom', 'atop', 'atroc', 'attach', 'attack', 'attain', 'attempt', 'attend', 'attent', 'attic', 'attitud', 'attorney', 'attract', 'attribut', 'auction', 'audienc', 'audio', 'audit', 'audrey', 'august', 'aunt', 'austin', 'australia', 'australian', 'austria', 'authent', 'author', 'auto', 'automat', 'automobil', 'autopsi', 'autumn', 'avail', 'avalanch', 'aveng', 'averag', 'avoid', 'aw', 'await', 'awak', 'awaken', 'awar', 'award', 'away', 'awkward', 'awri', 'ax', 'axe', 'baba', 'babi', 'babu', 'babysit', 'babysitt', 'bachelor', 'backdrop', 'backfir', 'background', 'backstag', 'backup', 'backward', 'backyard', 'bad', 'badg', 'badli', 'baffl', 'bag', 'bail', 'bailey', 'bait', 'bake', 'baker', 'balanc', 'balconi', 'bald', 'ball', 'ballet', 'balloon', 'balu', 'ban', 'band', 'bandag', 'bandit', 'bang', 'bangkok', 'banish', 'bank', 'banker', 'bankrupt', 'bankruptci', 'banquet', 'bar', 'barb', 'barbara', 'barber', 'bare', 'barg', 'bargain', 'bark', 'barn', 'barney', 'baron', 'barrel', 'barren', 'barri', 'barricad', 'barrier', 'bartend', 'bas', 'base', 'basebal', 'basement', 'bash', 'basi', 'basic', 'basket', 'basketbal', 'bat', 'bath', 'bathroom', 'bathtub', 'batter', 'batteri', 'battl', 'battlefield', 'baxter', 'bay', 'beach', 'beam', 'bean', 'bear', 'beard', 'beast', 'beat', 'beaten', 'beau', 'beauti', 'becam', 'beck', 'becom', 'bed', 'bedroom', 'bedsid', 'bee', 'beer', 'befriend', 'beg', 'began', 'beggar', 'begin', 'begun', 'behalf', 'behav', 'behavior', 'behaviour', 'behead', 'beij', 'belief', 'believ', 'bell', 'belong', 'belov', 'belt', 'bemus', 'ben', 'bench', 'bend', 'beneath', 'benefit', 'bengal', 'bengali', 'benjamin', 'benni', 'benson', 'bent', 'berat', 'berlin', 'bernard', 'berni', 'berserk', 'beset', 'besid', 'besieg', 'best', 'bet', 'beth', 'betray', 'betroth', 'better', 'betti', 'beverli', 'bewild', 'bfi', 'bi', 'bibl', 'biblic', 'bicker', 'bicycl', 'bid', 'big', 'bigger', 'biggest', 'bike', 'biker', 'billboard', 'billi', 'billion', 'billionair', 'bin', 'bind', 'bing', 'biolog', 'biologist', 'bird', 'birth', 'birthday', 'bishop', 'bit', 'bite', 'bitten', 'bitter', 'bitterli', 'bizarr', 'black', 'blackmail', 'blackout', 'blade', 'blair', 'blake', 'blame', 'blank', 'blanket', 'blast', 'bleak', 'bleed', 'blend', 'bless', 'blind', 'bliss', 'block', 'blond', 'blood', 'bloodi', 'bloom', 'blossom', 'blow', 'blown', 'blue', 'bluff', 'blur', 'bo', 'board', 'boast', 'boat', 'bob', 'bobbi', 'bodi', 'bodyguard', 'boil', 'bold', 'bollywood', 'bolt', 'bomb', 'bombay', 'bomber', 'bond', 'bone', 'bonu', 'boobi', 'book', 'boom', 'boon', 'boost', 'boot', 'booth', 'border', 'bore', 'bori', 'born', 'borrow', 'boss', 'boston', 'botch', 'bother', 'bottl', 'bought', 'boulder', 'bounc', 'bound', 'bounti', 'bouquet', 'bourgeoi', 'bout', 'bow', 'bowl', 'box', 'boxer', 'boy', 'boyfriend', 'bracelet', 'brad', 'brag', 'brahmin', 'brain', 'brainwash', 'brake', 'branch', 'brand', 'brandish', 'brave', 'braveri', 'brawl', 'brazil', 'brazilian', 'bread', 'break', 'breakdown', 'breakfast', 'breakup', 'breast', 'breath', 'breed', 'brenda', 'brew', 'brian', 'bribe', 'brick', 'bride', 'bridg', 'brief', 'briefcas', 'briefli', 'bright', 'brilliant', 'bring', 'brink', 'britain', 'british', 'broadcast', 'broadway', 'broke', 'broken', 'brook', 'brooklyn', 'brothel', 'brother', 'brought', 'brown', 'bruce', 'bruis', 'bruno', 'brush', 'brutal', 'bu', 'bubbl', 'bucket', 'bud', 'buddhist', 'buddi', 'budget', 'buffalo', 'bug', 'build', 'built', 'bulb', 'bull', 'bullet', 'bulli', 'bum', 'bumbl', 'bump', 'bunch', 'bungalow', 'bunker', 'bunni', 'burden', 'bureau', 'burglar', 'burglari', 'buri', 'burial', 'burk', 'burn', 'burnt', 'burst', 'bush', 'busi', 'businessman', 'businessmen', 'bust', 'butcher', 'butler', 'butt', 'butterfli', 'button', 'buy', 'buyer', 'buzz', 'ca', 'cab', 'cabaret', 'cabin', 'cabinet', 'cabl', 'cadet', 'cadillac', 'caesar', 'cafe', 'cafeteria', 'cage', 'cake', 'cal', 'calcul', 'calcutta', 'california', 'calm', 'calmli', 'came', 'cameo', 'camera', 'cameraman', 'camp', 'campaign', 'campbel', 'camper', 'campu', 'canada', 'canadian', 'canal', 'cancel', 'cancer', 'candi', 'candid', 'candl', 'cane', 'cannib', 'cannon', 'canyon', 'cap', 'capabl', 'capac', 'cape', 'capit', 'capsiz', 'capt', 'captain', 'captiv', 'captor', 'captur', 'car', 'card', 'cardin', 'care', 'career', 'carefre', 'caretak', 'cargo', 'caribbean', 'carl', 'carla', 'carlo', 'carnag', 'carniv', 'carol', 'carolin', 'carolina', 'carpent', 'carri', 'carriag', 'carrier', 'carrol', 'carrot', 'cart', 'carter', 'cartoon', 'carv', 'case', 'casey', 'cash', 'casino', 'cassett', 'cast', 'castl', 'casual', 'casualti', 'cat', 'catapult', 'catastroph', 'cataton', 'catch', 'catcher', 'cater', 'cathedr', 'catherin', 'cathi', 'cathol', 'cattl', 'caught', 'caus', 'caution', 'cautiou', 'cavalri', 'cave', 'ceas', 'ceil', 'celebr', 'cell', 'cellar', 'cemeteri', 'cent', 'center', 'centr', 'central', 'centuri', 'ceo', 'ceremoni', 'certain', 'chagrin', 'chain', 'chainsaw', 'chair', 'chairman', 'chakraborti', 'challeng', 'chamber', 'champagn', 'champion', 'championship', 'chan', 'chanc', 'chang', 'channel', 'chant', 'chao', 'chapter', 'charact', 'characterist', 'charad', 'charg', 'charismat', 'chariti', 'charl', 'charley', 'charli', 'charlott', 'charm', 'chart', 'chase', 'chastis', 'chat', 'chauffeur', 'cheap', 'cheat', 'check', 'cheek', 'cheer', 'cheerlead', 'chees', 'chef', 'chemic', 'chemistri', 'chen', 'chennai', 'chess', 'chest', 'chew', 'chi', 'chicago', 'chick', 'chicken', 'chief', 'child', 'childhood', 'childish', 'chimney', 'chimpanze', 'china', 'chines', 'chip', 'chocol', 'choic', 'choke', 'choos', 'chop', 'choru', 'chose', 'chosen', 'chri', 'christ', 'christian', 'christin', 'christina', 'christma', 'christoph', 'chronicl', 'chronolog', 'chuck', 'church', 'cia', 'cigar', 'cigarett', 'cinema', 'circl', 'circu', 'circuit', 'circumst', 'cite', 'citi', 'citizen', 'civil', 'civilian', 'clad', 'claim', 'clair', 'clan', 'clandestin', 'clark', 'clash', 'class', 'classic', 'classifi', 'classmat', 'classroom', 'clau', 'claud', 'claw', 'clay', 'clean', 'cleaner', 'clear', 'clearli', 'clerk', 'clever', 'client', 'cliff', 'climact', 'climat', 'climax', 'climb', 'cling', 'clinic', 'clip', 'clock', 'clone', 'close', 'closer', 'closest', 'closet', 'closur', 'cloth', 'cloud', 'clown', 'club', 'clue', 'clumsi', 'clutch', 'coach', 'coal', 'coast', 'coat', 'coax', 'cocain', 'cocktail', 'code', 'coerc', 'coffe', 'coffin', 'cohort', 'coin', 'coincid', 'coincident', 'col', 'cold', 'coldli', 'cole', 'colin', 'collabor', 'collaps', 'collar', 'colleagu', 'collect', 'collector', 'colleg', 'collid', 'collin', 'collis', 'colon', 'colonel', 'coloni', 'color', 'colorado', 'colour', 'column', 'com', 'coma', 'combat', 'combin', 'come', 'comeback', 'comed', 'comedi', 'comet', 'comfort', 'comic', 'command', 'commando', 'commenc', 'comment', 'commentari', 'commerci', 'commiss', 'commission', 'commit', 'committe', 'common', 'commot', 'commun', 'communist', 'compani', 'companion', 'companionship', 'compar', 'compart', 'compass', 'compel', 'compens', 'compet', 'competit', 'competitor', 'complain', 'complaint', 'complet', 'complex', 'compli', 'complic', 'compos', 'composit', 'compound', 'compromis', 'compuls', 'comput', 'comrad', 'conceal', 'conced', 'conceiv', 'concentr', 'concept', 'concern', 'concert', 'conclud', 'conclus', 'concoct', 'concret', 'condemn', 'condit', 'conduct', 'conductor', 'confeder', 'confer', 'confess', 'confid', 'confin', 'confirm', 'confisc', 'conflict', 'confront', 'confus', 'congratul', 'congress', 'connect', 'conniv', 'connor', 'conquer', 'conquest', 'conscienc', 'consciou', 'conscious', 'consent', 'consequ', 'conserv', 'consid', 'consider', 'consist', 'consol', 'conspir', 'conspiraci', 'constabl', 'constant', 'constantli', 'construct', 'consult', 'consum', 'consumm', 'contact', 'contain', 'contamin', 'contempl', 'contemporari', 'contend', 'content', 'contest', 'contin', 'continu', 'contract', 'contractor', 'contrari', 'contrast', 'contribut', 'control', 'controversi', 'conveni', 'convent', 'converg', 'convers', 'convert', 'convey', 'convict', 'convinc', 'convoy', 'cook', 'cooki', 'cool', 'cooper', 'coordin', 'cop', 'cope', 'copi', 'cord', 'core', 'corn', 'corner', 'coron', 'corp', 'corpor', 'corps', 'correct', 'correctli', 'correspond', 'corridor', 'corrupt', 'cosmet', 'cosmic', 'cost', 'costum', 'cottag', 'cotton', 'couch', 'cough', 'council', 'counsel', 'counselor', 'count', 'counter', 'counterfeit', 'counterpart', 'countess', 'counti', 'countless', 'countri', 'countrysid', 'coup', 'coupl', 'courag', 'courier', 'cours', 'court', 'courtesan', 'courthous', 'courtroom', 'courtship', 'courtyard', 'cousin', 'cover', 'cow', 'cowardic', 'cowardli', 'cowboy', 'cowork', 'cox', 'coyot', 'crack', 'craft', 'craig', 'crane', 'crash', 'crate', 'crave', 'crawl', 'craze', 'crazi', 'cream', 'creat', 'creation', 'creativ', 'creator', 'creatur', 'credit', 'creditor', 'creek', 'crew', 'crewman', 'cri', 'cricket', 'crime', 'crimin', 'crippl', 'crisi', 'critic', 'crocodil', 'croni', 'crook', 'crop', 'cross', 'crow', 'crowd', 'crown', 'crucial', 'crucifix', 'crude', 'cruel', 'cruelti', 'cruis', 'crumbl', 'crusad', 'crush', 'crypt', 'cryptic', 'crystal', 'cub', 'cuba', 'cuban', 'cue', 'culmin', 'culprit', 'cult', 'cultur', 'cun', 'cup', 'cure', 'curios', 'curiou', 'curl', 'curli', 'current', 'curs', 'curtain', 'curti', 'custodi', 'custom', 'cut', 'cute', 'cyborg', 'cycl', 'cynic', 'da', 'dad', 'daddi', 'dagger', 'daili', 'daisi', 'dakota', 'dale', 'dalla', 'dam', 'damag', 'damn', 'dan', 'danc', 'dancer', 'danger', 'dangl', 'daniel', 'danish', 'danni', 'dare', 'dark', 'darken', 'darker', 'dart', 'dash', 'data', 'databas', 'date', 'daughter', 'dave', 'davi', 'david', 'dawn', 'day', 'daydream', 'daylight', 'daze', 'deactiv', 'dead', 'deadli', 'deadlin', 'deaf', 'deal', 'dealer', 'dean', 'dear', 'death', 'deathb', 'debat', 'debbi', 'debri', 'debt', 'debut', 'decad', 'decapit', 'decay', 'deceas', 'deceit', 'deceiv', 'decemb', 'decent', 'decept', 'decid', 'decim', 'deciph', 'decis', 'deck', 'declar', 'declin', 'decor', 'decoy', 'dedic', 'deduc', 'deed', 'deem', 'deep', 'deepen', 'deeper', 'deepli', 'deer', 'defeat', 'defect', 'defenc', 'defend', 'defens', 'defi', 'defianc', 'defiant', 'defin', 'definit', 'deflect', 'deform', 'defus', 'degrad', 'degre', 'deject', 'delay', 'delet', 'delhi', 'deliber', 'delight', 'deliri', 'deliv', 'deliveri', 'delta', 'delus', 'delusion', 'demand', 'demeanor', 'demis', 'democrat', 'demolish', 'demolit', 'demon', 'demonstr', 'demot', 'den', 'deni', 'denni', 'denounc', 'dentist', 'denver', 'depart', 'departur', 'depend', 'depict', 'deploy', 'deport', 'deposit', 'depress', 'depriv', 'depth', 'deputi', 'derang', 'derelict', 'deriv', 'descend', 'descent', 'describ', 'descript', 'desert', 'deserv', 'design', 'desir', 'desk', 'desol', 'despair', 'desper', 'despis', 'despit', 'despond', 'destin', 'destini', 'destitut', 'destroy', 'destruct', 'detach', 'detain', 'detect', 'detent', 'deterior', 'determin', 'detest', 'deton', 'detroit', 'devast', 'develop', 'devi', 'devic', 'devil', 'devis', 'devot', 'devour', 'diagnos', 'diagnosi', 'dialogu', 'diamond', 'dian', 'diana', 'diari', 'dick', 'dictat', 'die', 'diego', 'diet', 'differ', 'difficult', 'difficulti', 'dig', 'digger', 'dilapid', 'dilemma', 'dilig', 'dim', 'dimens', 'dimension', 'diminish', 'dine', 'diner', 'dinner', 'dinosaur', 'dip', 'diplomat', 'dire', 'direct', 'directli', 'director', 'dirt', 'dirti', 'disabl', 'disagr', 'disagre', 'disappear', 'disappoint', 'disapprov', 'disarm', 'disast', 'disastr', 'disbelief', 'disc', 'discard', 'discharg', 'discipl', 'disciplin', 'disclos', 'disco', 'disconnect', 'discourag', 'discov', 'discoveri', 'discreetli', 'discu', 'discuss', 'disdain', 'diseas', 'disfigur', 'disgrac', 'disgruntl', 'disguis', 'disgust', 'dish', 'disillus', 'disintegr', 'dislik', 'dismantl', 'dismay', 'dismemb', 'dismiss', 'disobey', 'disord', 'disown', 'dispatch', 'dispers', 'display', 'dispos', 'disput', 'disregard', 'disrespect', 'disrupt', 'dissatisfi', 'dissolv', 'dissuad', 'distanc', 'distant', 'distinct', 'distinguish', 'distort', 'distract', 'distraught', 'distress', 'distribut', 'district', 'distrust', 'disturb', 'ditch', 'dive', 'diver', 'divers', 'divert', 'divid', 'divin', 'divis', 'divorc', 'divulg', 'dj', 'dna', 'doc', 'dock', 'doctor', 'document', 'documentari', 'dodg', 'dog', 'doll', 'dollar', 'domest', 'domin', 'don', 'donald', 'donat', 'donkey', 'donor', 'doom', 'door', 'doorstep', 'doorway', 'dori', 'dorothi', 'dose', 'dote', 'doubl', 'double', 'doubt', 'doug', 'dougla', 'downfal', 'downstair', 'downtown', 'downward', 'doyl', 'dozen', 'dr', 'draft', 'drag', 'dragon', 'drain', 'drama', 'dramat', 'drastic', 'draw', 'drawn', 'dread', 'dream', 'dress', 'drew', 'dri', 'drift', 'drifter', 'drill', 'drink', 'drive', 'driven', 'driver', 'drop', 'drought', 'drove', 'drown', 'drug', 'drum', 'drunk', 'drunkard', 'drunken', 'drunkenli', 'dub', 'dubai', 'duck', 'duel', 'duet', 'dug', 'duke', 'dull', 'dumb', 'dump', 'duncan', 'dungeon', 'duo', 'dupe', 'duplic', 'dust', 'dutch', 'duti', 'dvd', 'dwarf', 'dwell', 'dy', 'dynam', 'dynamit', 'dysfunct', 'eager', 'eagerli', 'eagl', 'ear', 'earl', 'earli', 'earlier', 'earn', 'earth', 'earthquak', 'eas', 'easi', 'easili', 'east', 'eastern', 'eat', 'eaten', 'eavesdrop', 'eccentr', 'echo', 'eclips', 'econom', 'economi', 'ecstat', 'ed', 'eddi', 'edg', 'edgar', 'edit', 'editor', 'educ', 'edward', 'effect', 'effici', 'effort', 'egg', 'ego', 'egypt', 'egyptian', 'eighteen', 'eject', 'el', 'elabor', 'elain', 'elder', 'elderli', 'eldest', 'elect', 'electr', 'electrocut', 'electron', 'eleg', 'element', 'elementari', 'eleph', 'elev', 'elimin', 'elit', 'elizabeth', 'ellen', 'elli', 'elmer', 'elop', 'els', 'elsewher', 'elud', 'elus', 'elvi', 'embark', 'embarrass', 'embassi', 'embezzl', 'embitt', 'embrac', 'embroil', 'emerg', 'emigr', 'emil', 'emili', 'emit', 'emma', 'emot', 'emperor', 'emphas', 'empir', 'employ', 'employe', 'empress', 'empti', 'emul', 'en', 'enabl', 'enact', 'enamor', 'enchant', 'encount', 'encourag', 'end', 'endang', 'endless', 'endors', 'endur', 'enemi', 'energi', 'enforc', 'engag', 'engin', 'england', 'english', 'englishman', 'engulf', 'enhanc', 'enigmat', 'enjoy', 'enlist', 'enorm', 'enrag', 'enrol', 'enslav', 'ensu', 'ensur', 'ent', 'entangl', 'enter', 'entertain', 'enthusiasm', 'enthusiast', 'entic', 'entir', 'entiti', 'entitl', 'entranc', 'entrepreneur', 'entri', 'entrust', 'envelop', 'envi', 'environ', 'environment', 'epic', 'epilogu', 'episod', 'equal', 'equip', 'er', 'era', 'erad', 'eras', 'erect', 'eric', 'erik', 'erni', 'erot', 'errat', 'error', 'erupt', 'escal', 'escap', 'escapad', 'escort', 'especi', 'espionag', 'essenti', 'establish', 'estat', 'esteem', 'estim', 'estrang', 'etern', 'ethic', 'ethnic', 'eun', 'europ', 'european', 'eva', 'evacu', 'evad', 'evalu', 'evan', 'eve', 'evelyn', 'event', 'eventu', 'everi', 'everybodi', 'everyday', 'everyon', 'everyth', 'everywher', 'evict', 'evid', 'evil', 'evolv', 'ex', 'exact', 'exactli', 'exam', 'examin', 'exampl', 'exasper', 'excel', 'excess', 'exchang', 'excit', 'excitedli', 'exclaim', 'exclus', 'excus', 'execut', 'execution', 'exercis', 'exhaust', 'exhibit', 'exil', 'exist', 'exit', 'exoner', 'exorc', 'exot', 'expand', 'expect', 'expedit', 'expel', 'expens', 'experi', 'experienc', 'experiment', 'expert', 'expertis', 'expir', 'explain', 'explan', 'explod', 'exploit', 'explor', 'explos', 'expos', 'exposur', 'express', 'extend', 'extens', 'extent', 'exterior', 'extermin', 'extinct', 'extinguish', 'extort', 'extra', 'extract', 'extramarit', 'extraordinari', 'extraterrestri', 'extrem', 'ey', 'eye', 'eyesight', 'fabric', 'fac', 'face', 'facil', 'fact', 'faction', 'factori', 'faculti', 'fade', 'fail', 'failur', 'faint', 'fair', 'fairi', 'faith', 'fake', 'fall', 'fallen', 'fals', 'fame', 'famili', 'familiar', 'famou', 'fan', 'fanat', 'fanci', 'fantas', 'fantasi', 'far', 'farewel', 'farm', 'farmer', 'farmhous', 'fascin', 'fashion', 'fast', 'faster', 'fat', 'fatal', 'fate', 'father', 'fault', 'favor', 'favorit', 'favour', 'favourit', 'fay', 'fbi', 'fear', 'fearless', 'feast', 'feather', 'featur', 'februari', 'fed', 'feder', 'fee', 'feed', 'feel', 'feign', 'felix', 'fell', 'fellow', 'felt', 'femal', 'feminin', 'feminist', 'fenc', 'fend', 'fernando', 'ferri', 'fertil', 'festiv', 'fetch', 'feud', 'fever', 'fianc', 'fiance', 'fiancé', 'fiction', 'fictiti', 'field', 'fierc', 'fieri', 'fifth', 'fifti', 'fight', 'fighter', 'figur', 'fil', 'file', 'film', 'filmmak', 'filthi', 'final', 'financ', 'financi', 'fine', 'finger', 'fingerprint', 'finish', 'firearm', 'firefight', 'fireplac', 'firework', 'firm', 'firmli', 'fish', 'fisher', 'fisherman', 'fist', 'fit', 'fitzgerald', 'fix', 'flag', 'flamboy', 'flame', 'flare', 'flash', 'flashback', 'flashlight', 'flat', 'flaw', 'fled', 'flee', 'fleet', 'flesh', 'flew', 'fli', 'flick', 'flight', 'fling', 'flip', 'flirt', 'flirtat', 'flirtati', 'float', 'flock', 'flood', 'floor', 'florida', 'flow', 'flower', 'flown', 'fluid', 'flush', 'flyer', 'focu', 'focus', 'foe', 'fog', 'foil', 'fold', 'folk', 'follow', 'fond', 'food', 'fool', 'foot', 'footag', 'footbal', 'footstep', 'forbid', 'forbidden', 'forc', 'forcibl', 'ford', 'forehead', 'foreign', 'foreman', 'foreshadow', 'forest', 'forev', 'forg', 'forget', 'forgiv', 'forgiven', 'forgot', 'forgotten', 'fork', 'form', 'formal', 'format', 'formerli', 'formula', 'fort', 'forth', 'forti', 'fortress', 'fortun', 'forward', 'foster', 'fought', 'foul', 'foundat', 'fountain', 'fourteen', 'fourth', 'fox', 'fractur', 'fragil', 'fragment', 'frame', 'franc', 'franci', 'francisco', 'franco', 'frank', 'frankenstein', 'franki', 'franklin', 'frantic', 'franz', 'fratern', 'fraud', 'fray', 'fre', 'freak', 'fred', 'freddi', 'frederick', 'free', 'freed', 'freedom', 'freez', 'french', 'frenchman', 'frenzi', 'frequent', 'fresh', 'fri', 'friction', 'friday', 'friend', 'friendli', 'friendship', 'fright', 'frighten', 'frontier', 'frozen', 'fruit', 'frustrat', 'fu', 'fuck', 'fuel', 'fugit', 'fulfil', 'fulli', 'fun', 'function', 'fund', 'funer', 'funni', 'fur', 'furi', 'furiou', 'furious', 'furnitur', 'furthermor', 'fuse', 'futil', 'futur', 'ga', 'gabriel', 'gadget', 'gag', 'gail', 'gain', 'galaxi', 'gale', 'galleri', 'gambl', 'gambler', 'game', 'gang', 'gangster', 'gap', 'garag', 'garbag', 'garden', 'gari', 'gasolin', 'gate', 'gather', 'gave', 'gay', 'gaze', 'gear', 'gener', 'genet', 'geniu', 'gentl', 'gentleman', 'gentli', 'genuin', 'georg', 'georgia', 'gerald', 'german', 'germani', 'gestur', 'getaway', 'ghost', 'ghostli', 'giant', 'gift', 'gig', 'gigant', 'gil', 'gilbert', 'gina', 'girl', 'girlfriend', 'given', 'glad', 'glamor', 'glanc', 'glass', 'glide', 'glimps', 'gloat', 'global', 'globe', 'gloomi', 'glori', 'gloria', 'glove', 'glow', 'goa', 'goad', 'goal', 'goat', 'god', 'goddess', 'gold', 'golden', 'golf', 'gon', 'gone', 'good', 'goodby', 'goon', 'gordon', 'gorgeou', 'gorilla', 'gossip', 'got', 'gotten', 'govern', 'governor', 'gown', 'grab', 'grace', 'grade', 'gradual', 'graduat', 'graf', 'graham', 'grand', 'granddaught', 'grandfath', 'grandmoth', 'grandpa', 'grandpar', 'grandson', 'granni', 'grant', 'graphic', 'grasp', 'grass', 'grate', 'gratitud', 'grave', 'graveyard', 'graviti', 'gray', 'great', 'greater', 'greatest', 'greatli', 'greec', 'greed', 'greedi', 'greek', 'green', 'greet', 'greg', 'gregori', 'grenad', 'grew', 'grey', 'grief', 'griev', 'grim', 'grip', 'grisli', 'groceri', 'groom', 'grotesqu', 'ground', 'group', 'grow', 'grown', 'growth', 'grudg', 'grudgingli', 'gruesom', 'gu', 'guarante', 'guard', 'guardian', 'guerrilla', 'guess', 'guest', 'guid', 'guidanc', 'guilt', 'guilti', 'guis', 'guitar', 'guitarist', 'gulf', 'gun', 'gunfight', 'gunfir', 'gunman', 'gunpoint', 'gunshot', 'guru', 'gut', 'guy', 'gym', 'gypsi', 'ha', 'habit', 'hack', 'hail', 'hair', 'hairdress', 'hal', 'half', 'hall', 'halloween', 'hallucin', 'hallway', 'halt', 'hamburg', 'hamilton', 'hammer', 'han', 'hand', 'handcuf', 'handcuff', 'handgun', 'handi', 'handicap', 'handl', 'handler', 'handsom', 'hang', 'hank', 'hannah', 'hapless', 'happen', 'happi', 'happier', 'happili', 'har', 'harass', 'harbor', 'harbour', 'hard', 'harder', 'hardi', 'hardli', 'hardship', 'harlem', 'harm', 'harmless', 'harmoni', 'harold', 'harper', 'harri', 'harrison', 'harrow', 'harsh', 'hart', 'harvard', 'harvest', 'harvey', 'hastili', 'hat', 'hatch', 'hate', 'hatr', 'haul', 'haunt', 'havoc', 'hawaii', 'hawk', 'hawkin', 'hay', 'head', 'headach', 'headlin', 'headmast', 'headquart', 'heal', 'health', 'healthi', 'hear', 'heard', 'heart', 'heartbreak', 'heartbroken', 'heat', 'heather', 'heaven', 'heavi', 'heavili', 'heel', 'height', 'heir', 'heiress', 'heist', 'held', 'helen', 'helicopt', 'hell', 'helm', 'helmet', 'help', 'helpless', 'helplessli', 'hen', 'henc', 'henchman', 'henri', 'herbert', 'herd', 'heritag', 'hermit', 'hero', 'heroic', 'heroin', 'hesit', 'hibern', 'hid', 'hidden', 'hide', 'hideou', 'hideout', 'hierarchi', 'high', 'higher', 'highest', 'highli', 'highlight', 'highway', 'hijack', 'hike', 'hilari', 'hill', 'hindu', 'hint', 'hip', 'hire', 'histor', 'histori', 'historian', 'hit', 'hitch', 'hitchhik', 'hitler', 'hitman', 'ho', 'hockey', 'hold', 'hole', 'holi', 'holiday', 'holli', 'hollywood', 'holocaust', 'homag', 'home', 'homecom', 'homeland', 'homeless', 'hometown', 'homicid', 'homosexu', 'honest', 'honey', 'honeymoon', 'hong', 'honor', 'honour', 'hood', 'hook', 'hooker', 'hop', 'hope', 'hopeless', 'hopelessli', 'hord', 'horizon', 'horn', 'horribl', 'horrif', 'horrifi', 'horror', 'hors', 'horse', 'horseback', 'hose', 'hospit', 'host', 'hostag', 'hostel', 'hostess', 'hostil', 'hot', 'hotel', 'hound', 'hour', 'hous', 'household', 'housekeep', 'housewif', 'hover', 'howard', 'howev', 'howl', 'htm', 'html', 'http', 'hudson', 'hug', 'huge', 'hugh', 'hugo', 'hull', 'human', 'humanoid', 'humbl', 'humili', 'humor', 'hundr', 'hung', 'hungarian', 'hungri', 'hunt', 'hunter', 'hurl', 'hurri', 'hurriedli', 'hurt', 'husband', 'hustler', 'hut', 'hybrid', 'hyde', 'hyderabad', 'hypnosi', 'hypnot', 'hyster', 'ian', 'ice', 'icon', 'id', 'idea', 'ideal', 'idealist', 'ident', 'identif', 'identifi', 'ideolog', 'idiot', 'idol', 'idyl', 'ignit', 'ignor', 'ii', 'iii', 'il', 'ill', 'illeg', 'illegitim', 'illicit', 'illiter', 'illumin', 'illus', 'illustr', 'imag', 'imagin', 'imaginari', 'imago', 'imdb', 'imit', 'immedi', 'immens', 'immers', 'immigr', 'immin', 'immort', 'immun', 'impact', 'impal', 'impass', 'impati', 'impend', 'imperi', 'imperson', 'implement', 'impli', 'implic', 'implor', 'import', 'importantli', 'impos', 'imposs', 'impostor', 'impoverish', 'impregn', 'impress', 'imprison', 'impromptu', 'improv', 'improvis', 'impuls', 'inabl', 'inadvert', 'incap', 'incapacit', 'incarcer', 'incestu', 'inch', 'incid', 'incident', 'inciner', 'incit', 'includ', 'incom', 'incompet', 'incomplet', 'increas', 'increasingli', 'incred', 'incrimin', 'incur', 'inde', 'independ', 'india', 'indian', 'indic', 'indiffer', 'indign', 'indirectli', 'individu', 'induc', 'indulg', 'industri', 'industrialist', 'inebri', 'inept', 'inevit', 'inexperienc', 'inexplic', 'infam', 'infant', 'infantri', 'infatu', 'infect', 'infest', 'infidel', 'infiltr', 'inflat', 'inflict', 'influenc', 'influenti', 'inform', 'infuri', 'inhabit', 'inherit', 'inhibit', 'initi', 'inject', 'injur', 'injuri', 'injustic', 'inmat', 'inn', 'inner', 'innoc', 'inquir', 'inquiri', 'insan', 'insect', 'insecur', 'insert', 'insid', 'insight', 'insist', 'inspect', 'inspector', 'inspir', 'instal', 'instanc', 'instant', 'instantli', 'instead', 'instig', 'instinct', 'institut', 'institution', 'instruct', 'instructor', 'instrument', 'insult', 'insur', 'integr', 'intellectu', 'intellig', 'intend', 'intens', 'intensifi', 'intent', 'inter', 'interact', 'intercept', 'intercours', 'interf', 'interfer', 'interior', 'intern', 'internet', 'interpret', 'interrog', 'interrupt', 'intersect', 'intertwin', 'interven', 'intervent', 'interview', 'intim', 'intimaci', 'intimid', 'intox', 'intrigu', 'introduc', 'introduct', 'intrud', 'invad', 'invas', 'invent', 'inventor', 'invest', 'investig', 'investor', 'invinc', 'invis', 'invit', 'involv', 'iowa', 'iraq', 'iraqi', 'ireland', 'iren', 'iri', 'irish', 'iron', 'irrespons', 'irrit', 'isabel', 'isbn', 'island', 'isol', 'isra', 'israel', 'issu', 'istanbul', 'itali', 'italian', 'item', 'iv', 'ivan', 'jack', 'jacket', 'jacki', 'jackson', 'jacob', 'jacqu', 'jail', 'jake', 'jam', 'jame', 'jami', 'jan', 'jane', 'janet', 'janitor', 'januari', 'japan', 'japanes', 'jar', 'jason', 'jaw', 'jay', 'jazz', 'jealou', 'jealousi', 'jean', 'jeep', 'jeff', 'jeffrey', 'jenni', 'jennif', 'jeopardi', 'jeremi', 'jerri', 'jersey', 'jess', 'jessica', 'jesu', 'jet', 'jew', 'jewel', 'jewelleri', 'jewelri', 'jewish', 'ji', 'jill', 'jim', 'jimmi', 'jin', 'jo', 'joan', 'job', 'jock', 'jockey', 'joe', 'joey', 'john', 'johnni', 'johnson', 'join', 'joint', 'joke', 'jokingli', 'jolt', 'jonathan', 'jone', 'jordan', 'joseph', 'joshua', 'journal', 'journalist', 'journey', 'joy', 'joyc', 'jp', 'jr', 'juan', 'jubil', 'judg', 'judgment', 'judi', 'juli', 'julia', 'juliet', 'juliu', 'jump', 'june', 'jung', 'jungl', 'junior', 'junk', 'juri', 'justic', 'justifi', 'justin', 'juvenil', 'kane', 'kansa', 'kapoor', 'karan', 'karen', 'karl', 'kate', 'katherin', 'kathi', 'kati', 'keen', 'keith', 'kelli', 'kennedi', 'kenneth', 'kent', 'kept', 'kerala', 'kevin', 'key', 'khan', 'kick', 'kid', 'kidnap', 'kidnapp', 'kill', 'killer', 'kim', 'kind', 'kindli', 'king', 'kingdom', 'kingpin', 'kiss', 'kit', 'kitchen', 'kitten', 'kitti', 'knee', 'knew', 'knife', 'knight', 'knock', 'knot', 'know', 'knowledg', 'known', 'kong', 'korea', 'korean', 'krishna', 'kumar', 'kung', 'kurt', 'kyle', 'la', 'lab', 'label', 'labor', 'laboratori', 'labour', 'lack', 'ladder', 'laden', 'ladi', 'laid', 'lair', 'lake', 'lakh', 'lakshmi', 'lament', 'lamp', 'lanc', 'land', 'landladi', 'landlord', 'landscap', 'lane', 'languag', 'lap', 'lapd', 'laptop', 'larg', 'larger', 'largest', 'larri', 'laser', 'lash', 'late', 'later', 'latest', 'latin', 'laugh', 'laughter', 'launch', 'launcher', 'launder', 'laundri', 'laura', 'laurel', 'lauren', 'lavish', 'law', 'lawn', 'lawrenc', 'lawsuit', 'lawyer', 'lay', 'le', 'lead', 'leader', 'leadership', 'leaf', 'leagu', 'leak', 'lean', 'leap', 'learn', 'leas', 'leather', 'leav', 'lectur', 'led', 'ledg', 'lee', 'left', 'leftist', 'leg', 'legaci', 'legal', 'legend', 'legendari', 'legion', 'legitim', 'lend', 'length', 'lengthi', 'lenni', 'leo', 'leon', 'leonard', 'lesbian', 'lesson', 'lest', 'let', 'lethal', 'letter', 'level', 'lewi', 'li', 'liaison', 'liar', 'liber', 'liberti', 'librari', 'licens', 'lick', 'lie', 'lieuten', 'lif', 'life', 'lifeboat', 'lifelong', 'lifestyl', 'lifetim', 'lift', 'light', 'lighter', 'lightn', 'lik', 'like', 'lili', 'limit', 'limo', 'limousin', 'limp', 'lin', 'lincoln', 'linda', 'line', 'link', 'lion', 'lip', 'liquid', 'liquor', 'lisa', 'list', 'listen', 'lit', 'liter', 'literatur', 'litter', 'littl', 'liv', 'live', 'livelihood', 'liz', 'll', 'lloyd', 'lo', 'load', 'loan', 'loath', 'lobbi', 'local', 'locat', 'lock', 'locker', 'lodg', 'log', 'lola', 'london', 'lone', 'loneli', 'loner', 'long', 'longer', 'longtim', 'look', 'loom', 'loos', 'loot', 'lord', 'lorenzo', 'lose', 'loser', 'loss', 'lost', 'lot', 'lotteri', 'lou', 'loud', 'loudli', 'loui', 'louis', 'louisiana', 'loung', 'lov', 'love', 'lover', 'lovingli', 'low', 'lower', 'lowli', 'loyal', 'loyalti', 'lt', 'luci', 'luck', 'lucki', 'luckili', 'lucr', 'luggag', 'luke', 'lunat', 'lunch', 'lung', 'lure', 'lurk', 'lust', 'luxuri', 'lynch', 'lynn', 'lyric', 'mac', 'machet', 'machin', 'mad', 'madam', 'madison', 'madli', 'mae', 'mafia', 'magazin', 'maggi', 'magic', 'magician', 'magnat', 'magnet', 'maid', 'maiden', 'mail', 'main', 'mainland', 'mainli', 'maintain', 'mainten', 'major', 'mak', 'make', 'makeov', 'maker', 'makeshift', 'makeup', 'malcolm', 'male', 'malfunct', 'mall', 'man', 'manag', 'maneuv', 'manhattan', 'mani', 'maniac', 'manifest', 'manila', 'manipul', 'mankind', 'mann', 'manner', 'manor', 'mansion', 'manual', 'manufactur', 'manuscript', 'map', 'mar', 'march', 'marcu', 'margaret', 'mari', 'maria', 'marijuana', 'marin', 'mario', 'marion', 'marit', 'mark', 'market', 'marri', 'marriag', 'marseil', 'marsh', 'marshal', 'martha', 'marti', 'martial', 'martin', 'marvel', 'mask', 'mason', 'masquerad', 'mass', 'massachusett', 'massacr', 'massag', 'massiv', 'master', 'mastermind', 'masturb', 'mat', 'match', 'mate', 'materi', 'matern', 'mathemat', 'matt', 'matter', 'matthew', 'matur', 'maul', 'mauric', 'max', 'maximum', 'maya', 'mayb', 'mayhem', 'mayor', 'mdash', 'meager', 'meal', 'mean', 'meant', 'meantim', 'meanwhil', 'measur', 'meat', 'mechan', 'medal', 'medic', 'medicin', 'mediev', 'medit', 'medium', 'meek', 'meet', 'mega', 'megan', 'melbourn', 'mele', 'melissa', 'melodi', 'melodrama', 'melt', 'member', 'memor', 'memori', 'men', 'menac', 'mend', 'menial', 'menon', 'mental', 'mention', 'mentor', 'mercenari', 'merchant', 'merci', 'mercilessli', 'mere', 'merg', 'mermaid', 'merri', 'mesmer', 'mess', 'messag', 'met', 'metal', 'meteor', 'method', 'metropolitan', 'mexican', 'mexico', 'miami', 'michael', 'michel', 'mickey', 'microphon', 'mid', 'middl', 'middle', 'midnight', 'midst', 'migrat', 'miguel', 'mike', 'mild', 'mile', 'militari', 'milk', 'miller', 'million', 'millionair', 'min', 'mind', 'miner', 'mini', 'miniatur', 'minion', 'minist', 'ministri', 'minni', 'minor', 'minut', 'miracl', 'miracul', 'miranda', 'mirror', 'misadventur', 'miscarriag', 'mischief', 'mischiev', 'miser', 'miseri', 'misfit', 'misfortun', 'mishap', 'miss', 'missil', 'mission', 'missionari', 'mississippi', 'mistak', 'mistaken', 'mistakenli', 'mistreat', 'mistress', 'misunderstand', 'mitchel', 'mithun', 'mix', 'mob', 'mobil', 'mobster', 'mock', 'mode', 'model', 'modern', 'modest', 'modifi', 'moe', 'mohan', 'mole', 'molest', 'moll', 'molli', 'mom', 'moment', 'momentarili', 'monasteri', 'money', 'monica', 'monitor', 'monk', 'monkey', 'monologu', 'monster', 'monstrou', 'mont', 'montag', 'montana', 'month', 'mood', 'moon', 'moonlight', 'moor', 'moral', 'moreov', 'morgan', 'morgu', 'morn', 'morri', 'mortal', 'mortgag', 'moscow', 'mostli', 'motel', 'mother', 'motif', 'motion', 'motiv', 'motor', 'motorbik', 'motorcycl', 'mount', 'mountain', 'mourn', 'mous', 'mouth', 'movement', 'movi', 'movie', 'movies', 'mr', 'mrs', 'ms', 'mud', 'mug', 'mule', 'multi', 'multipl', 'mumbai', 'municip', 'murali', 'murder', 'murphi', 'murray', 'muscl', 'museum', 'music', 'musician', 'muslim', 'muster', 'mutant', 'mutat', 'mute', 'mutil', 'mutini', 'mutual', 'mysteri', 'mystic', 'myth', 'mythic', 'mytholog', 'na', 'nab', 'nag', 'nail', 'naiv', 'nake', 'namehttp', 'nanci', 'nanni', 'napoleon', 'narcot', 'narr', 'narrat', 'narrow', 'narrowli', 'nasa', 'nasti', 'nathan', 'nation', 'nationalist', 'nativ', 'natur', 'naval', 'navi', 'navig', 'nazi', 'nbsp', 'ndash', 'ne', 'near', 'nearbi', 'nearest', 'nearli', 'necess', 'necessari', 'neck', 'necklac', 'ned', 'need', 'needl', 'neg', 'neglect', 'negoti', 'neighbor', 'neighborhood', 'neighbour', 'neighbourhood', 'neil', 'nelson', 'nemesi', 'neo', 'nephew', 'nerv', 'nervou', 'nervous', 'nest', 'net', 'network', 'neurot', 'neutral', 'nevada', 'new', 'newborn', 'newcom', 'newest', 'newfound', 'newli', 'newly', 'newlyw', 'news', 'newspap', 'nice', 'nichola', 'nick', 'nicknam', 'nicol', 'niec', 'night', 'nightclub', 'nightli', 'nightmar', 'nina', 'ninja', 'ninth', 'noah', 'nobl', 'nobleman', 'nobodi', 'nod', 'nois', 'nomin', 'non', 'nonetheless', 'nonsens', 'nora', 'norma', 'normal', 'norman', 'north', 'northern', 'nose', 'notabl', 'note', 'notebook', 'noth', 'notic', 'notifi', 'notion', 'notori', 'notorieti', 'novel', 'novelist', 'novemb', 'nowher', 'nuclear', 'nude', 'number', 'numer', 'nun', 'nurs', 'nut', 'nypd', 'nytimes', 'obes', 'obey', 'object', 'oblig', 'oblivi', 'obnoxi', 'observ', 'obsess', 'obstacl', 'obtain', 'obviou', 'obvious', 'occas', 'occasion', 'occup', 'occupi', 'occur', 'occurr', 'ocean', 'octob', 'odd', 'oddli', 'odyssey', 'offend', 'offens', 'offer', 'offic', 'offici', 'offspr', 'oh', 'ohio', 'oil', 'ok', 'okay', 'old', 'older', 'oldest', 'olga', 'oliv', 'olivia', 'olli', 'olymp', 'omin', 'oncom', 'ongo', 'onli', 'onlin', 'onward', 'open', 'openli', 'oper', 'opera', 'opinion', 'oppon', 'opportun', 'oppos', 'opposit', 'oppress', 'opt', 'optimist', 'option', 'oral', 'orang', 'orbit', 'orchestra', 'ordeal', 'order', 'orderli', 'ordinari', 'oregon', 'org', 'organ', 'organis', 'orient', 'origin', 'orlean', 'orphan', 'orphanag', 'orthodox', 'oscar', 'ostens', 'oswald', 'otherwis', 'otto', 'outback', 'outbreak', 'outburst', 'outcast', 'outcom', 'outdoor', 'outer', 'outfit', 'outing', 'outlaw', 'outnumb', 'outpost', 'outrag', 'outsid', 'outskirt', 'outsmart', 'outwit', 'ov', 'overal', 'overbear', 'overboard', 'overcom', 'overdos', 'overhead', 'overhear', 'overheard', 'overjoy', 'overli', 'overlook', 'overnight', 'overpow', 'overprotect', 'overrun', 'overse', 'oversea', 'overthrow', 'overview', 'overweight', 'overwhelm', 'owe', 'owen', 'owl', 'owner', 'ownership', 'oxygen', 'pa', 'pace', 'pacif', 'pack', 'packag', 'pad', 'page', 'paid', 'pain', 'paint', 'painter', 'pair', 'pajama', 'pakistan', 'pakistani', 'pal', 'palac', 'palati', 'pale', 'palm', 'palmer', 'pan', 'panel', 'panic', 'panick', 'pant', 'panther', 'paper', 'parachut', 'parad', 'paradis', 'parallel', 'paralyz', 'paramed', 'paranoid', 'paranorm', 'pardon', 'parent', 'pari', 'parisian', 'park', 'parker', 'parliament', 'parlor', 'parodi', 'parol', 'parti', 'partial', 'particip', 'particular', 'particularli', 'partli', 'partner', 'partnership', 'pass', 'passag', 'passeng', 'passion', 'passiv', 'passport', 'past', 'pat', 'patch', 'path', 'patienc', 'patient', 'patriarch', 'patricia', 'patrick', 'patriot', 'patrol', 'patron', 'pattern', 'paul', 'paula', 'paus', 'pawn', 'pay', 'payment', 'payrol', 'peac', 'peak', 'pearl', 'peasant', 'peck', 'peculiar', 'pedro', 'peer', 'peggi', 'pen', 'penalti', 'penetr', 'penguin', 'peni', 'penni', 'penniless', 'pennsylvania', 'pension', 'penthous', 'peopl', 'pepper', 'perceiv', 'percept', 'perfect', 'perfectli', 'perform', 'perhap', 'peril', 'period', 'perish', 'perman', 'permiss', 'permit', 'perpetr', 'perplex', 'perri', 'persian', 'persist', 'person', 'persona', 'personnel', 'perspect', 'persuad', 'pet', 'pete', 'peter', 'petti', 'phantom', 'phase', 'phenomenon', 'phil', 'philadelphia', 'philip', 'philipp', 'philippin', 'phillip', 'philosoph', 'philosophi', 'phone', 'phoni', 'photo', 'photograph', 'photographi', 'php', 'phrase', 'physic', 'physician', 'pianist', 'piano', 'pick', 'pickpocket', 'pickup', 'picnic', 'pictur', 'pie', 'piec', 'pier', 'pierc', 'pierr', 'pig', 'pigeon', 'pile', 'pill', 'pillar', 'pillow', 'pilot', 'pimp', 'pin', 'pine', 'pink', 'pipe', 'pirat', 'pistol', 'pit', 'pitch', 'pitcher', 'piti', 'pittsburgh', 'pizza', 'place', 'plagu', 'plain', 'plan', 'plane', 'planet', 'plank', 'plant', 'plantat', 'plastic', 'plate', 'platform', 'platon', 'platoon', 'play', 'playboy', 'player', 'plea', 'plead', 'pleas', 'pleasant', 'pleasur', 'pledg', 'plenti', 'plight', 'plot', 'plu', 'plug', 'plumber', 'plummet', 'plung', 'pocket', 'pod', 'poem', 'poet', 'poetri', 'point', 'poison', 'poker', 'poland', 'polar', 'pole', 'polic', 'policeman', 'polici', 'polish', 'polit', 'politician', 'polli', 'pollut', 'pond', 'ponder', 'poni', 'pooja', 'pool', 'poor', 'poorli', 'pop', 'popul', 'popular', 'porch', 'porki', 'porn', 'pornograph', 'pornographi', 'port', 'portal', 'porter', 'portion', 'portrait', 'portray', 'pose', 'posit', 'poss', 'possess', 'possibl', 'post', 'poster', 'postpon', 'pot', 'potenti', 'potion', 'pound', 'pour', 'poverti', 'pow', 'powder', 'power', 'practic', 'prais', 'prank', 'pray', 'prayer', 'pre', 'preach', 'preacher', 'preced', 'precinct', 'preciou', 'precis', 'predat', 'predica', 'predict', 'prefer', 'pregnanc', 'pregnant', 'prejudic', 'prem', 'prematur', 'premier', 'premis', 'prepar', 'presenc', 'present', 'preserv', 'presid', 'presidenti', 'press', 'pressur', 'prestigi', 'presum', 'pretend', 'pretext', 'pretti', 'prevail', 'prevent', 'previou', 'previous', 'prey', 'price', 'priceless', 'pride', 'priest', 'primari', 'primarili', 'prime', 'primit', 'princ', 'princess', 'princip', 'principl', 'print', 'prior', 'prioriti', 'prison', 'privaci', 'privat', 'privileg', 'priya', 'prize', 'pro', 'probabl', 'probe', 'problem', 'proce', 'procedur', 'proceed', 'process', 'proclaim', 'procur', 'produc', 'product', 'prof', 'profess', 'profession', 'professor', 'profil', 'profit', 'program', 'progress', 'prohibit', 'project', 'projector', 'prolong', 'prom', 'promin', 'promis', 'promiscu', 'promot', 'prompt', 'promptli', 'pronounc', 'proof', 'prop', 'propaganda', 'propel', 'proper', 'properli', 'properti', 'propheci', 'propos', 'proposit', 'proprietor', 'prosecut', 'prosecutor', 'prospect', 'prospector', 'prosper', 'prostitut', 'protagonist', 'protect', 'protector', 'protest', 'prototyp', 'protégé', 'proud', 'proudli', 'prove', 'proven', 'provid', 'provinc', 'provoc', 'provok', 'prowess', 'psychiatr', 'psychiatrist', 'psychic', 'psycho', 'psycholog', 'psychologist', 'psychopath', 'psychot', 'pub', 'public', 'publicli', 'publish', 'pull', 'pulp', 'pummel', 'pump', 'punch', 'punctur', 'punish', 'punk', 'pupil', 'puppet', 'puppi', 'purchas', 'pure', 'purpl', 'purpos', 'purs', 'pursu', 'pursuer', 'pursuit', 'push', 'puzzl', 'pyramid', 'qualifi', 'qualiti', 'quarantin', 'quarrel', 'quarri', 'quarter', 'queen', 'quest', 'question', 'quick', 'quickli', 'quiet', 'quietli', 'quirki', 'quit', 'quot', 'rabbit', 'race', 'rachel', 'racial', 'racist', 'rack', 'racket', 'radar', 'radha', 'radiat', 'radic', 'radio', 'radioact', 'raf', 'raft', 'rag', 'rage', 'raghu', 'rahul', 'raid', 'rail', 'railroad', 'railway', 'rain', 'rainbow', 'raini', 'rais', 'raj', 'raja', 'raju', 'ralli', 'ralph', 'ram', 'rampag', 'ran', 'ranch', 'rancher', 'randi', 'random', 'randomli', 'rang', 'ranger', 'rank', 'ransack', 'ransom', 'rant', 'rao', 'rap', 'rape', 'rapid', 'rapidli', 'rapist', 'rare', 'rat', 'rate', 'ration', 'ravag', 'raven', 'ravi', 'raw', 'ray', 'raymond', 'razor', 'reach', 'react', 'reaction', 'reactor', 'read', 'readi', 'readili', 'real', 'realis', 'realiti', 'realiz', 'realli', 'realm', 'reanim', 'reappear', 'rear', 'reason', 'reassur', 'rebecca', 'rebel', 'rebelli', 'rebellion', 'reborn', 'rebuf', 'rebuff', 'rebuild', 'recal', 'recaptur', 'receiv', 'recent', 'recept', 'reciproc', 'recit', 'reckless', 'reclaim', 'reclus', 'recogn', 'recognis', 'recognit', 'recommend', 'reconcil', 'reconcili', 'reconnect', 'reconsid', 'reconstruct', 'record', 'recount', 'recov', 'recoveri', 'recreat', 'recruit', 'recuper', 'recur', 'red', 'redeem', 'rediscov', 'reduc', 'reed', 'reef', 'reel', 'ref', 'refer', 'reflect', 'reform', 'refriger', 'refug', 'refuge', 'refus', 'regain', 'regard', 'regardless', 'regim', 'regiment', 'region', 'regist', 'regret', 'regroup', 'regular', 'regularli', 'rehab', 'rehabilit', 'rehears', 'reign', 'reincarn', 'reinforc', 'reinstat', 'reject', 'rejoin', 'rekindl', 'rel', 'relat', 'relationship', 'relax', 'relay', 'releas', 'relent', 'relentless', 'reli', 'relief', 'reliev', 'religi', 'religion', 'reliv', 'reloc', 'reluct', 'reluctantli', 'remain', 'remaind', 'remark', 'remarri', 'rememb', 'remind', 'reminisc', 'remors', 'remot', 'remov', 'render', 'rendezv', 'renew', 'renounc', 'renov', 'renown', 'rent', 'repair', 'repay', 'repeat', 'repeatedli', 'repel', 'repent', 'replac', 'repli', 'report', 'repres', 'repress', 'reprimand', 'repris', 'republ', 'repuls', 'reput', 'request', 'requir', 'rescu', 'rescuer', 'research', 'resembl', 'resent', 'reserv', 'resid', 'resign', 'resist', 'resolut', 'resolv', 'resort', 'resourc', 'respect', 'respond', 'respons', 'rest', 'restart', 'restaur', 'restless', 'restor', 'restrain', 'restrict', 'restroom', 'result', 'resum', 'resurfac', 'resurrect', 'retain', 'retali', 'retir', 'retort', 'retract', 'retreat', 'retribut', 'retriev', 'return', 'reunion', 'reunit', 'reveal', 'revel', 'reveng', 'rever', 'reverend', 'revers', 'revert', 'review', 'reviv', 'revok', 'revolt', 'revolut', 'revolutionari', 'revolv', 'reward', 'rex', 'rib', 'rice', 'rich', 'richard', 'richest', 'rick', 'ricki', 'rico', 'rid', 'ridden', 'riddl', 'ride', 'rider', 'ridicul', 'rifl', 'rift', 'rig', 'right', 'rigor', 'ring', 'rio', 'riot', 'rip', 'rise', 'risk', 'riski', 'rita', 'rite', 'ritual', 'rival', 'rivalri', 'river', 'road', 'roadsid', 'roam', 'roar', 'rob', 'robber', 'robberi', 'robe', 'robert', 'robin', 'robinson', 'robot', 'rock', 'rocket', 'rocki', 'rod', 'roger', 'rogu', 'role', 'roll', 'roller', 'roman', 'romanc', 'romant', 'rome', 'ron', 'ronald', 'ronni', 'roof', 'rooftop', 'rooki', 'room', 'roommat', 'root', 'rope', 'rosa', 'rose', 'ross', 'rot', 'rotten', 'rough', 'roughli', 'round', 'rous', 'rout', 'routin', 'row', 'rowdi', 'roy', 'royal', 'rubber', 'rubbl', 'rubi', 'rude', 'ruin', 'rule', 'ruler', 'rumor', 'run', 'runaway', 'rundown', 'runner', 'rural', 'ruse', 'rush', 'russel', 'russia', 'russian', 'ruth', 'ruthless', 'ryan', 'sabotag', 'saboteur', 'sach', 'sack', 'sacr', 'sacrif', 'sacrific', 'sad', 'sadden', 'saddl', 'sadist', 'sadli', 'safe', 'safeguard', 'safeti', 'sage', 'said', 'sail', 'sailor', 'saint', 'sake', 'salari', 'sale', 'salesman', 'salli', 'salon', 'saloon', 'salt', 'salut', 'salvag', 'salvat', 'sam', 'samantha', 'sampl', 'samuel', 'samurai', 'san', 'sand', 'sander', 'sandi', 'sandwich', 'sang', 'saniti', 'santa', 'santo', 'sara', 'sarah', 'sarcast', 'satan', 'satellit', 'satisfact', 'satisfi', 'saturday', 'savag', 'save', 'saw', 'say', 'scale', 'scam', 'scan', 'scandal', 'scar', 'scare', 'scari', 'scatter', 'scenario', 'scene', 'schedul', 'scheme', 'scholar', 'scholarship', 'school', 'schoolmat', 'schoolteach', 'scienc', 'scientif', 'scientist', 'scissor', 'scold', 'scoop', 'scooter', 'score', 'scotland', 'scott', 'scottish', 'scout', 'scrambl', 'scrap', 'scratch', 'scream', 'screen', 'screenplay', 'screenwrit', 'script', 'scuffl', 'sea', 'seal', 'seaman', 'sean', 'search', 'seasid', 'season', 'seat', 'seattl', 'sebastian', 'seclud', 'second', 'secondari', 'secret', 'secretari', 'secretli', 'section', 'secur', 'sed', 'sedat', 'seduc', 'seduct', 'seed', 'seek', 'seemingli', 'seen', 'segment', 'seiz', 'select', 'self', 'selfish', 'sell', 'seller', 'semest', 'semi', 'sen', 'senat', 'send', 'senior', 'sens', 'sensat', 'sensit', 'sent', 'sentenc', 'sentiment', 'seoul', 'separ', 'septemb', 'sequel', 'sequenc', 'serf', 'sergeant', 'seri', 'serial', 'seriou', 'serum', 'serv', 'servant', 'servic', 'session', 'set', 'setback', 'seth', 'settl', 'settlement', 'settler', 'seven', 'seventeen', 'seventh', 'sever', 'sew', 'sewer', 'sex', 'sexi', 'sexual', 'sgt', 'shack', 'shade', 'shadi', 'shadow', 'shadowi', 'shaft', 'shah', 'shake', 'shaken', 'shakespear', 'shall', 'shallow', 'shame', 'shanghai', 'shankar', 'shap', 'shape', 'shard', 'share', 'shark', 'sharma', 'sharon', 'sharp', 'shatter', 'shave', 'shaw', 'shed', 'sheep', 'sheet', 'sheila', 'shell', 'shelli', 'shelter', 'shepherd', 'sheriff', 'sherman', 'shi', 'shield', 'shift', 'shine', 'ship', 'shipment', 'shipwreck', 'shirt', 'shiva', 'shock', 'shoe', 'shoot', 'shooter', 'shootout', 'shop', 'shopkeep', 'shore', 'short', 'shortli', 'shot', 'shotgun', 'shoulder', 'shout', 'shove', 'shovel', 'showcas', 'showdown', 'shower', 'showgirl', 'shown', 'shrine', 'shrink', 'shrug', 'shun', 'shut', 'sibl', 'sick', 'sid', 'sidekick', 'sidewalk', 'sieg', 'sift', 'sigh', 'sight', 'sign', 'signal', 'signatur', 'signific', 'silenc', 'silent', 'silli', 'silver', 'similar', 'similarli', 'simon', 'simpl', 'simpli', 'simul', 'simultan', 'sin', 'sinc', 'sincer', 'sing', 'singapor', 'singer', 'singh', 'singl', 'single', 'sinist', 'sink', 'sir', 'siren', 'sist', 'sister', 'sit', 'site', 'situat', 'sixteen', 'sixth', 'size', 'skate', 'skateboard', 'skeleton', 'skeptic', 'sketch', 'ski', 'skid', 'skill', 'skin', 'skip', 'skull', 'sky', 'slain', 'slam', 'slap', 'slash', 'slaughter', 'slave', 'slaveri', 'slay', 'sleazi', 'sleep', 'slept', 'slice', 'slide', 'slight', 'slightli', 'sling', 'slip', 'slit', 'slope', 'slot', 'slow', 'slowli', 'slum', 'smack', 'small', 'smaller', 'smart', 'smash', 'smear', 'smell', 'smile', 'smith', 'smitten', 'smoke', 'smooth', 'smoothli', 'smother', 'smuggl', 'smuggler', 'snack', 'snake', 'snap', 'snatch', 'sneak', 'sneez', 'sniper', 'snoop', 'snow', 'snowi', 'soak', 'soap', 'sob', 'sober', 'soccer', 'social', 'socialist', 'socialit', 'societi', 'sociopath', 'soft', 'soften', 'soil', 'solac', 'sold', 'soldier', 'sole', 'solid', 'solitari', 'solitud', 'solo', 'solut', 'solv', 'somebodi', 'someday', 'someon', 'someth', 'sometim', 'somewhat', 'somewher', 'son', 'song', 'sonia', 'soon', 'sooner', 'sophi', 'sophist', 'sorri', 'sorrow', 'sort', 'sought', 'soul', 'sound', 'soundtrack', 'soup', 'sourc', 'south', 'southern', 'soviet', 'space', 'spacecraft', 'spaceship', 'spain', 'spanish', 'spare', 'spark', 'speak', 'speaker', 'spear', 'speci', 'special', 'specialist', 'specif', 'spectacular', 'spectat', 'specul', 'speech', 'speed', 'spell', 'spend', 'spent', 'spi', 'spider', 'spike', 'spill', 'spin', 'spine', 'spiral', 'spirit', 'spiritu', 'spit', 'spite', 'splash', 'split', 'spoil', 'spoken', 'sponsor', 'spontan', 'sport', 'spot', 'spotlight', 'spous', 'spray', 'spread', 'spree', 'spring', 'spurn', 'squad', 'squadron', 'squar', 'st', 'stab', 'stabil', 'stabl', 'stack', 'stadium', 'staff', 'stage', 'stagecoach', 'stagger', 'stain', 'stair', 'staircas', 'stake', 'stalk', 'stalker', 'stall', 'stamp', 'stan', 'stand', 'standard', 'standoff', 'stanley', 'star', 'stare', 'stark', 'start', 'startl', 'starv', 'stash', 'state', 'statement', 'station', 'statu', 'stay', 'steadi', 'steal', 'steam', 'steel', 'steep', 'steer', 'step', 'stepfath', 'stephen', 'stepmoth', 'stereotyp', 'stern', 'steve', 'steven', 'stewart', 'stick', 'sting', 'stir', 'stitch', 'stock', 'stockholm', 'stole', 'stolen', 'stomach', 'stomp', 'stone', 'stood', 'stoog', 'stop', 'storag', 'store', 'stori', 'storm', 'storylin', 'stow', 'straight', 'strain', 'strand', 'strang', 'stranger', 'strangl', 'strap', 'strategi', 'straw', 'stray', 'streak', 'stream', 'street', 'strength', 'strengthen', 'stress', 'stretch', 'stretcher', 'stricken', 'strict', 'strike', 'string', 'strip', 'stripper', 'strive', 'stroke', 'strong', 'stronger', 'stronghold', 'strongli', 'struck', 'structur', 'struggl', 'stuart', 'stubborn', 'stuck', 'stud', 'student', 'studi', 'studio', 'stuf', 'stuff', 'stumbl', 'stun', 'stunt', 'stupid', 'styl', 'style', 'su', 'sub', 'subdu', 'subject', 'submarin', 'submiss', 'submit', 'subordin', 'subplot', 'subsequ', 'substanc', 'substanti', 'substitut', 'subtli', 'suburb', 'suburban', 'subway', 'succe', 'succeed', 'success', 'successor', 'succumb', 'suck', 'sudden', 'suddenli', 'sue', 'suff', 'suffer', 'suffici', 'suffoc', 'sugar', 'suggest', 'suicid', 'suit', 'suitabl', 'suitcas', 'suitor', 'sulk', 'sullivan', 'sum', 'summari', 'summer', 'summon', 'sun', 'sunday', 'sung', 'sunil', 'sunk', 'sunlight', 'sunni', 'sunris', 'sunset', 'sunshin', 'super', 'superintend', 'superior', 'superman', 'supermarket', 'supernatur', 'supervis', 'supervisor', 'suppli', 'support', 'suppos', 'supposedli', 'suppress', 'suprem', 'sure', 'surf', 'surfac', 'surg', 'surgeon', 'surgeri', 'surgic', 'surmis', 'surpris', 'surprisingli', 'surreal', 'surrend', 'surreptiti', 'surround', 'surveil', 'survey', 'surviv', 'survivor', 'susan', 'suspect', 'suspend', 'suspens', 'suspici', 'suspicion', 'sustain', 'swallow', 'swamp', 'swap', 'swarm', 'swat', 'sway', 'swear', 'sweden', 'swedish', 'sweep', 'sweet', 'sweetheart', 'swept', 'swift', 'swiftli', 'swim', 'swindl', 'swing', 'switch', 'switzerland', 'sword', 'swordsman', 'sworn', 'sydney', 'sylvest', 'sylvia', 'symbol', 'sympath', 'sympathet', 'sympathi', 'symptom', 'syndic', 'syndrom', 'synopsi', 'ta', 'tabl', 'tabloid', 'tackl', 'tactic', 'tag', 'tail', 'tailor', 'taint', 'taken', 'tale', 'talent', 'talk', 'tall', 'tamil', 'tank', 'tap', 'tape', 'target', 'task', 'tast', 'tattoo', 'taught', 'taunt', 'tavern', 'tax', 'taxi', 'taylor', 'tcm', 'te', 'tea', 'teach', 'teacher', 'team', 'teammat', 'tear', 'teas', 'tech', 'technic', 'technician', 'techniqu', 'technolog', 'ted', 'teen', 'teenag', 'teeth', 'tel', 'telegram', 'telepath', 'telephon', 'teleport', 'televis', 'tell', 'teller', 'temp', 'temper', 'templ', 'temporari', 'temporarili', 'tempt', 'temptat', 'tenant', 'tend', 'tendenc', 'tenderli', 'tenni', 'tens', 'tension', 'tent', 'term', 'termin', 'terri', 'terribl', 'terrifi', 'territori', 'terror', 'terrorist', 'test', 'testifi', 'testimoni', 'texa', 'text', 'th', 'thailand', 'thank', 'thanksgiv', 'theater', 'theatr', 'theatric', 'theft', 'theme', 'theori', 'theoriz', 'therapi', 'therapist', 'thereaft', 'therebi', 'therefor', 'thief', 'thing', 'think', 'thirst', 'thirteen', 'thirti', 'thirty', 'thoma', 'thompson', 'thorn', 'thoroughli', 'thought', 'thousand', 'thrash', 'thread', 'threat', 'threaten', 'threw', 'thrill', 'thriller', 'thrive', 'throat', 'throne', 'throw', 'thrown', 'thrust', 'thu', 'thug', 'thumb', 'thwart', 'tick', 'ticket', 'tide', 'tie', 'tiger', 'tight', 'till', 'tim', 'time', 'timelin', 'timid', 'timmi', 'tin', 'tina', 'tini', 'tip', 'tire', 'titl', 'title', 'title2010', 'titular', 'toast', 'tobacco', 'tobi', 'today', 'toe', 'togeth', 'toilet', 'tokyo', 'told', 'toler', 'toll', 'tom', 'tomato', 'tomb', 'tomboy', 'tommi', 'tomorrow', 'ton', 'tone', 'tongu', 'toni', 'tonight', 'took', 'tool', 'tooth', 'topic', 'toppl', 'tora', 'torch', 'torment', 'torn', 'torpedo', 'tortur', 'toss', 'total', 'touch', 'tough', 'tour', 'tourist', 'tournament', 'tow', 'towel', 'tower', 'town', 'townsfolk', 'townspeopl', 'toxic', 'toy', 'trace', 'traci', 'track', 'tractor', 'trade', 'trader', 'tradit', 'traffic', 'tragedi', 'tragic', 'trail', 'trailer', 'train', 'traine', 'trainer', 'traitor', 'tranc', 'tranquil', 'transfer', 'transform', 'transit', 'translat', 'transmiss', 'transmit', 'transpir', 'transplant', 'transport', 'trap', 'trash', 'trauma', 'traumat', 'travel', 'travi', 'treacheri', 'treason', 'treasur', 'treat', 'treati', 'treatment', 'tree', 'trek', 'tremend', 'trench', 'trevor', 'tri', 'triad', 'trial', 'triangl', 'tribal', 'tribe', 'tribut', 'trick', 'trigger', 'trio', 'trip', 'tripl', 'triumph', 'triumphant', 'troop', 'trooper', 'trophi', 'tropic', 'troubl', 'troup', 'trouser', 'troy', 'truce', 'truck', 'trucker', 'true', 'truli', 'trumpet', 'trunk', 'trust', 'truth', 'tryst', 'tube', 'tucker', 'tumbl', 'tune', 'tunnel', 'turkey', 'turkish', 'turmoil', 'turn', 'turned', 'turner', 'turtl', 'tutor', 'tv', 'tweeti', 'twelv', 'twenti', 'twice', 'twin', 'twist', 'tycoon', 'tyler', 'typ', 'type', 'typic', 'tyrann', 'ufo', 'ugli', 'uk', 'ultim', 'ultimatum', 'ultra', 'umbrella', 'unabl', 'unarm', 'unawar', 'unbeknownst', 'unborn', 'uncertain', 'uncl', 'unclear', 'uncomfort', 'unconsci', 'uncontrol', 'unconvinc', 'uncov', 'undead', 'undercov', 'undergo', 'underground', 'underneath', 'understand', 'undertak', 'underwat', 'underwear', 'underworld', 'undo', 'undress', 'unearth', 'uneasi', 'unemploy', 'unexpect', 'unexpectedli', 'unexplain', 'unfaith', 'unfaz', 'unfinish', 'unfold', 'unfortun', 'unhappi', 'unharm', 'unidentifi', 'uniform', 'unintent', 'uninterest', 'union', 'uniqu', 'unit', 'uniti', 'univers', 'unknowingli', 'unknown', 'unleash', 'unless', 'unlik', 'unlock', 'unmarri', 'unmask', 'unnam', 'unnatur', 'unnerv', 'unorthodox', 'unpaid', 'unpopular', 'unravel', 'unrel', 'unscath', 'unscrupul', 'unseen', 'unstabl', 'unsuccess', 'unsur', 'unsuspect', 'unti', 'untouch', 'unusu', 'unwant', 'unwil', 'unwillingli', 'unwittingli', 'upbring', 'upcom', 'upper', 'upris', 'upset', 'upsid', 'upstair', 'uptight', 'urban', 'urg', 'urgent', 'urin', 'usa', 'use', 'useless', 'user', 'usher', 'usual', 'util', 'utter', 'vacant', 'vacat', 'vacuum', 'vagu', 'vain', 'valentin', 'valeri', 'valet', 'valley', 'valu', 'valuabl', 'vampir', 'van', 'vandal', 'vanish', 'vari', 'varieti', 'variou', 'vase', 'vast', 'vault', 've', 'veer', 'vega', 'veget', 'vehicl', 'vendor', 'veng', 'vengeanc', 'venic', 'vent', 'ventur', 'venu', 'vera', 'verbal', 'verdict', 'verg', 'verifi', 'verma', 'vers', 'version', 'vessel', 'vest', 'veteran', 'veterinarian', 'vic', 'vice', 'viciou', 'vicious', 'vicki', 'victim', 'victor', 'victori', 'victoria', 'video', 'videotap', 'vienna', 'vietnam', 'view', 'viewer', 'vigilant', 'vijay', 'vikram', 'villa', 'villag', 'villain', 'vincent', 'violat', 'violenc', 'violent', 'violin', 'violinist', 'virgin', 'virginia', 'virtu', 'virtual', 'viru', 'vishnu', 'visibl', 'vision', 'visit', 'visitor', 'visual', 'vital', 'vivian', 'voic', 'voice', 'voiceov', 'volcano', 'volunt', 'vomit', 'von', 'voodoo', 'vote', 'vow', 'voyag', 'vulner', 'wade', 'wage', 'wager', 'wagner', 'wagon', 'waist', 'wait', 'waiter', 'waitress', 'wake', 'walk', 'walker', 'wall', 'wallac', 'wallet', 'walli', 'walter', 'wan', 'wander', 'wang', 'want', 'war', 'ward', 'warden', 'wardrob', 'warehous', 'warfar', 'wari', 'warlord', 'warm', 'warn', 'warner', 'warp', 'warrant', 'warren', 'warrior', 'wash', 'washington', 'wast', 'watch', 'watchman', 'water', 'waterfal', 'watson', 'wave', 'wax', 'way', 'wayn', 'weak', 'weaken', 'wealth', 'wealthi', 'weapon', 'wear', 'weari', 'weather', 'web', 'websit', 'webster', 'wed', 'weed', 'week', 'weekend', 'weekli', 'weep', 'weigh', 'weight', 'weird', 'welcom', 'welfar', 'went', 'werewolf', 'west', 'western', 'wet', 'whack', 'whale', 'whatev', 'wheel', 'wheelchair', 'whenev', 'wherea', 'whereabout', 'wherebi', 'wherev', 'whilst', 'whip', 'whisk', 'whisper', 'whistl', 'whit', 'white', 'wick', 'wide', 'widespread', 'widow', 'wield', 'wif', 'wife', 'wig', 'wil', 'wild', 'wilder', 'wildli', 'wildlif', 'wile', 'willi', 'william', 'willingli', 'wilson', 'win', 'wind', 'window', 'windshield', 'wine', 'wing', 'winner', 'winston', 'winter', 'wipe', 'wire', 'wisdom', 'wise', 'wish', 'wit', 'witch', 'witchcraft', 'withdraw', 'wizard', 'wo', 'woe', 'woken', 'wolf', 'woman', 'wonder', 'wong', 'woo', 'wood', 'wooden', 'woodi', 'word', 'work', 'workahol', 'worker', 'workplac', 'workshop', 'world', 'worm', 'worn', 'worri', 'wors', 'worsen', 'worship', 'worst', 'worth', 'worthi', 'worthless', 'wound', 'wrap', 'wrath', 'wreak', 'wreck', 'wreckag', 'wrestl', 'wrestler', 'wrist', 'write', 'writer', 'written', 'wrong', 'wrongli', 'wrote', 'wu', 'www', 'yacht', 'yakuza', 'yang', 'yanke', 'yard', 'ye', 'year', 'yearn', 'yell', 'yellow', 'yen', 'yield', 'york', 'young', 'younger', 'youngest', 'youngster', 'youth', 'yu', 'zero', 'zombi', 'zone', 'zoo', 'zoom']\n"
          ],
          "name": "stdout"
        }
      ]
    },
    {
      "cell_type": "markdown",
      "metadata": {
        "id": "5uhf32O5qkGR"
      },
      "source": [
        "Μετά από επισκόπηση του vocabulary η λίστα των στοιχείων που δεν πρέπει να συνυπολογίζονται είναι:"
      ]
    },
    {
      "cell_type": "code",
      "metadata": {
        "id": "6ZZTtKK_qkGS"
      },
      "source": [
        "\n",
        "from sklearn.feature_extraction import text\n",
        "my_stopword_list = ['actor','actress','plot','film', 'aka', 'jim', 'audio', 'later', 'latest','prior', 'part', 'act', 'adrian', 'alex', 'allison', 'arnold', 'began', 'begin', 'brad', 'bob', 'bruce', 'christina', 'daniel', 'diana', 'emili', 'emma','hamilton', 'harrison', 'jack','jackson', 'jacob','jeff','jeffrey', 'jenni','jeremi',  'jessica', 'karl', 'kate', 'katherin', 'kathi', 'kati', 'keith', 'kelli','laura', 'leo', 'leon', 'leonard',  'lisa', 'lili', 'maria','marion', 'olga',  'olivia', 'penni', 'perri','robert','sam', 'samuel','samantha',  'samuel', 'sara', 'sarah','sebastian', 'steve', 'steven','susan','tina','tim', 'valeri','victoria','vivian','william', 'wilson']\n",
        "stop_words = text.ENGLISH_STOP_WORDS.union(my_stopword_list)\n"
      ],
      "execution_count": null,
      "outputs": []
    },
    {
      "cell_type": "markdown",
      "metadata": {
        "id": "9Up8xF68qkGU"
      },
      "source": [
        "#### Παραμετροποίηση του Vectorizer:\n",
        "\n",
        "Αφαίρεση των english stopwords και των λέξεων που εμφανίζονται στην my_stopword_list.\n",
        "Αφαίρεση των όρων που εμφανίζονται σε λιγότερα από 10 documents\n",
        "Αφαίρεση των όρων που εμφανίζονται σε περισσότερα από το 50% των κειμένων"
      ]
    },
    {
      "cell_type": "code",
      "metadata": {
        "id": "WYsbtpSPqkGU",
        "outputId": "7de17d96-1908-4907-9ca9-8e240cd0f554"
      },
      "source": [
        "vectorizer = TfidfVectorizer(stop_words=stop_words,min_df=10, max_df=0.5)\n",
        "vectorizer.fit(corpus_completed)\n",
        "corpus_tf_idf = vectorizer.transform(corpus_completed)\n",
        "\n",
        "print(corpus_tf_idf.shape)\n",
        "doc_terms = vectorizer.inverse_transform(corpus_tf_idf)\n",
        "\n",
        "# Compute the cosine similarity matrix\n",
        "cosine_sim = linear_kernel(corpus_tf_idf, corpus_tf_idf)\n",
        "print(cosine_sim.shape)"
      ],
      "execution_count": null,
      "outputs": [
        {
          "output_type": "stream",
          "text": [
            "(5000, 5929)\n",
            "(5000, 5000)\n"
          ],
          "name": "stdout"
        }
      ]
    },
    {
      "cell_type": "code",
      "metadata": {
        "id": "MmxUmaM6qkGW",
        "outputId": "2fafb0c5-77c3-420b-9b0b-f558fc32a1f1"
      },
      "source": [
        "joblib.dump(corpus_tf_idf, 'mystopwords+10+0_5.pkl')"
      ],
      "execution_count": null,
      "outputs": [
        {
          "output_type": "execute_result",
          "data": {
            "text/plain": [
              "['mystopwords+10+0_5.pkl']"
            ]
          },
          "metadata": {
            "tags": []
          },
          "execution_count": 429
        }
      ]
    },
    {
      "cell_type": "markdown",
      "metadata": {
        "id": "U2Q6Ob5jqkGa"
      },
      "source": [
        "Πολλή μικρή βελτίωση της διαστατικότητας. Το μέγεθος του αρχείου mystopwords+10+0_5.pkl είναι: 5403ΚΒ"
      ]
    },
    {
      "cell_type": "code",
      "metadata": {
        "scrolled": true,
        "id": "8394rw_gqkGb",
        "outputId": "3497c426-4731-4251-cc2c-b1a6391007d5"
      },
      "source": [
        "print_results(363,7, cosine_sim, full=False)"
      ],
      "execution_count": null,
      "outputs": [
        {
          "output_type": "stream",
          "text": [
            "**** Target movie:  363\n",
            "Title:  ['Muppet Treasure Island']\n",
            "Genres:  ['\"Adventure\",  \"Children\\'s/Family\",  \"Musical\",  \"Children\\'s\",  \"Comedy\",  \"Music\",  \"Family Film\",  \"Family-Oriented Adventure\"']\n",
            "Summary:  Jim Hawkins  is a young orphan living with his friends Gonzo and Rizzo at the Admiral Benbow inn in England. Dreaming of sea voyages, Jim only has the tales of Billy Bones  to help, Bones telling Jim and the inn patrons of Captain Flint , his old captain, burying his treasure on a remote island and killing all of his crew, and that no one knows the whereabouts of the map. One night, Blind Pew, a fellow pirate, arrives and gives Bones the black spot. Bones dies of a heart attack but reveals to Ji\n",
            "\n",
            "**** Brief description of recommended movies: \n",
            " [(3149, 0.7689256569942572), (145, 0.47872136187412284), (1459, 0.3558034779211759), (4910, 0.2524048216103246), (2733, 0.25035753686895945), (1855, 0.22410248348036152), (4897, 0.21790517284700567)]\n",
            "\n",
            "**** 7  most related movies based on content:\n",
            "**** Recommended movie No.:  1\n",
            "Movie Id:  3149\n",
            "Title:  ['Treasure Island']\n",
            "Genres:  ['\"Swashbuckler films\",  \"Adventure\",  \"Black-and-white\",  \"Action/Adventure\",  \"Drama\",  \"Family Film\"']\n",
            "Summary:  Young Jim Hawkins  and his mother run the Admiral Benbow, a tavern near Bristol, England. One dark and stormy night, during a birthday celebration, the mysterious Billy Bones  arrives and drunkenly talks about treasure. Soon after, Bones is visited by Black Dog then Pew, and drops dead, leaving a chest, which he bragged contained gold and jewels. Instead of money, Jim finds a map that his friend Dr. Livesey  realizes will lead them to the famous Flint treasure. Squire Trelawney  raises money for\n",
            "------------------\n",
            "**** Recommended movie No.:  2\n",
            "Movie Id:  145\n",
            "Title:  ['Treasure Island']\n",
            "Genres:  ['\"Family Film\",  \"Adventure\"']\n",
            "Summary:  Jim Hawkins  is a young man who works at a pub with his mother . When a drunken old sailor named Billy Bones  comes in for a drink and dies, Jim gets his hands on an old pirate's treasure map. Immediately taking action, he then enlists the help of Squire Trelawney  and Dr. Livesey  to join him as he locates the island on the map. Together, they join a ship lead by Captain Smollett  that will lead them to their destination. When word of the treasure reaches the rest of the ship's crew, the ship's\n",
            "------------------\n",
            "**** Recommended movie No.:  3\n",
            "Movie Id:  1459\n",
            "Title:  ['The Pirates of Penzance']\n",
            "Genres:  ['\"Musical\",  \"Romance Film\",  \"Comedy\"']\n",
            "Summary:  Frederic  was sent in the care of his nursemaid, Ruth , to be apprenticed to a pilot. But she misunderstood her instructions, being hard of hearing, and apprenticed him instead to a pirate . Now he is turning 21 years old, and his service is finished, so he decides to leave the Pirates of Penzance. Ruth wants him to take her with him, but he soon meets some young maidens, the daughters of Major-General Stanley ([[George Rose , and realizes that Ruth is \"plain and old\". Frederic quickly falls in \n",
            "------------------\n",
            "**** Recommended movie No.:  4\n",
            "Movie Id:  4910\n",
            "Title:  ['Dick Deadeye, or Duty Done']\n",
            "Genres:  ['\"Musical\",  \"Animation\"']\n",
            "Summary:  Queen Victoria sends Dick Deadeye , a sailor, to recover the \"Ultimate Secret\" from two thieves, the Sorcerer  and his reptilian henchman, the Shameleon. They are trying to sell it to the Pirate King . At a military parade , Dick sees the Sorcerer speaking with the Pirate King. There, Nanki  sees his evil twin brother Poo , who is picking pockets. Dick goes for backup to headquarters, the Hexagon , finding the Captain  and the Major-General . Dick then goes to the pirates' lair, \"The Queen's Nos\n",
            "------------------\n",
            "**** Recommended movie No.:  5\n",
            "Movie Id:  2733\n",
            "Title:  ['Silver Hawk']\n",
            "Genres:  ['\"Thriller\",  \"Action Thrillers\",  \"Adventure\",  \"World cinema\",  \"Superhero movie\",  \"Superhero\",  \"Action/Adventure\",  \"Martial Arts Film\",  \"Action\",  \"Chinese Movies\"']\n",
            "Summary:  The movie starts with Silver Hawk riding on her motorcycle through an alternate version of China. She is chasing thugs who have stolen pandas and are getting away in a truck. She attaches her bike to the truck, jumps on top of and fights the men in the truck until they give up. She heads back to Polaris City  where she meets an old childhood friend, Rich Man. Then a flashback occurs, going back to the martial arts training academy when they were little. He is the new head of the police departmen\n",
            "------------------\n",
            "**** Recommended movie No.:  6\n",
            "Movie Id:  1855\n",
            "Title:  ['Pink in the Drink']\n",
            "Genres:  ['\"Short Film\",  \"Comedy film\",  \"Animation\"']\n",
            "Summary:  The Pink Panther embarks on a cruise to the South Seas for 14 days, but the luxurious holiday turns out to be a pirate ship operated by a merciless pirate who orders the panther to mop the deck. The panther accidentally sets fire to the mast, and later loads cannonballs incorrectly, causing the ship's weight to shift. Finally, when the pirate tries to kill a vicious shark with a cannon, the cannonball instead cracks a hole in the ship and it sinks.\n",
            "------------------\n",
            "**** Recommended movie No.:  7\n",
            "Movie Id:  4897\n",
            "Title:  ['Gideon Tuba Warrior']\n",
            "Genres:  ['\"Musical\",  \"Children\\'s\",  \"Animation\"']\n",
            "Summary:  As the show opens on the counter-top, The Pirates Who Don't Do Anything burst in to host the show, overriding Bob and Larry. After reluctantly giving in, Bob walks off , the Pirates read the letter, which asks, in essence, whether to trust God. The Captain, aka, Pa Grape, then tells the story of George Muller a man who \"trusted God for everything.\" The story is narrated by the Captain, as he tells it through the eyes of his ancestor Great-Grandfather Simon, a reporter for the Bristol Snoop, a ta\n",
            "------------------\n"
          ],
          "name": "stdout"
        }
      ]
    },
    {
      "cell_type": "code",
      "metadata": {
        "id": "g-1-Q3eqqkGe",
        "outputId": "dd774d2f-c0a6-4c05-c975-d801caf83b8b"
      },
      "source": [
        "print_results(1985, 7, cosine_sim, full=False)"
      ],
      "execution_count": null,
      "outputs": [
        {
          "output_type": "stream",
          "text": [
            "**** Target movie:  1985\n",
            "Title:  [\"Child's Play 2\"]\n",
            "Genres:  ['\"Thriller\",  \"Horror\",  \"Supernatural\",  \"Cult\",  \"Comedy\",  \"Slasher\"']\n",
            "Summary:   Two years have passed since the events of the first film. The Play Pals company has the original doll reconstructed for analysis. Mr. Sullivan, the CEO, meets with his assistant, Mattson, with regards to the doll's reconstruction.Mattson informs Mr. Sullivan that Andy has been placed in foster care and was taken away for a psychiatric evaluation, his mother has been taken to a Mental Hospital. He also informs Sullivan that someone at the company may have tampered with the doll's voice cassette.\n",
            "\n",
            "**** Brief description of recommended movies: \n",
            " [(3966, 0.5802679287554455), (316, 0.5650655959270953), (3753, 0.5560509584582728), (30, 0.5435559765357915), (1133, 0.4889354193506196), (377, 0.48490144480896774), (4886, 0.45645040213527366)]\n",
            "\n",
            "**** 7  most related movies based on content:\n",
            "**** Recommended movie No.:  1\n",
            "Movie Id:  3966\n",
            "Title:  [\"Before the Devil Knows You're Dead\"]\n",
            "Genres:  ['\"Thriller\",  \"Crime Fiction\",  \"Indie\",  \"Family Drama\",  \"Drama\",  \"Crime Thriller\"']\n",
            "Summary:  Note: The story is explained here in its chronological order, rather than as it is presented in the film. Andy Hanson  is a finance executive at a real estate firm in New York City. Facing an upcoming audit, which he knows will reveal that he has embezzled thousands from his employer, Andy decides to escape to Brazil , but desperately needs money to establish himself in Rio as he has spent all the money he stole paying for drugs. His brother Hank  needs money to pay child support  and his daught\n",
            "------------------\n",
            "**** Recommended movie No.:  2\n",
            "Movie Id:  316\n",
            "Title:  ['The Man']\n",
            "Genres:  ['\"Crime Fiction\",  \"Action/Adventure\",  \"Action\",  \"Buddy film\",  \"Comedy\"']\n",
            "Summary:   A man named Andy Fiddler  is in his bathroom, preparing a speech. He works for a dental supply company, and lives in Milwaukee, Wisconsin. He will soon be giving a speech to investors in Detroit. At Detroit, ATF agent Derrick Vann , whose partner was recently murdered, is trying to retrieve some guns that were stolen from a federal armory, and are soon to be sold. After a visit to his informant Booty  , he sets up a buy. He is to go to a diner and be reading a USA Today. Unfortunately, Andy is \n",
            "------------------\n",
            "**** Recommended movie No.:  3\n",
            "Movie Id:  3753\n",
            "Title:  [\"Child's Play 3\"]\n",
            "Genres:  ['\"Cult\",  \"Supernatural\",  \"Horror\",  \"Slasher\",  \"Comedy\"']\n",
            "Summary:  Eight years after the events of Child's Play 2, Play Pals  has recovered from bad publicity arising from Chucky's murder spree. The company releases a new line of Good Guy dolls and recycles Chucky's remains. However, the soul of serial killer Charles Lee Ray still inhabited the remains, and Chucky is soon revived in a new doll body. Chucky is unwittingly given to Play Pals' CEO Mr. Sullivan, whom Chucky tortures and kills using various instruments. He then uses computer records to relocate Andy\n",
            "------------------\n",
            "**** Recommended movie No.:  4\n",
            "Movie Id:  30\n",
            "Title:  ['An American Werewolf in Paris']\n",
            "Genres:  ['\"Horror\",  \"Comedy\",  \"Horror Comedy\"']\n",
            "Summary:  Andy McDermott is a tourist seeing the sights of Paris with his friends Brad and Chris. When Serafine Pigot leaps off the Eiffel Tower just before Andy is about to bungee jump, he executes a mid-air rescue. She vanishes into the night, leaving Andy intrigued – and also unaware that she is the daughter of David Kessler and Alex Price, the couple seen 16 years earlier in the first film. That night, Andy, Chris, and Brad attend a night club called \"Club de la Lune\". The club's owner, Claude, is act\n",
            "------------------\n",
            "**** Recommended movie No.:  5\n",
            "Movie Id:  1133\n",
            "Title:  [\"Child's Play\"]\n",
            "Genres:  ['\"Horror\",  \"Indie\",  \"Supernatural\",  \"Psychological thriller\",  \"Cult\",  \"Mystery\",  \"Slasher\"']\n",
            "Summary:  On November 9, 1988 in Chicago, Illinois, while being chased by homicide detective Mike Norris , serial killer Charles Lee Ray , also known as \"Chucky\" and \"The Lakeshore Strangler\", is shot and mortally wounded. Knowing he cannot escape, Charles takes cover inside a seemingly old toy store. He looms around until he falls on a stack of \"Good Guy\" themed dolls. He uses a voodoo ritual to transfer his soul into one of the dolls. The store is then struck by lightning and catches on fire; sending Mi\n",
            "------------------\n",
            "**** Recommended movie No.:  6\n",
            "Movie Id:  377\n",
            "Title:  ['Streets of Blood']\n",
            "Genres:  ['\"Thriller\",  \"Crime Fiction\",  \"Mystery\",  \"Drama\",  \"Crime Thriller\",  \"Action\"']\n",
            "Summary:  During the rage of Hurricane Katrina, Detective Andy Devereaux  discovers the body of his former partner in a close to underwater warehouse. Quickly forgetting about his discovery, he joins a newly transferred detective named Stan Johnson  trying to end a conflict involving looters. Post-Katrina, Andy and Stan are now partners. They work with corrupt detectives Pepe  and Barney , who are caught up in the murder of an undercover narcotics agent. Investigating the escalating police corruption in N\n",
            "------------------\n",
            "**** Recommended movie No.:  7\n",
            "Movie Id:  4886\n",
            "Title:  [\"His Brother's Ghost\"]\n",
            "Genres:  ['\"Western\",  \"Comedy\",  \"B-Western\"']\n",
            "Summary:  When a group of gunmen are running sharecroppers off their land, rancher Andy Jones sends for his friend Billy Carson to organise the sharecroppers to fight. Andy is soon mortally wounded by the gunmen, but before his death schemes for his no good twin brother Fuzzy to be sent for to impersonate him. The gunmen, witnessing Andy's funeral fear that Fuzzy is Andy's avenging ghost.\n",
            "------------------\n"
          ],
          "name": "stdout"
        }
      ]
    },
    {
      "cell_type": "code",
      "metadata": {
        "id": "IShcI0m5qkGg",
        "outputId": "707066a0-c5f6-489f-d2d6-30f38dfff9db"
      },
      "source": [
        "print_results(3000,7,cosine_sim,full=False)"
      ],
      "execution_count": null,
      "outputs": [
        {
          "output_type": "stream",
          "text": [
            "**** Target movie:  3000\n",
            "Title:  ['Dr. Jekyll and Mr. Mouse']\n",
            "Genres:  ['\"Short Film\",  \"Comedy\"']\n",
            "Summary:    Near a basement window are two milk bottles. Through the basement window, Tom reaches for one of the bottles and then snatches it, rushing into the living room to pour it in his bowl and drink it but Jerry also wants Tom's milk. Tom makes various attempts to catch Jerry but when they all fail, the cat dreams up a murderous plot to rid himself of his annoyance. The next scene shows Tom mixing chemicals such as moth balls, acid, and poison into his milk. When Tom stirs the deadly elixir with a s\n",
            "\n",
            "**** Brief description of recommended movies: \n",
            " [(1357, 0.7633391243754125), (3717, 0.7242988306946005), (4118, 0.6879293195850572), (2610, 0.6868184016624623), (2518, 0.6476514730604725), (3106, 0.6452257633925287), (2836, 0.6341794400785582)]\n",
            "\n",
            "**** 7  most related movies based on content:\n",
            "**** Recommended movie No.:  1\n",
            "Movie Id:  1357\n",
            "Title:  ['The Zoot Cat']\n",
            "Genres:  ['\"Family Film\",  \"Comedy\",  \"Animation\"']\n",
            "Summary:   The cartoon opens with a Valentine note to Toots from Tom with a pink ribbon tied to the card and the ribbon is tied to Jerry who is in a gift box. Meanwhile Tom is getting ready for a date with his whiskers in curlers and putting lard on the top of his head. He puts a little cologne on and even puts some on Jerry and then closes the box on him. He then proudly marches over to his female friend's house. Tom knocks on the door, rings the doorbell, and yells out, \"Yoo hoo! Hey Toots!\" Tom then dr\n",
            "------------------\n",
            "**** Recommended movie No.:  2\n",
            "Movie Id:  3717\n",
            "Title:  ['The Midnight Snack']\n",
            "Genres:  ['\"Short Film\",  \"Family Film\",  \"Comedy\",  \"Animation\"']\n",
            "Summary:   The cartoon takes place in a kitchen at midnight. Jerry pokes his head out of the refrigerator door and steals some cheese, unaware that Tom is watching him. Tom weighs the mouse down enough such that he can no longer see in front of him. After Jerry falls off from a rolling pin, Tom emerges from his hiding place with a smug face. Jerry \"salutes\" the cat and returns the slice of cheese to the refrigerator. He then proceeds to steal just a tiny bit of cheese, but Tom stomps on his tail with one \n",
            "------------------\n",
            "**** Recommended movie No.:  3\n",
            "Movie Id:  4118\n",
            "Title:  ['Texas Tom']\n",
            "Genres:  ['\"Western\",  \"Family Film\",  \"Animation\"']\n",
            "Summary:  Tom and Jerry are engaged in some Western-flavored cat-and-mouse games  when Tom spots a pretty cowgirl cat. Overcome with lust, Tom dresses up in his best cowboy duds and tries to impress the cowgirl, but Jerry sabotages his efforts. Tom takes out tobacco and rolls it up on a piece of paper, then uses Jerry's tongue to stick it closed, Tom smokes it and breathes out the smoke to spell \"Howdy\" as The cowgirl is flustered and giggly. At one point he sings a song for her on a guitar but has a reco\n",
            "------------------\n",
            "**** Recommended movie No.:  4\n",
            "Movie Id:  2610\n",
            "Title:  ['Down and Outing']\n",
            "Genres:  ['\"Comedy\"']\n",
            "Summary:   Tom accompanies his owner, Clint Clobber, who has severe anger management issues, on a fishing trip. Seeing this as the perfect opportunity to humiliate Tom, Jerry gathers some fishing supplies and tags along. While Clobber is loading the car with supplies, Tom is resting in the back of the car, when suddenly, Jerry throws a spare fishing pole at his head. He then grabs a fence out of the garden and uses it to climb into the car, but is met by Tom, who responds by catapulting him out of the veh\n",
            "------------------\n",
            "**** Recommended movie No.:  5\n",
            "Movie Id:  2518\n",
            "Title:  ['Buddies Thicker Than Water']\n",
            "Genres:  ['\"Comedy\"']\n",
            "Summary:  On a snowy night in New York City, Jerry is comfortably asleep in his hole inside a penthouse, while Tom tries to keep from freezing to death in the alley below, having been thrown out by the owner. He writes a note, slips it into a bottle, and throws it up to hit the penthouse window. Jerry, awakened by the noise, goes out to the balcony and finds both this note and a second one sent up by Tom:  Rushing to the alley, Jerry finds the frozen-solid Tom and drags him back upstairs on a trash can li\n",
            "------------------\n",
            "**** Recommended movie No.:  6\n",
            "Movie Id:  3106\n",
            "Title:  ['Cat and Dupli-cat']\n",
            "Genres:  ['\"Short Film\",  \"Family Film\",  \"Comedy\",  \"Animation\"']\n",
            "Summary:   Tom is rowing amongst some docks under the crescent moon, singing the Neapolitan ballad \"Santa Lucia\" the whole way in an operatic baritone voice. As he reaches the docks, he finds Jerry rowing in a small cup and mimicking him. Tom picks up the cup, steals some tea, sugar, and a spoon from a nearby cruise ship, and covers Jerry with both before he can finish. Tom then begins to drink the Jerry-tea, but an orange cat  pulls on Tom's tail, points at an empty plate, and holds his hand out as if to\n",
            "------------------\n",
            "**** Recommended movie No.:  7\n",
            "Movie Id:  2836\n",
            "Title:  ['Safety Second']\n",
            "Genres:  ['\"Short Film\",  \"Family Film\",  \"Animated cartoon\"']\n",
            "Summary:   The cartoon opens with Jerry and Nibbles asleep in their beds. Jerry wakes up and looks at his calendar, and seeing it's the Fourth of July, wakes up Nibbles. He instantly brings out the fireworks, but Jerry stuffs them back into the shed and impresses the daily quotation on his protege: Make it safe and sane. Jerry and Nibbles then go outside and enjoy their holiday with noisemakers with Jerry showing him it's still the Fourth of July without fireworks. before Nibbles  lights a firework from h\n",
            "------------------\n"
          ],
          "name": "stdout"
        }
      ]
    },
    {
      "cell_type": "markdown",
      "metadata": {
        "id": "egYAKDafqkGi"
      },
      "source": [
        "Και για τις τρεις ταινίες στόχους οι 7 προτεινόμενες ταινίες είναι σχετικές με αυτές."
      ]
    },
    {
      "cell_type": "markdown",
      "metadata": {
        "id": "1wJi8Hv7qkGj"
      },
      "source": [
        "**Συνάρτηση test_print**\n",
        "\n",
        "Τυπώνει την λίστα των ταινιών με τις καλύτερες (ως προς την ομοιότητα συνιμητόνου) προτεινόμενες ταινίες. Η μεταβλητή max_recommendations καθορίζει τον αριθμό των προτεινόμεων ταινιών που θα εκτυπωθεί."
      ]
    },
    {
      "cell_type": "code",
      "metadata": {
        "id": "MYHQuxjlqkGj"
      },
      "source": [
        "\n",
        "def test_print(max_recommendations, cosine_sim):\n",
        "    max = []\n",
        "    for i in range(5000):\n",
        "        max.append(content_recommender(i, 1, cosine_sim)[0][1])\n",
        "\n",
        "    max = np.array(max)\n",
        "    sim_scores = list(enumerate(max))\n",
        "    #print(sim_scores)\n",
        "    sim_scores = sorted(sim_scores, key=lambda x: x[1], reverse=True)\n",
        "    movie_indices = [i[0] for i in sim_scores]\n",
        "    #print(movie_indices)\n",
        "    # Get the scores of the max_recommendations most similar movies\n",
        "    movie_indices = movie_indices[0:max_recommendations]\n",
        "    top_sim_scores = sim_scores[0:max_recommendations]\n",
        "    print(movie_indices)\n",
        "    print(top_sim_scores)\n",
        "    \n",
        "    for j in range(len(movie_indices)):\n",
        "        \n",
        "        target_movie = movie_indices[j]\n",
        "        print(\"****************\")\n",
        "        print(\"**** Target movie: \", target_movie, titles[target_movie])\n",
        "        \n",
        "        rec = content_recommender(target_movie, 10, cosine_sim)\n",
        "        print(\"------------------\")\n",
        "        for i in range(10):\n",
        "            print(\"Movie Id: \", rec[i][0], titles[rec[i][0]])\n",
        "\n",
        "    "
      ],
      "execution_count": null,
      "outputs": []
    },
    {
      "cell_type": "code",
      "metadata": {
        "id": "0bw7rlp4qkGm",
        "outputId": "3151ead0-2ab2-4cde-a040-d996e28396d6"
      },
      "source": [
        "test_print(20,cosine_sim)"
      ],
      "execution_count": null,
      "outputs": [
        {
          "output_type": "stream",
          "text": [
            "[402, 1994, 4904, 1137, 2830, 1176, 3875, 1672, 4439, 2221, 4622, 2061, 4944, 284, 106, 3541, 1399, 2545, 4721, 3640]\n",
            "[(402, 0.8984319902972593), (1994, 0.8984319902972593), (4904, 0.8906067329541529), (1137, 0.8725763143134612), (2830, 0.8725763143134612), (1176, 0.850105863671458), (3875, 0.850105863671458), (1672, 0.8421146633350652), (4439, 0.8421146633350652), (2221, 0.8359119535401192), (4622, 0.8359119535401192), (2061, 0.8322155877542726), (4944, 0.8322155877542726), (284, 0.8273270459322872), (106, 0.8252900315019525), (3541, 0.8252900315019525), (1399, 0.8230392852415698), (2545, 0.8174769022800761), (4721, 0.8174769022800761), (3640, 0.8171077396189893)]\n",
            "****************\n",
            "**** Target movie:  402 ['Canary Row']\n",
            "------------------\n",
            "Movie Id:  1994 [\"Tweety's SOS\"]\n",
            "Movie Id:  4904 ['A Street Cat Named Sylvester']\n",
            "Movie Id:  2875 ['Tweet and Sour']\n",
            "Movie Id:  1271 ['Sandy Claws']\n",
            "Movie Id:  4451 ['Snow Business']\n",
            "Movie Id:  4815 ['Catty Cornered']\n",
            "Movie Id:  4239 ['Tom Tom Tomcat']\n",
            "Movie Id:  294 [\"Pop 'im Pop\"]\n",
            "Movie Id:  3971 ['Lighthouse Mouse']\n",
            "Movie Id:  2551 ['The Looney Looney Looney Bugs Bunny Movie']\n",
            "****************\n",
            "**** Target movie:  1994 [\"Tweety's SOS\"]\n",
            "------------------\n",
            "Movie Id:  402 ['Canary Row']\n",
            "Movie Id:  4904 ['A Street Cat Named Sylvester']\n",
            "Movie Id:  2875 ['Tweet and Sour']\n",
            "Movie Id:  1271 ['Sandy Claws']\n",
            "Movie Id:  4451 ['Snow Business']\n",
            "Movie Id:  4815 ['Catty Cornered']\n",
            "Movie Id:  4239 ['Tom Tom Tomcat']\n",
            "Movie Id:  294 [\"Pop 'im Pop\"]\n",
            "Movie Id:  3971 ['Lighthouse Mouse']\n",
            "Movie Id:  2551 ['The Looney Looney Looney Bugs Bunny Movie']\n",
            "****************\n",
            "**** Target movie:  4904 ['A Street Cat Named Sylvester']\n",
            "------------------\n",
            "Movie Id:  1994 [\"Tweety's SOS\"]\n",
            "Movie Id:  402 ['Canary Row']\n",
            "Movie Id:  2875 ['Tweet and Sour']\n",
            "Movie Id:  4451 ['Snow Business']\n",
            "Movie Id:  1271 ['Sandy Claws']\n",
            "Movie Id:  4815 ['Catty Cornered']\n",
            "Movie Id:  4239 ['Tom Tom Tomcat']\n",
            "Movie Id:  294 [\"Pop 'im Pop\"]\n",
            "Movie Id:  3971 ['Lighthouse Mouse']\n",
            "Movie Id:  2551 ['The Looney Looney Looney Bugs Bunny Movie']\n",
            "****************\n",
            "**** Target movie:  1137 ['Chapali Height']\n",
            "------------------\n",
            "Movie Id:  2830 ['Saawariya']\n",
            "Movie Id:  4984 ['Aasha']\n",
            "Movie Id:  3423 ['Andaaz']\n",
            "Movie Id:  1759 ['Qayamat Se Qayamat Tak']\n",
            "Movie Id:  3789 ['Soch']\n",
            "Movie Id:  2366 ['Rab Ne Bana Di Jodi']\n",
            "Movie Id:  1310 ['Arth']\n",
            "Movie Id:  1201 ['I Love You']\n",
            "Movie Id:  173 ['Kyo Kii... Main Jhuth Nahin Bolta']\n",
            "Movie Id:  1219 ['Golimaar']\n",
            "****************\n",
            "**** Target movie:  2830 ['Saawariya']\n",
            "------------------\n",
            "Movie Id:  1137 ['Chapali Height']\n",
            "Movie Id:  4984 ['Aasha']\n",
            "Movie Id:  3423 ['Andaaz']\n",
            "Movie Id:  1759 ['Qayamat Se Qayamat Tak']\n",
            "Movie Id:  2366 ['Rab Ne Bana Di Jodi']\n",
            "Movie Id:  3789 ['Soch']\n",
            "Movie Id:  1201 ['I Love You']\n",
            "Movie Id:  1310 ['Arth']\n",
            "Movie Id:  173 ['Kyo Kii... Main Jhuth Nahin Bolta']\n",
            "Movie Id:  2044 ['Bandini']\n",
            "****************\n",
            "**** Target movie:  1176 ['Tora-san Plays Cupid']\n",
            "------------------\n",
            "Movie Id:  3875 ['Tora-san, the Matchmaker']\n",
            "Movie Id:  3640 [\"Tora-san's Love in Osaka\"]\n",
            "Movie Id:  733 ['Tora-san, the Go-Between']\n",
            "Movie Id:  3505 [\"Tora-San's Cherished Mother\"]\n",
            "Movie Id:  3824 [\"Tora-san's Rise and Fall\"]\n",
            "Movie Id:  4676 [\"Tora-san's Salad-Day Memorial\"]\n",
            "Movie Id:  4368 ['Tora-san, the Intellectual']\n",
            "Movie Id:  2562 [\"Tora-san's Grand Scheme\"]\n",
            "Movie Id:  3837 [\"Tora's Pure Love\"]\n",
            "Movie Id:  1526 ['Red Mercury']\n",
            "****************\n",
            "**** Target movie:  3875 ['Tora-san, the Matchmaker']\n",
            "------------------\n",
            "Movie Id:  1176 ['Tora-san Plays Cupid']\n",
            "Movie Id:  3640 [\"Tora-san's Love in Osaka\"]\n",
            "Movie Id:  733 ['Tora-san, the Go-Between']\n",
            "Movie Id:  4676 [\"Tora-san's Salad-Day Memorial\"]\n",
            "Movie Id:  3505 [\"Tora-San's Cherished Mother\"]\n",
            "Movie Id:  3824 [\"Tora-san's Rise and Fall\"]\n",
            "Movie Id:  2562 [\"Tora-san's Grand Scheme\"]\n",
            "Movie Id:  4368 ['Tora-san, the Intellectual']\n",
            "Movie Id:  1526 ['Red Mercury']\n",
            "Movie Id:  2797 [\"The Butler's Dilemma\"]\n",
            "****************\n",
            "**** Target movie:  1672 ['Kotha Bangaru Lokam']\n",
            "------------------\n",
            "Movie Id:  4439 ['100% Love']\n",
            "Movie Id:  1836 ['Azhagi']\n",
            "Movie Id:  3335 ['Vedham Pudhithu']\n",
            "Movie Id:  2047 ['Ratha Kanneer']\n",
            "Movie Id:  654 ['Annavaram']\n",
            "Movie Id:  903 ['Jhummandi Nadam']\n",
            "Movie Id:  2912 ['Aandhi-Toofan']\n",
            "Movie Id:  2547 ['Utharam']\n",
            "Movie Id:  3411 ['Anantaram']\n",
            "Movie Id:  1178 ['F.A.L.T.U']\n",
            "****************\n",
            "**** Target movie:  4439 ['100% Love']\n",
            "------------------\n",
            "Movie Id:  1672 ['Kotha Bangaru Lokam']\n",
            "Movie Id:  1836 ['Azhagi']\n",
            "Movie Id:  3335 ['Vedham Pudhithu']\n",
            "Movie Id:  2047 ['Ratha Kanneer']\n",
            "Movie Id:  654 ['Annavaram']\n",
            "Movie Id:  903 ['Jhummandi Nadam']\n",
            "Movie Id:  2912 ['Aandhi-Toofan']\n",
            "Movie Id:  3411 ['Anantaram']\n",
            "Movie Id:  2547 ['Utharam']\n",
            "Movie Id:  2312 ['Recep İvedik 2']\n",
            "****************\n",
            "**** Target movie:  2221 ['Fastest with the Mostest']\n",
            "------------------\n",
            "Movie Id:  4622 ['Guided Muscle']\n",
            "Movie Id:  284 ['Chariots of Fur']\n",
            "Movie Id:  1399 [\"Zip 'N Snort\"]\n",
            "Movie Id:  2810 ['Hook, Line and Stinker']\n",
            "Movie Id:  4993 ['Operation: Rabbit']\n",
            "Movie Id:  4752 ['Portrait of the Artist as a Young Bunny']\n",
            "Movie Id:  1584 ['Bombs Over Burma']\n",
            "Movie Id:  4005 ['Freerunner']\n",
            "Movie Id:  2183 ['Brewster McCloud']\n",
            "Movie Id:  1476 ['Dead End']\n",
            "****************\n",
            "**** Target movie:  4622 ['Guided Muscle']\n",
            "------------------\n",
            "Movie Id:  2221 ['Fastest with the Mostest']\n",
            "Movie Id:  1399 [\"Zip 'N Snort\"]\n",
            "Movie Id:  284 ['Chariots of Fur']\n",
            "Movie Id:  2810 ['Hook, Line and Stinker']\n",
            "Movie Id:  4993 ['Operation: Rabbit']\n",
            "Movie Id:  4752 ['Portrait of the Artist as a Young Bunny']\n",
            "Movie Id:  1584 ['Bombs Over Burma']\n",
            "Movie Id:  4005 ['Freerunner']\n",
            "Movie Id:  2183 ['Brewster McCloud']\n",
            "Movie Id:  3964 ['Cars']\n",
            "****************\n",
            "**** Target movie:  2061 ['Belly of the Beast']\n",
            "------------------\n",
            "Movie Id:  4944 ['Replicant']\n",
            "Movie Id:  459 ['Demon Hunter']\n",
            "Movie Id:  918 ['The Guardian']\n",
            "Movie Id:  4262 ['The Minority']\n",
            "Movie Id:  2143 ['Dad']\n",
            "Movie Id:  1380 ['Jake Speed']\n",
            "Movie Id:  712 ['Going Greek']\n",
            "Movie Id:  4112 ['Arizona Sky']\n",
            "Movie Id:  2517 ['Ceiling Zero']\n",
            "Movie Id:  533 ['The Grudge 3']\n",
            "****************\n",
            "**** Target movie:  4944 ['Replicant']\n",
            "------------------\n",
            "Movie Id:  2061 ['Belly of the Beast']\n",
            "Movie Id:  459 ['Demon Hunter']\n",
            "Movie Id:  4262 ['The Minority']\n",
            "Movie Id:  918 ['The Guardian']\n",
            "Movie Id:  2143 ['Dad']\n",
            "Movie Id:  1380 ['Jake Speed']\n",
            "Movie Id:  712 ['Going Greek']\n",
            "Movie Id:  4112 ['Arizona Sky']\n",
            "Movie Id:  2517 ['Ceiling Zero']\n",
            "Movie Id:  533 ['The Grudge 3']\n",
            "****************\n",
            "**** Target movie:  284 ['Chariots of Fur']\n",
            "------------------\n",
            "Movie Id:  2221 ['Fastest with the Mostest']\n",
            "Movie Id:  4622 ['Guided Muscle']\n",
            "Movie Id:  1399 [\"Zip 'N Snort\"]\n",
            "Movie Id:  2810 ['Hook, Line and Stinker']\n",
            "Movie Id:  4993 ['Operation: Rabbit']\n",
            "Movie Id:  4752 ['Portrait of the Artist as a Young Bunny']\n",
            "Movie Id:  1584 ['Bombs Over Burma']\n",
            "Movie Id:  3964 ['Cars']\n",
            "Movie Id:  1476 ['Dead End']\n",
            "Movie Id:  4005 ['Freerunner']\n",
            "****************\n",
            "**** Target movie:  106 ['Mehbooba']\n",
            "------------------\n",
            "Movie Id:  3541 ['Hum Tum']\n",
            "Movie Id:  3744 ['Mittal v/s Mittal']\n",
            "Movie Id:  1559 ['Chain Kulii Ki Main Kulii']\n",
            "Movie Id:  1295 ['Jeet']\n",
            "Movie Id:  211 ['Maine Pyar Kiya']\n",
            "Movie Id:  2333 ['Coimbatore Maaple']\n",
            "Movie Id:  2322 ['Cash']\n",
            "Movie Id:  3423 ['Andaaz']\n",
            "Movie Id:  682 ['Mumbai Salsa']\n",
            "Movie Id:  2888 ['Apartment']\n",
            "****************\n",
            "**** Target movie:  3541 ['Hum Tum']\n",
            "------------------\n",
            "Movie Id:  106 ['Mehbooba']\n",
            "Movie Id:  3744 ['Mittal v/s Mittal']\n",
            "Movie Id:  1559 ['Chain Kulii Ki Main Kulii']\n",
            "Movie Id:  1295 ['Jeet']\n",
            "Movie Id:  211 ['Maine Pyar Kiya']\n",
            "Movie Id:  2333 ['Coimbatore Maaple']\n",
            "Movie Id:  2322 ['Cash']\n",
            "Movie Id:  3423 ['Andaaz']\n",
            "Movie Id:  682 ['Mumbai Salsa']\n",
            "Movie Id:  2888 ['Apartment']\n",
            "****************\n",
            "**** Target movie:  1399 [\"Zip 'N Snort\"]\n",
            "------------------\n",
            "Movie Id:  4622 ['Guided Muscle']\n",
            "Movie Id:  284 ['Chariots of Fur']\n",
            "Movie Id:  2221 ['Fastest with the Mostest']\n",
            "Movie Id:  2810 ['Hook, Line and Stinker']\n",
            "Movie Id:  4993 ['Operation: Rabbit']\n",
            "Movie Id:  4752 ['Portrait of the Artist as a Young Bunny']\n",
            "Movie Id:  1584 ['Bombs Over Burma']\n",
            "Movie Id:  3521 ['Charro!']\n",
            "Movie Id:  4361 ['1612']\n",
            "Movie Id:  3769 ['The Mexican Dream']\n",
            "****************\n",
            "**** Target movie:  2545 ['Oliver!']\n",
            "------------------\n",
            "Movie Id:  4721 ['Oliver Twist']\n",
            "Movie Id:  2253 ['Love Story']\n",
            "Movie Id:  2041 ['Buffy the Vampire Slayer']\n",
            "Movie Id:  1492 ['Dirty Work']\n",
            "Movie Id:  2247 ['Blow Me Down!']\n",
            "Movie Id:  3870 ['Forsaking All Others']\n",
            "Movie Id:  1777 [\"Oliver's Story\"]\n",
            "Movie Id:  2520 ['Cat People']\n",
            "Movie Id:  2964 [\"I Haven't Got a Hat\"]\n",
            "Movie Id:  1462 ['Hide and Seek']\n",
            "****************\n",
            "**** Target movie:  4721 ['Oliver Twist']\n",
            "------------------\n",
            "Movie Id:  2545 ['Oliver!']\n",
            "Movie Id:  2253 ['Love Story']\n",
            "Movie Id:  2041 ['Buffy the Vampire Slayer']\n",
            "Movie Id:  3870 ['Forsaking All Others']\n",
            "Movie Id:  2247 ['Blow Me Down!']\n",
            "Movie Id:  1492 ['Dirty Work']\n",
            "Movie Id:  2520 ['Cat People']\n",
            "Movie Id:  1777 [\"Oliver's Story\"]\n",
            "Movie Id:  3477 ['The Bohemian Girl']\n",
            "Movie Id:  2964 [\"I Haven't Got a Hat\"]\n",
            "****************\n",
            "**** Target movie:  3640 [\"Tora-san's Love in Osaka\"]\n",
            "------------------\n",
            "Movie Id:  3875 ['Tora-san, the Matchmaker']\n",
            "Movie Id:  1176 ['Tora-san Plays Cupid']\n",
            "Movie Id:  733 ['Tora-san, the Go-Between']\n",
            "Movie Id:  3505 [\"Tora-San's Cherished Mother\"]\n",
            "Movie Id:  4676 [\"Tora-san's Salad-Day Memorial\"]\n",
            "Movie Id:  3824 [\"Tora-san's Rise and Fall\"]\n",
            "Movie Id:  4368 ['Tora-san, the Intellectual']\n",
            "Movie Id:  2562 [\"Tora-san's Grand Scheme\"]\n",
            "Movie Id:  3837 [\"Tora's Pure Love\"]\n",
            "Movie Id:  1526 ['Red Mercury']\n"
          ],
          "name": "stdout"
        }
      ]
    },
    {
      "cell_type": "markdown",
      "metadata": {
        "id": "kAqihcBnqkGo"
      },
      "source": [
        "Προσπάθεια ελλάτωσης διαστατικότητας μέσω της ματβλητης max_features"
      ]
    },
    {
      "cell_type": "code",
      "metadata": {
        "scrolled": true,
        "id": "GDZoVjrHqkGp",
        "outputId": "ccabd249-9637-4fa6-aef4-4fb1e16487bf"
      },
      "source": [
        "vect = TfidfVectorizer(stop_words=stop_words,min_df=10, max_df=0.5, max_features = 5000)\n",
        "vect.fit(corpus_completed)\n",
        "final_corpus = vect.transform(corpus_completed)\n",
        "\n",
        "print(final_corpus.shape)\n",
        "final_doc_terms = vect.inverse_transform(final_corpus)\n",
        "\n",
        "# Compute the cosine similarity matrix\n",
        "final_cosine_sim = linear_kernel(final_corpus, final_corpus)\n",
        "print(final_cosine_sim.shape)"
      ],
      "execution_count": null,
      "outputs": [
        {
          "output_type": "stream",
          "text": [
            "(5000, 5000)\n",
            "(5000, 5000)\n"
          ],
          "name": "stdout"
        }
      ]
    },
    {
      "cell_type": "code",
      "metadata": {
        "id": "18F3KTm3qkGr",
        "outputId": "77c2fcd5-e8d1-4781-a594-432ec46dfd69"
      },
      "source": [
        "joblib.dump(final_corpus, 'final_mystopwords+10+0_5+5000.pkl')"
      ],
      "execution_count": null,
      "outputs": [
        {
          "output_type": "execute_result",
          "data": {
            "text/plain": [
              "['final_mystopwords+10+0_5+5000.pkl']"
            ]
          },
          "metadata": {
            "tags": []
          },
          "execution_count": 435
        }
      ]
    },
    {
      "cell_type": "code",
      "metadata": {
        "id": "1CJOR7QGqkGt",
        "outputId": "29748deb-da16-473c-ae40-563cf226ccbb"
      },
      "source": [
        "test_print(20,final_cosine_sim)"
      ],
      "execution_count": null,
      "outputs": [
        {
          "output_type": "stream",
          "text": [
            "[402, 1994, 4904, 1137, 2830, 2061, 4944, 1672, 4439, 2221, 4622, 284, 1399, 106, 3541, 1176, 3875, 2545, 4721, 1141]\n",
            "[(402, 0.9029247772604341), (1994, 0.9029247772604341), (4904, 0.8910356501451575), (1137, 0.8746290811193245), (2830, 0.8746290811193245), (2061, 0.8435605707960847), (4944, 0.8435605707960847), (1672, 0.8430542367354414), (4439, 0.8430542367354414), (2221, 0.8414537635721663), (4622, 0.8414537635721663), (284, 0.8325674798641446), (1399, 0.8291856139705864), (106, 0.8289148721673595), (3541, 0.8289148721673595), (1176, 0.8269589401298157), (3875, 0.8269589401298157), (2545, 0.8226439152272719), (4721, 0.8226439152272719), (1141, 0.8176682073593711)]\n",
            "****************\n",
            "**** Target movie:  402 ['Canary Row']\n",
            "------------------\n",
            "Movie Id:  1994 [\"Tweety's SOS\"]\n",
            "Movie Id:  4904 ['A Street Cat Named Sylvester']\n",
            "Movie Id:  2875 ['Tweet and Sour']\n",
            "Movie Id:  1271 ['Sandy Claws']\n",
            "Movie Id:  4451 ['Snow Business']\n",
            "Movie Id:  4815 ['Catty Cornered']\n",
            "Movie Id:  4239 ['Tom Tom Tomcat']\n",
            "Movie Id:  294 [\"Pop 'im Pop\"]\n",
            "Movie Id:  3971 ['Lighthouse Mouse']\n",
            "Movie Id:  2551 ['The Looney Looney Looney Bugs Bunny Movie']\n",
            "****************\n",
            "**** Target movie:  1994 [\"Tweety's SOS\"]\n",
            "------------------\n",
            "Movie Id:  402 ['Canary Row']\n",
            "Movie Id:  4904 ['A Street Cat Named Sylvester']\n",
            "Movie Id:  2875 ['Tweet and Sour']\n",
            "Movie Id:  4451 ['Snow Business']\n",
            "Movie Id:  1271 ['Sandy Claws']\n",
            "Movie Id:  4815 ['Catty Cornered']\n",
            "Movie Id:  4239 ['Tom Tom Tomcat']\n",
            "Movie Id:  294 [\"Pop 'im Pop\"]\n",
            "Movie Id:  3971 ['Lighthouse Mouse']\n",
            "Movie Id:  2551 ['The Looney Looney Looney Bugs Bunny Movie']\n",
            "****************\n",
            "**** Target movie:  4904 ['A Street Cat Named Sylvester']\n",
            "------------------\n",
            "Movie Id:  1994 [\"Tweety's SOS\"]\n",
            "Movie Id:  402 ['Canary Row']\n",
            "Movie Id:  2875 ['Tweet and Sour']\n",
            "Movie Id:  4451 ['Snow Business']\n",
            "Movie Id:  1271 ['Sandy Claws']\n",
            "Movie Id:  4815 ['Catty Cornered']\n",
            "Movie Id:  4239 ['Tom Tom Tomcat']\n",
            "Movie Id:  294 [\"Pop 'im Pop\"]\n",
            "Movie Id:  3971 ['Lighthouse Mouse']\n",
            "Movie Id:  2551 ['The Looney Looney Looney Bugs Bunny Movie']\n",
            "****************\n",
            "**** Target movie:  1137 ['Chapali Height']\n",
            "------------------\n",
            "Movie Id:  2830 ['Saawariya']\n",
            "Movie Id:  4984 ['Aasha']\n",
            "Movie Id:  3423 ['Andaaz']\n",
            "Movie Id:  1759 ['Qayamat Se Qayamat Tak']\n",
            "Movie Id:  3789 ['Soch']\n",
            "Movie Id:  2366 ['Rab Ne Bana Di Jodi']\n",
            "Movie Id:  1310 ['Arth']\n",
            "Movie Id:  173 ['Kyo Kii... Main Jhuth Nahin Bolta']\n",
            "Movie Id:  1201 ['I Love You']\n",
            "Movie Id:  2044 ['Bandini']\n",
            "****************\n",
            "**** Target movie:  2830 ['Saawariya']\n",
            "------------------\n",
            "Movie Id:  1137 ['Chapali Height']\n",
            "Movie Id:  4984 ['Aasha']\n",
            "Movie Id:  3423 ['Andaaz']\n",
            "Movie Id:  1759 ['Qayamat Se Qayamat Tak']\n",
            "Movie Id:  2366 ['Rab Ne Bana Di Jodi']\n",
            "Movie Id:  3789 ['Soch']\n",
            "Movie Id:  1201 ['I Love You']\n",
            "Movie Id:  1310 ['Arth']\n",
            "Movie Id:  173 ['Kyo Kii... Main Jhuth Nahin Bolta']\n",
            "Movie Id:  2044 ['Bandini']\n",
            "****************\n",
            "**** Target movie:  2061 ['Belly of the Beast']\n",
            "------------------\n",
            "Movie Id:  4944 ['Replicant']\n",
            "Movie Id:  459 ['Demon Hunter']\n",
            "Movie Id:  918 ['The Guardian']\n",
            "Movie Id:  4262 ['The Minority']\n",
            "Movie Id:  2143 ['Dad']\n",
            "Movie Id:  1380 ['Jake Speed']\n",
            "Movie Id:  712 ['Going Greek']\n",
            "Movie Id:  4112 ['Arizona Sky']\n",
            "Movie Id:  2517 ['Ceiling Zero']\n",
            "Movie Id:  533 ['The Grudge 3']\n",
            "****************\n",
            "**** Target movie:  4944 ['Replicant']\n",
            "------------------\n",
            "Movie Id:  2061 ['Belly of the Beast']\n",
            "Movie Id:  459 ['Demon Hunter']\n",
            "Movie Id:  4262 ['The Minority']\n",
            "Movie Id:  918 ['The Guardian']\n",
            "Movie Id:  2143 ['Dad']\n",
            "Movie Id:  712 ['Going Greek']\n",
            "Movie Id:  1380 ['Jake Speed']\n",
            "Movie Id:  4112 ['Arizona Sky']\n",
            "Movie Id:  2517 ['Ceiling Zero']\n",
            "Movie Id:  533 ['The Grudge 3']\n",
            "****************\n",
            "**** Target movie:  1672 ['Kotha Bangaru Lokam']\n",
            "------------------\n",
            "Movie Id:  4439 ['100% Love']\n",
            "Movie Id:  1836 ['Azhagi']\n",
            "Movie Id:  3335 ['Vedham Pudhithu']\n",
            "Movie Id:  2047 ['Ratha Kanneer']\n",
            "Movie Id:  654 ['Annavaram']\n",
            "Movie Id:  903 ['Jhummandi Nadam']\n",
            "Movie Id:  2912 ['Aandhi-Toofan']\n",
            "Movie Id:  3411 ['Anantaram']\n",
            "Movie Id:  2547 ['Utharam']\n",
            "Movie Id:  1178 ['F.A.L.T.U']\n",
            "****************\n",
            "**** Target movie:  4439 ['100% Love']\n",
            "------------------\n",
            "Movie Id:  1672 ['Kotha Bangaru Lokam']\n",
            "Movie Id:  1836 ['Azhagi']\n",
            "Movie Id:  3335 ['Vedham Pudhithu']\n",
            "Movie Id:  2047 ['Ratha Kanneer']\n",
            "Movie Id:  654 ['Annavaram']\n",
            "Movie Id:  903 ['Jhummandi Nadam']\n",
            "Movie Id:  2912 ['Aandhi-Toofan']\n",
            "Movie Id:  3411 ['Anantaram']\n",
            "Movie Id:  2547 ['Utharam']\n",
            "Movie Id:  2312 ['Recep İvedik 2']\n",
            "****************\n",
            "**** Target movie:  2221 ['Fastest with the Mostest']\n",
            "------------------\n",
            "Movie Id:  4622 ['Guided Muscle']\n",
            "Movie Id:  284 ['Chariots of Fur']\n",
            "Movie Id:  1399 [\"Zip 'N Snort\"]\n",
            "Movie Id:  2810 ['Hook, Line and Stinker']\n",
            "Movie Id:  4993 ['Operation: Rabbit']\n",
            "Movie Id:  4752 ['Portrait of the Artist as a Young Bunny']\n",
            "Movie Id:  1584 ['Bombs Over Burma']\n",
            "Movie Id:  4005 ['Freerunner']\n",
            "Movie Id:  2183 ['Brewster McCloud']\n",
            "Movie Id:  1476 ['Dead End']\n",
            "****************\n",
            "**** Target movie:  4622 ['Guided Muscle']\n",
            "------------------\n",
            "Movie Id:  2221 ['Fastest with the Mostest']\n",
            "Movie Id:  1399 [\"Zip 'N Snort\"]\n",
            "Movie Id:  284 ['Chariots of Fur']\n",
            "Movie Id:  2810 ['Hook, Line and Stinker']\n",
            "Movie Id:  4993 ['Operation: Rabbit']\n",
            "Movie Id:  4752 ['Portrait of the Artist as a Young Bunny']\n",
            "Movie Id:  1584 ['Bombs Over Burma']\n",
            "Movie Id:  4005 ['Freerunner']\n",
            "Movie Id:  2183 ['Brewster McCloud']\n",
            "Movie Id:  3964 ['Cars']\n",
            "****************\n",
            "**** Target movie:  284 ['Chariots of Fur']\n",
            "------------------\n",
            "Movie Id:  2221 ['Fastest with the Mostest']\n",
            "Movie Id:  4622 ['Guided Muscle']\n",
            "Movie Id:  1399 [\"Zip 'N Snort\"]\n",
            "Movie Id:  2810 ['Hook, Line and Stinker']\n",
            "Movie Id:  4993 ['Operation: Rabbit']\n",
            "Movie Id:  4752 ['Portrait of the Artist as a Young Bunny']\n",
            "Movie Id:  1584 ['Bombs Over Burma']\n",
            "Movie Id:  3964 ['Cars']\n",
            "Movie Id:  4005 ['Freerunner']\n",
            "Movie Id:  2183 ['Brewster McCloud']\n",
            "****************\n",
            "**** Target movie:  1399 [\"Zip 'N Snort\"]\n",
            "------------------\n",
            "Movie Id:  4622 ['Guided Muscle']\n",
            "Movie Id:  284 ['Chariots of Fur']\n",
            "Movie Id:  2221 ['Fastest with the Mostest']\n",
            "Movie Id:  2810 ['Hook, Line and Stinker']\n",
            "Movie Id:  4993 ['Operation: Rabbit']\n",
            "Movie Id:  4752 ['Portrait of the Artist as a Young Bunny']\n",
            "Movie Id:  1584 ['Bombs Over Burma']\n",
            "Movie Id:  3521 ['Charro!']\n",
            "Movie Id:  4361 ['1612']\n",
            "Movie Id:  3769 ['The Mexican Dream']\n",
            "****************\n",
            "**** Target movie:  106 ['Mehbooba']\n",
            "------------------\n",
            "Movie Id:  3541 ['Hum Tum']\n",
            "Movie Id:  3744 ['Mittal v/s Mittal']\n",
            "Movie Id:  1559 ['Chain Kulii Ki Main Kulii']\n",
            "Movie Id:  1295 ['Jeet']\n",
            "Movie Id:  211 ['Maine Pyar Kiya']\n",
            "Movie Id:  2333 ['Coimbatore Maaple']\n",
            "Movie Id:  2322 ['Cash']\n",
            "Movie Id:  3423 ['Andaaz']\n",
            "Movie Id:  682 ['Mumbai Salsa']\n",
            "Movie Id:  2888 ['Apartment']\n",
            "****************\n",
            "**** Target movie:  3541 ['Hum Tum']\n",
            "------------------\n",
            "Movie Id:  106 ['Mehbooba']\n",
            "Movie Id:  3744 ['Mittal v/s Mittal']\n",
            "Movie Id:  1559 ['Chain Kulii Ki Main Kulii']\n",
            "Movie Id:  1295 ['Jeet']\n",
            "Movie Id:  211 ['Maine Pyar Kiya']\n",
            "Movie Id:  2333 ['Coimbatore Maaple']\n",
            "Movie Id:  2322 ['Cash']\n",
            "Movie Id:  3423 ['Andaaz']\n",
            "Movie Id:  682 ['Mumbai Salsa']\n",
            "Movie Id:  2888 ['Apartment']\n",
            "****************\n",
            "**** Target movie:  1176 ['Tora-san Plays Cupid']\n",
            "------------------\n",
            "Movie Id:  3875 ['Tora-san, the Matchmaker']\n",
            "Movie Id:  3640 [\"Tora-san's Love in Osaka\"]\n",
            "Movie Id:  733 ['Tora-san, the Go-Between']\n",
            "Movie Id:  3505 [\"Tora-San's Cherished Mother\"]\n",
            "Movie Id:  3824 [\"Tora-san's Rise and Fall\"]\n",
            "Movie Id:  4676 [\"Tora-san's Salad-Day Memorial\"]\n",
            "Movie Id:  4368 ['Tora-san, the Intellectual']\n",
            "Movie Id:  2562 [\"Tora-san's Grand Scheme\"]\n",
            "Movie Id:  3837 [\"Tora's Pure Love\"]\n",
            "Movie Id:  1526 ['Red Mercury']\n",
            "****************\n",
            "**** Target movie:  3875 ['Tora-san, the Matchmaker']\n",
            "------------------\n",
            "Movie Id:  1176 ['Tora-san Plays Cupid']\n",
            "Movie Id:  3640 [\"Tora-san's Love in Osaka\"]\n",
            "Movie Id:  733 ['Tora-san, the Go-Between']\n",
            "Movie Id:  4676 [\"Tora-san's Salad-Day Memorial\"]\n",
            "Movie Id:  3505 [\"Tora-San's Cherished Mother\"]\n",
            "Movie Id:  3824 [\"Tora-san's Rise and Fall\"]\n",
            "Movie Id:  4368 ['Tora-san, the Intellectual']\n",
            "Movie Id:  1526 ['Red Mercury']\n",
            "Movie Id:  2562 [\"Tora-san's Grand Scheme\"]\n",
            "Movie Id:  3837 [\"Tora's Pure Love\"]\n",
            "****************\n",
            "**** Target movie:  2545 ['Oliver!']\n",
            "------------------\n",
            "Movie Id:  4721 ['Oliver Twist']\n",
            "Movie Id:  2253 ['Love Story']\n",
            "Movie Id:  2041 ['Buffy the Vampire Slayer']\n",
            "Movie Id:  2247 ['Blow Me Down!']\n",
            "Movie Id:  1777 [\"Oliver's Story\"]\n",
            "Movie Id:  1492 ['Dirty Work']\n",
            "Movie Id:  3870 ['Forsaking All Others']\n",
            "Movie Id:  2520 ['Cat People']\n",
            "Movie Id:  1462 ['Hide and Seek']\n",
            "Movie Id:  2964 [\"I Haven't Got a Hat\"]\n",
            "****************\n",
            "**** Target movie:  4721 ['Oliver Twist']\n",
            "------------------\n",
            "Movie Id:  2545 ['Oliver!']\n",
            "Movie Id:  2253 ['Love Story']\n",
            "Movie Id:  2041 ['Buffy the Vampire Slayer']\n",
            "Movie Id:  3870 ['Forsaking All Others']\n",
            "Movie Id:  2247 ['Blow Me Down!']\n",
            "Movie Id:  1777 [\"Oliver's Story\"]\n",
            "Movie Id:  1492 ['Dirty Work']\n",
            "Movie Id:  2520 ['Cat People']\n",
            "Movie Id:  3477 ['The Bohemian Girl']\n",
            "Movie Id:  2964 [\"I Haven't Got a Hat\"]\n",
            "****************\n",
            "**** Target movie:  1141 ['Once More']\n",
            "------------------\n",
            "Movie Id:  3326 ['Nishabd']\n",
            "Movie Id:  4850 ['Meri Adalat']\n",
            "Movie Id:  3858 ['Souryam']\n",
            "Movie Id:  4076 ['Pyar Ka Mandir']\n",
            "Movie Id:  479 ['The Great Gambler']\n",
            "Movie Id:  1540 ['Prematho Raa']\n",
            "Movie Id:  4811 ['Aalavandhan']\n",
            "Movie Id:  2233 ['Chor Machaye Shor']\n",
            "Movie Id:  1362 ['Dostana']\n",
            "Movie Id:  4147 ['Chattaniki Kallu Levu']\n"
          ],
          "name": "stdout"
        }
      ]
    },
    {
      "cell_type": "markdown",
      "metadata": {
        "id": "-9Vjyl7pqkGx"
      },
      "source": [
        "Με την μείωση διαστατικότητας μειώθηκε η αξιοπιστία των αποτελεσμάτων"
      ]
    },
    {
      "cell_type": "markdown",
      "metadata": {
        "id": "zglAwf9cqkGy"
      },
      "source": [
        "### Προεπεξεργασία των δεδομένων - Μόνο lemmatizer."
      ]
    },
    {
      "cell_type": "markdown",
      "metadata": {
        "id": "4oUSDoSGqkGy"
      },
      "source": [
        "H **preprocess_document_2** είναι παρόμοια με την preprocess_document. Στην preprocess_document_2 συνάρτηση καλείται μόνο ο lemmatizer ενώ η preprocess_document συνάρτηση καλεί και stemmer και lemmatizer.\n"
      ]
    },
    {
      "cell_type": "code",
      "metadata": {
        "id": "tjCi2Sv4qkGz"
      },
      "source": [
        "import collections\n",
        "\n",
        "def preprocess_document_2(document):\n",
        "    words = nltk.word_tokenize(document.lower())\n",
        "    filtered_words = [word for word in words if word not in stopwords.words('english') + list(string.punctuation)]\n",
        "    filtered_words = thorough_filter(filtered_words)\n",
        "    stemmed_words = [wordnet_lemmatizer.lemmatize(word) for word in filtered_words]\n",
        "    return stemmed_words"
      ],
      "execution_count": null,
      "outputs": []
    },
    {
      "cell_type": "code",
      "metadata": {
        "id": "3ugfAWzvqkG1"
      },
      "source": [
        "preprocessed_corpus_2 = [preprocess_document_2(doc) for doc in corpus]"
      ],
      "execution_count": null,
      "outputs": []
    },
    {
      "cell_type": "code",
      "metadata": {
        "id": "AA8P61qHqkG2",
        "outputId": "29d66047-23ee-4ff2-8488-a58846e47db5"
      },
      "source": [
        "# Αποθήκευση για μελλοντική χρήση\n",
        "joblib.dump(preprocessed_corpus_2, 'preprocessed_corpus_2.pkl') "
      ],
      "execution_count": null,
      "outputs": [
        {
          "output_type": "execute_result",
          "data": {
            "text/plain": [
              "['preprocessed_corpus_2.pkl']"
            ]
          },
          "metadata": {
            "tags": []
          },
          "execution_count": 416
        }
      ]
    },
    {
      "cell_type": "code",
      "metadata": {
        "id": "koqZyUIAqkG5"
      },
      "source": [
        "corpus_completed_2 = []\n",
        "for words in preprocessed_corpus_2:\n",
        "  corpus_completed_2.append(' '.join(words))"
      ],
      "execution_count": null,
      "outputs": []
    },
    {
      "cell_type": "markdown",
      "metadata": {
        "id": "jQfiWzjCqkG9"
      },
      "source": [
        "#### Παραμετροποίηση του Vectorizer:\n",
        "\n",
        "Αφαίρεση των english stopwords\n",
        "Αφαίρεση των όρων που εμφανίζονται σε λιγότερα από 10 documents\n",
        "Αφαίρεση των όρων που εμφανίζονται σε περισσότερα από το 40% των κειμένων"
      ]
    },
    {
      "cell_type": "code",
      "metadata": {
        "scrolled": true,
        "id": "XRbiK5_4qkG-",
        "outputId": "bee0850d-bcfd-43e8-c990-acc08f8332c1"
      },
      "source": [
        "vectorizer_2 = TfidfVectorizer(stop_words=stop_words,min_df=10, max_df=0.4)\n",
        "vectorizer_2.fit(corpus_completed_2)\n",
        "corpus_tf_idf_2 = vectorizer_2.transform(corpus_completed_2)\n",
        "\n",
        "print(corpus_tf_idf_2.shape)\n",
        "doc_terms_2 = vectorizer_2.inverse_transform(corpus_tf_idf_2)\n",
        "\n",
        "# Compute the cosine similarity matrix\n",
        "cosine_sim_2 = linear_kernel(corpus_tf_idf_2, corpus_tf_idf_2)\n",
        "print(cosine_sim_2.shape)"
      ],
      "execution_count": null,
      "outputs": [
        {
          "output_type": "stream",
          "text": [
            "(5000, 7383)\n",
            "(5000, 5000)\n"
          ],
          "name": "stdout"
        }
      ]
    },
    {
      "cell_type": "markdown",
      "metadata": {
        "id": "RmeO3o48qkHH"
      },
      "source": [
        "Μείωση της διαστατικότητας."
      ]
    },
    {
      "cell_type": "code",
      "metadata": {
        "id": "SjR4xhefqkHN",
        "outputId": "e189eeb1-c0f6-403c-c746-3d0742d571a2"
      },
      "source": [
        "joblib.dump(corpus_tf_idf_2, 'preprocessed_corpus+10+0_4_2.pkl') "
      ],
      "execution_count": null,
      "outputs": [
        {
          "output_type": "execute_result",
          "data": {
            "text/plain": [
              "['preprocessed_corpus+10+0_4_2.pkl']"
            ]
          },
          "metadata": {
            "tags": []
          },
          "execution_count": 444
        }
      ]
    },
    {
      "cell_type": "markdown",
      "metadata": {
        "id": "MNBF0ZroqkHa"
      },
      "source": [
        "Το μέγεθος του preprocessed_corpus+10+0_4_2.pkl είναι: 5357 KB"
      ]
    },
    {
      "cell_type": "code",
      "metadata": {
        "id": "XvjBLxI6qkHb",
        "outputId": "d9b079fb-4fd5-45b7-ee06-f675150b0c2c"
      },
      "source": [
        "test_print(20,cosine_sim_2)"
      ],
      "execution_count": null,
      "outputs": [
        {
          "output_type": "stream",
          "text": [
            "[402, 1994, 4904, 1137, 2830, 2221, 4622, 1176, 3875, 284, 1672, 4439, 2061, 4944, 106, 3541, 1399, 4984, 1141, 3326]\n",
            "[(402, 0.8938622250467224), (1994, 0.8938622250467224), (4904, 0.8861582611311796), (1137, 0.8740772245538715), (2830, 0.8740772245538715), (2221, 0.8301929956329549), (4622, 0.8301929956329549), (1176, 0.8298373919401304), (3875, 0.8298373919401304), (284, 0.8270579197825007), (1672, 0.8266957577284268), (4439, 0.8266957577284268), (2061, 0.8163115405819257), (4944, 0.8163115405819257), (106, 0.8130838380712999), (3541, 0.8130838380712999), (1399, 0.8108769144044129), (4984, 0.8065476590463337), (1141, 0.8061242230850366), (3326, 0.8061242230850366)]\n",
            "****************\n",
            "**** Target movie:  402 ['Canary Row']\n",
            "------------------\n",
            "Movie Id:  1994 [\"Tweety's SOS\"]\n",
            "Movie Id:  4904 ['A Street Cat Named Sylvester']\n",
            "Movie Id:  2875 ['Tweet and Sour']\n",
            "Movie Id:  1271 ['Sandy Claws']\n",
            "Movie Id:  4451 ['Snow Business']\n",
            "Movie Id:  4815 ['Catty Cornered']\n",
            "Movie Id:  4239 ['Tom Tom Tomcat']\n",
            "Movie Id:  294 [\"Pop 'im Pop\"]\n",
            "Movie Id:  3971 ['Lighthouse Mouse']\n",
            "Movie Id:  2551 ['The Looney Looney Looney Bugs Bunny Movie']\n",
            "****************\n",
            "**** Target movie:  1994 [\"Tweety's SOS\"]\n",
            "------------------\n",
            "Movie Id:  402 ['Canary Row']\n",
            "Movie Id:  4904 ['A Street Cat Named Sylvester']\n",
            "Movie Id:  2875 ['Tweet and Sour']\n",
            "Movie Id:  4451 ['Snow Business']\n",
            "Movie Id:  1271 ['Sandy Claws']\n",
            "Movie Id:  4815 ['Catty Cornered']\n",
            "Movie Id:  4239 ['Tom Tom Tomcat']\n",
            "Movie Id:  294 [\"Pop 'im Pop\"]\n",
            "Movie Id:  3971 ['Lighthouse Mouse']\n",
            "Movie Id:  2551 ['The Looney Looney Looney Bugs Bunny Movie']\n",
            "****************\n",
            "**** Target movie:  4904 ['A Street Cat Named Sylvester']\n",
            "------------------\n",
            "Movie Id:  1994 [\"Tweety's SOS\"]\n",
            "Movie Id:  402 ['Canary Row']\n",
            "Movie Id:  2875 ['Tweet and Sour']\n",
            "Movie Id:  4451 ['Snow Business']\n",
            "Movie Id:  1271 ['Sandy Claws']\n",
            "Movie Id:  4815 ['Catty Cornered']\n",
            "Movie Id:  4239 ['Tom Tom Tomcat']\n",
            "Movie Id:  294 [\"Pop 'im Pop\"]\n",
            "Movie Id:  3971 ['Lighthouse Mouse']\n",
            "Movie Id:  2551 ['The Looney Looney Looney Bugs Bunny Movie']\n",
            "****************\n",
            "**** Target movie:  1137 ['Chapali Height']\n",
            "------------------\n",
            "Movie Id:  2830 ['Saawariya']\n",
            "Movie Id:  4984 ['Aasha']\n",
            "Movie Id:  3423 ['Andaaz']\n",
            "Movie Id:  1759 ['Qayamat Se Qayamat Tak']\n",
            "Movie Id:  2366 ['Rab Ne Bana Di Jodi']\n",
            "Movie Id:  3789 ['Soch']\n",
            "Movie Id:  1310 ['Arth']\n",
            "Movie Id:  173 ['Kyo Kii... Main Jhuth Nahin Bolta']\n",
            "Movie Id:  1201 ['I Love You']\n",
            "Movie Id:  2044 ['Bandini']\n",
            "****************\n",
            "**** Target movie:  2830 ['Saawariya']\n",
            "------------------\n",
            "Movie Id:  1137 ['Chapali Height']\n",
            "Movie Id:  4984 ['Aasha']\n",
            "Movie Id:  3423 ['Andaaz']\n",
            "Movie Id:  1759 ['Qayamat Se Qayamat Tak']\n",
            "Movie Id:  2366 ['Rab Ne Bana Di Jodi']\n",
            "Movie Id:  3789 ['Soch']\n",
            "Movie Id:  1310 ['Arth']\n",
            "Movie Id:  1201 ['I Love You']\n",
            "Movie Id:  173 ['Kyo Kii... Main Jhuth Nahin Bolta']\n",
            "Movie Id:  2044 ['Bandini']\n",
            "****************\n",
            "**** Target movie:  2221 ['Fastest with the Mostest']\n",
            "------------------\n",
            "Movie Id:  4622 ['Guided Muscle']\n",
            "Movie Id:  284 ['Chariots of Fur']\n",
            "Movie Id:  1399 [\"Zip 'N Snort\"]\n",
            "Movie Id:  2810 ['Hook, Line and Stinker']\n",
            "Movie Id:  4993 ['Operation: Rabbit']\n",
            "Movie Id:  4752 ['Portrait of the Artist as a Young Bunny']\n",
            "Movie Id:  4005 ['Freerunner']\n",
            "Movie Id:  1584 ['Bombs Over Burma']\n",
            "Movie Id:  2183 ['Brewster McCloud']\n",
            "Movie Id:  3964 ['Cars']\n",
            "****************\n",
            "**** Target movie:  4622 ['Guided Muscle']\n",
            "------------------\n",
            "Movie Id:  2221 ['Fastest with the Mostest']\n",
            "Movie Id:  1399 [\"Zip 'N Snort\"]\n",
            "Movie Id:  284 ['Chariots of Fur']\n",
            "Movie Id:  2810 ['Hook, Line and Stinker']\n",
            "Movie Id:  4993 ['Operation: Rabbit']\n",
            "Movie Id:  4752 ['Portrait of the Artist as a Young Bunny']\n",
            "Movie Id:  1584 ['Bombs Over Burma']\n",
            "Movie Id:  4005 ['Freerunner']\n",
            "Movie Id:  2183 ['Brewster McCloud']\n",
            "Movie Id:  3964 ['Cars']\n",
            "****************\n",
            "**** Target movie:  1176 ['Tora-san Plays Cupid']\n",
            "------------------\n",
            "Movie Id:  3875 ['Tora-san, the Matchmaker']\n",
            "Movie Id:  3640 [\"Tora-san's Love in Osaka\"]\n",
            "Movie Id:  733 ['Tora-san, the Go-Between']\n",
            "Movie Id:  3505 [\"Tora-San's Cherished Mother\"]\n",
            "Movie Id:  3824 [\"Tora-san's Rise and Fall\"]\n",
            "Movie Id:  4676 [\"Tora-san's Salad-Day Memorial\"]\n",
            "Movie Id:  4368 ['Tora-san, the Intellectual']\n",
            "Movie Id:  2562 [\"Tora-san's Grand Scheme\"]\n",
            "Movie Id:  3837 [\"Tora's Pure Love\"]\n",
            "Movie Id:  1526 ['Red Mercury']\n",
            "****************\n",
            "**** Target movie:  3875 ['Tora-san, the Matchmaker']\n",
            "------------------\n",
            "Movie Id:  1176 ['Tora-san Plays Cupid']\n",
            "Movie Id:  3640 [\"Tora-san's Love in Osaka\"]\n",
            "Movie Id:  733 ['Tora-san, the Go-Between']\n",
            "Movie Id:  4676 [\"Tora-san's Salad-Day Memorial\"]\n",
            "Movie Id:  3505 [\"Tora-San's Cherished Mother\"]\n",
            "Movie Id:  3824 [\"Tora-san's Rise and Fall\"]\n",
            "Movie Id:  2562 [\"Tora-san's Grand Scheme\"]\n",
            "Movie Id:  4368 ['Tora-san, the Intellectual']\n",
            "Movie Id:  1526 ['Red Mercury']\n",
            "Movie Id:  2797 [\"The Butler's Dilemma\"]\n",
            "****************\n",
            "**** Target movie:  284 ['Chariots of Fur']\n",
            "------------------\n",
            "Movie Id:  2221 ['Fastest with the Mostest']\n",
            "Movie Id:  4622 ['Guided Muscle']\n",
            "Movie Id:  1399 [\"Zip 'N Snort\"]\n",
            "Movie Id:  2810 ['Hook, Line and Stinker']\n",
            "Movie Id:  4993 ['Operation: Rabbit']\n",
            "Movie Id:  4752 ['Portrait of the Artist as a Young Bunny']\n",
            "Movie Id:  3964 ['Cars']\n",
            "Movie Id:  1584 ['Bombs Over Burma']\n",
            "Movie Id:  4005 ['Freerunner']\n",
            "Movie Id:  1476 ['Dead End']\n",
            "****************\n",
            "**** Target movie:  1672 ['Kotha Bangaru Lokam']\n",
            "------------------\n",
            "Movie Id:  4439 ['100% Love']\n",
            "Movie Id:  1836 ['Azhagi']\n",
            "Movie Id:  3335 ['Vedham Pudhithu']\n",
            "Movie Id:  2047 ['Ratha Kanneer']\n",
            "Movie Id:  654 ['Annavaram']\n",
            "Movie Id:  903 ['Jhummandi Nadam']\n",
            "Movie Id:  2912 ['Aandhi-Toofan']\n",
            "Movie Id:  3411 ['Anantaram']\n",
            "Movie Id:  2547 ['Utharam']\n",
            "Movie Id:  1178 ['F.A.L.T.U']\n",
            "****************\n",
            "**** Target movie:  4439 ['100% Love']\n",
            "------------------\n",
            "Movie Id:  1672 ['Kotha Bangaru Lokam']\n",
            "Movie Id:  1836 ['Azhagi']\n",
            "Movie Id:  3335 ['Vedham Pudhithu']\n",
            "Movie Id:  2047 ['Ratha Kanneer']\n",
            "Movie Id:  654 ['Annavaram']\n",
            "Movie Id:  903 ['Jhummandi Nadam']\n",
            "Movie Id:  2912 ['Aandhi-Toofan']\n",
            "Movie Id:  3411 ['Anantaram']\n",
            "Movie Id:  2547 ['Utharam']\n",
            "Movie Id:  2312 ['Recep İvedik 2']\n",
            "****************\n",
            "**** Target movie:  2061 ['Belly of the Beast']\n",
            "------------------\n",
            "Movie Id:  4944 ['Replicant']\n",
            "Movie Id:  459 ['Demon Hunter']\n",
            "Movie Id:  4262 ['The Minority']\n",
            "Movie Id:  918 ['The Guardian']\n",
            "Movie Id:  2143 ['Dad']\n",
            "Movie Id:  1380 ['Jake Speed']\n",
            "Movie Id:  712 ['Going Greek']\n",
            "Movie Id:  4112 ['Arizona Sky']\n",
            "Movie Id:  2517 ['Ceiling Zero']\n",
            "Movie Id:  4735 ['Run, Fat Boy, Run']\n",
            "****************\n",
            "**** Target movie:  4944 ['Replicant']\n",
            "------------------\n",
            "Movie Id:  2061 ['Belly of the Beast']\n",
            "Movie Id:  459 ['Demon Hunter']\n",
            "Movie Id:  4262 ['The Minority']\n",
            "Movie Id:  918 ['The Guardian']\n",
            "Movie Id:  2143 ['Dad']\n",
            "Movie Id:  712 ['Going Greek']\n",
            "Movie Id:  1380 ['Jake Speed']\n",
            "Movie Id:  4112 ['Arizona Sky']\n",
            "Movie Id:  2517 ['Ceiling Zero']\n",
            "Movie Id:  4735 ['Run, Fat Boy, Run']\n",
            "****************\n",
            "**** Target movie:  106 ['Mehbooba']\n",
            "------------------\n",
            "Movie Id:  3541 ['Hum Tum']\n",
            "Movie Id:  1559 ['Chain Kulii Ki Main Kulii']\n",
            "Movie Id:  3744 ['Mittal v/s Mittal']\n",
            "Movie Id:  1295 ['Jeet']\n",
            "Movie Id:  211 ['Maine Pyar Kiya']\n",
            "Movie Id:  2333 ['Coimbatore Maaple']\n",
            "Movie Id:  2322 ['Cash']\n",
            "Movie Id:  3423 ['Andaaz']\n",
            "Movie Id:  682 ['Mumbai Salsa']\n",
            "Movie Id:  2888 ['Apartment']\n",
            "****************\n",
            "**** Target movie:  3541 ['Hum Tum']\n",
            "------------------\n",
            "Movie Id:  106 ['Mehbooba']\n",
            "Movie Id:  1559 ['Chain Kulii Ki Main Kulii']\n",
            "Movie Id:  3744 ['Mittal v/s Mittal']\n",
            "Movie Id:  1295 ['Jeet']\n",
            "Movie Id:  211 ['Maine Pyar Kiya']\n",
            "Movie Id:  2333 ['Coimbatore Maaple']\n",
            "Movie Id:  2322 ['Cash']\n",
            "Movie Id:  3423 ['Andaaz']\n",
            "Movie Id:  682 ['Mumbai Salsa']\n",
            "Movie Id:  2888 ['Apartment']\n",
            "****************\n",
            "**** Target movie:  1399 [\"Zip 'N Snort\"]\n",
            "------------------\n",
            "Movie Id:  4622 ['Guided Muscle']\n",
            "Movie Id:  284 ['Chariots of Fur']\n",
            "Movie Id:  2221 ['Fastest with the Mostest']\n",
            "Movie Id:  2810 ['Hook, Line and Stinker']\n",
            "Movie Id:  4993 ['Operation: Rabbit']\n",
            "Movie Id:  4752 ['Portrait of the Artist as a Young Bunny']\n",
            "Movie Id:  3521 ['Charro!']\n",
            "Movie Id:  1584 ['Bombs Over Burma']\n",
            "Movie Id:  4005 ['Freerunner']\n",
            "Movie Id:  4361 ['1612']\n",
            "****************\n",
            "**** Target movie:  4984 ['Aasha']\n",
            "------------------\n",
            "Movie Id:  1137 ['Chapali Height']\n",
            "Movie Id:  2830 ['Saawariya']\n",
            "Movie Id:  1759 ['Qayamat Se Qayamat Tak']\n",
            "Movie Id:  3423 ['Andaaz']\n",
            "Movie Id:  2366 ['Rab Ne Bana Di Jodi']\n",
            "Movie Id:  3789 ['Soch']\n",
            "Movie Id:  1310 ['Arth']\n",
            "Movie Id:  173 ['Kyo Kii... Main Jhuth Nahin Bolta']\n",
            "Movie Id:  1201 ['I Love You']\n",
            "Movie Id:  1219 ['Golimaar']\n",
            "****************\n",
            "**** Target movie:  1141 ['Once More']\n",
            "------------------\n",
            "Movie Id:  3326 ['Nishabd']\n",
            "Movie Id:  3858 ['Souryam']\n",
            "Movie Id:  4850 ['Meri Adalat']\n",
            "Movie Id:  4076 ['Pyar Ka Mandir']\n",
            "Movie Id:  479 ['The Great Gambler']\n",
            "Movie Id:  4811 ['Aalavandhan']\n",
            "Movie Id:  1540 ['Prematho Raa']\n",
            "Movie Id:  1362 ['Dostana']\n",
            "Movie Id:  2233 ['Chor Machaye Shor']\n",
            "Movie Id:  2413 ['Meravanige']\n",
            "****************\n",
            "**** Target movie:  3326 ['Nishabd']\n",
            "------------------\n",
            "Movie Id:  1141 ['Once More']\n",
            "Movie Id:  3858 ['Souryam']\n",
            "Movie Id:  4850 ['Meri Adalat']\n",
            "Movie Id:  4076 ['Pyar Ka Mandir']\n",
            "Movie Id:  479 ['The Great Gambler']\n",
            "Movie Id:  4811 ['Aalavandhan']\n",
            "Movie Id:  1362 ['Dostana']\n",
            "Movie Id:  1540 ['Prematho Raa']\n",
            "Movie Id:  2413 ['Meravanige']\n",
            "Movie Id:  2333 ['Coimbatore Maaple']\n"
          ],
          "name": "stdout"
        }
      ]
    },
    {
      "cell_type": "markdown",
      "metadata": {
        "id": "t9U0C_NYqkHe"
      },
      "source": [
        "Προσπαθεια βελτίωσης της διαστατικοτητας μέσω της μεταβλητης max_feautures"
      ]
    },
    {
      "cell_type": "code",
      "metadata": {
        "scrolled": true,
        "id": "wwFLrRdSqkHf",
        "outputId": "685f91a9-f650-4718-93a6-eddca53a1c2a"
      },
      "source": [
        "vectorizer_2 = TfidfVectorizer(stop_words=stop_words,min_df=10, max_df=0.4, max_features=5000)\n",
        "vectorizer_2.fit(corpus_completed_2)\n",
        "corpus_tf_idf_2 = vectorizer_2.transform(corpus_completed_2)\n",
        "\n",
        "print(corpus_tf_idf_2.shape)\n",
        "doc_terms_2 = vectorizer_2.inverse_transform(corpus_tf_idf_2)\n",
        "\n",
        "# Compute the cosine similarity matrix\n",
        "cosine_sim_2 = linear_kernel(corpus_tf_idf_2, corpus_tf_idf_2)\n",
        "print(cosine_sim_2.shape)"
      ],
      "execution_count": null,
      "outputs": [
        {
          "output_type": "stream",
          "text": [
            "(5000, 5000)\n",
            "(5000, 5000)\n"
          ],
          "name": "stdout"
        }
      ]
    },
    {
      "cell_type": "markdown",
      "metadata": {
        "id": "UoAi7vt3qkHj"
      },
      "source": [
        "Μείωση της διαστατικότητας."
      ]
    },
    {
      "cell_type": "code",
      "metadata": {
        "id": "5GQCGSQXqkHk",
        "outputId": "088cecf4-521e-4ec2-8686-21700b825166"
      },
      "source": [
        "joblib.dump(corpus_tf_idf_2, 'preprocessed_corpus+10+0_4_5000_2.pkl') "
      ],
      "execution_count": null,
      "outputs": [
        {
          "output_type": "execute_result",
          "data": {
            "text/plain": [
              "['preprocessed_corpus+10+0_4_5000_2.pkl']"
            ]
          },
          "metadata": {
            "tags": []
          },
          "execution_count": 447
        }
      ]
    },
    {
      "cell_type": "markdown",
      "metadata": {
        "id": "3wCGS6f1qkHm"
      },
      "source": [
        "Το μέγεθος του preprocessed_corpus+10+0_4_5000_2.pkl είναι: 4979KB"
      ]
    },
    {
      "cell_type": "code",
      "metadata": {
        "id": "0Hyhgnj9qkHm",
        "outputId": "5729208c-05d6-4e01-9b66-01f69e260690"
      },
      "source": [
        "test_print(20,cosine_sim_2)"
      ],
      "execution_count": null,
      "outputs": [
        {
          "output_type": "stream",
          "text": [
            "[402, 1994, 4904, 1137, 2830, 2221, 4622, 1672, 4439, 284, 1399, 2061, 4944, 2757, 3068, 106, 3541, 1141, 3326, 4266]\n",
            "[(402, 0.9018017571622098), (1994, 0.9018017571622098), (4904, 0.9011707177858786), (1137, 0.8813250448372931), (2830, 0.8813250448372931), (2221, 0.8511601136156763), (4622, 0.8511601136156763), (1672, 0.8418689967911902), (4439, 0.8418689967911902), (284, 0.8414588423213134), (1399, 0.8334523470653177), (2061, 0.8330742897557107), (4944, 0.8330742897557107), (2757, 0.8268594584503599), (3068, 0.8268594584503599), (106, 0.8216049644612611), (3541, 0.8216049644612611), (1141, 0.8195768772396543), (3326, 0.8195768772396543), (4266, 0.819229264933134)]\n",
            "****************\n",
            "**** Target movie:  402 ['Canary Row']\n",
            "------------------\n",
            "Movie Id:  1994 [\"Tweety's SOS\"]\n",
            "Movie Id:  4904 ['A Street Cat Named Sylvester']\n",
            "Movie Id:  1271 ['Sandy Claws']\n",
            "Movie Id:  2875 ['Tweet and Sour']\n",
            "Movie Id:  4451 ['Snow Business']\n",
            "Movie Id:  4815 ['Catty Cornered']\n",
            "Movie Id:  4239 ['Tom Tom Tomcat']\n",
            "Movie Id:  294 [\"Pop 'im Pop\"]\n",
            "Movie Id:  3971 ['Lighthouse Mouse']\n",
            "Movie Id:  2551 ['The Looney Looney Looney Bugs Bunny Movie']\n",
            "****************\n",
            "**** Target movie:  1994 [\"Tweety's SOS\"]\n",
            "------------------\n",
            "Movie Id:  402 ['Canary Row']\n",
            "Movie Id:  4904 ['A Street Cat Named Sylvester']\n",
            "Movie Id:  2875 ['Tweet and Sour']\n",
            "Movie Id:  4451 ['Snow Business']\n",
            "Movie Id:  1271 ['Sandy Claws']\n",
            "Movie Id:  4815 ['Catty Cornered']\n",
            "Movie Id:  4239 ['Tom Tom Tomcat']\n",
            "Movie Id:  294 [\"Pop 'im Pop\"]\n",
            "Movie Id:  3971 ['Lighthouse Mouse']\n",
            "Movie Id:  2551 ['The Looney Looney Looney Bugs Bunny Movie']\n",
            "****************\n",
            "**** Target movie:  4904 ['A Street Cat Named Sylvester']\n",
            "------------------\n",
            "Movie Id:  1994 [\"Tweety's SOS\"]\n",
            "Movie Id:  402 ['Canary Row']\n",
            "Movie Id:  2875 ['Tweet and Sour']\n",
            "Movie Id:  4451 ['Snow Business']\n",
            "Movie Id:  1271 ['Sandy Claws']\n",
            "Movie Id:  4815 ['Catty Cornered']\n",
            "Movie Id:  4239 ['Tom Tom Tomcat']\n",
            "Movie Id:  294 [\"Pop 'im Pop\"]\n",
            "Movie Id:  3971 ['Lighthouse Mouse']\n",
            "Movie Id:  2551 ['The Looney Looney Looney Bugs Bunny Movie']\n",
            "****************\n",
            "**** Target movie:  1137 ['Chapali Height']\n",
            "------------------\n",
            "Movie Id:  2830 ['Saawariya']\n",
            "Movie Id:  4984 ['Aasha']\n",
            "Movie Id:  3423 ['Andaaz']\n",
            "Movie Id:  1759 ['Qayamat Se Qayamat Tak']\n",
            "Movie Id:  3789 ['Soch']\n",
            "Movie Id:  2366 ['Rab Ne Bana Di Jodi']\n",
            "Movie Id:  1310 ['Arth']\n",
            "Movie Id:  173 ['Kyo Kii... Main Jhuth Nahin Bolta']\n",
            "Movie Id:  1201 ['I Love You']\n",
            "Movie Id:  2044 ['Bandini']\n",
            "****************\n",
            "**** Target movie:  2830 ['Saawariya']\n",
            "------------------\n",
            "Movie Id:  1137 ['Chapali Height']\n",
            "Movie Id:  4984 ['Aasha']\n",
            "Movie Id:  3423 ['Andaaz']\n",
            "Movie Id:  1759 ['Qayamat Se Qayamat Tak']\n",
            "Movie Id:  2366 ['Rab Ne Bana Di Jodi']\n",
            "Movie Id:  3789 ['Soch']\n",
            "Movie Id:  1310 ['Arth']\n",
            "Movie Id:  173 ['Kyo Kii... Main Jhuth Nahin Bolta']\n",
            "Movie Id:  1201 ['I Love You']\n",
            "Movie Id:  2044 ['Bandini']\n",
            "****************\n",
            "**** Target movie:  2221 ['Fastest with the Mostest']\n",
            "------------------\n",
            "Movie Id:  4622 ['Guided Muscle']\n",
            "Movie Id:  284 ['Chariots of Fur']\n",
            "Movie Id:  1399 [\"Zip 'N Snort\"]\n",
            "Movie Id:  2810 ['Hook, Line and Stinker']\n",
            "Movie Id:  4993 ['Operation: Rabbit']\n",
            "Movie Id:  4752 ['Portrait of the Artist as a Young Bunny']\n",
            "Movie Id:  1584 ['Bombs Over Burma']\n",
            "Movie Id:  4005 ['Freerunner']\n",
            "Movie Id:  2183 ['Brewster McCloud']\n",
            "Movie Id:  3964 ['Cars']\n",
            "****************\n",
            "**** Target movie:  4622 ['Guided Muscle']\n",
            "------------------\n",
            "Movie Id:  2221 ['Fastest with the Mostest']\n",
            "Movie Id:  1399 [\"Zip 'N Snort\"]\n",
            "Movie Id:  284 ['Chariots of Fur']\n",
            "Movie Id:  2810 ['Hook, Line and Stinker']\n",
            "Movie Id:  4993 ['Operation: Rabbit']\n",
            "Movie Id:  4752 ['Portrait of the Artist as a Young Bunny']\n",
            "Movie Id:  1584 ['Bombs Over Burma']\n",
            "Movie Id:  4005 ['Freerunner']\n",
            "Movie Id:  2183 ['Brewster McCloud']\n",
            "Movie Id:  3964 ['Cars']\n",
            "****************\n",
            "**** Target movie:  1672 ['Kotha Bangaru Lokam']\n",
            "------------------\n",
            "Movie Id:  4439 ['100% Love']\n",
            "Movie Id:  1836 ['Azhagi']\n",
            "Movie Id:  3335 ['Vedham Pudhithu']\n",
            "Movie Id:  2047 ['Ratha Kanneer']\n",
            "Movie Id:  654 ['Annavaram']\n",
            "Movie Id:  903 ['Jhummandi Nadam']\n",
            "Movie Id:  2912 ['Aandhi-Toofan']\n",
            "Movie Id:  3411 ['Anantaram']\n",
            "Movie Id:  2547 ['Utharam']\n",
            "Movie Id:  1178 ['F.A.L.T.U']\n",
            "****************\n",
            "**** Target movie:  4439 ['100% Love']\n",
            "------------------\n",
            "Movie Id:  1672 ['Kotha Bangaru Lokam']\n",
            "Movie Id:  1836 ['Azhagi']\n",
            "Movie Id:  3335 ['Vedham Pudhithu']\n",
            "Movie Id:  2047 ['Ratha Kanneer']\n",
            "Movie Id:  654 ['Annavaram']\n",
            "Movie Id:  903 ['Jhummandi Nadam']\n",
            "Movie Id:  2912 ['Aandhi-Toofan']\n",
            "Movie Id:  3411 ['Anantaram']\n",
            "Movie Id:  2547 ['Utharam']\n",
            "Movie Id:  2312 ['Recep İvedik 2']\n",
            "****************\n",
            "**** Target movie:  284 ['Chariots of Fur']\n",
            "------------------\n",
            "Movie Id:  2221 ['Fastest with the Mostest']\n",
            "Movie Id:  4622 ['Guided Muscle']\n",
            "Movie Id:  1399 [\"Zip 'N Snort\"]\n",
            "Movie Id:  2810 ['Hook, Line and Stinker']\n",
            "Movie Id:  4993 ['Operation: Rabbit']\n",
            "Movie Id:  4752 ['Portrait of the Artist as a Young Bunny']\n",
            "Movie Id:  1584 ['Bombs Over Burma']\n",
            "Movie Id:  3964 ['Cars']\n",
            "Movie Id:  4005 ['Freerunner']\n",
            "Movie Id:  2183 ['Brewster McCloud']\n",
            "****************\n",
            "**** Target movie:  1399 [\"Zip 'N Snort\"]\n",
            "------------------\n",
            "Movie Id:  4622 ['Guided Muscle']\n",
            "Movie Id:  284 ['Chariots of Fur']\n",
            "Movie Id:  2221 ['Fastest with the Mostest']\n",
            "Movie Id:  2810 ['Hook, Line and Stinker']\n",
            "Movie Id:  4993 ['Operation: Rabbit']\n",
            "Movie Id:  4752 ['Portrait of the Artist as a Young Bunny']\n",
            "Movie Id:  3521 ['Charro!']\n",
            "Movie Id:  1584 ['Bombs Over Burma']\n",
            "Movie Id:  4005 ['Freerunner']\n",
            "Movie Id:  2183 ['Brewster McCloud']\n",
            "****************\n",
            "**** Target movie:  2061 ['Belly of the Beast']\n",
            "------------------\n",
            "Movie Id:  4944 ['Replicant']\n",
            "Movie Id:  459 ['Demon Hunter']\n",
            "Movie Id:  4262 ['The Minority']\n",
            "Movie Id:  918 ['The Guardian']\n",
            "Movie Id:  712 ['Going Greek']\n",
            "Movie Id:  2143 ['Dad']\n",
            "Movie Id:  1380 ['Jake Speed']\n",
            "Movie Id:  4112 ['Arizona Sky']\n",
            "Movie Id:  2517 ['Ceiling Zero']\n",
            "Movie Id:  4735 ['Run, Fat Boy, Run']\n",
            "****************\n",
            "**** Target movie:  4944 ['Replicant']\n",
            "------------------\n",
            "Movie Id:  2061 ['Belly of the Beast']\n",
            "Movie Id:  459 ['Demon Hunter']\n",
            "Movie Id:  4262 ['The Minority']\n",
            "Movie Id:  918 ['The Guardian']\n",
            "Movie Id:  712 ['Going Greek']\n",
            "Movie Id:  2143 ['Dad']\n",
            "Movie Id:  1380 ['Jake Speed']\n",
            "Movie Id:  4112 ['Arizona Sky']\n",
            "Movie Id:  2517 ['Ceiling Zero']\n",
            "Movie Id:  4735 ['Run, Fat Boy, Run']\n",
            "****************\n",
            "**** Target movie:  2757 ['Upswept Hare']\n",
            "------------------\n",
            "Movie Id:  3068 ['The Wabbit Who Came to Supper']\n",
            "Movie Id:  4752 ['Portrait of the Artist as a Young Bunny']\n",
            "Movie Id:  1882 ['Hare Remover']\n",
            "Movie Id:  4438 ['Design for Leaving']\n",
            "Movie Id:  3450 ['Elmer, the Great']\n",
            "Movie Id:  4013 ['Yankee Dood It']\n",
            "Movie Id:  2176 ['Hare Conditioned']\n",
            "Movie Id:  1700 ['Baby Buggy Bunny']\n",
            "Movie Id:  2553 ['His Hare-Raising Tale']\n",
            "Movie Id:  799 ['The Hasty Hare']\n",
            "****************\n",
            "**** Target movie:  3068 ['The Wabbit Who Came to Supper']\n",
            "------------------\n",
            "Movie Id:  2757 ['Upswept Hare']\n",
            "Movie Id:  4752 ['Portrait of the Artist as a Young Bunny']\n",
            "Movie Id:  1882 ['Hare Remover']\n",
            "Movie Id:  4438 ['Design for Leaving']\n",
            "Movie Id:  3450 ['Elmer, the Great']\n",
            "Movie Id:  2176 ['Hare Conditioned']\n",
            "Movie Id:  2553 ['His Hare-Raising Tale']\n",
            "Movie Id:  3553 ['Hare We Go']\n",
            "Movie Id:  1700 ['Baby Buggy Bunny']\n",
            "Movie Id:  4013 ['Yankee Dood It']\n",
            "****************\n",
            "**** Target movie:  106 ['Mehbooba']\n",
            "------------------\n",
            "Movie Id:  3541 ['Hum Tum']\n",
            "Movie Id:  1559 ['Chain Kulii Ki Main Kulii']\n",
            "Movie Id:  3744 ['Mittal v/s Mittal']\n",
            "Movie Id:  1295 ['Jeet']\n",
            "Movie Id:  211 ['Maine Pyar Kiya']\n",
            "Movie Id:  2333 ['Coimbatore Maaple']\n",
            "Movie Id:  2322 ['Cash']\n",
            "Movie Id:  3423 ['Andaaz']\n",
            "Movie Id:  2888 ['Apartment']\n",
            "Movie Id:  682 ['Mumbai Salsa']\n",
            "****************\n",
            "**** Target movie:  3541 ['Hum Tum']\n",
            "------------------\n",
            "Movie Id:  106 ['Mehbooba']\n",
            "Movie Id:  1559 ['Chain Kulii Ki Main Kulii']\n",
            "Movie Id:  3744 ['Mittal v/s Mittal']\n",
            "Movie Id:  1295 ['Jeet']\n",
            "Movie Id:  211 ['Maine Pyar Kiya']\n",
            "Movie Id:  2333 ['Coimbatore Maaple']\n",
            "Movie Id:  2322 ['Cash']\n",
            "Movie Id:  3423 ['Andaaz']\n",
            "Movie Id:  682 ['Mumbai Salsa']\n",
            "Movie Id:  2888 ['Apartment']\n",
            "****************\n",
            "**** Target movie:  1141 ['Once More']\n",
            "------------------\n",
            "Movie Id:  3326 ['Nishabd']\n",
            "Movie Id:  3858 ['Souryam']\n",
            "Movie Id:  4850 ['Meri Adalat']\n",
            "Movie Id:  4076 ['Pyar Ka Mandir']\n",
            "Movie Id:  479 ['The Great Gambler']\n",
            "Movie Id:  1540 ['Prematho Raa']\n",
            "Movie Id:  4811 ['Aalavandhan']\n",
            "Movie Id:  2413 ['Meravanige']\n",
            "Movie Id:  2233 ['Chor Machaye Shor']\n",
            "Movie Id:  1362 ['Dostana']\n",
            "****************\n",
            "**** Target movie:  3326 ['Nishabd']\n",
            "------------------\n",
            "Movie Id:  1141 ['Once More']\n",
            "Movie Id:  3858 ['Souryam']\n",
            "Movie Id:  4076 ['Pyar Ka Mandir']\n",
            "Movie Id:  4850 ['Meri Adalat']\n",
            "Movie Id:  479 ['The Great Gambler']\n",
            "Movie Id:  1540 ['Prematho Raa']\n",
            "Movie Id:  4811 ['Aalavandhan']\n",
            "Movie Id:  2413 ['Meravanige']\n",
            "Movie Id:  1362 ['Dostana']\n",
            "Movie Id:  2233 ['Chor Machaye Shor']\n",
            "****************\n",
            "**** Target movie:  4266 ['W.']\n",
            "------------------\n",
            "Movie Id:  4447 ['Bush Family Fortunes: The Best Democracy Money Can Buy']\n",
            "Movie Id:  2174 ['Captains of the Clouds']\n",
            "Movie Id:  329 ['Night Of The Demon']\n",
            "Movie Id:  1886 ['Prem Pujari']\n",
            "Movie Id:  4428 ['Desperate Search']\n",
            "Movie Id:  3614 ['Nixon']\n",
            "Movie Id:  1798 ['No Retreat, No Surrender 3: Blood Brothers']\n",
            "Movie Id:  1829 ['Duped Till Doomsday']\n",
            "Movie Id:  670 ['Joe']\n",
            "Movie Id:  3306 ['Man of the Year']\n"
          ],
          "name": "stdout"
        }
      ]
    },
    {
      "cell_type": "markdown",
      "metadata": {
        "id": "l1moshdnqkHq"
      },
      "source": [
        "Συγκρινοντας τα αποτελέσματα καλύτερη απόδοση είχε το σύστημα με τα εξής χαρακτηριστικα:\n",
        "1. Η προεπεξεργασία περιλαμβάνει μόνο lemmatizer\n",
        "2. Αφαίρεση των english stopwords και των επιλεγμένων λέξεων μετά από επισκόπηση του vocabulary του Vectorizer\n",
        "3. Αφαίρεση των όρων που εμφανίζονται σε λιγότερα από 10 documents\n",
        "4. Αφαίρεση των όρων που εμφανίζονται σε περισσότερα από το 40% των κειμένων\n",
        "\n",
        "\n",
        "Η τελευταία έκδοση του συστήματος με την επιλογή της παραμέτρου max_features=5000 μείωσε μεν κατά λίγο τον όγκο των δεδομένων παράλληλα όπως ελλάτωσε την αξιοπιστία του.\n",
        "\n",
        "Παρακάτω παρουσίαζεται το τελικό σύστημα καθώς και 10 παραδείγματα (IDs) που επιστρέφει καλά αποτελέσματα μέχρι 10 προτάσεις και σημειώνεται συνοπτικά η θεματική που ενώνει τις ταινίες."
      ]
    },
    {
      "cell_type": "code",
      "metadata": {
        "id": "A6mCWnNKqkHq",
        "outputId": "26e0e694-b9f9-421b-a91c-4723d80276c8"
      },
      "source": [
        "vectorizer_2 = TfidfVectorizer(stop_words=stop_words,min_df=10, max_df=0.4)\n",
        "vectorizer_2.fit(corpus_completed_2)\n",
        "corpus_tf_idf_2 = vectorizer_2.transform(corpus_completed_2)\n",
        "\n",
        "print(corpus_tf_idf_2.shape)\n",
        "doc_terms_2 = vectorizer_2.inverse_transform(corpus_tf_idf_2)\n",
        "\n",
        "# Compute the cosine similarity matrix\n",
        "cosine_sim_2 = linear_kernel(corpus_tf_idf_2, corpus_tf_idf_2)\n",
        "print(cosine_sim_2.shape)"
      ],
      "execution_count": null,
      "outputs": [
        {
          "output_type": "stream",
          "text": [
            "(5000, 7383)\n",
            "(5000, 5000)\n"
          ],
          "name": "stdout"
        }
      ]
    },
    {
      "cell_type": "code",
      "metadata": {
        "id": "VQ4u3L6mqkHt",
        "outputId": "4049f973-fb3d-454a-aaf0-ac6431de0f26"
      },
      "source": [
        "joblib.dump(corpus_tf_idf_2, 'final_corpus_tf_idf.pkl') "
      ],
      "execution_count": null,
      "outputs": [
        {
          "output_type": "execute_result",
          "data": {
            "text/plain": [
              "['final_corpus_tf_idf.pkl']"
            ]
          },
          "metadata": {
            "tags": []
          },
          "execution_count": 452
        }
      ]
    },
    {
      "cell_type": "code",
      "metadata": {
        "id": "Qc71YDFRqkHv",
        "outputId": "014cab22-8091-4863-87eb-19b243438c8d"
      },
      "source": [
        "test_print(10,cosine_sim_2)"
      ],
      "execution_count": null,
      "outputs": [
        {
          "output_type": "stream",
          "text": [
            "[402, 1994, 4904, 1137, 2830, 2221, 4622, 1176, 3875, 284]\n",
            "[(402, 0.8938622250467224), (1994, 0.8938622250467224), (4904, 0.8861582611311796), (1137, 0.8740772245538715), (2830, 0.8740772245538715), (2221, 0.8301929956329549), (4622, 0.8301929956329549), (1176, 0.8298373919401304), (3875, 0.8298373919401304), (284, 0.8270579197825007)]\n",
            "****************\n",
            "**** Target movie:  402 ['Canary Row']\n",
            "------------------\n",
            "Movie Id:  1994 [\"Tweety's SOS\"]\n",
            "Movie Id:  4904 ['A Street Cat Named Sylvester']\n",
            "Movie Id:  2875 ['Tweet and Sour']\n",
            "Movie Id:  1271 ['Sandy Claws']\n",
            "Movie Id:  4451 ['Snow Business']\n",
            "Movie Id:  4815 ['Catty Cornered']\n",
            "Movie Id:  4239 ['Tom Tom Tomcat']\n",
            "Movie Id:  294 [\"Pop 'im Pop\"]\n",
            "Movie Id:  3971 ['Lighthouse Mouse']\n",
            "Movie Id:  2551 ['The Looney Looney Looney Bugs Bunny Movie']\n",
            "****************\n",
            "**** Target movie:  1994 [\"Tweety's SOS\"]\n",
            "------------------\n",
            "Movie Id:  402 ['Canary Row']\n",
            "Movie Id:  4904 ['A Street Cat Named Sylvester']\n",
            "Movie Id:  2875 ['Tweet and Sour']\n",
            "Movie Id:  4451 ['Snow Business']\n",
            "Movie Id:  1271 ['Sandy Claws']\n",
            "Movie Id:  4815 ['Catty Cornered']\n",
            "Movie Id:  4239 ['Tom Tom Tomcat']\n",
            "Movie Id:  294 [\"Pop 'im Pop\"]\n",
            "Movie Id:  3971 ['Lighthouse Mouse']\n",
            "Movie Id:  2551 ['The Looney Looney Looney Bugs Bunny Movie']\n",
            "****************\n",
            "**** Target movie:  4904 ['A Street Cat Named Sylvester']\n",
            "------------------\n",
            "Movie Id:  1994 [\"Tweety's SOS\"]\n",
            "Movie Id:  402 ['Canary Row']\n",
            "Movie Id:  2875 ['Tweet and Sour']\n",
            "Movie Id:  4451 ['Snow Business']\n",
            "Movie Id:  1271 ['Sandy Claws']\n",
            "Movie Id:  4815 ['Catty Cornered']\n",
            "Movie Id:  4239 ['Tom Tom Tomcat']\n",
            "Movie Id:  294 [\"Pop 'im Pop\"]\n",
            "Movie Id:  3971 ['Lighthouse Mouse']\n",
            "Movie Id:  2551 ['The Looney Looney Looney Bugs Bunny Movie']\n",
            "****************\n",
            "**** Target movie:  1137 ['Chapali Height']\n",
            "------------------\n",
            "Movie Id:  2830 ['Saawariya']\n",
            "Movie Id:  4984 ['Aasha']\n",
            "Movie Id:  3423 ['Andaaz']\n",
            "Movie Id:  1759 ['Qayamat Se Qayamat Tak']\n",
            "Movie Id:  2366 ['Rab Ne Bana Di Jodi']\n",
            "Movie Id:  3789 ['Soch']\n",
            "Movie Id:  1310 ['Arth']\n",
            "Movie Id:  173 ['Kyo Kii... Main Jhuth Nahin Bolta']\n",
            "Movie Id:  1201 ['I Love You']\n",
            "Movie Id:  2044 ['Bandini']\n",
            "****************\n",
            "**** Target movie:  2830 ['Saawariya']\n",
            "------------------\n",
            "Movie Id:  1137 ['Chapali Height']\n",
            "Movie Id:  4984 ['Aasha']\n",
            "Movie Id:  3423 ['Andaaz']\n",
            "Movie Id:  1759 ['Qayamat Se Qayamat Tak']\n",
            "Movie Id:  2366 ['Rab Ne Bana Di Jodi']\n",
            "Movie Id:  3789 ['Soch']\n",
            "Movie Id:  1310 ['Arth']\n",
            "Movie Id:  1201 ['I Love You']\n",
            "Movie Id:  173 ['Kyo Kii... Main Jhuth Nahin Bolta']\n",
            "Movie Id:  2044 ['Bandini']\n",
            "****************\n",
            "**** Target movie:  2221 ['Fastest with the Mostest']\n",
            "------------------\n",
            "Movie Id:  4622 ['Guided Muscle']\n",
            "Movie Id:  284 ['Chariots of Fur']\n",
            "Movie Id:  1399 [\"Zip 'N Snort\"]\n",
            "Movie Id:  2810 ['Hook, Line and Stinker']\n",
            "Movie Id:  4993 ['Operation: Rabbit']\n",
            "Movie Id:  4752 ['Portrait of the Artist as a Young Bunny']\n",
            "Movie Id:  4005 ['Freerunner']\n",
            "Movie Id:  1584 ['Bombs Over Burma']\n",
            "Movie Id:  2183 ['Brewster McCloud']\n",
            "Movie Id:  3964 ['Cars']\n",
            "****************\n",
            "**** Target movie:  4622 ['Guided Muscle']\n",
            "------------------\n",
            "Movie Id:  2221 ['Fastest with the Mostest']\n",
            "Movie Id:  1399 [\"Zip 'N Snort\"]\n",
            "Movie Id:  284 ['Chariots of Fur']\n",
            "Movie Id:  2810 ['Hook, Line and Stinker']\n",
            "Movie Id:  4993 ['Operation: Rabbit']\n",
            "Movie Id:  4752 ['Portrait of the Artist as a Young Bunny']\n",
            "Movie Id:  1584 ['Bombs Over Burma']\n",
            "Movie Id:  4005 ['Freerunner']\n",
            "Movie Id:  2183 ['Brewster McCloud']\n",
            "Movie Id:  3964 ['Cars']\n",
            "****************\n",
            "**** Target movie:  1176 ['Tora-san Plays Cupid']\n",
            "------------------\n",
            "Movie Id:  3875 ['Tora-san, the Matchmaker']\n",
            "Movie Id:  3640 [\"Tora-san's Love in Osaka\"]\n",
            "Movie Id:  733 ['Tora-san, the Go-Between']\n",
            "Movie Id:  3505 [\"Tora-San's Cherished Mother\"]\n",
            "Movie Id:  3824 [\"Tora-san's Rise and Fall\"]\n",
            "Movie Id:  4676 [\"Tora-san's Salad-Day Memorial\"]\n",
            "Movie Id:  4368 ['Tora-san, the Intellectual']\n",
            "Movie Id:  2562 [\"Tora-san's Grand Scheme\"]\n",
            "Movie Id:  3837 [\"Tora's Pure Love\"]\n",
            "Movie Id:  1526 ['Red Mercury']\n",
            "****************\n",
            "**** Target movie:  3875 ['Tora-san, the Matchmaker']\n",
            "------------------\n",
            "Movie Id:  1176 ['Tora-san Plays Cupid']\n",
            "Movie Id:  3640 [\"Tora-san's Love in Osaka\"]\n",
            "Movie Id:  733 ['Tora-san, the Go-Between']\n",
            "Movie Id:  4676 [\"Tora-san's Salad-Day Memorial\"]\n",
            "Movie Id:  3505 [\"Tora-San's Cherished Mother\"]\n",
            "Movie Id:  3824 [\"Tora-san's Rise and Fall\"]\n",
            "Movie Id:  2562 [\"Tora-san's Grand Scheme\"]\n",
            "Movie Id:  4368 ['Tora-san, the Intellectual']\n",
            "Movie Id:  1526 ['Red Mercury']\n",
            "Movie Id:  2797 [\"The Butler's Dilemma\"]\n",
            "****************\n",
            "**** Target movie:  284 ['Chariots of Fur']\n",
            "------------------\n",
            "Movie Id:  2221 ['Fastest with the Mostest']\n",
            "Movie Id:  4622 ['Guided Muscle']\n",
            "Movie Id:  1399 [\"Zip 'N Snort\"]\n",
            "Movie Id:  2810 ['Hook, Line and Stinker']\n",
            "Movie Id:  4993 ['Operation: Rabbit']\n",
            "Movie Id:  4752 ['Portrait of the Artist as a Young Bunny']\n",
            "Movie Id:  3964 ['Cars']\n",
            "Movie Id:  1584 ['Bombs Over Burma']\n",
            "Movie Id:  4005 ['Freerunner']\n",
            "Movie Id:  1476 ['Dead End']\n"
          ],
          "name": "stdout"
        }
      ]
    },
    {
      "cell_type": "markdown",
      "metadata": {
        "id": "IPuPkm4KqkHw"
      },
      "source": [
        "Θεματική Ταινίας με ID - 402\n",
        "Πρόκειται για ταινίες κινουμένων σχεδιών με πρωταγωνιστη τον tweety. Μερικές από τις προτάσεις είναι άλλα κινούμενα σχέδια με τους tom & jerry ή τον bugs bunny."
      ]
    },
    {
      "cell_type": "code",
      "metadata": {
        "id": "bRyIHGn4qkHx",
        "outputId": "36e3873b-f445-444f-fb06-dec11ffad1c1"
      },
      "source": [
        "print_results(402,10,cosine_sim_2,full=False)"
      ],
      "execution_count": null,
      "outputs": [
        {
          "output_type": "stream",
          "text": [
            "**** Target movie:  402\n",
            "Title:  ['Canary Row']\n",
            "Genres:  ['\"Short Film\",  \"Family Film\",  \"Comedy\",  \"Animation\"']\n",
            "Summary:   From his room in a building belonging to the “Bird-Watchers' Society”, Sylvester employs binoculars to focus on the window opposite him, containing Tweety's cage. Tweety does the same . Tweety puts his binoculars down and says his catchphrase: “I tawt I taw a puddy tat!” Then he replaces his binoculars to confirm and, indeed, “I DID! I DID taw a puddy tat!” Sylvester jumps for joy and runs to the building Tweety is in , but fails to notice the sign banning cats and dogs from the building. This \n",
            "\n",
            "**** Brief description of recommended movies: \n",
            " [(1994, 0.8938622250467224), (4904, 0.8388284329995082), (2875, 0.7729802900584866), (1271, 0.7658003350271478), (4451, 0.7419511289925149), (4815, 0.6583130999224578), (4239, 0.537497044575015), (294, 0.4749099320988626), (3971, 0.4226298335099229), (2551, 0.2905630572208958)]\n",
            "\n",
            "**** 10  most related movies based on content:\n",
            "**** Recommended movie No.:  1\n",
            "Movie Id:  1994\n",
            "Title:  [\"Tweety's SOS\"]\n",
            "Genres:  ['\"Short Film\",  \"Family Film\",  \"Comedy film\",  \"Animation\"']\n",
            "Summary:  The story opens with Sylvester rummaging through trash cans for food. When he does not find anything worth satisfying, he is very sad and goes to the dock. As he is sitting there, he is by a cruise ship and Tweety is swinging in his cage. When Sylvester sees Tweety, he calls Tweety his breakfast and Tweety slams the port door on Sylvester dropping him in the water. Sylvester manages to come on board and decides to go into the cabin where Tweety is. Eventually, he gets Tweety in his hands and sta\n",
            "------------------\n",
            "**** Recommended movie No.:  2\n",
            "Movie Id:  4904\n",
            "Title:  ['A Street Cat Named Sylvester']\n",
            "Genres:  ['\"Short Film\",  \"Family Film\",  \"Animation\"']\n",
            "Summary:  Tweety stumbles into Sylvester's house looking for shelter and Sylvester hesistates if he saw a tweety bird in the same manner Tweety wonders if he saw a 'Putty Cat'. Sylvester snatches him inside but has to hide Tweety in a vase covered by books, when Granny appears. While an injured Hector remains bedridden, Sylvester causes whatever diversion he can to stop Granny from spotting Tweety, making Granny give multiple doses of medicine to Hector. When Hector gets in Sylvester's way from eating Twe\n",
            "------------------\n",
            "**** Recommended movie No.:  3\n",
            "Movie Id:  2875\n",
            "Title:  ['Tweet and Sour']\n",
            "Genres:  ['\"Short Film\",  \"Family Film\",  \"Animation\"']\n",
            "Summary:  Granny leaves the house for an outing, but as she drives by the house and waves goodbye to Tweety, she sees Sylvester has gotten into the house and is about to eat the bird. Granny stops the cat in time and, fed up with his constant chasing after Tweety, gives him an ultimatum: \"If there's so much as one little feather harmed on the canary, it's off to the violin string factory!\" . As Sylvester sulks in the corner, Tweety is about to face a new threat—a rough-looking orange cat wearing an eyepat\n",
            "------------------\n",
            "**** Recommended movie No.:  4\n",
            "Movie Id:  1271\n",
            "Title:  ['Sandy Claws']\n",
            "Genres:  ['\"Short Film\",  \"Family Film\",  \"Animation\"']\n",
            "Summary:  Granny has taken Tweety to the beach for the day. Granny tells Tweety she can't wait to try on her new \"bikini bathing suit\" and promises to return right away. Meanwhile, Sylvester is fishing on the pier and, after pointing a gun at a worm, is immediately swallowed by a huge fish. After expressing his disgust about his lack of success, the cat spots Tweety in his cage, sitting on a rock across the pier and unguarded. Sylvester thinks he's in for a free meal ... until the tide comes in and washes\n",
            "------------------\n",
            "**** Recommended movie No.:  5\n",
            "Movie Id:  4451\n",
            "Title:  ['Snow Business']\n",
            "Genres:  ['\"Short Film\",  \"Family Film\",  \"Comedy\",  \"Animation\"']\n",
            "Summary:  Heavy snows trap Sylvester the Cat and Tweety  alone in Granny's mountain cabin. The standard expository Mel Blanc radio report announces that the roads will be blocked for six weeks. Panicked, Sylvester looks for food in the icebox, cupboards, and closets, finding nothing but boxes and boxes of bird seed. He quickly seizes upon the idea of coaxing Tweety into being cooked, proposing sailboat play  and skating . The Sylvester-chases-Tweety cycle is continually disrupted, however, by an unnamed m\n",
            "------------------\n",
            "**** Recommended movie No.:  6\n",
            "Movie Id:  4815\n",
            "Title:  ['Catty Cornered']\n",
            "Genres:  ['\"Crime Fiction\",  \"Family Film\",  \"Animation\"']\n",
            "Summary:  News was spread worldwide about Tweety getting captured by Rocky and his assistant named Nick. At the same time, Sylvester was in attempt of catching Tweety for his breakfast, but, however failed due to the harsh eyes of Rocky and Nick. After many trials, Sylvester finally catches Tweety, but was then labelled in the news as \"HERO CAT SAVES BIRD\" and both of them were announced to the public. The mayor then requests Sylvester to kiss Tweety, but he eats him, only to get forced to spit Tweety out\n",
            "------------------\n",
            "**** Recommended movie No.:  7\n",
            "Movie Id:  4239\n",
            "Title:  ['Tom Tom Tomcat']\n",
            "Genres:  ['\"Short Film\",  \"Comedy film\",  \"Family Film\",  \"Animation\"']\n",
            "Summary:  Granny and Tweety are riding through the desert in their wagon, to the tune of Oh! Susanna, when they are ambushed by Indians . They are forced to hole up in a fort, where Granny begins to shoot them down while Tweety counts . On the tenth, one nearly takes Tweety, but is shot down just in time. More attempts include an archer and a battering ram, both foiled. One archer almost drags Tweety out again  but Granny surprises him with a bomb instead. The cats' attempts continue like this, all of the\n",
            "------------------\n",
            "**** Recommended movie No.:  8\n",
            "Movie Id:  294\n",
            "Title:  [\"Pop 'im Pop\"]\n",
            "Genres:  ['\"Family Film\",  \"Comedy\",  \"Animation\"']\n",
            "Summary:  The cartoon opens with a circus featuring \"Gracie, the Fightin' Kangaroo!\". Gracie has a baby  while practicing, and isn't able to stay with him very long. While Gracie goes off to perform, Hippety slips on a pair of his mother's boxing gloves, and wanders off . Meanwhile, Sylvester is bragging to his son about how he took on a mouse about his own size. Unfortunately, Hippety shows up behind him, leading Sylvester into a panic. Junior urges Sylvester to fight Hippety, as they both think he's a g\n",
            "------------------\n",
            "**** Recommended movie No.:  9\n",
            "Movie Id:  3971\n",
            "Title:  ['Lighthouse Mouse']\n",
            "Genres:  ['\"Short Film\",  \"Family Film\",  \"Comedy film\",  \"Animation\"']\n",
            "Summary:  It is 11 o’clock at night at a lighthouse on a small island, and the clock's pendulum is intermittently deflecting the light from the beacon into a mousehole downstairs, keeping the resident mouse wide awake. The baggy-eyed rodent crawls out of bed, climbs the steps to the beacon, and yanks the plug out of the outlet to turn it off. Polly the parrot immediately flies into the lightkeeper’s bedroom squawking “Lights out! Lights out!” The lightkeeper wakes up shouting, “Grrrreat Scott! It’s that c\n",
            "------------------\n",
            "**** Recommended movie No.:  10\n",
            "Movie Id:  2551\n",
            "Title:  ['The Looney Looney Looney Bugs Bunny Movie']\n",
            "Genres:  ['\"Family Film\",  \"Children\\'s/Family\",  \"Drama\",  \"Animation\"']\n",
            "Summary:  The film starts with a showing of the 1958 award winning cartoon Knighty Knight Bugs before going into its opening credits. This is followed up by Bugs narrating how Looney Tunes and Merrie Melodies immediately replaced baggy-pants comedy before introducing us to \"a warm-hearted humble little intrevoit called Yosemite Sam\".  Yosemite Sam courts Granny with evil intentions for the $50,000,000 she has inherited, but Bugs overhears his scheming and thwarts Sam under the guise of another suitor and \n",
            "------------------\n"
          ],
          "name": "stdout"
        }
      ]
    },
    {
      "cell_type": "markdown",
      "metadata": {
        "id": "zgyavS-JqkH1"
      },
      "source": [
        "Θεματική Ταινίας με ID - 1994\n",
        "Πρόκειται για ταινίες κινουμένων σχεδιών με πρωταγωνιστη τον tweety. Μερικές από τις προτάσεις είναι άλλα κινούμενα σχέδια με τους tom & jerry ή τον bugs bunny."
      ]
    },
    {
      "cell_type": "code",
      "metadata": {
        "id": "xbJAZx_YqkH1",
        "outputId": "f97403c1-8aaf-4b3e-b65c-860b02d55c77"
      },
      "source": [
        "print_results(1994,10,cosine_sim_2,full=False)"
      ],
      "execution_count": null,
      "outputs": [
        {
          "output_type": "stream",
          "text": [
            "**** Target movie:  1994\n",
            "Title:  [\"Tweety's SOS\"]\n",
            "Genres:  ['\"Short Film\",  \"Family Film\",  \"Comedy film\",  \"Animation\"']\n",
            "Summary:  The story opens with Sylvester rummaging through trash cans for food. When he does not find anything worth satisfying, he is very sad and goes to the dock. As he is sitting there, he is by a cruise ship and Tweety is swinging in his cage. When Sylvester sees Tweety, he calls Tweety his breakfast and Tweety slams the port door on Sylvester dropping him in the water. Sylvester manages to come on board and decides to go into the cabin where Tweety is. Eventually, he gets Tweety in his hands and sta\n",
            "\n",
            "**** Brief description of recommended movies: \n",
            " [(402, 0.8938622250467224), (4904, 0.8861582611311796), (2875, 0.8003648730351917), (4451, 0.7799671445557566), (1271, 0.7727433340805497), (4815, 0.7152089344597085), (4239, 0.545588397316062), (294, 0.4927854451616814), (3971, 0.443022798183651), (2551, 0.3099548664294387)]\n",
            "\n",
            "**** 10  most related movies based on content:\n",
            "**** Recommended movie No.:  1\n",
            "Movie Id:  402\n",
            "Title:  ['Canary Row']\n",
            "Genres:  ['\"Short Film\",  \"Family Film\",  \"Comedy\",  \"Animation\"']\n",
            "Summary:   From his room in a building belonging to the “Bird-Watchers' Society”, Sylvester employs binoculars to focus on the window opposite him, containing Tweety's cage. Tweety does the same . Tweety puts his binoculars down and says his catchphrase: “I tawt I taw a puddy tat!” Then he replaces his binoculars to confirm and, indeed, “I DID! I DID taw a puddy tat!” Sylvester jumps for joy and runs to the building Tweety is in , but fails to notice the sign banning cats and dogs from the building. This \n",
            "------------------\n",
            "**** Recommended movie No.:  2\n",
            "Movie Id:  4904\n",
            "Title:  ['A Street Cat Named Sylvester']\n",
            "Genres:  ['\"Short Film\",  \"Family Film\",  \"Animation\"']\n",
            "Summary:  Tweety stumbles into Sylvester's house looking for shelter and Sylvester hesistates if he saw a tweety bird in the same manner Tweety wonders if he saw a 'Putty Cat'. Sylvester snatches him inside but has to hide Tweety in a vase covered by books, when Granny appears. While an injured Hector remains bedridden, Sylvester causes whatever diversion he can to stop Granny from spotting Tweety, making Granny give multiple doses of medicine to Hector. When Hector gets in Sylvester's way from eating Twe\n",
            "------------------\n",
            "**** Recommended movie No.:  3\n",
            "Movie Id:  2875\n",
            "Title:  ['Tweet and Sour']\n",
            "Genres:  ['\"Short Film\",  \"Family Film\",  \"Animation\"']\n",
            "Summary:  Granny leaves the house for an outing, but as she drives by the house and waves goodbye to Tweety, she sees Sylvester has gotten into the house and is about to eat the bird. Granny stops the cat in time and, fed up with his constant chasing after Tweety, gives him an ultimatum: \"If there's so much as one little feather harmed on the canary, it's off to the violin string factory!\" . As Sylvester sulks in the corner, Tweety is about to face a new threat—a rough-looking orange cat wearing an eyepat\n",
            "------------------\n",
            "**** Recommended movie No.:  4\n",
            "Movie Id:  4451\n",
            "Title:  ['Snow Business']\n",
            "Genres:  ['\"Short Film\",  \"Family Film\",  \"Comedy\",  \"Animation\"']\n",
            "Summary:  Heavy snows trap Sylvester the Cat and Tweety  alone in Granny's mountain cabin. The standard expository Mel Blanc radio report announces that the roads will be blocked for six weeks. Panicked, Sylvester looks for food in the icebox, cupboards, and closets, finding nothing but boxes and boxes of bird seed. He quickly seizes upon the idea of coaxing Tweety into being cooked, proposing sailboat play  and skating . The Sylvester-chases-Tweety cycle is continually disrupted, however, by an unnamed m\n",
            "------------------\n",
            "**** Recommended movie No.:  5\n",
            "Movie Id:  1271\n",
            "Title:  ['Sandy Claws']\n",
            "Genres:  ['\"Short Film\",  \"Family Film\",  \"Animation\"']\n",
            "Summary:  Granny has taken Tweety to the beach for the day. Granny tells Tweety she can't wait to try on her new \"bikini bathing suit\" and promises to return right away. Meanwhile, Sylvester is fishing on the pier and, after pointing a gun at a worm, is immediately swallowed by a huge fish. After expressing his disgust about his lack of success, the cat spots Tweety in his cage, sitting on a rock across the pier and unguarded. Sylvester thinks he's in for a free meal ... until the tide comes in and washes\n",
            "------------------\n",
            "**** Recommended movie No.:  6\n",
            "Movie Id:  4815\n",
            "Title:  ['Catty Cornered']\n",
            "Genres:  ['\"Crime Fiction\",  \"Family Film\",  \"Animation\"']\n",
            "Summary:  News was spread worldwide about Tweety getting captured by Rocky and his assistant named Nick. At the same time, Sylvester was in attempt of catching Tweety for his breakfast, but, however failed due to the harsh eyes of Rocky and Nick. After many trials, Sylvester finally catches Tweety, but was then labelled in the news as \"HERO CAT SAVES BIRD\" and both of them were announced to the public. The mayor then requests Sylvester to kiss Tweety, but he eats him, only to get forced to spit Tweety out\n",
            "------------------\n",
            "**** Recommended movie No.:  7\n",
            "Movie Id:  4239\n",
            "Title:  ['Tom Tom Tomcat']\n",
            "Genres:  ['\"Short Film\",  \"Comedy film\",  \"Family Film\",  \"Animation\"']\n",
            "Summary:  Granny and Tweety are riding through the desert in their wagon, to the tune of Oh! Susanna, when they are ambushed by Indians . They are forced to hole up in a fort, where Granny begins to shoot them down while Tweety counts . On the tenth, one nearly takes Tweety, but is shot down just in time. More attempts include an archer and a battering ram, both foiled. One archer almost drags Tweety out again  but Granny surprises him with a bomb instead. The cats' attempts continue like this, all of the\n",
            "------------------\n",
            "**** Recommended movie No.:  8\n",
            "Movie Id:  294\n",
            "Title:  [\"Pop 'im Pop\"]\n",
            "Genres:  ['\"Family Film\",  \"Comedy\",  \"Animation\"']\n",
            "Summary:  The cartoon opens with a circus featuring \"Gracie, the Fightin' Kangaroo!\". Gracie has a baby  while practicing, and isn't able to stay with him very long. While Gracie goes off to perform, Hippety slips on a pair of his mother's boxing gloves, and wanders off . Meanwhile, Sylvester is bragging to his son about how he took on a mouse about his own size. Unfortunately, Hippety shows up behind him, leading Sylvester into a panic. Junior urges Sylvester to fight Hippety, as they both think he's a g\n",
            "------------------\n",
            "**** Recommended movie No.:  9\n",
            "Movie Id:  3971\n",
            "Title:  ['Lighthouse Mouse']\n",
            "Genres:  ['\"Short Film\",  \"Family Film\",  \"Comedy film\",  \"Animation\"']\n",
            "Summary:  It is 11 o’clock at night at a lighthouse on a small island, and the clock's pendulum is intermittently deflecting the light from the beacon into a mousehole downstairs, keeping the resident mouse wide awake. The baggy-eyed rodent crawls out of bed, climbs the steps to the beacon, and yanks the plug out of the outlet to turn it off. Polly the parrot immediately flies into the lightkeeper’s bedroom squawking “Lights out! Lights out!” The lightkeeper wakes up shouting, “Grrrreat Scott! It’s that c\n",
            "------------------\n",
            "**** Recommended movie No.:  10\n",
            "Movie Id:  2551\n",
            "Title:  ['The Looney Looney Looney Bugs Bunny Movie']\n",
            "Genres:  ['\"Family Film\",  \"Children\\'s/Family\",  \"Drama\",  \"Animation\"']\n",
            "Summary:  The film starts with a showing of the 1958 award winning cartoon Knighty Knight Bugs before going into its opening credits. This is followed up by Bugs narrating how Looney Tunes and Merrie Melodies immediately replaced baggy-pants comedy before introducing us to \"a warm-hearted humble little intrevoit called Yosemite Sam\".  Yosemite Sam courts Granny with evil intentions for the $50,000,000 she has inherited, but Bugs overhears his scheming and thwarts Sam under the guise of another suitor and \n",
            "------------------\n"
          ],
          "name": "stdout"
        }
      ]
    },
    {
      "cell_type": "markdown",
      "metadata": {
        "id": "EWtUsR-uqkH3"
      },
      "source": [
        "Θεματική Ταινίας με ID - 4904\n",
        "Πρόκειται για ταινίες κινουμένων σχεδιών με πρωταγωνιστη τον sylvester. Μερικές από τις προτάσεις είναι άλλα κινούμενα σχέδια με τους tom & jerry ή τον bugs bunny."
      ]
    },
    {
      "cell_type": "code",
      "metadata": {
        "id": "PPq41xSTqkH4",
        "outputId": "fbbb6568-5c6d-452f-c1da-8054b79209b9"
      },
      "source": [
        "print_results(4904,10,cosine_sim_2,full=False)"
      ],
      "execution_count": null,
      "outputs": [
        {
          "output_type": "stream",
          "text": [
            "**** Target movie:  4904\n",
            "Title:  ['A Street Cat Named Sylvester']\n",
            "Genres:  ['\"Short Film\",  \"Family Film\",  \"Animation\"']\n",
            "Summary:  Tweety stumbles into Sylvester's house looking for shelter and Sylvester hesistates if he saw a tweety bird in the same manner Tweety wonders if he saw a 'Putty Cat'. Sylvester snatches him inside but has to hide Tweety in a vase covered by books, when Granny appears. While an injured Hector remains bedridden, Sylvester causes whatever diversion he can to stop Granny from spotting Tweety, making Granny give multiple doses of medicine to Hector. When Hector gets in Sylvester's way from eating Twe\n",
            "\n",
            "**** Brief description of recommended movies: \n",
            " [(1994, 0.8861582611311796), (402, 0.8388284329995082), (2875, 0.7668426232892388), (4451, 0.7532982042532378), (1271, 0.7227185235352389), (4815, 0.6955017728106566), (4239, 0.5415695282381009), (294, 0.44310651699600145), (3971, 0.3975773503101711), (2551, 0.2914723541714773)]\n",
            "\n",
            "**** 10  most related movies based on content:\n",
            "**** Recommended movie No.:  1\n",
            "Movie Id:  1994\n",
            "Title:  [\"Tweety's SOS\"]\n",
            "Genres:  ['\"Short Film\",  \"Family Film\",  \"Comedy film\",  \"Animation\"']\n",
            "Summary:  The story opens with Sylvester rummaging through trash cans for food. When he does not find anything worth satisfying, he is very sad and goes to the dock. As he is sitting there, he is by a cruise ship and Tweety is swinging in his cage. When Sylvester sees Tweety, he calls Tweety his breakfast and Tweety slams the port door on Sylvester dropping him in the water. Sylvester manages to come on board and decides to go into the cabin where Tweety is. Eventually, he gets Tweety in his hands and sta\n",
            "------------------\n",
            "**** Recommended movie No.:  2\n",
            "Movie Id:  402\n",
            "Title:  ['Canary Row']\n",
            "Genres:  ['\"Short Film\",  \"Family Film\",  \"Comedy\",  \"Animation\"']\n",
            "Summary:   From his room in a building belonging to the “Bird-Watchers' Society”, Sylvester employs binoculars to focus on the window opposite him, containing Tweety's cage. Tweety does the same . Tweety puts his binoculars down and says his catchphrase: “I tawt I taw a puddy tat!” Then he replaces his binoculars to confirm and, indeed, “I DID! I DID taw a puddy tat!” Sylvester jumps for joy and runs to the building Tweety is in , but fails to notice the sign banning cats and dogs from the building. This \n",
            "------------------\n",
            "**** Recommended movie No.:  3\n",
            "Movie Id:  2875\n",
            "Title:  ['Tweet and Sour']\n",
            "Genres:  ['\"Short Film\",  \"Family Film\",  \"Animation\"']\n",
            "Summary:  Granny leaves the house for an outing, but as she drives by the house and waves goodbye to Tweety, she sees Sylvester has gotten into the house and is about to eat the bird. Granny stops the cat in time and, fed up with his constant chasing after Tweety, gives him an ultimatum: \"If there's so much as one little feather harmed on the canary, it's off to the violin string factory!\" . As Sylvester sulks in the corner, Tweety is about to face a new threat—a rough-looking orange cat wearing an eyepat\n",
            "------------------\n",
            "**** Recommended movie No.:  4\n",
            "Movie Id:  4451\n",
            "Title:  ['Snow Business']\n",
            "Genres:  ['\"Short Film\",  \"Family Film\",  \"Comedy\",  \"Animation\"']\n",
            "Summary:  Heavy snows trap Sylvester the Cat and Tweety  alone in Granny's mountain cabin. The standard expository Mel Blanc radio report announces that the roads will be blocked for six weeks. Panicked, Sylvester looks for food in the icebox, cupboards, and closets, finding nothing but boxes and boxes of bird seed. He quickly seizes upon the idea of coaxing Tweety into being cooked, proposing sailboat play  and skating . The Sylvester-chases-Tweety cycle is continually disrupted, however, by an unnamed m\n",
            "------------------\n",
            "**** Recommended movie No.:  5\n",
            "Movie Id:  1271\n",
            "Title:  ['Sandy Claws']\n",
            "Genres:  ['\"Short Film\",  \"Family Film\",  \"Animation\"']\n",
            "Summary:  Granny has taken Tweety to the beach for the day. Granny tells Tweety she can't wait to try on her new \"bikini bathing suit\" and promises to return right away. Meanwhile, Sylvester is fishing on the pier and, after pointing a gun at a worm, is immediately swallowed by a huge fish. After expressing his disgust about his lack of success, the cat spots Tweety in his cage, sitting on a rock across the pier and unguarded. Sylvester thinks he's in for a free meal ... until the tide comes in and washes\n",
            "------------------\n",
            "**** Recommended movie No.:  6\n",
            "Movie Id:  4815\n",
            "Title:  ['Catty Cornered']\n",
            "Genres:  ['\"Crime Fiction\",  \"Family Film\",  \"Animation\"']\n",
            "Summary:  News was spread worldwide about Tweety getting captured by Rocky and his assistant named Nick. At the same time, Sylvester was in attempt of catching Tweety for his breakfast, but, however failed due to the harsh eyes of Rocky and Nick. After many trials, Sylvester finally catches Tweety, but was then labelled in the news as \"HERO CAT SAVES BIRD\" and both of them were announced to the public. The mayor then requests Sylvester to kiss Tweety, but he eats him, only to get forced to spit Tweety out\n",
            "------------------\n",
            "**** Recommended movie No.:  7\n",
            "Movie Id:  4239\n",
            "Title:  ['Tom Tom Tomcat']\n",
            "Genres:  ['\"Short Film\",  \"Comedy film\",  \"Family Film\",  \"Animation\"']\n",
            "Summary:  Granny and Tweety are riding through the desert in their wagon, to the tune of Oh! Susanna, when they are ambushed by Indians . They are forced to hole up in a fort, where Granny begins to shoot them down while Tweety counts . On the tenth, one nearly takes Tweety, but is shot down just in time. More attempts include an archer and a battering ram, both foiled. One archer almost drags Tweety out again  but Granny surprises him with a bomb instead. The cats' attempts continue like this, all of the\n",
            "------------------\n",
            "**** Recommended movie No.:  8\n",
            "Movie Id:  294\n",
            "Title:  [\"Pop 'im Pop\"]\n",
            "Genres:  ['\"Family Film\",  \"Comedy\",  \"Animation\"']\n",
            "Summary:  The cartoon opens with a circus featuring \"Gracie, the Fightin' Kangaroo!\". Gracie has a baby  while practicing, and isn't able to stay with him very long. While Gracie goes off to perform, Hippety slips on a pair of his mother's boxing gloves, and wanders off . Meanwhile, Sylvester is bragging to his son about how he took on a mouse about his own size. Unfortunately, Hippety shows up behind him, leading Sylvester into a panic. Junior urges Sylvester to fight Hippety, as they both think he's a g\n",
            "------------------\n",
            "**** Recommended movie No.:  9\n",
            "Movie Id:  3971\n",
            "Title:  ['Lighthouse Mouse']\n",
            "Genres:  ['\"Short Film\",  \"Family Film\",  \"Comedy film\",  \"Animation\"']\n",
            "Summary:  It is 11 o’clock at night at a lighthouse on a small island, and the clock's pendulum is intermittently deflecting the light from the beacon into a mousehole downstairs, keeping the resident mouse wide awake. The baggy-eyed rodent crawls out of bed, climbs the steps to the beacon, and yanks the plug out of the outlet to turn it off. Polly the parrot immediately flies into the lightkeeper’s bedroom squawking “Lights out! Lights out!” The lightkeeper wakes up shouting, “Grrrreat Scott! It’s that c\n",
            "------------------\n",
            "**** Recommended movie No.:  10\n",
            "Movie Id:  2551\n",
            "Title:  ['The Looney Looney Looney Bugs Bunny Movie']\n",
            "Genres:  ['\"Family Film\",  \"Children\\'s/Family\",  \"Drama\",  \"Animation\"']\n",
            "Summary:  The film starts with a showing of the 1958 award winning cartoon Knighty Knight Bugs before going into its opening credits. This is followed up by Bugs narrating how Looney Tunes and Merrie Melodies immediately replaced baggy-pants comedy before introducing us to \"a warm-hearted humble little intrevoit called Yosemite Sam\".  Yosemite Sam courts Granny with evil intentions for the $50,000,000 she has inherited, but Bugs overhears his scheming and thwarts Sam under the guise of another suitor and \n",
            "------------------\n"
          ],
          "name": "stdout"
        }
      ]
    },
    {
      "cell_type": "markdown",
      "metadata": {
        "id": "zuAHBRXvqkH6"
      },
      "source": [
        "Θεματική Ταινίας με ID - 1137\n",
        "Τόσο η ταινία όσο και οι προτάσεις είναι προϊόν bollywood."
      ]
    },
    {
      "cell_type": "code",
      "metadata": {
        "id": "U6yKH52KqkH6",
        "outputId": "59c97bdd-8214-431a-a058-307d99795ecc"
      },
      "source": [
        "print_results(1137,10,cosine_sim_2,full=False)"
      ],
      "execution_count": null,
      "outputs": [
        {
          "output_type": "stream",
          "text": [
            "**** Target movie:  1137\n",
            "Title:  ['Chapali Height']\n",
            "Genres:  ['\"Thriller\"']\n",
            "Summary:  Chapali Height is a story of Amir , Bineeta  and Raj . Amir and Bineeta come from Pokhara to live in Raj’s house at Chapali Height where he is living alone. After spending some time there, relationship between Amir and Bineeta becomes sour and an accident commences the main story of the movie.http://xnepali.net/movies/movie-review-chapali-height.http://www.baltimorenepal.com/2012/09/full-nepali-movie-chapali-height.html/ Amir starts thinking that Binee  is attracted towards Raj. An incident happ\n",
            "\n",
            "**** Brief description of recommended movies: \n",
            " [(2830, 0.8740772245538715), (4984, 0.8065476590463337), (3423, 0.7505332022206863), (1759, 0.7424911893094227), (2366, 0.5966167130814422), (3789, 0.5811172222425516), (1310, 0.39064432843467783), (173, 0.35106374911172167), (1201, 0.34108705303460213), (2044, 0.129865449075355)]\n",
            "\n",
            "**** 10  most related movies based on content:\n",
            "**** Recommended movie No.:  1\n",
            "Movie Id:  2830\n",
            "Title:  ['Saawariya']\n",
            "Genres:  ['\"World cinema\",  \"Musical\",  \"Drama\",  \"Romantic drama\",  \"Romance Film\",  \"Bollywood\"']\n",
            "Summary:  The story is narrated by Gulabji , a prostitute who frequents RK Bar . She introduces the audience to the bar's lead singer, Ranbir Raj  whom she lovingly calls \"Saawariya\" , who is a free-spirited and kind-hearted guy with no worries at all. One night, while sleeping on the street, he and Gulabji meet. Despite knowing what Gulabji does, Raj still treats her in a friendly manner and, unlike other men, is kind to the other prostitutes and tries to brighten their sad lives. When he tells Gulabji t\n",
            "------------------\n",
            "**** Recommended movie No.:  2\n",
            "Movie Id:  4984\n",
            "Title:  ['Aasha']\n",
            "Genres:  ['\"Comedy\"']\n",
            "Summary:  The story tells about Kishore who is good-hearted person and always helps poor people even though he is from Zamindar family. Then he travels to Bombay to stay with his cousin Raj who cheats lots of girls. One day when both go for a hunt in jungle, Raj meets the man who asked him to marry his daughter but Raj murders him and he frames the case to Kishore. So Kishore escapes from there. Finally Kishore and his lover Nirmala prove that Raj is guilty and Raj tells the truth in front of everyone. No\n",
            "------------------\n",
            "**** Recommended movie No.:  3\n",
            "Movie Id:  3423\n",
            "Title:  ['Andaaz']\n",
            "Genres:  ['\"World cinema\",  \"Musical\",  \"Drama\",  \"Romantic drama\",  \"Romance Film\",  \"Bollywood\"']\n",
            "Summary:  Young Raj Malhotra  lives with his elder brother, Rohit; his sister-in-law Kiran, and a niece. After an accident fractures his leg, he is unable to walk for some time. Due to psychological reasons, he cannot walk even after the fracture heals. When the Malhotras move to Dehra Dun, Raj befriends young Kajal , as both share a common passion for airplanes. Kajal encourages Raj to walk, and succeeds. Years later the two continue to be fast friends, and everyone expects them to marry soon. Then Raj i\n",
            "------------------\n",
            "**** Recommended movie No.:  4\n",
            "Movie Id:  1759\n",
            "Title:  ['Qayamat Se Qayamat Tak']\n",
            "Genres:  ['\"World cinema\",  \"Action/Adventure\",  \"Musical\",  \"Drama\",  \"Romantic drama\",  \"Romance Film\",  \"Bollywood\"']\n",
            "Summary:  Dhanakpur village farmer Thakur Jaswant Singh  and Dhanraj Singh  are brothers. They have a younger sister Madhumati, who was used, made pregnant and ditched by Ratan Singh, the son of Thakur Raghuveer Singh from a big Rajput family. The family refuses Jawant Singh's request to get his sister married to Ratan. Ratan's family refuses to accept that he is guilty, as they are interested in their status. Insulted, Jaswant decides to leave the village. Unable to tolerate the events, Madhumati commits\n",
            "------------------\n",
            "**** Recommended movie No.:  5\n",
            "Movie Id:  2366\n",
            "Title:  ['Rab Ne Bana Di Jodi']\n",
            "Genres:  ['\"World cinema\",  \"Musical\",  \"Drama\",  \"Comedy\",  \"Romantic drama\",  \"Romance Film\",  \"Bollywood\"']\n",
            "Summary:  Shy, introverted, and kind-hearted Surinder \"Suri\" Sahni  is an office employee for Punjab Power. He meets the daughter of his former professor , beautiful and vivacious Taani Gupta , during the preparations for her wedding. A short while later, the shocking news arrives that her fiancé and his wedding entourage were killed in a road accident. Taani's father suffers a heart attack at the news. Fearing that Taani will be alone in the world, the professor on his deathbed, requests Suri to marry he\n",
            "------------------\n",
            "**** Recommended movie No.:  6\n",
            "Movie Id:  3789\n",
            "Title:  ['Soch']\n",
            "Genres:  ['\"Drama\",  \"World cinema\"']\n",
            "Summary:  Raj Matthews has been selected the best actor in the Bollywood Cine Awards. He dedicates this award to his pretty co-star, Preeti Sardesai. Raj has everything going for him. He is rich, famous, handsome, and popular. Preeti thinks a lot about him and is even considering having an affair with him. Behind all the glitter and the glory lies an embittered wife &mdash; Madhulika &mdash; who is insecure, jealous of Preeti, and suspects her husband of having an affair with her. She will not tolerate an\n",
            "------------------\n",
            "**** Recommended movie No.:  7\n",
            "Movie Id:  1310\n",
            "Title:  ['Arth']\n",
            "Genres:  ['\"Art film\",  \"Bollywood\"']\n",
            "Summary:   Pooja , who grew up as an orphan girl and always dreamt of owning a house, becomes insecure when she finds out that she and her husband, Inder , have to leave the apartment they rent. The twist that occurred when Inder gives her the keys of a new house proves to be double-edged, when it is revealed that he is in love with another woman, Kavita , with whom he earned the money  for the new apartment. While previously giving advice to her maid  cheated by her husband, now Pooja becomes herself inv\n",
            "------------------\n",
            "**** Recommended movie No.:  8\n",
            "Movie Id:  173\n",
            "Title:  ['Kyo Kii... Main Jhuth Nahin Bolta']\n",
            "Genres:  ['\"Fantasy\",  \"Drama\",  \"Comedy\",  \"World cinema\"']\n",
            "Summary:  Coming from small-town Chiaroscuro to big city Bombay, conman and compulsive liar, Raj Malhotra , a lawyer by profession, sets up shop with fellow lawyer, Mohan. He falls in love with Sonam , daughter of a wealthy lawyer Tejpal. He devises a scheme to marry into this wealthy family, and he succeeds. Years later, he has a son, who wishes that his dad would stop lying; and a mistress, Tara. The son's wish comes true, and all utterances from Raj's mouth are truthful. This creates a crisis in his pe\n",
            "------------------\n",
            "**** Recommended movie No.:  9\n",
            "Movie Id:  1201\n",
            "Title:  ['I Love You']\n",
            "Genres:  ['\"Romance Film\"']\n",
            "Summary:  I Love You is a romantic film with strong emotional family bonds. The film introduced Tamil actor Prashanth in Hindi-language and Sabah in lead roles, supported by Amrish Puri, Ashok Saraf and Charan Raj.\n",
            "------------------\n",
            "**** Recommended movie No.:  10\n",
            "Movie Id:  2044\n",
            "Title:  ['Bandini']\n",
            "Genres:  ['\"Thriller\",  \"Art film\",  \"World cinema\",  \"Musical\",  \"Drama\",  \"Bollywood\"']\n",
            "Summary:  Kalyani is in a prison in pre-Independence India for committing a murder, and we learn the circumstances of her crime in flashback as she divulges it to the jailor. The film is set in Bengal in the 1930s, during the British Raj, where Kalyani  is the daughter of the postmaster  of the village, who falls in love with a freedom fighter, Bikash ([[Ashok Kumar , who later leaves her in the village promising to come back but never does. The society treats them harshly. Broken by her father's misery a\n",
            "------------------\n"
          ],
          "name": "stdout"
        }
      ]
    },
    {
      "cell_type": "markdown",
      "metadata": {
        "id": "p7SgWsUTqkH8"
      },
      "source": [
        "Θεματική Ταινίας με ID - 2830\n",
        "Τόσο η ταινία όσο και οι προτάσεις είναι προϊόν bollywood."
      ]
    },
    {
      "cell_type": "code",
      "metadata": {
        "id": "IbD5XYLMqkH9",
        "outputId": "76cf918a-0a65-4ffb-c89c-b60b3020b6fa"
      },
      "source": [
        "print_results(2830,10,cosine_sim_2,full=False)"
      ],
      "execution_count": null,
      "outputs": [
        {
          "output_type": "stream",
          "text": [
            "**** Target movie:  2830\n",
            "Title:  ['Saawariya']\n",
            "Genres:  ['\"World cinema\",  \"Musical\",  \"Drama\",  \"Romantic drama\",  \"Romance Film\",  \"Bollywood\"']\n",
            "Summary:  The story is narrated by Gulabji , a prostitute who frequents RK Bar . She introduces the audience to the bar's lead singer, Ranbir Raj  whom she lovingly calls \"Saawariya\" , who is a free-spirited and kind-hearted guy with no worries at all. One night, while sleeping on the street, he and Gulabji meet. Despite knowing what Gulabji does, Raj still treats her in a friendly manner and, unlike other men, is kind to the other prostitutes and tries to brighten their sad lives. When he tells Gulabji t\n",
            "\n",
            "**** Brief description of recommended movies: \n",
            " [(1137, 0.8740772245538715), (4984, 0.8015818652379979), (3423, 0.7425320707314256), (1759, 0.7347564298485653), (2366, 0.6184887910273192), (3789, 0.5618611612392738), (1310, 0.37371726156729046), (1201, 0.3551278126678334), (173, 0.3497844340408125), (2044, 0.1405706236390605)]\n",
            "\n",
            "**** 10  most related movies based on content:\n",
            "**** Recommended movie No.:  1\n",
            "Movie Id:  1137\n",
            "Title:  ['Chapali Height']\n",
            "Genres:  ['\"Thriller\"']\n",
            "Summary:  Chapali Height is a story of Amir , Bineeta  and Raj . Amir and Bineeta come from Pokhara to live in Raj’s house at Chapali Height where he is living alone. After spending some time there, relationship between Amir and Bineeta becomes sour and an accident commences the main story of the movie.http://xnepali.net/movies/movie-review-chapali-height.http://www.baltimorenepal.com/2012/09/full-nepali-movie-chapali-height.html/ Amir starts thinking that Binee  is attracted towards Raj. An incident happ\n",
            "------------------\n",
            "**** Recommended movie No.:  2\n",
            "Movie Id:  4984\n",
            "Title:  ['Aasha']\n",
            "Genres:  ['\"Comedy\"']\n",
            "Summary:  The story tells about Kishore who is good-hearted person and always helps poor people even though he is from Zamindar family. Then he travels to Bombay to stay with his cousin Raj who cheats lots of girls. One day when both go for a hunt in jungle, Raj meets the man who asked him to marry his daughter but Raj murders him and he frames the case to Kishore. So Kishore escapes from there. Finally Kishore and his lover Nirmala prove that Raj is guilty and Raj tells the truth in front of everyone. No\n",
            "------------------\n",
            "**** Recommended movie No.:  3\n",
            "Movie Id:  3423\n",
            "Title:  ['Andaaz']\n",
            "Genres:  ['\"World cinema\",  \"Musical\",  \"Drama\",  \"Romantic drama\",  \"Romance Film\",  \"Bollywood\"']\n",
            "Summary:  Young Raj Malhotra  lives with his elder brother, Rohit; his sister-in-law Kiran, and a niece. After an accident fractures his leg, he is unable to walk for some time. Due to psychological reasons, he cannot walk even after the fracture heals. When the Malhotras move to Dehra Dun, Raj befriends young Kajal , as both share a common passion for airplanes. Kajal encourages Raj to walk, and succeeds. Years later the two continue to be fast friends, and everyone expects them to marry soon. Then Raj i\n",
            "------------------\n",
            "**** Recommended movie No.:  4\n",
            "Movie Id:  1759\n",
            "Title:  ['Qayamat Se Qayamat Tak']\n",
            "Genres:  ['\"World cinema\",  \"Action/Adventure\",  \"Musical\",  \"Drama\",  \"Romantic drama\",  \"Romance Film\",  \"Bollywood\"']\n",
            "Summary:  Dhanakpur village farmer Thakur Jaswant Singh  and Dhanraj Singh  are brothers. They have a younger sister Madhumati, who was used, made pregnant and ditched by Ratan Singh, the son of Thakur Raghuveer Singh from a big Rajput family. The family refuses Jawant Singh's request to get his sister married to Ratan. Ratan's family refuses to accept that he is guilty, as they are interested in their status. Insulted, Jaswant decides to leave the village. Unable to tolerate the events, Madhumati commits\n",
            "------------------\n",
            "**** Recommended movie No.:  5\n",
            "Movie Id:  2366\n",
            "Title:  ['Rab Ne Bana Di Jodi']\n",
            "Genres:  ['\"World cinema\",  \"Musical\",  \"Drama\",  \"Comedy\",  \"Romantic drama\",  \"Romance Film\",  \"Bollywood\"']\n",
            "Summary:  Shy, introverted, and kind-hearted Surinder \"Suri\" Sahni  is an office employee for Punjab Power. He meets the daughter of his former professor , beautiful and vivacious Taani Gupta , during the preparations for her wedding. A short while later, the shocking news arrives that her fiancé and his wedding entourage were killed in a road accident. Taani's father suffers a heart attack at the news. Fearing that Taani will be alone in the world, the professor on his deathbed, requests Suri to marry he\n",
            "------------------\n",
            "**** Recommended movie No.:  6\n",
            "Movie Id:  3789\n",
            "Title:  ['Soch']\n",
            "Genres:  ['\"Drama\",  \"World cinema\"']\n",
            "Summary:  Raj Matthews has been selected the best actor in the Bollywood Cine Awards. He dedicates this award to his pretty co-star, Preeti Sardesai. Raj has everything going for him. He is rich, famous, handsome, and popular. Preeti thinks a lot about him and is even considering having an affair with him. Behind all the glitter and the glory lies an embittered wife &mdash; Madhulika &mdash; who is insecure, jealous of Preeti, and suspects her husband of having an affair with her. She will not tolerate an\n",
            "------------------\n",
            "**** Recommended movie No.:  7\n",
            "Movie Id:  1310\n",
            "Title:  ['Arth']\n",
            "Genres:  ['\"Art film\",  \"Bollywood\"']\n",
            "Summary:   Pooja , who grew up as an orphan girl and always dreamt of owning a house, becomes insecure when she finds out that she and her husband, Inder , have to leave the apartment they rent. The twist that occurred when Inder gives her the keys of a new house proves to be double-edged, when it is revealed that he is in love with another woman, Kavita , with whom he earned the money  for the new apartment. While previously giving advice to her maid  cheated by her husband, now Pooja becomes herself inv\n",
            "------------------\n",
            "**** Recommended movie No.:  8\n",
            "Movie Id:  1201\n",
            "Title:  ['I Love You']\n",
            "Genres:  ['\"Romance Film\"']\n",
            "Summary:  I Love You is a romantic film with strong emotional family bonds. The film introduced Tamil actor Prashanth in Hindi-language and Sabah in lead roles, supported by Amrish Puri, Ashok Saraf and Charan Raj.\n",
            "------------------\n",
            "**** Recommended movie No.:  9\n",
            "Movie Id:  173\n",
            "Title:  ['Kyo Kii... Main Jhuth Nahin Bolta']\n",
            "Genres:  ['\"Fantasy\",  \"Drama\",  \"Comedy\",  \"World cinema\"']\n",
            "Summary:  Coming from small-town Chiaroscuro to big city Bombay, conman and compulsive liar, Raj Malhotra , a lawyer by profession, sets up shop with fellow lawyer, Mohan. He falls in love with Sonam , daughter of a wealthy lawyer Tejpal. He devises a scheme to marry into this wealthy family, and he succeeds. Years later, he has a son, who wishes that his dad would stop lying; and a mistress, Tara. The son's wish comes true, and all utterances from Raj's mouth are truthful. This creates a crisis in his pe\n",
            "------------------\n",
            "**** Recommended movie No.:  10\n",
            "Movie Id:  2044\n",
            "Title:  ['Bandini']\n",
            "Genres:  ['\"Thriller\",  \"Art film\",  \"World cinema\",  \"Musical\",  \"Drama\",  \"Bollywood\"']\n",
            "Summary:  Kalyani is in a prison in pre-Independence India for committing a murder, and we learn the circumstances of her crime in flashback as she divulges it to the jailor. The film is set in Bengal in the 1930s, during the British Raj, where Kalyani  is the daughter of the postmaster  of the village, who falls in love with a freedom fighter, Bikash ([[Ashok Kumar , who later leaves her in the village promising to come back but never does. The society treats them harshly. Broken by her father's misery a\n",
            "------------------\n"
          ],
          "name": "stdout"
        }
      ]
    },
    {
      "cell_type": "markdown",
      "metadata": {
        "id": "QHKGcw14qkH-"
      },
      "source": [
        "Θεματική Ταινίας με ID - 2221\n",
        "Πρόκειται για ταινίες κινουμένων σχεδιών με πρωταγωνιστη τον road runner. Μερικές από τις προτάσεις είναι άλλα κινούμενα σχέδια με τον bugs bunny και η ταινία cars."
      ]
    },
    {
      "cell_type": "code",
      "metadata": {
        "id": "aU2k7TuEqkH_",
        "outputId": "359e002f-339d-49dc-cb8a-f8c9d0f90c04"
      },
      "source": [
        "print_results(2221,10,cosine_sim_2,full=False)"
      ],
      "execution_count": null,
      "outputs": [
        {
          "output_type": "stream",
          "text": [
            "**** Target movie:  2221\n",
            "Title:  ['Fastest with the Mostest']\n",
            "Genres:  ['\"Short Film\",  \"Family Film\",  \"Comedy\",  \"Animation\"']\n",
            "Summary:  Introduction: Wile E. Coyote sneaks up on a firework and lights it, hoping for it to explode when the Road Runner passes over it, but it explodes instantly. The credits are shown within the dust, and the coyote's Latin name  is visible after they disappear. The Road Runner, significantly late to the party, zooms into view with the name Velocitus incalcublii. The action resumes and both characters begin the chase. Wile catches up to the Road Runner and passes him, but on his side. Wile continues \n",
            "\n",
            "**** Brief description of recommended movies: \n",
            " [(4622, 0.8301929956329549), (284, 0.8270579197825007), (1399, 0.7796752427370034), (2810, 0.5656830689871043), (4993, 0.4006046416630593), (4752, 0.2173517838758645), (4005, 0.1614039781825044), (1584, 0.15555545923338865), (2183, 0.13622073273047194), (3964, 0.11842977711932316)]\n",
            "\n",
            "**** 10  most related movies based on content:\n",
            "**** Recommended movie No.:  1\n",
            "Movie Id:  4622\n",
            "Title:  ['Guided Muscle']\n",
            "Genres:  ['\"Short Film\",  \"Family Film\",  \"Animation\"']\n",
            "Summary:  Introduction: Wile E. Coyote is cooking some food in a tin bucket over a fire. He adds pepper and a drop of a brown liquid, and stirs the bucket and fishes out what is revealed to be a tin can. The Coyote then sits down on a rock and prepares to cut the can in half  before he realizes what he is eating, and then pushes the entire table setting off the rock table. \"COYOTE - Eatibus Almost Anythingus\". With a Beep-beep, the Roadrunner speeds by and throws the coyote rolling across the ground. The \n",
            "------------------\n",
            "**** Recommended movie No.:  2\n",
            "Movie Id:  284\n",
            "Title:  ['Chariots of Fur']\n",
            "Genres:  ['\"Short Film\",  \"Family Film\",  \"Comedy\",  \"Animation\"']\n",
            "Summary:   Introduction: At the beginning, we see the Road Runner, known as Boulevardius Burnupius, giving Wile E. a \"come-on\" to chase him, and the camera moves to Wile and freezes to show he is Dogius Ignoramii for this cartoon. The chase continues until the coyote stops to read a sign in the road: \"WARNING: The Surgeon General has determined that chasing Road Runners may be hazardous to your health.\" He dismisses this sign as cheesy and laughs at it, before the Road Runner pulls up behind him and beeps\n",
            "------------------\n",
            "**** Recommended movie No.:  3\n",
            "Movie Id:  1399\n",
            "Title:  [\"Zip 'N Snort\"]\n",
            "Genres:  ['\"Short Film\",  \"Family Film\",  \"Comedy\",  \"Animation\"']\n",
            "Summary:  Introduction: The credits are shown, and the coyote's Latin name  is among them. The camera then zooms to the left to show Wile E. Coyote pointing at the words and then himself. The Road Runner then pulls up behind him and beeps, sending the Coyote into the air. The Road Runner's name is shown  before he moves off stage, leaving a dust cloud for Wile E. to land in. The chase starts, and the Coyote slowly gains on his opponent until the Road Runner dodges off the road, leaving Wile E. at the merc\n",
            "------------------\n",
            "**** Recommended movie No.:  4\n",
            "Movie Id:  2810\n",
            "Title:  ['Hook, Line and Stinker']\n",
            "Genres:  ['\"Short Film\",  \"Family Film\",  \"Animation\"']\n",
            "Summary:  The Road Runner  races right to left along a stretch of desert highway, with the Coyote  behind him. The Road Runner stops and steps aside. The Coyote passes him and stops in a cloud of dust. The Road Runner then zips into the distance with the force lifting the ribbon of pavement off the ground in his wake. Wile E. lowers his expectations  and thinks of a new scheme. The gags are as follows: 1. The Coyote, on a cliff, drops a washtub on the Road Runner on the road below, jumps on it and puts a \n",
            "------------------\n",
            "**** Recommended movie No.:  5\n",
            "Movie Id:  4993\n",
            "Title:  ['Operation: Rabbit']\n",
            "Genres:  ['\"Short Film\",  \"Family Film\",  \"Comedy film\",  \"Animation\"']\n",
            "Summary:  Set in the desert, Operation: Rabbit opens with Wile E. Coyote running up to Bugs Bunny's rabbit hole and constructing a door. He knocks on the door and Bugs, slightly bemused by the addition to his property, opens it. The Coyote proclaims, in his very first spoken line of dialogue ever, that he is a genius, as well as being faster, taller, and stronger than Bugs, and that he intends to eat the rabbit. He goes on to advise Bugs that it is futile to try and escape, since Bugs \"could hardly pass t\n",
            "------------------\n",
            "**** Recommended movie No.:  6\n",
            "Movie Id:  4752\n",
            "Title:  ['Portrait of the Artist as a Young Bunny']\n",
            "Genres:  ['\"Comedy\"']\n",
            "Summary:  On the last day of school, children emerge from a one-room schoolhouse, gushing with joy about summer vacation. Bugs Bunny separately shares this enthusiasm but then quickly realizes how silly this is. While wondering how absurd all this is aloud, he crashes into a tree and falls unconscious. In a dream sequence, a young Bugs  is excited about a school-free summer when he runs into a young Elmer Fudd. The youthful Bugs and Elmer reprise many of the classic Bugs-Elmer cartoon scenes, including th\n",
            "------------------\n",
            "**** Recommended movie No.:  7\n",
            "Movie Id:  4005\n",
            "Title:  ['Freerunner']\n",
            "Genres:  ['\"Action\"']\n",
            "Summary:  Freerunner is a based on a conceptual where chosen freerunners have to race against time scanning their collar belt on every check point within a given time limit. Their collar is fitted with a bomb which will blow off if they get out of green zone , or it can be detonated manually too by the owner. At every checkpoint the last one to arrive gets eliminated. Winner of the race gets a prize of million dollars. The runners are chosen according to their performance in the local races. Ryan, Kid Elv\n",
            "------------------\n",
            "**** Recommended movie No.:  8\n",
            "Movie Id:  1584\n",
            "Title:  ['Bombs Over Burma']\n",
            "Genres:  ['\"Adventure\",  \"Black-and-white\",  \"Action/Adventure\",  \"Drama\",  \"War film\",  \"Propaganda film\",  \"Action\"']\n",
            "Summary:  In 1942, Chinese guerrillas fighting for the Allied cause in Burma during World War II are helping to build a road. During the construction of a military supply road like the Burma Road and Ledo Road, the project is sabotaged by an English nobleman who is a Nazi agent. Using a scientific device, the English nobleman is instrumental in the coordination of a Japanese air attack on supply trucks attempting to cross a key bridge. A Chinese school teacher  reveals the schemes of the traitor, and brin\n",
            "------------------\n",
            "**** Recommended movie No.:  9\n",
            "Movie Id:  2183\n",
            "Title:  ['Brewster McCloud']\n",
            "Genres:  ['\"Fantasy Comedy\",  \"Satire\",  \"Comedy-drama\",  \"New Hollywood\"']\n",
            "Summary:  With the aid of Louise , owlish Brewster  constructs a pair of human-size wings in his Houston Astrodome nest to realize his dream. Meanwhile creeps, including a witchy \"Star-Spangled Banner\"-belting crone  and Brewster's skinflint boss , keep turning up dead and covered with bird droppings. The Houston Establishment calls in blue-eyed, turtleneck-wearing, \"San Francisco super cop\" Frank Shaft  to investigate. Brewster cooks his goose, when he defies Louise's edict against sex and hooks up with \n",
            "------------------\n",
            "**** Recommended movie No.:  10\n",
            "Movie Id:  3964\n",
            "Title:  ['Cars']\n",
            "Genres:  ['\"Adventure\",  \"Children\\'s/Family\",  \"Computer Animation\",  \"Road movie\",  \"Animation\",  \"Sports\",  \"Comedy\",  \"Family Film\",  \"Auto racing\"']\n",
            "Summary:  Cars takes place in a world populated by anthropomorphic transportation. The film begins with the last race of the Piston Cup championship, which ends in a three-way tie between retiring veteran Strip \"The King\" Weathers, perennial runner-up Chick Hicks, and rookie Lightning McQueen. The tiebreaker race is scheduled for one week later at the fictional Los Angeles International Speedway in California. Lightning is desperate to win the race, since it would allow him to leave the unglamorous sponso\n",
            "------------------\n"
          ],
          "name": "stdout"
        }
      ]
    },
    {
      "cell_type": "markdown",
      "metadata": {
        "id": "NKHDUC7AqkIA"
      },
      "source": [
        "Θεματική Ταινίας με ID - 1176\n",
        "Οι προτάσεις για μία ταινία με τον γιαπωνέζο χαρακτήρα Tora san, είναι οι ταινίες που αφορούν τις υπόλοιπες περιπέτειες του"
      ]
    },
    {
      "cell_type": "code",
      "metadata": {
        "id": "0IsO4-yEqkIB",
        "outputId": "8720de95-496b-40ab-c445-28245e93ab64"
      },
      "source": [
        "print_results(1176,10, cosine_sim_2)"
      ],
      "execution_count": null,
      "outputs": [
        {
          "output_type": "stream",
          "text": [
            "**** Target movie:  1176\n",
            "Title:  ['Tora-san Plays Cupid']\n",
            "Genres:  ['\"Japanese Movies\"']\n",
            "Summary:  Tora-san plays at matchmaker, trying to arrange a romance between Ryōsuke and Sachiko. His advice proves disastrous and Tora-san instead falls in love with Ryōsuke's sister.<ref name  http://www.kinejun.jp/cinema/id/18782 |title2010-01-18|languageKinema Junpo}}<ref name Stuart |last Stuart Galbraith IV|urlTora-san 20: Tora-san Plays Cupid  |date2010-01-18|publisherhttp://ftvdb.bfi.org.uk/sift/title/305832|title2010-01-18|publisher=British Film Institute}}\n",
            "\n",
            "**** Brief description of recommended movies: \n",
            " [(3875, 0.8298373919401304), (3640, 0.7948265853243254), (733, 0.691429786379432), (3505, 0.6555137049769639), (3824, 0.6385129331626686), (4676, 0.5919560727718224), (4368, 0.4301564241554236), (2562, 0.367775500840714), (3837, 0.24592503360999957), (1526, 0.2278888514314829)]\n",
            "\n",
            "**** 10  most related movies based on content:\n",
            "**** Recommended movie No.:  1\n",
            "Movie Id:  3875\n",
            "Title:  ['Tora-san, the Matchmaker']\n",
            "Genres:  ['\"Japanese Movies\"']\n",
            "Summary:  Tora-san convinces the hesitant Hitomi to go through with her plans to marry her intended spouse.<ref name  http://www.kinejun.jp/cinema/id/18990 |title2010-01-20|languageKinema Junpo}}<ref name Stuart |last Stuart Galbraith IV|urlTora-san 23: Tora-san the Matchmaker  |date2010-01-20|publisherhttp://ftvdb.bfi.org.uk/sift/title/305829|title2010-01-20|publisher=British Film Institute}}\n",
            "------------------\n",
            "**** Recommended movie No.:  2\n",
            "Movie Id:  3640\n",
            "Title:  [\"Tora-san's Love in Osaka\"]\n",
            "Genres:  ['\"Japanese Movies\"']\n",
            "Summary:  When his travels bring him to Osaka, Tora-san falls in love with a local geisha. He helps her to track down her estranged brother, and informs his family that he plans to marry her. His plans are foiled when the geisha informs Tora-san that she is engaged.<ref name  http://www.kinejun.jp/cinema/id/17080|title2010-01-21|languageKinema Junpo}}<ref name Stuart |last Stuart Galbraith IV|urlTora-san 27: Tora-san's Many-splintered Love  |date2010-01-21|publisherhttp://ftvdb.bfi.org.uk/sift/title/30582\n",
            "------------------\n",
            "**** Recommended movie No.:  3\n",
            "Movie Id:  733\n",
            "Title:  ['Tora-san, the Go-Between']\n",
            "Genres:  ['\"Japanese Movies\"']\n",
            "Summary:  In Nagasaki, Tora-san and an acquaintance help an old woman who has fallen and injured herself. She invites them to her home where the three share a night of eating and drinking. The old woman's health deteriorates and she dies. At her funeral, Tora-san falls in love with the old woman's daughter, but winds up acting as a go-between for her and a young law student.<ref name  http://www.kinejun.jp/cinema/id/24250|title2010-01-31|languageKinema Junpo}}<ref name Stuart |last Stuart Galbraith IV|url\n",
            "------------------\n",
            "**** Recommended movie No.:  4\n",
            "Movie Id:  3505\n",
            "Title:  [\"Tora-San's Cherished Mother\"]\n",
            "Genres:  ['\"Japanese Movies\",  \"Comedy\",  \"World cinema\"']\n",
            "Summary:  Tora-san hears that his mother is still alive and returns to Tokyo to track her down. He discovers that she is a geisha who had had only a brief affair with his father. While visiting the family, he falls in love with Natsuko, the daughter of an old teacher.<ref name  http://www.kinejun.jp/cinema/id/22805|title2010-01-18|languageKinema Junpo}}<ref nameJamie S. |lasthttp://www.dvdtalk.com/reviews/40750/tora-san-collectors-set-1/|title2009-12-21|accessdateDVD Talk}}\n",
            "------------------\n",
            "**** Recommended movie No.:  5\n",
            "Movie Id:  3824\n",
            "Title:  [\"Tora-san's Rise and Fall\"]\n",
            "Genres:  ['\"Japanese Movies\"']\n",
            "Summary:  Tora-san meets an old girlfriend on his travels. When she returns home with him, his family attempts to arrange a marriage between the two. After a misunderstanding occurs, the woman leaves, and the family is left regretting that they interfered.<ref name  http://www.kinejun.jp/cinema/id/18386 |title2010-01-18|languageKinema Junpo}}\n",
            "------------------\n",
            "**** Recommended movie No.:  6\n",
            "Movie Id:  4676\n",
            "Title:  [\"Tora-san's Salad-Day Memorial\"]\n",
            "Genres:  ['\"Japanese Movies\"']\n",
            "Summary:  In his travels through Japan, Tora-san meets and falls in love with a female doctor, however he is afraid of committing to a relationship.<ref name  http://www.kinejun.jp/cinema/id/18049|title2010-02-01|languageKinema Junpo}}\n",
            "------------------\n",
            "**** Recommended movie No.:  7\n",
            "Movie Id:  4368\n",
            "Title:  ['Tora-san, the Intellectual']\n",
            "Genres:  ['\"Japanese Movies\"']\n",
            "Summary:  Tora-san returns to his family's shop in Shibamata, Tokyo to find himself accused of being the father of a 17-year-old girl. It turns out that Tora-san had only given help to the girl's mother after her husband had left her. Tora-san becomes infatuated with the female archeology student who is staying with his family, and attempts to take up intellectual pursuits to get near her.\n",
            "------------------\n",
            "**** Recommended movie No.:  8\n",
            "Movie Id:  2562\n",
            "Title:  [\"Tora-san's Grand Scheme\"]\n",
            "Genres:  ['\"Japanese Movies\",  \"Comedy\",  \"World cinema\"']\n",
            "Summary:  Hoping to repay his family for the trouble he has caused them in the past, Torasan gambles and wins at the horse races. He plans to give his uncle and aunt a vacation in Hawaii, but the travel agent turns out to be a con-artist, and makes off with his money. Torasan falls in love with Haruko, a young kindergarten teacher who is renting a room in his uncle's home.<ref name  http://www.kinejun.jp/cinema/id/19220|title2010-01-18|languageKinema Junpo}}\n",
            "------------------\n",
            "**** Recommended movie No.:  9\n",
            "Movie Id:  3837\n",
            "Title:  [\"Tora's Pure Love\"]\n",
            "Genres:  ['\"Japanese Movies\"']\n",
            "Summary:  When Tora-san's infatuation with his nephew's school teacher causes family turmoil, he leaves on his travels again. When he returns, he falls in love with the teacher's mother, who has a terminal illness.\n",
            "------------------\n",
            "**** Recommended movie No.:  10\n",
            "Movie Id:  1526\n",
            "Title:  ['Red Mercury']\n",
            "Genres:  ['\"Thriller\",  \"Crime Fiction\",  \"Action\",  \"Political thriller\",  \"Action/Adventure\"']\n",
            "Summary:  The film is a thriller about a terrorist kidnapping.<ref namehttp://news.independent.co.uk/people/profiles/article11293.ece | titleThe Independent | date2008-01-10 }} Three terrorist bomb-makers get a tipoff that their safehouse is about to be raided; flee on foot; kidnap hostages in an attempt to escape.<ref namehttp://www.preview-online.com/s2005/feature_articles/red/index.html | titlePreview Online | accessdate=2008-01-10 }}\n",
            "------------------\n"
          ],
          "name": "stdout"
        }
      ]
    },
    {
      "cell_type": "markdown",
      "metadata": {
        "id": "jvWZPY2BqkID"
      },
      "source": [
        "Θεματική Ταινίας με ID - 3875\n",
        "Οι προτάσεις για μία ταινία με τον γιαπωνέζο χαρακτήρα Tora san, είναι οι ταινίες που αφορούν τις υπόλοιπες περιπέτειες του"
      ]
    },
    {
      "cell_type": "code",
      "metadata": {
        "id": "HVayPiE7qkID",
        "outputId": "d251f91d-a5c3-4739-ed50-e8d36da07912"
      },
      "source": [
        "print_results(3875,10, cosine_sim_2)"
      ],
      "execution_count": null,
      "outputs": [
        {
          "output_type": "stream",
          "text": [
            "**** Target movie:  3875\n",
            "Title:  ['Tora-san, the Matchmaker']\n",
            "Genres:  ['\"Japanese Movies\"']\n",
            "Summary:  Tora-san convinces the hesitant Hitomi to go through with her plans to marry her intended spouse.<ref name  http://www.kinejun.jp/cinema/id/18990 |title2010-01-20|languageKinema Junpo}}<ref name Stuart |last Stuart Galbraith IV|urlTora-san 23: Tora-san the Matchmaker  |date2010-01-20|publisherhttp://ftvdb.bfi.org.uk/sift/title/305829|title2010-01-20|publisher=British Film Institute}}\n",
            "\n",
            "**** Brief description of recommended movies: \n",
            " [(1176, 0.8298373919401304), (3640, 0.7944665042656736), (733, 0.6603353246797276), (4676, 0.5821693887242052), (3505, 0.5676171765458693), (3824, 0.5418813974062813), (2562, 0.3387081281096751), (4368, 0.33757660656127586), (1526, 0.2548115884261795), (2797, 0.1948925992692035)]\n",
            "\n",
            "**** 10  most related movies based on content:\n",
            "**** Recommended movie No.:  1\n",
            "Movie Id:  1176\n",
            "Title:  ['Tora-san Plays Cupid']\n",
            "Genres:  ['\"Japanese Movies\"']\n",
            "Summary:  Tora-san plays at matchmaker, trying to arrange a romance between Ryōsuke and Sachiko. His advice proves disastrous and Tora-san instead falls in love with Ryōsuke's sister.<ref name  http://www.kinejun.jp/cinema/id/18782 |title2010-01-18|languageKinema Junpo}}<ref name Stuart |last Stuart Galbraith IV|urlTora-san 20: Tora-san Plays Cupid  |date2010-01-18|publisherhttp://ftvdb.bfi.org.uk/sift/title/305832|title2010-01-18|publisher=British Film Institute}}\n",
            "------------------\n",
            "**** Recommended movie No.:  2\n",
            "Movie Id:  3640\n",
            "Title:  [\"Tora-san's Love in Osaka\"]\n",
            "Genres:  ['\"Japanese Movies\"']\n",
            "Summary:  When his travels bring him to Osaka, Tora-san falls in love with a local geisha. He helps her to track down her estranged brother, and informs his family that he plans to marry her. His plans are foiled when the geisha informs Tora-san that she is engaged.<ref name  http://www.kinejun.jp/cinema/id/17080|title2010-01-21|languageKinema Junpo}}<ref name Stuart |last Stuart Galbraith IV|urlTora-san 27: Tora-san's Many-splintered Love  |date2010-01-21|publisherhttp://ftvdb.bfi.org.uk/sift/title/30582\n",
            "------------------\n",
            "**** Recommended movie No.:  3\n",
            "Movie Id:  733\n",
            "Title:  ['Tora-san, the Go-Between']\n",
            "Genres:  ['\"Japanese Movies\"']\n",
            "Summary:  In Nagasaki, Tora-san and an acquaintance help an old woman who has fallen and injured herself. She invites them to her home where the three share a night of eating and drinking. The old woman's health deteriorates and she dies. At her funeral, Tora-san falls in love with the old woman's daughter, but winds up acting as a go-between for her and a young law student.<ref name  http://www.kinejun.jp/cinema/id/24250|title2010-01-31|languageKinema Junpo}}<ref name Stuart |last Stuart Galbraith IV|url\n",
            "------------------\n",
            "**** Recommended movie No.:  4\n",
            "Movie Id:  4676\n",
            "Title:  [\"Tora-san's Salad-Day Memorial\"]\n",
            "Genres:  ['\"Japanese Movies\"']\n",
            "Summary:  In his travels through Japan, Tora-san meets and falls in love with a female doctor, however he is afraid of committing to a relationship.<ref name  http://www.kinejun.jp/cinema/id/18049|title2010-02-01|languageKinema Junpo}}\n",
            "------------------\n",
            "**** Recommended movie No.:  5\n",
            "Movie Id:  3505\n",
            "Title:  [\"Tora-San's Cherished Mother\"]\n",
            "Genres:  ['\"Japanese Movies\",  \"Comedy\",  \"World cinema\"']\n",
            "Summary:  Tora-san hears that his mother is still alive and returns to Tokyo to track her down. He discovers that she is a geisha who had had only a brief affair with his father. While visiting the family, he falls in love with Natsuko, the daughter of an old teacher.<ref name  http://www.kinejun.jp/cinema/id/22805|title2010-01-18|languageKinema Junpo}}<ref nameJamie S. |lasthttp://www.dvdtalk.com/reviews/40750/tora-san-collectors-set-1/|title2009-12-21|accessdateDVD Talk}}\n",
            "------------------\n",
            "**** Recommended movie No.:  6\n",
            "Movie Id:  3824\n",
            "Title:  [\"Tora-san's Rise and Fall\"]\n",
            "Genres:  ['\"Japanese Movies\"']\n",
            "Summary:  Tora-san meets an old girlfriend on his travels. When she returns home with him, his family attempts to arrange a marriage between the two. After a misunderstanding occurs, the woman leaves, and the family is left regretting that they interfered.<ref name  http://www.kinejun.jp/cinema/id/18386 |title2010-01-18|languageKinema Junpo}}\n",
            "------------------\n",
            "**** Recommended movie No.:  7\n",
            "Movie Id:  2562\n",
            "Title:  [\"Tora-san's Grand Scheme\"]\n",
            "Genres:  ['\"Japanese Movies\",  \"Comedy\",  \"World cinema\"']\n",
            "Summary:  Hoping to repay his family for the trouble he has caused them in the past, Torasan gambles and wins at the horse races. He plans to give his uncle and aunt a vacation in Hawaii, but the travel agent turns out to be a con-artist, and makes off with his money. Torasan falls in love with Haruko, a young kindergarten teacher who is renting a room in his uncle's home.<ref name  http://www.kinejun.jp/cinema/id/19220|title2010-01-18|languageKinema Junpo}}\n",
            "------------------\n",
            "**** Recommended movie No.:  8\n",
            "Movie Id:  4368\n",
            "Title:  ['Tora-san, the Intellectual']\n",
            "Genres:  ['\"Japanese Movies\"']\n",
            "Summary:  Tora-san returns to his family's shop in Shibamata, Tokyo to find himself accused of being the father of a 17-year-old girl. It turns out that Tora-san had only given help to the girl's mother after her husband had left her. Tora-san becomes infatuated with the female archeology student who is staying with his family, and attempts to take up intellectual pursuits to get near her.\n",
            "------------------\n",
            "**** Recommended movie No.:  9\n",
            "Movie Id:  1526\n",
            "Title:  ['Red Mercury']\n",
            "Genres:  ['\"Thriller\",  \"Crime Fiction\",  \"Action\",  \"Political thriller\",  \"Action/Adventure\"']\n",
            "Summary:  The film is a thriller about a terrorist kidnapping.<ref namehttp://news.independent.co.uk/people/profiles/article11293.ece | titleThe Independent | date2008-01-10 }} Three terrorist bomb-makers get a tipoff that their safehouse is about to be raided; flee on foot; kidnap hostages in an attempt to escape.<ref namehttp://www.preview-online.com/s2005/feature_articles/red/index.html | titlePreview Online | accessdate=2008-01-10 }}\n",
            "------------------\n",
            "**** Recommended movie No.:  10\n",
            "Movie Id:  2797\n",
            "Title:  [\"The Butler's Dilemma\"]\n",
            "Genres:  ['\"Comedy film\"']\n",
            "Summary:  A group of friends are forced into a number of deceptions in order to stage a gambling party in peace.http://ftvdb.bfi.org.uk/sift/title/28251\n",
            "------------------\n"
          ],
          "name": "stdout"
        }
      ]
    },
    {
      "cell_type": "code",
      "metadata": {
        "id": "shmWAhKqqkIG"
      },
      "source": [
        "Θεματική Ταινίας με ID - 363\n",
        "Κοινή θεματική των ταινιών αυτών είναι ταξίδια στην θάλασσα, περιπέπεια και πειρατές."
      ],
      "execution_count": null,
      "outputs": []
    },
    {
      "cell_type": "code",
      "metadata": {
        "id": "PYtmANUEqkIJ",
        "outputId": "ee82afc4-cc9f-44a9-a76e-a196c44b88a2"
      },
      "source": [
        "print_results(363,10, cosine_sim_2)"
      ],
      "execution_count": null,
      "outputs": [
        {
          "output_type": "stream",
          "text": [
            "**** Target movie:  363\n",
            "Title:  ['Muppet Treasure Island']\n",
            "Genres:  ['\"Adventure\",  \"Children\\'s/Family\",  \"Musical\",  \"Children\\'s\",  \"Comedy\",  \"Music\",  \"Family Film\",  \"Family-Oriented Adventure\"']\n",
            "Summary:  Jim Hawkins  is a young orphan living with his friends Gonzo and Rizzo at the Admiral Benbow inn in England. Dreaming of sea voyages, Jim only has the tales of Billy Bones  to help, Bones telling Jim and the inn patrons of Captain Flint , his old captain, burying his treasure on a remote island and killing all of his crew, and that no one knows the whereabouts of the map. One night, Blind Pew, a fellow pirate, arrives and gives Bones the black spot. Bones dies of a heart attack but reveals to Ji\n",
            "\n",
            "**** Brief description of recommended movies: \n",
            " [(3149, 0.7538064400349145), (145, 0.4689921607107589), (1459, 0.3716587183009206), (4910, 0.262672250869197), (2733, 0.26081919488528127), (1855, 0.2298400518280938), (4897, 0.22808390637225032), (4395, 0.22496962772045914), (3944, 0.21196801980860625), (1445, 0.19676005738432617)]\n",
            "\n",
            "**** 10  most related movies based on content:\n",
            "**** Recommended movie No.:  1\n",
            "Movie Id:  3149\n",
            "Title:  ['Treasure Island']\n",
            "Genres:  ['\"Swashbuckler films\",  \"Adventure\",  \"Black-and-white\",  \"Action/Adventure\",  \"Drama\",  \"Family Film\"']\n",
            "Summary:  Young Jim Hawkins  and his mother run the Admiral Benbow, a tavern near Bristol, England. One dark and stormy night, during a birthday celebration, the mysterious Billy Bones  arrives and drunkenly talks about treasure. Soon after, Bones is visited by Black Dog then Pew, and drops dead, leaving a chest, which he bragged contained gold and jewels. Instead of money, Jim finds a map that his friend Dr. Livesey  realizes will lead them to the famous Flint treasure. Squire Trelawney  raises money for\n",
            "------------------\n",
            "**** Recommended movie No.:  2\n",
            "Movie Id:  145\n",
            "Title:  ['Treasure Island']\n",
            "Genres:  ['\"Family Film\",  \"Adventure\"']\n",
            "Summary:  Jim Hawkins  is a young man who works at a pub with his mother . When a drunken old sailor named Billy Bones  comes in for a drink and dies, Jim gets his hands on an old pirate's treasure map. Immediately taking action, he then enlists the help of Squire Trelawney  and Dr. Livesey  to join him as he locates the island on the map. Together, they join a ship lead by Captain Smollett  that will lead them to their destination. When word of the treasure reaches the rest of the ship's crew, the ship's\n",
            "------------------\n",
            "**** Recommended movie No.:  3\n",
            "Movie Id:  1459\n",
            "Title:  ['The Pirates of Penzance']\n",
            "Genres:  ['\"Musical\",  \"Romance Film\",  \"Comedy\"']\n",
            "Summary:  Frederic  was sent in the care of his nursemaid, Ruth , to be apprenticed to a pilot. But she misunderstood her instructions, being hard of hearing, and apprenticed him instead to a pirate . Now he is turning 21 years old, and his service is finished, so he decides to leave the Pirates of Penzance. Ruth wants him to take her with him, but he soon meets some young maidens, the daughters of Major-General Stanley ([[George Rose , and realizes that Ruth is \"plain and old\". Frederic quickly falls in \n",
            "------------------\n",
            "**** Recommended movie No.:  4\n",
            "Movie Id:  4910\n",
            "Title:  ['Dick Deadeye, or Duty Done']\n",
            "Genres:  ['\"Musical\",  \"Animation\"']\n",
            "Summary:  Queen Victoria sends Dick Deadeye , a sailor, to recover the \"Ultimate Secret\" from two thieves, the Sorcerer  and his reptilian henchman, the Shameleon. They are trying to sell it to the Pirate King . At a military parade , Dick sees the Sorcerer speaking with the Pirate King. There, Nanki  sees his evil twin brother Poo , who is picking pockets. Dick goes for backup to headquarters, the Hexagon , finding the Captain  and the Major-General . Dick then goes to the pirates' lair, \"The Queen's Nos\n",
            "------------------\n",
            "**** Recommended movie No.:  5\n",
            "Movie Id:  2733\n",
            "Title:  ['Silver Hawk']\n",
            "Genres:  ['\"Thriller\",  \"Action Thrillers\",  \"Adventure\",  \"World cinema\",  \"Superhero movie\",  \"Superhero\",  \"Action/Adventure\",  \"Martial Arts Film\",  \"Action\",  \"Chinese Movies\"']\n",
            "Summary:  The movie starts with Silver Hawk riding on her motorcycle through an alternate version of China. She is chasing thugs who have stolen pandas and are getting away in a truck. She attaches her bike to the truck, jumps on top of and fights the men in the truck until they give up. She heads back to Polaris City  where she meets an old childhood friend, Rich Man. Then a flashback occurs, going back to the martial arts training academy when they were little. He is the new head of the police departmen\n",
            "------------------\n",
            "**** Recommended movie No.:  6\n",
            "Movie Id:  1855\n",
            "Title:  ['Pink in the Drink']\n",
            "Genres:  ['\"Short Film\",  \"Comedy film\",  \"Animation\"']\n",
            "Summary:  The Pink Panther embarks on a cruise to the South Seas for 14 days, but the luxurious holiday turns out to be a pirate ship operated by a merciless pirate who orders the panther to mop the deck. The panther accidentally sets fire to the mast, and later loads cannonballs incorrectly, causing the ship's weight to shift. Finally, when the pirate tries to kill a vicious shark with a cannon, the cannonball instead cracks a hole in the ship and it sinks.\n",
            "------------------\n",
            "**** Recommended movie No.:  7\n",
            "Movie Id:  4897\n",
            "Title:  ['Gideon Tuba Warrior']\n",
            "Genres:  ['\"Musical\",  \"Children\\'s\",  \"Animation\"']\n",
            "Summary:  As the show opens on the counter-top, The Pirates Who Don't Do Anything burst in to host the show, overriding Bob and Larry. After reluctantly giving in, Bob walks off , the Pirates read the letter, which asks, in essence, whether to trust God. The Captain, aka, Pa Grape, then tells the story of George Muller a man who \"trusted God for everything.\" The story is narrated by the Captain, as he tells it through the eyes of his ancestor Great-Grandfather Simon, a reporter for the Bristol Snoop, a ta\n",
            "------------------\n",
            "**** Recommended movie No.:  8\n",
            "Movie Id:  4395\n",
            "Title:  [\"Blackbeard's Ghost\"]\n",
            "Genres:  ['\"Adventure\",  \"Heavenly Comedy\",  \"Children\\'s\",  \"Fantasy\",  \"Comedy\",  \"Drama\",  \"Family Film\",  \"Slapstick\"']\n",
            "Summary:  Steve Walker  arrives in a seacoast town to take the position of track coach at the local college, in Maryland, called Godolphin. The night of his arrival coincides with a charity bazaar at Blackbeard's Inn, a hotel run by the elderly descendants of the pirate's crew, where Steve will be boarding. The owners are attempting to pay off their mortgage in order to keep the inn from being bought by the local crime boss, Silky Seymour , who wants to build a casino on the land. In quick succession, Ste\n",
            "------------------\n",
            "**** Recommended movie No.:  9\n",
            "Movie Id:  3944\n",
            "Title:  ['Blackbeard']\n",
            "Genres:  ['\"Swashbuckler films\",  \"Adventure\",  \"Historical fiction\",  \"Action/Adventure\",  \"Drama\",  \"War film\"']\n",
            "Summary:  The 18th century notorious pirate Blackbeard  wreaks havoc on the high-seas looking for Captain Kidd's treasure. His dark presence causes controversy in the local port town of New Providence, especially among Gov. Charles Eden  and his adopted daughter Charlotte , who is being wooed by Lt. Robert Maynard .\n",
            "------------------\n",
            "**** Recommended movie No.:  10\n",
            "Movie Id:  1445\n",
            "Title:  ['Kid with the Golden Arm']\n",
            "Genres:  ['\"Action\",  \"Martial Arts Film\",  \"Drama\",  \"Chinese Movies\"']\n",
            "Summary:  Yang Yu Heng  is asked by the government to escort a cargo of gold into a famine area. However, he must contend with the vicious Chi Sah gang who boast the individual talents of leader Golden Arm , plus Silver Spear , Iron Robe , and Brass Head . In order to protect the gold from their attentions, Yang hires the services of swordsman Li Chin Ming  and his girlfriend Miss Leng , the axe-wielding duo known as Short Axe and Long Axe: Yen and Feng , and drunken master Hai To . Yang and his men proce\n",
            "------------------\n"
          ],
          "name": "stdout"
        }
      ]
    },
    {
      "cell_type": "markdown",
      "metadata": {
        "id": "IWMH5QRiqkIL"
      },
      "source": [
        "Θεματική Ταινίας με ID - 3000\n",
        "Κοινή θεματική των ταινιών αυτών είναι οι περιπέτειες των tom και jerry."
      ]
    },
    {
      "cell_type": "code",
      "metadata": {
        "id": "DiLHJTXUqkIM",
        "outputId": "0fae5826-4a43-4377-9e1c-e92e399f3570"
      },
      "source": [
        "print_results(3000,10, cosine_sim_2)"
      ],
      "execution_count": null,
      "outputs": [
        {
          "output_type": "stream",
          "text": [
            "**** Target movie:  3000\n",
            "Title:  ['Dr. Jekyll and Mr. Mouse']\n",
            "Genres:  ['\"Short Film\",  \"Comedy\"']\n",
            "Summary:    Near a basement window are two milk bottles. Through the basement window, Tom reaches for one of the bottles and then snatches it, rushing into the living room to pour it in his bowl and drink it but Jerry also wants Tom's milk. Tom makes various attempts to catch Jerry but when they all fail, the cat dreams up a murderous plot to rid himself of his annoyance. The next scene shows Tom mixing chemicals such as moth balls, acid, and poison into his milk. When Tom stirs the deadly elixir with a s\n",
            "\n",
            "**** Brief description of recommended movies: \n",
            " [(1357, 0.7522656666777163), (3717, 0.7081027961160202), (2610, 0.6835314634881493), (4118, 0.6717142624094503), (3106, 0.6499566613663527), (2518, 0.636830090907426), (2836, 0.6291297157627048), (2504, 0.6209894049931337), (4783, 0.6102621361754927), (4777, 0.6003504478594883)]\n",
            "\n",
            "**** 10  most related movies based on content:\n",
            "**** Recommended movie No.:  1\n",
            "Movie Id:  1357\n",
            "Title:  ['The Zoot Cat']\n",
            "Genres:  ['\"Family Film\",  \"Comedy\",  \"Animation\"']\n",
            "Summary:   The cartoon opens with a Valentine note to Toots from Tom with a pink ribbon tied to the card and the ribbon is tied to Jerry who is in a gift box. Meanwhile Tom is getting ready for a date with his whiskers in curlers and putting lard on the top of his head. He puts a little cologne on and even puts some on Jerry and then closes the box on him. He then proudly marches over to his female friend's house. Tom knocks on the door, rings the doorbell, and yells out, \"Yoo hoo! Hey Toots!\" Tom then dr\n",
            "------------------\n",
            "**** Recommended movie No.:  2\n",
            "Movie Id:  3717\n",
            "Title:  ['The Midnight Snack']\n",
            "Genres:  ['\"Short Film\",  \"Family Film\",  \"Comedy\",  \"Animation\"']\n",
            "Summary:   The cartoon takes place in a kitchen at midnight. Jerry pokes his head out of the refrigerator door and steals some cheese, unaware that Tom is watching him. Tom weighs the mouse down enough such that he can no longer see in front of him. After Jerry falls off from a rolling pin, Tom emerges from his hiding place with a smug face. Jerry \"salutes\" the cat and returns the slice of cheese to the refrigerator. He then proceeds to steal just a tiny bit of cheese, but Tom stomps on his tail with one \n",
            "------------------\n",
            "**** Recommended movie No.:  3\n",
            "Movie Id:  2610\n",
            "Title:  ['Down and Outing']\n",
            "Genres:  ['\"Comedy\"']\n",
            "Summary:   Tom accompanies his owner, Clint Clobber, who has severe anger management issues, on a fishing trip. Seeing this as the perfect opportunity to humiliate Tom, Jerry gathers some fishing supplies and tags along. While Clobber is loading the car with supplies, Tom is resting in the back of the car, when suddenly, Jerry throws a spare fishing pole at his head. He then grabs a fence out of the garden and uses it to climb into the car, but is met by Tom, who responds by catapulting him out of the veh\n",
            "------------------\n",
            "**** Recommended movie No.:  4\n",
            "Movie Id:  4118\n",
            "Title:  ['Texas Tom']\n",
            "Genres:  ['\"Western\",  \"Family Film\",  \"Animation\"']\n",
            "Summary:  Tom and Jerry are engaged in some Western-flavored cat-and-mouse games  when Tom spots a pretty cowgirl cat. Overcome with lust, Tom dresses up in his best cowboy duds and tries to impress the cowgirl, but Jerry sabotages his efforts. Tom takes out tobacco and rolls it up on a piece of paper, then uses Jerry's tongue to stick it closed, Tom smokes it and breathes out the smoke to spell \"Howdy\" as The cowgirl is flustered and giggly. At one point he sings a song for her on a guitar but has a reco\n",
            "------------------\n",
            "**** Recommended movie No.:  5\n",
            "Movie Id:  3106\n",
            "Title:  ['Cat and Dupli-cat']\n",
            "Genres:  ['\"Short Film\",  \"Family Film\",  \"Comedy\",  \"Animation\"']\n",
            "Summary:   Tom is rowing amongst some docks under the crescent moon, singing the Neapolitan ballad \"Santa Lucia\" the whole way in an operatic baritone voice. As he reaches the docks, he finds Jerry rowing in a small cup and mimicking him. Tom picks up the cup, steals some tea, sugar, and a spoon from a nearby cruise ship, and covers Jerry with both before he can finish. Tom then begins to drink the Jerry-tea, but an orange cat  pulls on Tom's tail, points at an empty plate, and holds his hand out as if to\n",
            "------------------\n",
            "**** Recommended movie No.:  6\n",
            "Movie Id:  2518\n",
            "Title:  ['Buddies Thicker Than Water']\n",
            "Genres:  ['\"Comedy\"']\n",
            "Summary:  On a snowy night in New York City, Jerry is comfortably asleep in his hole inside a penthouse, while Tom tries to keep from freezing to death in the alley below, having been thrown out by the owner. He writes a note, slips it into a bottle, and throws it up to hit the penthouse window. Jerry, awakened by the noise, goes out to the balcony and finds both this note and a second one sent up by Tom:  Rushing to the alley, Jerry finds the frozen-solid Tom and drags him back upstairs on a trash can li\n",
            "------------------\n",
            "**** Recommended movie No.:  7\n",
            "Movie Id:  2836\n",
            "Title:  ['Safety Second']\n",
            "Genres:  ['\"Short Film\",  \"Family Film\",  \"Animated cartoon\"']\n",
            "Summary:   The cartoon opens with Jerry and Nibbles asleep in their beds. Jerry wakes up and looks at his calendar, and seeing it's the Fourth of July, wakes up Nibbles. He instantly brings out the fireworks, but Jerry stuffs them back into the shed and impresses the daily quotation on his protege: Make it safe and sane. Jerry and Nibbles then go outside and enjoy their holiday with noisemakers with Jerry showing him it's still the Fourth of July without fireworks. before Nibbles  lights a firework from h\n",
            "------------------\n",
            "**** Recommended movie No.:  8\n",
            "Movie Id:  2504\n",
            "Title:  [\"Puss 'n' Boats\"]\n",
            "Genres:  ['\"Short Film\",  \"Comedy\"']\n",
            "Summary:   . He dives after an unsuspecting Jerry, and when Jerry spots him, Tom chases him into a vent pipe. However, Tom is squeezed through the hole in his board and bounces around through the pipe. Tom crawls through successively shorter widths of pipe in order to reach the mouse, and when the chase exits the plumbing, Tom is compressed into a cylinder with legs barely a centimeter wide. When the cat realizes this, he takes a deep breath and uncompresses himself. Tom grabs a large hose and dashes afte\n",
            "------------------\n",
            "**** Recommended movie No.:  9\n",
            "Movie Id:  4783\n",
            "Title:  ['Dicky Moe']\n",
            "Genres:  ['\"Short Film\",  \"Family Film\",  \"Comedy\",  \"Animation\"']\n",
            "Summary:  In a 19th century fishing harbor, the captain of the Komquot is obsessed with catching the great white whale Dicky Moe. His obsession unnerves his crew so badly that they all desert the ship. Shortly afterward, the captain finds Tom searching for food in the harbor, knocks him out, and takes him aboard. Tom believes at first that he is going on a cruise, but the captain soon puts him to work scrubbing the deck. As Tom works, he sees Jerry set up a beach chair outside his hole. He grabs Jerry and\n",
            "------------------\n",
            "**** Recommended movie No.:  10\n",
            "Movie Id:  4777\n",
            "Title:  ['Advance and Be Mechanized']\n",
            "Genres:  ['\"Short Film\",  \"Science Fiction\",  \"Family Film\",  \"Comedy\",  \"Animation\"']\n",
            "Summary:  The cartoon starts from another planet. One day, Jerry wants to get some cheese from the other room. He uses his robotic counterpart  to go over the room. The robot mouse goes in the room, taking a pile of cheese before leaving. Meanwhile, Tom is a policeman who, as he tries to look at the situation in panoramic area, sees the mouse toy from the camera. He calls for his robotic counterpart  to get rid of him, once and for all. The mouse robot returns to the hole, but Robot-Tom grabs his tail, un\n",
            "------------------\n"
          ],
          "name": "stdout"
        }
      ]
    },
    {
      "cell_type": "markdown",
      "metadata": {
        "id": "Z3koqtKMWrpG"
      },
      "source": [
        "# Εφαρμογή 2.  Τοπολογική και σημασιολογική απεικόνιση της ταινιών με χρήση SOM \n",
        "<img src=\"https://drive.google.com/uc?export=download&id=1R1R7Ds9UEfhjOY_fk_3wcTjsM0rI4WLl\" width=\"60%\">"
      ]
    },
    {
      "cell_type": "markdown",
      "metadata": {
        "id": "xDjxgggkXDlj"
      },
      "source": [
        "## Δημιουργία dataset\n",
        "\n",
        "Στο δεύτερο μέρος της άσκησηςθα δημιουργήσουμε ένα χάρτη 2 διαστάσεων στον οποίο θα απεικονίζονται όλες οι ταινίες σε ομάδες με βάση το περιεχόμενο και το είδος τους. Για να υλοποιήσουμε τον χάρτη θα χρησιμοποιήσουμε τις ιδιότητες των Self Organizing Maps.\n",
        "\n",
        "Αρχικά δημιουργούμε τη συνάρτηση `build_final_set` για τη μετατροπή από αραιή αναπαράσταση tf-ifd σε πυκνή. Στη συνέχεια ενώνει την πυκνή `dense_tf_idf` αναπαράσταση και τις binarized κατηγορίες `catbins` των ταινιών ως επιπλέον στήλες (χαρακτηριστικά). Συνεπώς, κάθε ταινία αναπαρίσταται στο Vector Space Model από τα χαρακτηριστικά του TFIDF και τις κατηγορίες της.\n",
        "\n",
        "Τέλος, δέχεται ένα ορισμα για το πόσες ταινίες να επιστρέψει, με default τιμή όλες τις ταινίες (5000). Αυτό είναι χρήσιμο για να μπορείτε αν θέλετε να φτιάχνετε μικρότερα σύνολα δεδομένων ώστε να εκπαιδεύεται ταχύτερα το SOM.\n",
        "\n",
        "Η προεπεξεργασία έχει πραγματοποιηθεί ήδη από την εφαρμογή 1, οπότε δεν πραγματοποιούμε περεταίρω επεργασία."
      ]
    },
    {
      "cell_type": "code",
      "metadata": {
        "id": "VINWzqmph1f1"
      },
      "source": [
        "def build_final_set(doc_limit = 5000, tf_idf_only=False):\n",
        "    # convert sparse tf_idf to dense tf_idf representation\n",
        "    dense_tf_idf = corpus_tf_idf.toarray()[0:doc_limit,:]\n",
        "    if tf_idf_only:\n",
        "        # use only tf_idf\n",
        "        final_set = dense_tf_idf\n",
        "    else:\n",
        "        # append the binary categories features horizontaly to the (dense) tf_idf features\n",
        "        final_set = np.hstack((dense_tf_idf, catbins[0:doc_limit,:]))\n",
        "        # η somoclu θέλει δεδομένα σε float32\n",
        "    return np.array(final_set, dtype=np.float32)"
      ],
      "execution_count": null,
      "outputs": []
    },
    {
      "cell_type": "code",
      "metadata": {
        "id": "OiOqTafefsSN",
        "outputId": "37b6f7bc-f351-4f0e-874f-309d1872a236",
        "colab": {
          "base_uri": "https://localhost:8080/",
          "height": 34
        }
      },
      "source": [
        "# Φόρτωση corpus tf-idf\n",
        "corpus_tf_idf = joblib.load(\"./final_corpus_tf_idf.pkl\")\n",
        "print(corpus_tf_idf.shape)"
      ],
      "execution_count": null,
      "outputs": [
        {
          "output_type": "stream",
          "text": [
            "(5000, 7383)\n"
          ],
          "name": "stdout"
        }
      ]
    },
    {
      "cell_type": "code",
      "metadata": {
        "id": "Is9OIZt9h4LH",
        "outputId": "f8ab18b6-4242-4acd-e386-b59628ea09d2",
        "colab": {
          "base_uri": "https://localhost:8080/",
          "height": 34
        }
      },
      "source": [
        "final_set = build_final_set()\n",
        "print(final_set.shape)"
      ],
      "execution_count": null,
      "outputs": [
        {
          "output_type": "stream",
          "text": [
            "(5000, 7705)\n"
          ],
          "name": "stdout"
        }
      ]
    },
    {
      "cell_type": "markdown",
      "metadata": {
        "id": "VEEs8q1ldBfG"
      },
      "source": [
        "## Εκπαίδευση χάρτη SOM\n",
        "\n",
        "Σε αυτό το τμήμα θα χρησιμοποιήσουμε τη βιβλιοθήκη `somoclu` για την εκαπίδευση SOM. \n",
        "\n",
        "Θα χρησιμοποιήσουμε χάρτη τύπου planar, παραλληλόγραμου σχήματος νευρώνων με τυχαία αρχικοποίηση. Ξεκινάμε με ένα χάρτη 10x10, 100 epochs και τις πρώτες 1000 ταινίες για να βγάλουμε κάποια γρήγορα συμπεράσματα και να αναπτύξουμε τον υπόλοιπο κώδικα. Καταλήγουμε σε ένα χάρτη 24x24, 60 epochs. Ο χρόνος που απαιτείται για την εκπαίδευσή του φαίνεται στο επόμενο κελί. Ο χρόνος αυτός είναι μεγάλος λόγω του μεγέθους του χάρτη και των εποχών, για χάρτη 24x24 αλλά λιγότερες εποχές και χάρτη 10x10 με 100 εποχές έχουμε χρόνους 10-15 min."
      ]
    },
    {
      "cell_type": "code",
      "metadata": {
        "outputId": "5eb6e0f6-61e2-43d4-a9cd-4fa1a10fad9d",
        "id": "rIQDG03Ez207",
        "colab": {
          "base_uri": "https://localhost:8080/",
          "height": 50
        }
      },
      "source": [
        "## 24x24 - 60 epochs\n",
        "som = somoclu.Somoclu(n_columns=24, n_rows=24)\n",
        "%time som.train(data = final_set, epochs = 60)"
      ],
      "execution_count": null,
      "outputs": [
        {
          "output_type": "stream",
          "text": [
            "CPU times: user 57min 16s, sys: 4.93 s, total: 57min 21s\n",
            "Wall time: 29min\n"
          ],
          "name": "stdout"
        }
      ]
    },
    {
      "cell_type": "markdown",
      "metadata": {
        "id": "pCyw-ePHe2aL"
      },
      "source": [
        "\n",
        "## Best matching units\n",
        "\n",
        "Μετά την εκπαίδευση, δημιουργούμε μια μεταβλητή bmus, στην οποία αποθηκεύουμε τα best matching units για την κάθε ταινία, με τη βοήθεια της βιβλιοθήκης `somoclu`. Με τη χρήση της `np.unique` κρατάμε μόνο τις μοναδικές τιμές σε ένα πίνακα ubmus, ενώ κρατάμε στον πίνακα indices τους δείκτες προς τις ταινίες. Καποιοί νευρώνες είναι λογικό να μην έχουν αντιστιχοιστεί με κάποια ταινία, επομένως ο πίνακας ubmus είναι μικρότερος από τον αρχικό."
      ]
    },
    {
      "cell_type": "code",
      "metadata": {
        "id": "5J9mqoronqaV",
        "outputId": "7c7c8acd-e811-4df7-ac99-1df950adff2c",
        "colab": {
          "base_uri": "https://localhost:8080/",
          "height": 34
        }
      },
      "source": [
        "bmus = som.get_bmus(som.get_surface_state())\n",
        "ubmus, indices = np.unique(bmus, return_inverse=True, axis=0)\n",
        "print(ubmus.size)"
      ],
      "execution_count": null,
      "outputs": [
        {
          "output_type": "stream",
          "text": [
            "1072\n"
          ],
          "name": "stdout"
        }
      ]
    },
    {
      "cell_type": "markdown",
      "metadata": {
        "id": "5j3Z0lA1rE8c"
      },
      "source": [
        "## Ομαδοποίηση (clustering)\n",
        "\n",
        "Στη συνέχεια κάνουμε ομαδοποίηση των νευρώνων στο χάρτη, χρησιμοποιόντας τον αλγόριθμο k-nearest neighbors. Για να επιλέξουμε τον αριθμό των clusters, θα χρησιμοποιήσουμε τον εμπειρικό κανόνα του \"elbow\". Δοκιμάζουμε τις πρώτες 150 τιμές clusters για τον αλγόριθμο knn και εμφανίζουμε σε ένα διάγραμμα το inertia για να έχουμε μια οπτικοποίηση των αποδόσεων.\n"
      ]
    },
    {
      "cell_type": "code",
      "metadata": {
        "id": "eM3k4oaBjVZn"
      },
      "source": [
        "scores = []\n",
        "for clusters in range(10,150):\n",
        "  ## Algorithm is K-means \n",
        "  algo = KMeans(n_clusters=clusters)\n",
        "\n",
        "  ## Running algorithm on som\n",
        "  som.cluster(algorithm=algo)\n",
        "\n",
        "  ## Saving inertia\n",
        "  scores.append(algo.inertia_)"
      ],
      "execution_count": null,
      "outputs": []
    },
    {
      "cell_type": "code",
      "metadata": {
        "id": "_rRfJ8tID8Fw",
        "outputId": "6f8857ed-ba24-4e76-d95e-2e1656edb021",
        "colab": {
          "base_uri": "https://localhost:8080/",
          "height": 285
        }
      },
      "source": [
        "plt.plot(range(10, 150), scores)"
      ],
      "execution_count": null,
      "outputs": [
        {
          "output_type": "execute_result",
          "data": {
            "text/plain": [
              "[<matplotlib.lines.Line2D at 0x7f9078f906a0>]"
            ]
          },
          "metadata": {
            "tags": []
          },
          "execution_count": 53
        },
        {
          "output_type": "display_data",
          "data": {
            "image/png": "[encoded data removed]",
            "text/plain": [
              "<Figure size 432x288 with 1 Axes>"
            ]
          },
          "metadata": {
            "tags": []
          }
        }
      ]
    },
    {
      "cell_type": "markdown",
      "metadata": {
        "id": "bTrGNY6rX2xL"
      },
      "source": [
        "Με βάση το παραπάνω διάγραμμα και μερικές δοκιμές επιλέγουμε τιμή **clusters = 35**."
      ]
    },
    {
      "cell_type": "code",
      "metadata": {
        "id": "4TCKKHBlYGI6"
      },
      "source": [
        "algo = KMeans(n_clusters=35)\n",
        "som.cluster(algorithm=algo)"
      ],
      "execution_count": null,
      "outputs": []
    },
    {
      "cell_type": "markdown",
      "metadata": {
        "id": "7w-HCO2GYLkQ"
      },
      "source": [
        "Τέλος, αποθηκεύουμε το SOM ώστε να διατηρηθούν τα συμπεράσματα, αφού η αρχικοποίηση και το clustering είναι στοχαστικές διαδικασίες."
      ]
    },
    {
      "cell_type": "code",
      "metadata": {
        "id": "fEyfDSPjzbD4",
        "outputId": "f5026251-b925-415c-d9b6-89362e92825c",
        "colab": {
          "base_uri": "https://localhost:8080/",
          "height": 34
        }
      },
      "source": [
        "# Αποθήκευση του som\n",
        "joblib.dump(som, './som_clusters_final.pkl')"
      ],
      "execution_count": null,
      "outputs": [
        {
          "output_type": "execute_result",
          "data": {
            "text/plain": [
              "['./drive/My Drive/som_clusters_final.pkl']"
            ]
          },
          "metadata": {
            "tags": []
          },
          "execution_count": 57
        }
      ]
    },
    {
      "cell_type": "markdown",
      "metadata": {
        "id": "z-pG3hGY8cMZ"
      },
      "source": [
        "Για τη διατήρηση των αποτελεσμάτων φορτώνουμε τον ήδη δημιουργημένο SOM με διαστάσεις 25x25 και 40 clusters."
      ]
    },
    {
      "cell_type": "code",
      "metadata": {
        "id": "pJzVlX0BH0ln"
      },
      "source": [
        "som = joblib.load('./som_clusters_final.pkl')"
      ],
      "execution_count": null,
      "outputs": []
    },
    {
      "cell_type": "markdown",
      "metadata": {
        "id": "b7h57pbfYzTK"
      },
      "source": [
        "## Οπτικοποίηση U-matrix, clustering και μέγεθος clusters\n",
        "\n",
        "Για την εκτύπωση του U-matrix χρησιμοποιούμε τη `view_umatrix` με ορίσματα `bestmatches=True` και `figsize=(15, 15)`.\n",
        "\n",
        "Σε ένα επόμενο markdown παράθυρο εμφανίζουμε τη μεταβλητή `clusters`, για να είναι σε πιο εμφανίσιμη μορφή.\n",
        "\n",
        "Τέλος, χρησιμοποιώντας πάλι την `np.unique` με όρισμα return counts  εκτυπώνουμε τις ετικέτες των clusters  και τον αριθμό των νευρώνων σε κάθε cluster, με αύξουσα σειρά ως προς τον αριθμό των νευρώνων. "
      ]
    },
    {
      "cell_type": "code",
      "metadata": {
        "id": "X8yqshYkq49F",
        "outputId": "88ad2b7d-b2e9-4d8f-a00d-7a8771adfe18",
        "colab": {
          "base_uri": "https://localhost:8080/",
          "height": 1000
        }
      },
      "source": [
        "som.view_umatrix(figsize=(15,15), bestmatches=True, colorbar = True)\n",
        "\n",
        "print(\"Clusters Sorted by increasing number of neurons : \")\n",
        "clusters_sorted_index, counts = np.unique(som.clusters, return_counts = True)\n",
        "\n",
        "sorted_clusters = [x for _,x in sorted(zip(counts,clusters_sorted_index))]\n",
        "counts = sorted(counts)\n",
        "print('\\n{:<20} {:<20}'.format('Cluster', 'Neurons'))\n",
        "print('-'*60)\n",
        "for i in range(len(sorted_clusters)):\n",
        "    print('{:<20} {:<20}'.format(sorted_clusters[i], counts[i]))\n",
        "\n"
      ],
      "execution_count": null,
      "outputs": [
        {
          "output_type": "display_data",
          "data": {
            "image/png": "[encoded data removed]",
            "text/plain": [
              "<Figure size 1080x1080 with 2 Axes>"
            ]
          },
          "metadata": {
            "tags": []
          }
        },
        {
          "output_type": "stream",
          "text": [
            "Clusters Sorted by increasing number of neurons : \n",
            "\n",
            "Cluster              Neurons             \n",
            "------------------------------------------------------------\n",
            "33                   6                   \n",
            "19                   8                   \n",
            "21                   10                  \n",
            "25                   10                  \n",
            "27                   10                  \n",
            "31                   10                  \n",
            "14                   11                  \n",
            "23                   11                  \n",
            "32                   11                  \n",
            "6                    12                  \n",
            "7                    12                  \n",
            "22                   12                  \n",
            "26                   12                  \n",
            "11                   13                  \n",
            "20                   13                  \n",
            "30                   13                  \n",
            "34                   13                  \n",
            "3                    14                  \n",
            "4                    14                  \n",
            "18                   14                  \n",
            "24                   14                  \n",
            "12                   15                  \n",
            "13                   15                  \n",
            "15                   16                  \n",
            "28                   16                  \n",
            "29                   17                  \n",
            "0                    18                  \n",
            "10                   18                  \n",
            "16                   21                  \n",
            "1                    22                  \n",
            "17                   23                  \n",
            "2                    30                  \n",
            "9                    35                  \n",
            "5                    42                  \n",
            "8                    45                  \n"
          ],
          "name": "stdout"
        }
      ]
    },
    {
      "cell_type": "markdown",
      "metadata": {
        "id": "IRqANS3ial1V"
      },
      "source": [
        "Clusters : \n",
        "\n",
        "    [31 31 33 33 33  6  6 16 16 16 16 16 16 14 14 14 14 14 10 10 10 10 10 10]\t\n",
        "    [31 31 31 33 33  6  6  6 16 16 16 16 16 14 14 14 14 14 10 10 10 10 10 10]\n",
        "    [31 31 31 31 33  6  6  6 16 16 16 16 16  8  8 14 26 26 10 10 10 27 27 10]\t\t\n",
        "    [ 4 31  4  4  6  6  6  6 16 16 16 16 16 21 21 21 26 26 26  0  0 27 27 10]   \n",
        "    [ 4  4  4  4  4  1 13 13 13 13  8  8  8  8  8  8 26 26  0  0  0 27 27 10]\t\t\n",
        "    [ 4  4  4  4  1 13 13 13 13 13  8  8  8  8  8  8  5  0  0  0  0 24 24 24]\t\t\n",
        "    [21 21  4  1  1  1 13 13 13 13  8  8  8  8  8  8  8  0  0  0  0 24 24 24]\t\t\n",
        "    [21 21 21 17  1  1  1 13 13  8  8  8  8  8  8  8  8  0  0  0 24 24 24 24]\t\t\t\n",
        "    [21 21 17 17 17  1  1  1  1  8  8  8  8  8  8  8  8  8  0 25 24 24 24 24]\t\t\t\n",
        "    [17 17 17 17 17  1  1  1 12 12  8  8  8  8  8  8  1  1  1 25 25 25 25 19]\t\t\t\n",
        "    [17 17 17 17 17 17 18 18 12 12 12 12 12 22  8  1  1  1  1 25 25 25 25 19]\t\t\t\n",
        "    [17 17 17 17 17 18 18 18 18 12 12 12 22 22 22 22 20 20 23 23 23 23 25 19]\t\t\t\n",
        "    [29 17 29 17 17 18 18 18 12 12 12 12 22 22 22 22 20 20 20 23 23 23 23 19]\t\t\t\n",
        "    [29 29 29 29 29 18 18 18 18 12 34 34 22 22 22  3 20 20 20 23 23 23 19 19]\t\t\t\n",
        "    [29 29 29 29 29 29 34 34 18 34 34 34 34  3  3  3  3 20 20 20 20  5 19 19]\t\t\t\n",
        "    [27 27 29 29 29 30 34  2 34 34 34 34  3  3  3  3  7  7  7  7 20 11 11 11]\t\t\t\n",
        "    [27 27  2 29 30 30 30  5  5  5 32 32  3  3  3  3  7  7  7  7  5 11 11 11]\t\t\t\n",
        "    [ 2  2  2 30 30 30 30 30  5 32 32 32 32  9  3  9  7  7  7  5  5 11 11 11]\t\t\t\n",
        "    [ 2  2  2 30 30 30  5  5  5  5 32 32 32  9  9  9  9  7 28 28  5 15 15 15]\t\t\t\n",
        "    [ 2  2  2  2 30 26  5  5  5  5 32 32  9  9  9  9  9  9 28 28 28 15 15 15]\t\t\t\n",
        "    [ 2  2  2  2 26 26 26  5  5  5  5  5  9  9  9  9  9 28 28 28 28 15 15 15]\t\t\t\n",
        "    [ 2  2  2  2  2 26  5  5  5  5  5  0  9  9  9  9  9  9 28 28 28 15 15 15]\t\t\t\n",
        "    [ 2  2  2  2  2  5  5  5  4  5  5  5  9  9  9  9  9  9 28 28 11 11 15 15]\t\t\t\n",
        "    [ 2  2  2  2  5  5  5  5  5  5  5  5  9  9  9  9  9  9 28 28 11 11 15 15]"
      ]
    },
    {
      "cell_type": "markdown",
      "metadata": {
        "id": "4yoYBYR8bSz8"
      },
      "source": [
        "## Σημασιολογική ερμηνεία των clusters\n",
        "\n",
        "Για να μελετήσουμε τη σημασιολογία των clusters, χρειαζόμαστε ένα κριτήριο ποιοτικής επισκόπησης τους. Για κάθε cluster, βρίσκουμε τους νευρώνες οι οποίοι έχουν ανατεθεί σε αυτόν από τον αλγόριθμο k-means. Για τους νευρώνες αυτούς, βρίσκουμε τις ταινίες οι οποίες έχουν ανατεθεί σε αυτούς. Παρακολουθούμε τα ποσοστά των ειδών των ταινιών σε κάθε clusters και θέλουμε να παρατηρήσουμε patterns σε αυτά"
      ]
    },
    {
      "cell_type": "markdown",
      "metadata": {
        "id": "vXsU4GhxcNOj"
      },
      "source": [
        "Αρχικά, δημιουργούμε τη συνάρτηση `print_categories_stats(ids, siz = 0)` η οποία δέχεται ως είσοδο μια λίστα ταινιών και μια παράμετρο `siz` την οποία χρησιμοποιούμε στο τέλος. Για κάθε id, βρίσκουμε τις κατηγορίες της ταινίας που αντιστοιχεί σε αυτό και τις προσθέτουμε σε μία λίστα cats. Στη συνέχεια, μέσω της `np.unique` βρίσκουμε τις μοναδικές τιμές τους, ενώ με την επιλογή `return_counts` διατηρούμε και το πλήθος τους. Ταξινομούμε τις κατηγορίες με βάση τη συχνότητα εμφάνισης τους και εμφανίζουμε το ποσοστό τους ως προς το σύνολο των *μοναδικών κατηγοριών*. Το τελευταίο έχει ως αποτέλεσμα να μην αθροίζονται τα ποσοστά στο 100%, αφού μπορεί για παράδειγμα πολλές ταινίες να έχουν κοινά είδη. Με την παράμετρο `siz` μπορούμε να επιλέξουμε να τυπώσουμε μόνο έναν αριθμό από τις κορυφαίες σε συχνότητα ταινίες."
      ]
    },
    {
      "cell_type": "code",
      "metadata": {
        "id": "ni7BIvGYX2ab"
      },
      "source": [
        "def print_categories_stats(ids, siz = None):\n",
        "  cats = []\n",
        "  # Finding categories\n",
        "  for id in ids:\n",
        "    categ = categories[id][0]\n",
        "    temp = categ.split(',')\n",
        "    temp = [t.replace('\"','') for t in temp]\n",
        "    temp = [t.lstrip() for t in temp]\n",
        "    cats.extend(temp)\n",
        "  \n",
        "  # Keeping only unique categories\n",
        "  cats_unique, count = np.unique(cats, return_counts = True)\n",
        "  total_categories = len(ids)\n",
        "\n",
        "  # Sorting by number of occurences\n",
        "  sorted_cats = [x for _,x in sorted(zip(count, cats_unique), reverse=True)]\n",
        "  count = sorted(count, reverse = True)\n",
        "  print('\\n{:<40} {:<20} {:<20}'.format('Category', 'Occurences', 'Percentage'))\n",
        "  print('-'*60)\n",
        "  if(siz == None):\n",
        "    r = len(sorted_cats)\n",
        "  else:\n",
        "    r = siz\n",
        "  for i in range(r):\n",
        "    print('{:<40} {:<20}'.format(sorted_cats[i], count[i]),  \"{0:.2f} %\".format(count[i]*100.0/total_categories))"
      ],
      "execution_count": null,
      "outputs": []
    },
    {
      "cell_type": "code",
      "metadata": {
        "id": "nouNdIiRZbRL",
        "outputId": "122a8775-7ff4-4a15-9257-31bf0e831882",
        "colab": {
          "base_uri": "https://localhost:8080/",
          "height": 1000
        }
      },
      "source": [
        "# printing stats for all films in dataset\n",
        "\n",
        "id = [i for i in range(5000)]\n",
        "print_categories_stats(id)"
      ],
      "execution_count": null,
      "outputs": [
        {
          "output_type": "stream",
          "text": [
            "\n",
            "Category                                 Occurences           Percentage          \n",
            "------------------------------------------------------------\n",
            "Drama                                    2242                 44.84 %\n",
            "Comedy                                   1290                 25.80 %\n",
            "Thriller                                 787                  15.74 %\n",
            "Action                                   765                  15.30 %\n",
            "Romance Film                             747                  14.94 %\n",
            "World cinema                             618                  12.36 %\n",
            "Crime Fiction                            510                  10.20 %\n",
            "Horror                                   503                  10.06 %\n",
            "Black-and-white                          473                  9.46 %\n",
            "Action/Adventure                         439                  8.78 %\n",
            "Adventure                                422                  8.44 %\n",
            "Short Film                               419                  8.38 %\n",
            "Indie                                    412                  8.24 %\n",
            "Family Film                              390                  7.80 %\n",
            "Animation                                306                  6.12 %\n",
            "Science Fiction                          298                  5.96 %\n",
            "Musical                                  283                  5.66 %\n",
            "Romantic drama                           268                  5.36 %\n",
            "Romantic comedy                          265                  5.30 %\n",
            "Mystery                                  259                  5.18 %\n",
            "Fantasy                                  246                  4.92 %\n",
            "Comedy film                              203                  4.06 %\n",
            "Crime Thriller                           198                  3.96 %\n",
            "War film                                 190                  3.80 %\n",
            "Japanese Movies                          170                  3.40 %\n",
            "Silent film                              154                  3.08 %\n",
            "Comedy-drama                             149                  2.98 %\n",
            "Period piece                             142                  2.84 %\n",
            "Psychological thriller                   137                  2.74 %\n",
            "Western                                  132                  2.64 %\n",
            "Chinese Movies                           132                  2.64 %\n",
            "Bollywood                                131                  2.62 %\n",
            "Film adaptation                          120                  2.40 %\n",
            "Documentary                              119                  2.38 %\n",
            "Teen                                     96                   1.92 %\n",
            "Black comedy                             95                   1.90 %\n",
            "Parody                                   93                   1.86 %\n",
            "Martial Arts Film                        91                   1.82 %\n",
            "Children's/Family                        88                   1.76 %\n",
            "Family Drama                             87                   1.74 %\n",
            "Television movie                         81                   1.62 %\n",
            "Slapstick                                81                   1.62 %\n",
            "Coming of age                            80                   1.60 %\n",
            "Slasher                                  78                   1.56 %\n",
            "Supernatural                             77                   1.54 %\n",
            "Cult                                     77                   1.54 %\n",
            "Sports                                   71                   1.42 %\n",
            "Biographical film                        71                   1.42 %\n",
            "Biography                                67                   1.34 %\n",
            "Film noir                                66                   1.32 %\n",
            "Suspense                                 65                   1.30 %\n",
            "Satire                                   65                   1.30 %\n",
            "Melodrama                                64                   1.28 %\n",
            "Action Thrillers                         64                   1.28 %\n",
            "Political drama                          53                   1.06 %\n",
            "Spy                                      52                   1.04 %\n",
            "Children's                               52                   1.04 %\n",
            "B-movie                                  48                   0.96 %\n",
            "Art film                                 47                   0.94 %\n",
            "Creature Film                            45                   0.90 %\n",
            "Ensemble Film                            44                   0.88 %\n",
            "Costume drama                            44                   0.88 %\n",
            "Music                                    43                   0.86 %\n",
            "History                                  43                   0.86 %\n",
            "Screwball comedy                         42                   0.84 %\n",
            "Crime Drama                              42                   0.84 %\n",
            "Buddy film                               42                   0.84 %\n",
            "Biopic [feature]                         39                   0.78 %\n",
            "Anime                                    37                   0.74 %\n",
            "Superhero movie                          34                   0.68 %\n",
            "Historical fiction                       33                   0.66 %\n",
            "Zombie Film                              31                   0.62 %\n",
            "Gangster Film                            31                   0.62 %\n",
            "Sex comedy                               30                   0.60 %\n",
            "Horror Comedy                            30                   0.60 %\n",
            "Filipino Movies                          30                   0.60 %\n",
            "Detective                                29                   0.58 %\n",
            "Road movie                               28                   0.56 %\n",
            "Crime Comedy                             26                   0.52 %\n",
            "Action Comedy                            26                   0.52 %\n",
            "Family-Oriented Adventure                25                   0.50 %\n",
            "Courtroom Drama                          24                   0.48 %\n",
            "Children's Fantasy                       24                   0.48 %\n",
            "Fantasy Adventure                        23                   0.46 %\n",
            "Detective fiction                        23                   0.46 %\n",
            "Comedy of manners                        23                   0.46 %\n",
            "Docudrama                                20                   0.40 %\n",
            "Culture & Society                        20                   0.40 %\n",
            "Chase Movie                              20                   0.40 %\n",
            "Surrealism                               19                   0.38 %\n",
            "Political thriller                       19                   0.38 %\n",
            "Political cinema                         19                   0.38 %\n",
            "Disaster                                 19                   0.38 %\n",
            "Childhood Drama                          19                   0.38 %\n",
            "Monster movie                            18                   0.36 %\n",
            "Fantasy Comedy                           18                   0.36 %\n",
            "Erotic thriller                          18                   0.36 %\n",
            "Epic                                     18                   0.36 %\n",
            "Domestic Comedy                          18                   0.36 %\n",
            "Computer Animation                       18                   0.36 %\n",
            "Comedy of Errors                         18                   0.36 %\n",
            "Animal Picture                           18                   0.36 %\n",
            "Superhero                                17                   0.34 %\n",
            "Stop motion                              17                   0.34 %\n",
            "Sci-Fi Horror                            17                   0.34 %\n",
            "Marriage Drama                           15                   0.30 %\n",
            "Historical drama                         15                   0.30 %\n",
            "Heist                                    15                   0.30 %\n",
            "Doomsday film                            15                   0.30 %\n",
            "Adventure Comedy                         15                   0.30 %\n",
            "Wuxia                                    14                   0.28 %\n",
            "Musical Drama                            14                   0.28 %\n",
            "Americana                                14                   0.28 %\n",
            "Swashbuckler films                       13                   0.26 %\n",
            "Slice of life story                      13                   0.26 %\n",
            "Musical comedy                           13                   0.26 %\n",
            "Experimental film                        13                   0.26 %\n",
            "Christian film                           13                   0.26 %\n",
            "Pre-Code                                 12                   0.24 %\n",
            "Costume Adventure                        12                   0.24 %\n",
            "Time travel                              11                   0.22 %\n",
            "Social problem film                      11                   0.22 %\n",
            "Monster                                  11                   0.22 %\n",
            "Jungle Film                              11                   0.22 %\n",
            "Dystopia                                 11                   0.22 %\n",
            "Blaxploitation                           11                   0.22 %\n",
            "Workplace Comedy                         10                   0.20 %\n",
            "Tragedy                                  10                   0.20 %\n",
            "Social issues                            10                   0.20 %\n",
            "Natural horror films                     10                   0.20 %\n",
            "Gross-out film                           10                   0.20 %\n",
            "Gross out                                10                   0.20 %\n",
            "Comedy Thriller                          10                   0.20 %\n",
            "Combat Films                             10                   0.20 %\n",
            "Avant-garde                              10                   0.20 %\n",
            "Alien Film                               10                   0.20 %\n",
            "Prison                                   9                    0.18 %\n",
            "Media Satire                             9                    0.18 %\n",
            "Animated cartoon                         9                    0.18 %\n",
            "Addiction Drama                          9                    0.18 %\n",
            "Absurdism                                9                    0.18 %\n",
            "Remake                                   8                    0.16 %\n",
            "New Hollywood                            8                    0.16 %\n",
            "Hip hop movies                           8                    0.16 %\n",
            "Haunted House Film                       8                    0.16 %\n",
            "Propaganda film                          7                    0.14 %\n",
            "Political satire                         7                    0.14 %\n",
            "Mockumentary                             7                    0.14 %\n",
            "Historical Epic                          7                    0.14 %\n",
            "Feminist Film                            7                    0.14 %\n",
            "Caper story                              7                    0.14 %\n",
            "Spaghetti Western                        6                    0.12 %\n",
            "Romantic fantasy                         6                    0.12 %\n",
            "Rockumentary                             6                    0.12 %\n",
            "Revisionist Western                      6                    0.12 %\n",
            "Medical fiction                          6                    0.12 %\n",
            "Master Criminal Films                    6                    0.12 %\n",
            "Juvenile Delinquency Film                6                    0.12 %\n",
            "Erotic Drama                             6                    0.12 %\n",
            "Boxing                                   6                    0.12 %\n",
            "Apocalyptic and post-apocalyptic fiction 6                    0.12 %\n",
            "Animated Musical                         6                    0.12 %\n",
            "Tamil cinema                             5                    0.10 %\n",
            "Sword and Sandal                         5                    0.10 %\n",
            "Splatter film                            5                    0.10 %\n",
            "Sci-Fi Adventure                         5                    0.10 %\n",
            "Religious Film                           5                    0.10 %\n",
            "Neo-noir                                 5                    0.10 %\n",
            "Holiday Film                             5                    0.10 %\n",
            "Gothic Film                              5                    0.10 %\n",
            "Future noir                              5                    0.10 %\n",
            "Dance                                    5                    0.10 %\n",
            "Christmas movie                          5                    0.10 %\n",
            "Auto racing                              5                    0.10 %\n",
            "Airplanes and airports                   5                    0.10 %\n",
            "Steampunk                                4                    0.08 %\n",
            "Roadshow theatrical release              4                    0.08 %\n",
            "Mythological Fantasy                     4                    0.08 %\n",
            "Hagiography                              4                    0.08 %\n",
            "Fairy tale                               4                    0.08 %\n",
            "Comedy Western                           4                    0.08 %\n",
            "British New Wave                         4                    0.08 %\n",
            "Beach Film                               4                    0.08 %\n",
            "Werewolf fiction                         3                    0.06 %\n",
            "Travel                                   3                    0.06 %\n",
            "Punk rock                                3                    0.06 %\n",
            "Mumblecore                               3                    0.06 %\n",
            "Law & Crime                              3                    0.06 %\n",
            "Language & Literature                    3                    0.06 %\n",
            "Kitchen sink realism                     3                    0.06 %\n",
            "Inspirational Drama                      3                    0.06 %\n",
            "Indian Western                           3                    0.06 %\n",
            "Hybrid Western                           3                    0.06 %\n",
            "Glamorized Spy Film                      3                    0.06 %\n",
            "Film u00e0 clef                          3                    0.06 %\n",
            "Existentialism                           3                    0.06 %\n",
            "Essay Film                               3                    0.06 %\n",
            "Escape Film                              3                    0.06 %\n",
            "Epic Western                             3                    0.06 %\n",
            "Educational                              3                    0.06 %\n",
            "Crime                                    3                    0.06 %\n",
            "Comedy horror                            3                    0.06 %\n",
            "Cavalry Film                             3                    0.06 %\n",
            "B-Western                                3                    0.06 %\n",
            "Anti-war film                            3                    0.06 %\n",
            "Anti-war                                 3                    0.06 %\n",
            "Tragicomedy                              2                    0.04 %\n",
            "Tollywood                                2                    0.04 %\n",
            "Sword and sorcery films                  2                    0.04 %\n",
            "Stoner film                              2                    0.04 %\n",
            "Science fiction Western                  2                    0.04 %\n",
            "Sci-Fi Thriller                          2                    0.04 %\n",
            "Road-Horror                              2                    0.04 %\n",
            "Parkour in popular culture               2                    0.04 %\n",
            "Operetta                                 2                    0.04 %\n",
            "Legal drama                              2                    0.04 %\n",
            "Interpersonal Relationships              2                    0.04 %\n",
            "Heavenly Comedy                          2                    0.04 %\n",
            "Heaven-Can-Wait Fantasies                2                    0.04 %\n",
            "Giallo                                   2                    0.04 %\n",
            "Fantasy Drama                            2                    0.04 %\n",
            "Ealing Comedies                          2                    0.04 %\n",
            "Demonic child                            2                    0.04 %\n",
            "Courtroom Comedy                         2                    0.04 %\n",
            "Costume Horror                           2                    0.04 %\n",
            "Bruceploitation                          2                    0.04 %\n",
            "Baseball                                 2                    0.04 %\n",
            "Archaeology                              2                    0.04 %\n",
            "Animals                                  2                    0.04 %\n",
            "Albino bias                              2                    0.04 %\n",
            "World History                            1                    0.02 %\n",
            "Whodunit                                 1                    0.02 %\n",
            "Tokusatsu                                1                    0.02 %\n",
            "Sword and sorcery                        1                    0.02 %\n",
            "Supermarionation                         1                    0.02 %\n",
            "Space western                            1                    0.02 %\n",
            "Space opera                              1                    0.02 %\n",
            "Samurai cinema                           1                    0.02 %\n",
            "Reboot                                   1                    0.02 %\n",
            "Psycho-biddy                             1                    0.02 %\n",
            "Prison film                              1                    0.02 %\n",
            "Point of view shot                       1                    0.02 %\n",
            "Outlaw biker film                        1                    0.02 %\n",
            "Outlaw                                   1                    0.02 %\n",
            "Nuclear warfare                          1                    0.02 %\n",
            "Movie serial                             1                    0.02 %\n",
            "Mondo film                               1                    0.02 %\n",
            "Media Studies                            1                    0.02 %\n",
            "Malayalam Cinema                         1                    0.02 %\n",
            "Libraries and librarians                 1                    0.02 %\n",
            "Kafkaesque                               1                    0.02 %\n",
            "Instrumental Music                       1                    0.02 %\n",
            "Illnesses & Disabilities                 1                    0.02 %\n",
            "Humour                                   1                    0.02 %\n",
            "Health & Fitness                         1                    0.02 %\n",
            "Goat gland                               1                    0.02 %\n",
            "Female buddy film                        1                    0.02 %\n",
            "Fan film                                 1                    0.02 %\n",
            "Extreme Sports                           1                    0.02 %\n",
            "Exploitation                             1                    0.02 %\n",
            "Cyberpunk                                1                    0.02 %\n",
            "Computers                                1                    0.02 %\n",
            "Coming-of-age film                       1                    0.02 %\n",
            "Cold War                                 1                    0.02 %\n",
            "Children's Entertainment                 1                    0.02 %\n",
            "Business                                 1                    0.02 %\n",
            "Buddy cop                                1                    0.02 %\n",
            "British Empire Film                      1                    0.02 %\n",
            "Biker Film                               1                    0.02 %\n",
            "Bengali Cinema                           1                    0.02 %\n",
            "Backstage Musical                        1                    0.02 %\n",
            "Archives and records                     1                    0.02 %\n"
          ],
          "name": "stdout"
        }
      ]
    },
    {
      "cell_type": "markdown",
      "metadata": {
        "id": "yO2oC3ISdquv"
      },
      "source": [
        "Από το παραπάνω παρατηρούμε ότι υπάρχουν κάποια κυρίαρχα είδη, κυρίως το 'Drama', στο οποίο ανήκουν σχεδόν οι μισές ταινίες του dataset. Αυτό θα έχει σημασία στα επόμενα ερωτήματα.\n",
        "\n"
      ]
    },
    {
      "cell_type": "markdown",
      "metadata": {
        "id": "VMuPS0hdeBVo"
      },
      "source": [
        "Στη συνέχεια, ορίζουμε τη συνάρτηση `print_cluster_neurons_movies_report(curr_cluster)`, η οποία δέχεται ως όρισμα ένα cluster και υπολογίζει τους νευρώνες οι οποίοι αντιστοιχούν στον cluster, στον πίνακα `ubmus`. Για να το πετύχουμε αυτό βρίσκουμε αρχικά τις συντεταγμένες των bmus που αντιστοιχούν στον cluster και τα αντιστοιχούμε σε συντεταγμένες μέσω της `np.column_stack()`. Στη συνέχεια για κάθε συντεταγμένη ελέγχουμε όλα τα στοιχεία του πίνακα `ubmus` και αν οι συντεταγμένες του `ubmus[index]` ισούται με τη συντεταγμένη που ψάχνουμε, προσθέτουμε το νευρώνα αυτό σε μία λίστα `neurons_list` την οποία επιστρέφουμε."
      ]
    },
    {
      "cell_type": "code",
      "metadata": {
        "id": "NgxiYvkvc0E-"
      },
      "source": [
        "def print_cluster_neurons_movies_report(curr_cluster):\n",
        "  x,y = np.where(som.clusters == curr_cluster)\n",
        "  coords = np.column_stack([x,y])\n",
        "\n",
        "  neurons_list = []\n",
        "\n",
        "  for i in coords:\n",
        "    for index in range(len(ubmus)):\n",
        "      if(np.array_equal(ubmus[index],i)):\n",
        "        neurons_list.append(index)\n",
        "        break\n",
        "  return neurons_list\n"
      ],
      "execution_count": null,
      "outputs": []
    },
    {
      "cell_type": "code",
      "metadata": {
        "id": "YTz3yaD-dNAV",
        "outputId": "ded08def-f2ca-4097-b8e9-bc7967b76451",
        "colab": {
          "base_uri": "https://localhost:8080/",
          "height": 34
        }
      },
      "source": [
        "print_cluster_neurons_movies_report(0)"
      ],
      "execution_count": null,
      "outputs": [
        {
          "output_type": "execute_result",
          "data": {
            "text/plain": [
              "[83, 102, 103, 104, 122, 123, 124, 125, 144, 145, 146, 164, 165, 180, 450]"
            ]
          },
          "metadata": {
            "tags": []
          },
          "execution_count": 23
        }
      ]
    },
    {
      "cell_type": "markdown",
      "metadata": {
        "id": "57mnWwelgA84"
      },
      "source": [
        "Τέλος, ορίζουμε τη συνάρτηση `neuron_movies_report(curr_cluster, moviesToPrint = 0)`. Η συνάρτηση αυτή λαμβάνει τον αριθμό ενός cluster και μια παράμετρο moviesToPrint. Αρχικά, λαμβάνουμε τους νευρώνες του cluster μέσω της `print_cluster_neurons_movies_report`. Για κάθε νευρώνα, βρίσκουμε τα id των ταινιών τα οποία αντιστιχοίζονται σε αυτόν τον νευρώνα, και για τις ταινίες αυτές καλούμε τη συνάρτηση `print_categories_stats` για να λάβουμε στατιστικά σχετικά με τα είδη."
      ]
    },
    {
      "cell_type": "code",
      "metadata": {
        "id": "MsIuw_fiwXiE"
      },
      "source": [
        "def neuron_movies_report(curr_cluster, moviesToPrint = None):\n",
        "    neurons = print_cluster_neurons_movies_report(curr_cluster)\n",
        "\n",
        "    movies_list = []\n",
        "\n",
        "    for index in neurons:\n",
        "        for movie_id in range(len(final_set)):\n",
        "            if(np.array_equal(ubmus[index],bmus[movie_id])):\n",
        "                movies_list.append(movie_id)\n",
        "    print(f\"Cluster {curr_cluster} contains {len(movies_list)} movies.\")\n",
        "    print_categories_stats(movies_list, siz = moviesToPrint)\n",
        "    return movies_list"
      ],
      "execution_count": null,
      "outputs": []
    },
    {
      "cell_type": "markdown",
      "metadata": {
        "id": "gT7vOpwshHWw"
      },
      "source": [
        "Εκτελούμε την τελευταία συνάρτηση για κάθε νευρώνα και εμφανίζουμε τις 3 κορυφαίες κατηγορίες που εμφανίζονται σε αυτόν."
      ]
    },
    {
      "cell_type": "code",
      "metadata": {
        "id": "pwn4Iaudv3e0",
        "outputId": "ecfcbd3e-0db1-4b4b-d4fc-c33e826d7d55",
        "colab": {
          "base_uri": "https://localhost:8080/",
          "height": 1000
        }
      },
      "source": [
        "for i in range(35):\n",
        "  alist = neuron_movies_report(curr_cluster = i, moviesToPrint = 3)\n",
        "  print ('='*60)"
      ],
      "execution_count": null,
      "outputs": [
        {
          "output_type": "stream",
          "text": [
            "Cluster 0 contains 159 movies.\n",
            "\n",
            "Category                                 Occurences           Percentage          \n",
            "------------------------------------------------------------\n",
            "War film                                 63                   39.62 %\n",
            "Drama                                    60                   37.74 %\n",
            "Western                                  51                   32.08 %\n",
            "============================================================\n",
            "Cluster 1 contains 112 movies.\n",
            "\n",
            "Category                                 Occurences           Percentage          \n",
            "------------------------------------------------------------\n",
            "Comedy                                   74                   66.07 %\n",
            "Indie                                    64                   57.14 %\n",
            "Drama                                    53                   47.32 %\n",
            "============================================================\n",
            "Cluster 2 contains 263 movies.\n",
            "\n",
            "Category                                 Occurences           Percentage          \n",
            "------------------------------------------------------------\n",
            "Action                                   250                  95.06 %\n",
            "Thriller                                 247                  93.92 %\n",
            "Action/Adventure                         186                  70.72 %\n",
            "============================================================\n",
            "Cluster 3 contains 123 movies.\n",
            "\n",
            "Category                                 Occurences           Percentage          \n",
            "------------------------------------------------------------\n",
            "Short Film                               123                  100.00 %\n",
            "Comedy                                   38                   30.89 %\n",
            "Animation                                25                   20.33 %\n",
            "============================================================\n",
            "Cluster 4 contains 83 movies.\n",
            "\n",
            "Category                                 Occurences           Percentage          \n",
            "------------------------------------------------------------\n",
            "Romance Film                             82                   98.80 %\n",
            "Drama                                    81                   97.59 %\n",
            "Romantic drama                           76                   91.57 %\n",
            "============================================================\n",
            "Cluster 5 contains 290 movies.\n",
            "\n",
            "Category                                 Occurences           Percentage          \n",
            "------------------------------------------------------------\n",
            "Adventure                                193                  66.55 %\n",
            "Action                                   150                  51.72 %\n",
            "Drama                                    65                   22.41 %\n",
            "============================================================\n",
            "Cluster 6 contains 75 movies.\n",
            "\n",
            "Category                                 Occurences           Percentage          \n",
            "------------------------------------------------------------\n",
            "Drama                                    74                   98.67 %\n",
            "Romance Film                             51                   68.00 %\n",
            "Musical                                  43                   57.33 %\n",
            "============================================================\n",
            "Cluster 7 contains 80 movies.\n",
            "\n",
            "Category                                 Occurences           Percentage          \n",
            "------------------------------------------------------------\n",
            "Short Film                               62                   77.50 %\n",
            "Animation                                60                   75.00 %\n",
            "Horror                                   21                   26.25 %\n",
            "============================================================\n",
            "Cluster 8 contains 304 movies.\n",
            "\n",
            "Category                                 Occurences           Percentage          \n",
            "------------------------------------------------------------\n",
            "Black-and-white                          200                  65.79 %\n",
            "Drama                                    196                  64.47 %\n",
            "Silent film                              93                   30.59 %\n",
            "============================================================\n",
            "Cluster 9 contains 227 movies.\n",
            "\n",
            "Category                                 Occurences           Percentage          \n",
            "------------------------------------------------------------\n",
            "Family Film                              122                  53.74 %\n",
            "Thriller                                 102                  44.93 %\n",
            "Animation                                91                   40.09 %\n",
            "============================================================\n",
            "Cluster 10 contains 564 movies.\n",
            "\n",
            "Category                                 Occurences           Percentage          \n",
            "------------------------------------------------------------\n",
            "Drama                                    554                  98.23 %\n",
            "Family Film                              41                   7.27 %\n",
            "Biographical film                        27                   4.79 %\n",
            "============================================================\n",
            "Cluster 11 contains 106 movies.\n",
            "\n",
            "Category                                 Occurences           Percentage          \n",
            "------------------------------------------------------------\n",
            "Horror                                   79                   74.53 %\n",
            "Slasher                                  50                   47.17 %\n",
            "Drama                                    33                   31.13 %\n",
            "============================================================\n",
            "Cluster 12 contains 84 movies.\n",
            "\n",
            "Category                                 Occurences           Percentage          \n",
            "------------------------------------------------------------\n",
            "Comedy                                   72                   85.71 %\n",
            "Black-and-white                          38                   45.24 %\n",
            "Slapstick                                33                   39.29 %\n",
            "============================================================\n",
            "Cluster 13 contains 101 movies.\n",
            "\n",
            "Category                                 Occurences           Percentage          \n",
            "------------------------------------------------------------\n",
            "Drama                                    101                  100.00 %\n",
            "Comedy                                   101                  100.00 %\n",
            "Comedy-drama                             16                   15.84 %\n",
            "============================================================\n",
            "Cluster 14 contains 138 movies.\n",
            "\n",
            "Category                                 Occurences           Percentage          \n",
            "------------------------------------------------------------\n",
            "Drama                                    138                  100.00 %\n",
            "Crime Fiction                            88                   63.77 %\n",
            "Action                                   72                   52.17 %\n",
            "============================================================\n",
            "Cluster 15 contains 175 movies.\n",
            "\n",
            "Category                                 Occurences           Percentage          \n",
            "------------------------------------------------------------\n",
            "Thriller                                 168                  96.00 %\n",
            "Mystery                                  102                  58.29 %\n",
            "Crime Thriller                           100                  57.14 %\n",
            "============================================================\n",
            "Cluster 16 contains 190 movies.\n",
            "\n",
            "Category                                 Occurences           Percentage          \n",
            "------------------------------------------------------------\n",
            "World cinema                             180                  94.74 %\n",
            "Drama                                    172                  90.53 %\n",
            "Bollywood                                30                   15.79 %\n",
            "============================================================\n",
            "Cluster 17 contains 180 movies.\n",
            "\n",
            "Category                                 Occurences           Percentage          \n",
            "------------------------------------------------------------\n",
            "Comedy                                   180                  100.00 %\n",
            "Romantic comedy                          132                  73.33 %\n",
            "Romance Film                             132                  73.33 %\n",
            "============================================================\n",
            "Cluster 18 contains 61 movies.\n",
            "\n",
            "Category                                 Occurences           Percentage          \n",
            "------------------------------------------------------------\n",
            "Comedy                                   61                   100.00 %\n",
            "Black comedy                             21                   34.43 %\n",
            "Satire                                   15                   24.59 %\n",
            "============================================================\n",
            "Cluster 19 contains 116 movies.\n",
            "\n",
            "Category                                 Occurences           Percentage          \n",
            "------------------------------------------------------------\n",
            "Science Fiction                          79                   68.10 %\n",
            "Horror                                   57                   49.14 %\n",
            "Japanese Movies                          38                   32.76 %\n",
            "============================================================\n",
            "Cluster 20 contains 57 movies.\n",
            "\n",
            "Category                                 Occurences           Percentage          \n",
            "------------------------------------------------------------\n",
            "Horror                                   31                   54.39 %\n",
            "Documentary                              27                   47.37 %\n",
            "Short Film                               17                   29.82 %\n",
            "============================================================\n",
            "Cluster 21 contains 68 movies.\n",
            "\n",
            "Category                                 Occurences           Percentage          \n",
            "------------------------------------------------------------\n",
            "Drama                                    58                   85.29 %\n",
            "Romantic comedy                          53                   77.94 %\n",
            "Romance Film                             53                   77.94 %\n",
            "============================================================\n",
            "Cluster 22 contains 56 movies.\n",
            "\n",
            "Category                                 Occurences           Percentage          \n",
            "------------------------------------------------------------\n",
            "Short Film                               48                   85.71 %\n",
            "Black-and-white                          47                   83.93 %\n",
            "Silent film                              46                   82.14 %\n",
            "============================================================\n",
            "Cluster 23 contains 117 movies.\n",
            "\n",
            "Category                                 Occurences           Percentage          \n",
            "------------------------------------------------------------\n",
            "Horror                                   87                   74.36 %\n",
            "World cinema                             44                   37.61 %\n",
            "Japanese Movies                          24                   20.51 %\n",
            "============================================================\n",
            "Cluster 24 contains 148 movies.\n",
            "\n",
            "Category                                 Occurences           Percentage          \n",
            "------------------------------------------------------------\n",
            "Comedy film                              59                   39.86 %\n",
            "Romance Film                             55                   37.16 %\n",
            "Musical                                  36                   24.32 %\n",
            "============================================================\n",
            "Cluster 25 contains 115 movies.\n",
            "\n",
            "Category                                 Occurences           Percentage          \n",
            "------------------------------------------------------------\n",
            "Documentary                              45                   39.13 %\n",
            "Fantasy                                  15                   13.04 %\n",
            "Comedy-drama                             15                   13.04 %\n",
            "============================================================\n",
            "Cluster 26 contains 88 movies.\n",
            "\n",
            "Category                                 Occurences           Percentage          \n",
            "------------------------------------------------------------\n",
            "Action                                   53                   60.23 %\n",
            "Drama                                    40                   45.45 %\n",
            "Period piece                             32                   36.36 %\n",
            "============================================================\n",
            "Cluster 27 contains 77 movies.\n",
            "\n",
            "Category                                 Occurences           Percentage          \n",
            "------------------------------------------------------------\n",
            "Drama                                    48                   62.34 %\n",
            "Martial Arts Film                        34                   44.16 %\n",
            "Chinese Movies                           33                   42.86 %\n",
            "============================================================\n",
            "Cluster 28 contains 137 movies.\n",
            "\n",
            "Category                                 Occurences           Percentage          \n",
            "------------------------------------------------------------\n",
            "Thriller                                 114                  83.21 %\n",
            "Drama                                    109                  79.56 %\n",
            "Mystery                                  45                   32.85 %\n",
            "============================================================\n",
            "Cluster 29 contains 109 movies.\n",
            "\n",
            "Category                                 Occurences           Percentage          \n",
            "------------------------------------------------------------\n",
            "Comedy                                   104                  95.41 %\n",
            "Action/Adventure                         57                   52.29 %\n",
            "Action                                   51                   46.79 %\n",
            "============================================================\n",
            "Cluster 30 contains 93 movies.\n",
            "\n",
            "Category                                 Occurences           Percentage          \n",
            "------------------------------------------------------------\n",
            "Action                                   65                   69.89 %\n",
            "Crime Fiction                            37                   39.78 %\n",
            "Comedy                                   30                   32.26 %\n",
            "============================================================\n",
            "Cluster 31 contains 131 movies.\n",
            "\n",
            "Category                                 Occurences           Percentage          \n",
            "------------------------------------------------------------\n",
            "Drama                                    131                  100.00 %\n",
            "Romance Film                             130                  99.24 %\n",
            "Romantic drama                           126                  96.18 %\n",
            "============================================================\n",
            "Cluster 32 contains 88 movies.\n",
            "\n",
            "Category                                 Occurences           Percentage          \n",
            "------------------------------------------------------------\n",
            "Comedy                                   88                   100.00 %\n",
            "Family Film                              87                   98.86 %\n",
            "Animation                                48                   54.55 %\n",
            "============================================================\n",
            "Cluster 33 contains 115 movies.\n",
            "\n",
            "Category                                 Occurences           Percentage          \n",
            "------------------------------------------------------------\n",
            "Romance Film                             115                  100.00 %\n",
            "Drama                                    115                  100.00 %\n",
            "Romantic drama                           30                   26.09 %\n",
            "============================================================\n",
            "Cluster 34 contains 170 movies.\n",
            "\n",
            "Category                                 Occurences           Percentage          \n",
            "------------------------------------------------------------\n",
            "Comedy                                   170                  100.00 %\n",
            "Short Film                               39                   22.94 %\n",
            "Black-and-white                          38                   22.35 %\n",
            "============================================================\n"
          ],
          "name": "stdout"
        }
      ]
    },
    {
      "cell_type": "markdown",
      "metadata": {
        "id": "AiQJ7TXponyz"
      },
      "source": [
        "Σε μια πιο συνοπτική μορφή εμφανίζουμε μόνο το κορυφαίο είδος ταινιών του κάθε cluster: \n",
        "\n",
        "```\n",
        "Cluster 0: War Film \n",
        "Cluster 1: Comedy         \n",
        "Cluster 2: Action                               \n",
        "Cluster 3: Short Film\n",
        "Cluster 4: Romance Film\n",
        "Cluster 5: Adventure   \n",
        "Cluster 6: Drama  \n",
        "Cluster 7: Short Film \n",
        "Cluster 8: Black-and-white   \n",
        "Cluster 9: Family Film\n",
        "Cluster 10: Drama\n",
        "Cluster 11: Horror      \n",
        "Cluster 12: Comedy\n",
        "Cluster 13: Drama\n",
        "Cluster 14: Drama\n",
        "Cluster 15: Thriller\n",
        "Cluster 16: World cinema\n",
        "Cluster 17: Comedy\n",
        "Cluster 18: Comedy\n",
        "Cluster 19: Science Fiction\n",
        "Cluster 20: Horror\n",
        "Cluster 21: Drama\n",
        "Cluster 22: Short Film\n",
        "Cluster 23: Horror\n",
        "Cluster 24: Comedy film\n",
        "Cluster 25: Documentary\n",
        "Cluster 26: Action\n",
        "Cluster 27: Drama\n",
        "Cluster 28: Thriller   \n",
        "Cluster 29: Comedy\n",
        "Cluster 30: Action\n",
        "Cluster 31: Drama \n",
        "Cluster 32: Comedy \n",
        "Cluster 33: Romance Film   \n",
        "Cluster 34: Comedy\n",
        "\n",
        "\n",
        "```"
      ]
    },
    {
      "cell_type": "markdown",
      "metadata": {
        "id": "stGHsEimUO0l"
      },
      "source": [
        "## Ανάλυση τοπολογικών ιδιοτήτων χάρτη SOM\n",
        "Τυπώνοντας τη μορφη του χάρτη καθώς και τις τρείς πρώτες κατηγορίες που αναγνωρίζονατι σε κάθε cluster μπορούμε να λάβουμε διάφορα συμπεράσματα. Αρχικά παρατηρούμε ότι σχεδόν όλοι οι clusters έχουν μεγάλα ποσοστά για κάποιο είδος ταινίας (πολλές φορές 100%, που σημαίνει πως όλες οι ταινίες που αντιστιχοίστηκαν στον cluster περιέχουν το αντίστοιχο είδος). Επομένως το μέγεθος του χάρτη και ο αριθμός των clusters ήταν κατάλληλα επιλεγμένος.\n",
        "\n",
        "\n",
        "### Δεδομένα με μεγαλύτερη πυκνότητα πιθανότητας \n",
        "\n",
        "Αρχικά, παρατηρούμε ότι ταινίες με μεγαλύτερη πυκνότητα πιθανότητας στο χώρο εισόδου εμφανίζονται σε περισσότερους clusters. Για παράδειγμα, η κατηγορία **Drama** εμφανίζεται στο dataset σε ~44% των ταινιών, διπλάσιο ποσοστό της δευτερης πιο συχνής. Οι clusters που αντιστοιχούν σε ταινίες **Drama** είναι οι `6, 10, 13, 14, 21, 27, 31`. Οι clusters αυτοί βρίσκονται σε πολλές περιοχές του χάρτη, αφού για παράδειγμα ο cluster `31` βρίσκεται στο πάνω αριστερά τμήμα, ο cluster `13` βρίσκεται στο κέντρο, ενώ ο cluster `10` βρίσκεται στο πάνω δεξιά τμήμα.\n",
        "\n",
        "Αντίστοιχα, ένα είδος με μικρό ποσοστό αναπαράστασης στο αρχικό dataset, όπως το **War Film** με μικρή αναπαράσταση εμφανίζεται μόνο στον cluster `0`.\n",
        "\n",
        "\n"
      ]
    },
    {
      "cell_type": "markdown",
      "metadata": {
        "id": "Jvg_XlEouNgO"
      },
      "source": [
        "### Μακρινά πρότυπα εισόδου σε απομακρυσμένα σημεία\n",
        "\n",
        "Εμφανίζονται μακρινά πρότυπα εισόδου, τα οποία εμφανίζονται και σε μακρινά σημεία του χάρτη.\n",
        "\n",
        "Για παράδειγμα, οι clusters `4 ,33` που αναγνωρίζουν ταινίες τύπου **Romance** βρίσκονται κυρίως στο άνω αριστερά τμήμα του χάρτη, ενώ οι clusters ταινιών **Thriller**  `15, 28` βρίσκονται στα αριστερά και κάτω άκρα του χάρτη."
      ]
    },
    {
      "cell_type": "markdown",
      "metadata": {
        "id": "gFv3SedKxC__"
      },
      "source": [
        "### Κοντινά πρότυπα εισόδου\n",
        "\n",
        "Παρατηρούμε αρκετά παραδείγματα κοντινών προτύπων εισόδου που απεικονίζονται κοντά στο χάρτη.\n",
        "\n",
        "1. Τα clusters στο άνω αριστερά τμήμα του χάρτη `31, 33, 4, 6, 21` περιέχουν είδη **Romance** και **Drama**, τα οποία έχουν συνάφεια.\n",
        "\n",
        "2. Τα clusters `15, 11, 28, 23` βρίσκονται επίσης κοντά στον χάρτη στο κάτω δεξιά τμήμα και περιλαμβάνουν τα είδη **Horror** και **Thriller**.\n",
        "\n",
        "3. Οι clusters `2, 30, 5, 26` βρίσκονται κοντά στο κέντρο του χάρτη και αντιστοιχοίζονται στα είδη **Action** και **Adventure**, τα οποία είναι πολύ συναφή.\n"
      ]
    },
    {
      "cell_type": "markdown",
      "metadata": {
        "id": "wTFOFt2wrWNs"
      },
      "source": [
        "Μπορούμε επιπλέον να παρατηρήσουμε σημεία του χάρτη με σαφή χαρακτηριστικά.\n",
        "\n",
        "1. Παρατηρούμε οτι τα clusters στο κατω αριστερά τεταρτημοριο του χάρτη κατηγοριοπουούν ταινίες με βασική κατηγορία το **Action** ή το **Adventure** σε ποσοστό μέχρι και 100% Ενδεικτικά αναφέρουμε του clusters `2, 30, 5, 26` οι οποίοι συνορεύουν μεταξύ τους και καλύπτουν την ίδια ευρεία περιοχή.\n",
        "\n",
        "2. Το κατω δεξια τεταρτημόριο αποτελείται κυρίως απο clusters με βασικα χαρακτηριστικα το **Thriller** και το **Horror** και αν και αποτελουν ξεχωριστη ομάδα παρουσιάζουν μια μικρή γειτνίαση με την προηγούμενη ομάδα. Ενδεικτικά αναφέρουμε τους clusters `15, 11, 28, 23`.\n",
        "\n",
        "3. Στο κέντρο του χάρτη όπως αναφέρθηκε υπάρχει ένα σύνολο clusters `2, 30, 5, 26` που αντιστοιχοίζονται στα είδη **Action** και **Adventure**.\n",
        "\n",
        "4. Στο πάνω δεξιά κομματι του χαρτη είναι μαζεμένοι ολοι οι clusters Που αποτελούν ενα συνοθύλευμα απο τα υπολοιπα είδη που μπορεί να συναντήσει κανείς χωρίς απαραίτητα να έχουν κάποια μεγάλη σχέση μεταξύ τους. Συγκεκριμένα εμφανίζονται με σημαντικά ποσοστά κατηγορίες όπως **Drama**, **War Film**, **Documentary** , **World-cinema** Ενδεικτικά αναφέρουμε εδώ τους clusters `10, 27,`6, 0, 14, 26`."
      ]
    },
    {
      "cell_type": "markdown",
      "metadata": {
        "id": "loF06_5v1TpA"
      },
      "source": [
        "### Clusters με υποείδη\n",
        "\n",
        "Παρατηρούμε διάφορους clusters που περιέχουν υποείδη του κυρίαρχου είδους. Τα πιο χαρακτηριστικά παραδείγματα είναι:\n",
        "\n",
        "*   *Cluster 3* : Έχουμε ποσοστό 100% σε **Short Film**, αλλά παρατηρούμε υψηλά ποσοστά σε **Comedy** και **Animation**, υποδυκνείοντας ταινίες κινουμένων σχεδίων μικρού μήκους.\n",
        "*   *Cluster 6*: Έχουμε ως κύρια κατηγορία **Drama**, αλλά οι μισές ταινίες του cluster είναι **Musical**.\n",
        "*    *Cluster 8*: Μετά το κυρίαρχο είδος **Black-and-white**, έχουμε πολλές ταινίες τύπου **Silent film**.\n",
        "*    *Cluster 15*: Παρατηρούμε μεγάλη πληθηκότητα του **Thriller** και του **Mystery** με τρίτο σε ποσοστό είδος το **Crime Thriller**.\n",
        "*    *Cluster 16*: Εδώ έχουμε ταινίες **World Cinema**, και πιο συγκεκριμένα **Bollywood** σε μεγάλα ποσοστά.\n",
        "*    *Cluster 11*: Με πρώτο είδος το **Horror**, έχουμε μεγάλα ποσοστά εμφάνισης **Slasher**.\n",
        "*    *Cluster 27*: Έχουμε μεγάλα ποσοστά στα υποείδη του **Drama**: **Martial Arts Film** και **Chinese Movies**."
      ]
    },
    {
      "cell_type": "markdown",
      "metadata": {
        "id": "YkfT9RPo7ECC"
      },
      "source": [
        "### Clusters με μη σαφή χαρακτηριστικά\n",
        "\n",
        "Υπάρχουν clusters με μη σαφή χαρακτηριστικά. Έχουμε ως πιο έντονο παράδειγμα το cluster `25`, το οποίο με 115 ταινίες είναι ένα μεσαίου μεγέθους cluster, το οποίο όμως δεν έχει κάποιο είδος να ξεχωρίζει. Συγκεκριμένα, έχουμε **Documentary** με ποσοστό 39.13 %, **Fantasy** με 13.04 % και **Comedy-drama** με 13.04 %. Τα είδη αυτά δεν παρουσιάζουν κάποια άμεση συνάφεια και τα ποσοστά είναι αρκετά μικρά.\n",
        "\n",
        "Ένα άλλο παράδειγμα είναι ο cluster `20` με ποσοστά **Horror** 54.39 %, **Documentary** με 47.37 % και **Short Film** με 29.82 %. Τα ποσοστά αυτά είναι πάλι σχετικά μικρά σε σχέση με άλλα clusters, ενώ πάλι τα ήδη δε φαίνεται να σχετίζονται άμεσα."
      ]
    },
    {
      "cell_type": "markdown",
      "metadata": {
        "id": "qObtYXje9Uoe"
      },
      "source": [
        "### Clusters χωρίς τοπολογική συνάφεια με γύρω περιοχές\n",
        "\n",
        "Εμφανίζονται λίγα clusters τα οποία δεν φαίνεται να έχουν συνάφεια με τα κοντινά τους clusters. Για παράδειγμα, το cluster `9` που έχει ως κύρια κατηγορία τις ταινίες **Family Film** συνορεύει με αρκετές ταινίες τύπου **Thriller** ή **Horror**. Μπορούμε να βρούμε περισσότερα παραδείγματα αν ψάξουμε συγκεκριμένα 2 clusters μόνο οι οποίοι συνορεύουν. Ένα τέτοιο παράδειγμα είναι ο cluster `1` που αντιστοιχεί κυρίως σε ταινίες **Comedy** συνορεύει με τον cluster `20` που αντιστοιχεί κυρίως σε ταινίες τύπου **Horror**.\n",
        "\n",
        "Τα παραπάνω ήταν αναμεννόμενο να προκύψουν, λόγω τόσο της μείωσης της διαστατικότητας όσο και του γεγονότος ότι και σε περισσότερες διαστάσεις δεν υπάρχει σαφής τοπολογία για τα κινηματογραφικά είδη."
      ]
    },
    {
      "cell_type": "markdown",
      "metadata": {
        "id": "lj7rsPg8ABZ4"
      },
      "source": [
        "### Clusters ιδιαίτερου ενδιαφέροντος\n",
        "\n",
        "Τελειώνοντας, θα καταγράψουμε τα clusters που θεωρούμε πως έχουν κάποιο ιδιαίτερο ενδιαφέρον. Μερικά αναφέρθηκαν ήδη σε προηγούμενες παρατηρήσεις.\n",
        "\n",
        "\n",
        "\n",
        "Αρχικά έχουμε τους clusters οι οποίοι πετυχαίνουν ποσοστό > 80% και στις 3 πρώτες κατηγορίες. Σε αυτή την περίπτωση οι clusters είναι ιδιαίτερα εξειδικευμένοι, καθώς όλες σχεδόν οι τανίες τους περιέχουν τα κοινά είδη:\n",
        "  1.    Cluster 4: *Romantic Drama, Romance Film, Drama*\n",
        "  2.    Cluster 22 : *Short Film, Black-and-white, Silent Film*\n",
        "  3.    Cluster 31 : *Drama, Romance Film, Romantic Drama*\n",
        "\n",
        "Ενδιαφέρον παρουσιάζουν και οι clusters με κυρίαρχα ιδιαίτερα είδη, τα οποία δε βλέπουμε σε άλλους clusters. Τέτοιοι είναι ο cluster `0` με **War film**, ο cluster `8` με **Black-and-white**, o cluster `25` με **Documentary**, ο cluster `19` με **Science Fiction** και ο cluster `9` με **Family Film**.\n",
        "\n",
        "Τέλος, έχουμε τους clusters οι οποίοι περιέχουν υπο-είδη των κυρίαρχων ειδών. Μερικοί αναφέρθηκαν ήδη, συγκεκριμένα οι `3, 6, 8, 11, 15, 16, 27`, αλλά έχουμε επιπλέον τους `5` με σημαντικό ποσοστό **War Films**, `26` με αρκετές ταινίες **Period Piece**, `12` με μερικές ταινίες **Slapstick** και `18`, οπού περιέχονται **Satire**."
      ]
    }
  ]
}