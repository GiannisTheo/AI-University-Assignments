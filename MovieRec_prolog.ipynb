{
  "nbformat": 4,
  "nbformat_minor": 0,
  "metadata": {
    "colab": {
      "name": "2hTN.ipynb",
      "provenance": [],
      "collapsed_sections": [],
      "toc_visible": true
    },
    "kernelspec": {
      "name": "python3",
      "display_name": "Python 3"
    },
    "accelerator": "GPU"
  },
  "cells": [
    {
      "cell_type": "markdown",
      "metadata": {
        "id": "uXr5KBHYjLuS"
      },
      "source": [
        "## Τεχνητή Νοημοσύνη: Εργαστηριακή Άσκηση 2\n",
        "## Ονοματεπώνυμο: Θεοδοσίου Ιωάννης\n",
        "## 03115056"
      ]
    },
    {
      "cell_type": "code",
      "metadata": {
        "id": "EPIDll9Gww03",
        "outputId": "bea21011-5f1f-445f-f94c-9c1229c9b8a5",
        "colab": {
          "base_uri": "https://localhost:8080/",
          "height": 34
        }
      },
      "source": [
        "from google.colab import drive\n",
        "drive.mount('/gdrive')\n",
        "import os\n",
        "os.listdir('/gdrive/My Drive')\n",
        "path='/gdrive/My Drive/'"
      ],
      "execution_count": null,
      "outputs": [
        {
          "output_type": "stream",
          "text": [
            "Mounted at /gdrive\n"
          ],
          "name": "stdout"
        }
      ]
    },
    {
      "cell_type": "code",
      "metadata": {
        "id": "iFWeEgm-zu5D",
        "outputId": "89275169-cba3-42df-d025-85d5380c5533",
        "colab": {
          "base_uri": "https://localhost:8080/",
          "height": 34
        }
      },
      "source": [
        "from google.colab import drive\n",
        "drive.mount('/content/drive')"
      ],
      "execution_count": null,
      "outputs": [
        {
          "output_type": "stream",
          "text": [
            "Mounted at /content/drive\n"
          ],
          "name": "stdout"
        }
      ]
    },
    {
      "cell_type": "code",
      "metadata": {
        "id": "s92JtStR0GxO",
        "outputId": "459a5979-d9d1-4197-9448-5f0806f88cef",
        "colab": {
          "base_uri": "https://localhost:8080/",
          "height": 1000
        }
      },
      "source": [
        "#install swi-prolog\n",
        "!sudo apt-get install software-properties-common\n",
        "!sudo apt-add-repository ppa:swi-prolog/stable\n",
        "!sudo apt-get update\n",
        "!sudo apt-get install swi-prolog"
      ],
      "execution_count": null,
      "outputs": [
        {
          "output_type": "stream",
          "text": [
            "Reading package lists... Done\n",
            "Building dependency tree       \n",
            "Reading state information... Done\n",
            "software-properties-common is already the newest version (0.96.24.32.11).\n",
            "The following package was automatically installed and is no longer required:\n",
            "  libnvidia-common-430\n",
            "Use 'sudo apt autoremove' to remove it.\n",
            "0 upgraded, 0 newly installed, 0 to remove and 7 not upgraded.\n",
            " Comprehensive Prolog implementation with extensive libraries and development tools.   Primarily targetted at teaching, RDF processing and web-related tasks, such as creating web services or analysing web content.\n",
            " More info: https://launchpad.net/~swi-prolog/+archive/ubuntu/stable\n",
            "Press [ENTER] to continue or Ctrl-c to cancel adding it.\n",
            "\n",
            "Get:1 http://security.ubuntu.com/ubuntu bionic-security InRelease [88.7 kB]\n",
            "Ign:2 https://developer.download.nvidia.com/compute/cuda/repos/ubuntu1804/x86_64  InRelease\n",
            "Hit:3 http://archive.ubuntu.com/ubuntu bionic InRelease\n",
            "Hit:4 http://ppa.launchpad.net/graphics-drivers/ppa/ubuntu bionic InRelease\n",
            "Ign:5 https://developer.download.nvidia.com/compute/machine-learning/repos/ubuntu1804/x86_64  InRelease\n",
            "Hit:6 https://developer.download.nvidia.com/compute/cuda/repos/ubuntu1804/x86_64  Release\n",
            "Get:7 https://developer.download.nvidia.com/compute/machine-learning/repos/ubuntu1804/x86_64  Release [564 B]\n",
            "Get:8 https://developer.download.nvidia.com/compute/machine-learning/repos/ubuntu1804/x86_64  Release.gpg [833 B]\n",
            "Get:9 http://security.ubuntu.com/ubuntu bionic-security/main amd64 Packages [777 kB]\n",
            "Get:10 http://archive.ubuntu.com/ubuntu bionic-updates InRelease [88.7 kB]\n",
            "Get:11 http://ppa.launchpad.net/marutter/c2d4u3.5/ubuntu bionic InRelease [15.4 kB]\n",
            "Get:12 http://security.ubuntu.com/ubuntu bionic-security/restricted amd64 Packages [21.8 kB]\n",
            "Get:13 http://security.ubuntu.com/ubuntu bionic-security/universe amd64 Packages [804 kB]\n",
            "Get:14 https://cloud.r-project.org/bin/linux/ubuntu bionic-cran35/ InRelease [3,626 B]\n",
            "Get:16 http://ppa.launchpad.net/swi-prolog/stable/ubuntu bionic InRelease [15.4 kB]\n",
            "Get:17 http://archive.ubuntu.com/ubuntu bionic-backports InRelease [74.6 kB]\n",
            "Get:18 https://developer.download.nvidia.com/compute/machine-learning/repos/ubuntu1804/x86_64  Packages [30.4 kB]\n",
            "Get:19 https://cloud.r-project.org/bin/linux/ubuntu bionic-cran35/ Packages [81.6 kB]\n",
            "Get:20 http://ppa.launchpad.net/marutter/c2d4u3.5/ubuntu bionic/main Sources [1,752 kB]\n",
            "Get:21 http://archive.ubuntu.com/ubuntu bionic-updates/universe amd64 Packages [1,330 kB]\n",
            "Get:22 http://archive.ubuntu.com/ubuntu bionic-updates/multiverse amd64 Packages [10.8 kB]\n",
            "Get:23 http://archive.ubuntu.com/ubuntu bionic-updates/main amd64 Packages [1,074 kB]\n",
            "Get:24 http://archive.ubuntu.com/ubuntu bionic-updates/restricted amd64 Packages [35.5 kB]\n",
            "Get:25 http://archive.ubuntu.com/ubuntu bionic-backports/universe amd64 Packages [4,241 B]\n",
            "Get:26 http://ppa.launchpad.net/marutter/c2d4u3.5/ubuntu bionic/main amd64 Packages [845 kB]\n",
            "Get:27 http://ppa.launchpad.net/swi-prolog/stable/ubuntu bionic/main amd64 Packages [1,491 B]\n",
            "Fetched 7,056 kB in 3s (2,659 kB/s)\n",
            "Reading package lists... Done\n",
            "Hit:1 https://cloud.r-project.org/bin/linux/ubuntu bionic-cran35/ InRelease\n",
            "Ign:2 https://developer.download.nvidia.com/compute/cuda/repos/ubuntu1804/x86_64  InRelease\n",
            "Hit:3 http://security.ubuntu.com/ubuntu bionic-security InRelease\n",
            "Ign:4 https://developer.download.nvidia.com/compute/machine-learning/repos/ubuntu1804/x86_64  InRelease\n",
            "Hit:5 http://archive.ubuntu.com/ubuntu bionic InRelease\n",
            "Hit:6 http://ppa.launchpad.net/graphics-drivers/ppa/ubuntu bionic InRelease\n",
            "Hit:7 https://developer.download.nvidia.com/compute/cuda/repos/ubuntu1804/x86_64  Release\n",
            "Hit:8 https://developer.download.nvidia.com/compute/machine-learning/repos/ubuntu1804/x86_64  Release\n",
            "Hit:9 http://archive.ubuntu.com/ubuntu bionic-updates InRelease\n",
            "Hit:10 http://archive.ubuntu.com/ubuntu bionic-backports InRelease\n",
            "Hit:11 http://ppa.launchpad.net/marutter/c2d4u3.5/ubuntu bionic InRelease\n",
            "Hit:14 http://ppa.launchpad.net/swi-prolog/stable/ubuntu bionic InRelease\n",
            "Reading package lists... Done\n",
            "Reading package lists... Done\n",
            "Building dependency tree       \n",
            "Reading state information... Done\n",
            "The following package was automatically installed and is no longer required:\n",
            "  libnvidia-common-430\n",
            "Use 'sudo apt autoremove' to remove it.\n",
            "The following additional packages will be installed:\n",
            "  libbsd-dev libedit-dev libgmp-dev libgmpxx4ldbl libncursesw5-dev\n",
            "  libossp-uuid16 swi-prolog-nox swi-prolog-x\n",
            "Suggested packages:\n",
            "  gmp-doc libgmp10-doc libmpfr-dev ncurses-doc uuid swi-prolog-doc prolog-el\n",
            "The following NEW packages will be installed:\n",
            "  libbsd-dev libedit-dev libgmp-dev libgmpxx4ldbl libncursesw5-dev\n",
            "  libossp-uuid16 swi-prolog swi-prolog-nox swi-prolog-x\n",
            "0 upgraded, 9 newly installed, 0 to remove and 30 not upgraded.\n",
            "Need to get 6,664 kB of archives.\n",
            "After this operation, 34.7 MB of additional disk space will be used.\n",
            "Get:1 http://archive.ubuntu.com/ubuntu bionic/main amd64 libbsd-dev amd64 0.8.7-1 [150 kB]\n",
            "Get:2 http://ppa.launchpad.net/swi-prolog/stable/ubuntu bionic/main amd64 swi-prolog-nox amd64 8.0.3-1-gcbd8b3b92-bionicppa2 [3,723 kB]\n",
            "Get:3 http://archive.ubuntu.com/ubuntu bionic/main amd64 libedit-dev amd64 3.1-20170329-1 [99.1 kB]\n",
            "Get:4 http://archive.ubuntu.com/ubuntu bionic/main amd64 libgmpxx4ldbl amd64 2:6.1.2+dfsg-2 [8,964 B]\n",
            "Get:5 http://archive.ubuntu.com/ubuntu bionic/main amd64 libgmp-dev amd64 2:6.1.2+dfsg-2 [316 kB]\n",
            "Get:6 http://archive.ubuntu.com/ubuntu bionic-updates/main amd64 libncursesw5-dev amd64 6.1-1ubuntu1.18.04 [199 kB]\n",
            "Get:7 http://archive.ubuntu.com/ubuntu bionic/universe amd64 libossp-uuid16 amd64 1.6.2-1.5build4 [29.0 kB]\n",
            "Get:8 http://ppa.launchpad.net/swi-prolog/stable/ubuntu bionic/main amd64 swi-prolog-x amd64 8.0.3-1-gcbd8b3b92-bionicppa2 [2,110 kB]\n",
            "Get:9 http://ppa.launchpad.net/swi-prolog/stable/ubuntu bionic/main amd64 swi-prolog amd64 8.0.3-1-gcbd8b3b92-bionicppa2 [27.3 kB]\n",
            "Fetched 6,664 kB in 2s (2,957 kB/s)\n",
            "debconf: unable to initialize frontend: Dialog\n",
            "debconf: (No usable dialog-like program is installed, so the dialog based frontend cannot be used. at /usr/share/perl5/Debconf/FrontEnd/Dialog.pm line 76, <> line 9.)\n",
            "debconf: falling back to frontend: Readline\n",
            "debconf: unable to initialize frontend: Readline\n",
            "debconf: (This frontend requires a controlling tty.)\n",
            "debconf: falling back to frontend: Teletype\n",
            "dpkg-preconfigure: unable to re-open stdin: \n",
            "Selecting previously unselected package libbsd-dev:amd64.\n",
            "(Reading database ... 145674 files and directories currently installed.)\n",
            "Preparing to unpack .../0-libbsd-dev_0.8.7-1_amd64.deb ...\n",
            "Unpacking libbsd-dev:amd64 (0.8.7-1) ...\n",
            "Selecting previously unselected package libedit-dev:amd64.\n",
            "Preparing to unpack .../1-libedit-dev_3.1-20170329-1_amd64.deb ...\n",
            "Unpacking libedit-dev:amd64 (3.1-20170329-1) ...\n",
            "Selecting previously unselected package libgmpxx4ldbl:amd64.\n",
            "Preparing to unpack .../2-libgmpxx4ldbl_2%3a6.1.2+dfsg-2_amd64.deb ...\n",
            "Unpacking libgmpxx4ldbl:amd64 (2:6.1.2+dfsg-2) ...\n",
            "Selecting previously unselected package libgmp-dev:amd64.\n",
            "Preparing to unpack .../3-libgmp-dev_2%3a6.1.2+dfsg-2_amd64.deb ...\n",
            "Unpacking libgmp-dev:amd64 (2:6.1.2+dfsg-2) ...\n",
            "Selecting previously unselected package libncursesw5-dev:amd64.\n",
            "Preparing to unpack .../4-libncursesw5-dev_6.1-1ubuntu1.18.04_amd64.deb ...\n",
            "Unpacking libncursesw5-dev:amd64 (6.1-1ubuntu1.18.04) ...\n",
            "Selecting previously unselected package libossp-uuid16:amd64.\n",
            "Preparing to unpack .../5-libossp-uuid16_1.6.2-1.5build4_amd64.deb ...\n",
            "Unpacking libossp-uuid16:amd64 (1.6.2-1.5build4) ...\n",
            "Selecting previously unselected package swi-prolog-nox.\n",
            "Preparing to unpack .../6-swi-prolog-nox_8.0.3-1-gcbd8b3b92-bionicppa2_amd64.deb ...\n",
            "Unpacking swi-prolog-nox (8.0.3-1-gcbd8b3b92-bionicppa2) ...\n",
            "Selecting previously unselected package swi-prolog-x.\n",
            "Preparing to unpack .../7-swi-prolog-x_8.0.3-1-gcbd8b3b92-bionicppa2_amd64.deb ...\n",
            "Unpacking swi-prolog-x (8.0.3-1-gcbd8b3b92-bionicppa2) ...\n",
            "Selecting previously unselected package swi-prolog.\n",
            "Preparing to unpack .../8-swi-prolog_8.0.3-1-gcbd8b3b92-bionicppa2_amd64.deb ...\n",
            "Unpacking swi-prolog (8.0.3-1-gcbd8b3b92-bionicppa2) ...\n",
            "Setting up libbsd-dev:amd64 (0.8.7-1) ...\n",
            "Setting up libossp-uuid16:amd64 (1.6.2-1.5build4) ...\n",
            "Setting up libncursesw5-dev:amd64 (6.1-1ubuntu1.18.04) ...\n",
            "Setting up libedit-dev:amd64 (3.1-20170329-1) ...\n",
            "Setting up libgmpxx4ldbl:amd64 (2:6.1.2+dfsg-2) ...\n",
            "Setting up libgmp-dev:amd64 (2:6.1.2+dfsg-2) ...\n",
            "Setting up swi-prolog-nox (8.0.3-1-gcbd8b3b92-bionicppa2) ...\n",
            "update-alternatives: using /usr/bin/swipl to provide /usr/bin/prolog (prolog) in auto mode\n",
            "Setting up swi-prolog-x (8.0.3-1-gcbd8b3b92-bionicppa2) ...\n",
            "Setting up swi-prolog (8.0.3-1-gcbd8b3b92-bionicppa2) ...\n",
            "Processing triggers for libc-bin (2.27-3ubuntu1) ...\n",
            "Processing triggers for man-db (2.8.3-2ubuntu0.1) ...\n"
          ],
          "name": "stdout"
        }
      ]
    },
    {
      "cell_type": "code",
      "metadata": {
        "id": "Lhgb_T7S0tTJ",
        "outputId": "56dff817-028a-41b2-a2ba-837bd6471d03",
        "colab": {
          "base_uri": "https://localhost:8080/",
          "height": 105
        }
      },
      "source": [
        "#install pyswip\n",
        "!pip install pyswip"
      ],
      "execution_count": null,
      "outputs": [
        {
          "output_type": "stream",
          "text": [
            "Collecting pyswip\n",
            "  Downloading https://files.pythonhosted.org/packages/e4/f3/2b1462c4379b089426dbedb29d8d903e63baf37857ccf6e87f168b786019/pyswip-0.2.9-py2.py3-none-any.whl\n",
            "Installing collected packages: pyswip\n",
            "Successfully installed pyswip-0.2.9\n"
          ],
          "name": "stdout"
        }
      ]
    },
    {
      "cell_type": "code",
      "metadata": {
        "id": "Txu5z0Ki0-Jw"
      },
      "source": [
        "# Η βιβλιοθήκη pandas είναι χρήσιμη για την εργασία με τέτοια δεδομένα\n",
        "import pandas as pd \n",
        "from pyswip import Prolog\n",
        "import re\n",
        "# Διάβασμα του αρχείου 'movie_metadata.csv' \n",
        "data = pd.read_csv(\"/content/drive/My Drive/AI_ex2/movie_metadata.csv\") \n",
        "#Στο csv υπαρχούν κελία με nan τιμές\n",
        "#Στις θέσεις αυτές βάζουμε 'UNK' πράγμα που  κάνουμε με την παρακάτω συνάρτηση\n",
        "data.fillna(\"UNK\", inplace=True)\n",
        "# Preview the first 5 lines of the loaded data \n",
        "data.head()\n",
        "def clean_text(text):\n",
        "    text = text.replace(u'\\xa0', u'')\n",
        "    text = text.replace(u\"'\", u'')\n",
        "    text = text.replace(u'\"', u'')\n",
        "    return text"
      ],
      "execution_count": null,
      "outputs": []
    },
    {
      "cell_type": "markdown",
      "metadata": {
        "id": "lu6IFBKnFoEW"
      },
      "source": [
        "## ΜΕΡΟΣ ΠΡΩΤΟ \n",
        "Σκοπός της εργαστηριακής αυτής άσκησης είναι η δημιουργία λογικών κανόνων για movie recomendation. Αρχικά αφου διαβάσουμε το αρχείο με τα δεδομένα μας δημιουργούμε τον κοσμο στον οποίο θα εργαστούμε και τα βασικά κατηγορήματα τα οποία είναι της μορφής:\n",
        "\n",
        "1. director(movie,D)\n",
        "2. language(movie,L)\n",
        "3. color(movie,C)\n",
        "4. actor(movie,A)\n",
        "\n",
        "Τους ηθοποίους τους αντιμετωπίσαμε ως το ίδιο κατηγόρημα και δεν διακρίναμε κάποια σειρά όπως πρώτος δεύτερος και τρίτος ρόλος.\n",
        "\n",
        "Επίσης στα κατηγορήματα μας πραγαμτοποιούμε μία sort καθώς η prolog θέλει όλα τα κατηγορήματα της ταξινομημένα."
      ]
    },
    {
      "cell_type": "code",
      "metadata": {
        "id": "YZGw2YIT2L5W"
      },
      "source": [
        "#create World\n",
        "#Ορίζουμε τον κόσμο μας\n",
        "prolog = Prolog()\n",
        "#και σβήνουμε ότι υπήρχε αποθηκευμένο από πρίν\n",
        "prolog.query('make')\n",
        "movie_names=[]\n",
        "#Για κάθε row του πίνακα φτιάχνουμε τα κατηγοτήματα που θέλουμε να αποθηκέυσουμε\n",
        "#αρχικά σε μια λίστα με το όνομα literals\n",
        "literals = []\n",
        "movie_score = {}\n",
        "for row in data.itertuples(index=True, name='Pandas'):\n",
        "    movie_title = clean_text(getattr(row, 'movie_title'))\n",
        "    director = clean_text(getattr(row, 'director_name'))\n",
        "\n",
        "    color=clean_text(getattr(row,'color'))\n",
        "    plot=clean_text(getattr(row,'plot_keywords'))\n",
        "    language=clean_text(getattr(row,'language'))\n",
        "    actor1=clean_text(getattr(row,'actor_1_name'))\n",
        "    actor2=clean_text(getattr(row,'actor_2_name'))\n",
        "    actor3=clean_text(getattr(row,'actor_3_name'))\n",
        "    \n",
        "    movie_score[movie_title] = 0\n",
        "    movie_title = movie_title.rstrip()\n",
        "\n",
        "    movie_names.append(movie_title)\n",
        "    \n",
        "    if movie_title != \"UNK\":\n",
        "        if director != \"UNK\":\n",
        "            literals.append(\"director('\"+ movie_title +\"','\" + director + \"')\")\n",
        "        for genre in getattr(row, 'genres').split(\"|\"):\n",
        "            literals.append(\"genre('\"+ movie_title +\"','\"+ genre +\"')\")\n",
        "        for pl in plot.split(\"|\"):\n",
        "          if pl!=\"UNK\":\n",
        "            literals.append(\"plot('\"+ movie_title +\"','\"+ pl +\"')\")\n",
        "        if actor1 != \"UNK\":\n",
        "            literals.append(\"actor('\"+ movie_title +\"','\" + actor1 + \"')\")\n",
        "        if actor2 != \"UNK\":\n",
        "            literals.append(\"actor('\"+ movie_title +\"','\" + actor2 + \"')\")\n",
        "        if actor3 != \"UNK\":\n",
        "            literals.append(\"actor('\"+ movie_title +\"','\" + actor3 + \"')\")\n",
        "        if language != \"UNK\":\n",
        "            literals.append(\"language('\"+ movie_title +\"','\" + language + \"')\")\n",
        "        if color != \"UNK\":\n",
        "            literals.append(\"color('\"+ movie_title +\"','\" + color + \"')\")\n",
        "        \n",
        "\n",
        "#Η Prolog θέλει τα κατηγορήματά της με την σειρά \n",
        "literals.sort()\n",
        "for literal in literals:\n",
        "    prolog.assertz(literal)\n",
        "\n",
        "#Επίσης μπορούμε να κάνουμε consult ένα έτοιμό αρχείο στον κόσμο όπως γίνεται παρακάτω\n",
        "# prolog.consult(\"filename.pl\")"
      ],
      "execution_count": null,
      "outputs": []
    },
    {
      "cell_type": "code",
      "metadata": {
        "id": "CJuZksKO20BJ"
      },
      "source": [
        "print(literals)"
      ],
      "execution_count": null,
      "outputs": []
    },
    {
      "cell_type": "markdown",
      "metadata": {
        "id": "SL3-1xgmHReD"
      },
      "source": [
        "## ΜΕΡΟΣ 1Β\n",
        "Αφού δημιουργήσαμε τον κόσμο μας τώρα δημιουργούμε βασικούς κανόνες οι οποίοι βρίσκουν όμοιες ταινίες με βάση κάποιο συγκεκριμένο χαρακτηριστικό. Οί κανόνες που δημιουργήθηκαν είναι οι εξής:\n",
        "\n",
        "1. κοινή γλώσσα find_same_language(X,Y)\n",
        "2. κοινός σκηνοθέτης find_same_director(X,Y)\n",
        "3. κοινό χρώμα find_same_color(X,Y)\n",
        "4. πολύ κοινή πλοκή με 3 κοινά plot words fully_common_plot(X,3,Y)\n",
        "5. μετρίως κοινή πλοκή με 2 κοινά plot words medium_common_plot(X,2,Y)\n",
        "6. λίγο κοινή πλοκή με 1 κοινό plot word less_common_plot(X,1,Y)\n",
        "7. πολύ κοινό είδος με 4 κοινά genre words fully_common_genre(X,4,Y)\n",
        "8. μετρίως κοινό είδος με 3 κοινά genre words medium_common_genre(X,3,Y)\n",
        "9. λιγότερο κοινό είδος με 2 κοινα genre word less_common_genre(X,2,Y)\n",
        "10. 3 κοινοί ηθοποιοί actor_common_3(X,3,Y)\n",
        "11. 2 κοινοί ηθοποιοί actor_common_2(X,2,Y)\n",
        "12. 1 κοινός ηθοποιός actor_common_1(X,1,Y)\n",
        "\n",
        "Για το πλήθος των διαφορετικών ηθοποιών, plot words και genre words χρισημοποιήθηκαν οι βοηθητικοί κανόνες:\n",
        "\n",
        "common_plot_points(X,Y,N),common_genre_points(X,Y,N) και common_actor_points(X,Y,N) οι οποίοι για κάθε ζεύγος ταινιών Χ,Υ επιστρέφουν το πλήθος των κοινών plot words, genre words και ηθοποιών αντίστοιχα."
      ]
    },
    {
      "cell_type": "code",
      "metadata": {
        "id": "4h2FSV8c1__k"
      },
      "source": [
        "#completed rules\n",
        "prolog.assertz('(find_same_language(X,Y) :- language(X,L),language(Y,L),X\\=Y)')\n",
        "prolog.assertz('(find_same_director(X,Y) :- director(X,L),director(Y,L),X\\=Y)')\n",
        "prolog.assertz('(find_same_color(X,Y) :- color(X,L),color(Y,L),X\\=Y)')\n",
        "\n",
        "prolog.assertz('common_plot_points(X,Y,N) :- findall(P1,plot(X,P1),L1),findall(P2,plot(Y,P2),L2),intersection(L1,L2,L),length(L,N)')\n",
        "prolog.assertz('fully_common_plot(X,3,L) :- findall(Y,director(Y,_),L1),member(L,L1),common_plot_points(X,L,3)')\n",
        "prolog.assertz('medium_common_plot(X,2,L) :- findall(Y,director(Y,_),L1),member(L,L1),common_plot_points(X,L,2)')\n",
        "prolog.assertz('less_common_plot(X,1,L) :- findall(Y,director(Y,_),L1),member(L,L1),common_plot_points(X,L,1)')\n",
        "\n",
        "prolog.assertz('common_genre_points(X,Y,N) :- findall(G1,genre(X,G1),L1),findall(G2,genre(Y,G2),L2),intersection(L1,L2,L),length(L,N)')\n",
        "prolog.assertz('fully_common_genre(X,4,L) :- findall(Y,director(Y,_),L1),member(L,L1),common_genre_points(X,L,5)')\n",
        "prolog.assertz('medium_common_genre(X,3,L) :- findall(Y,director(Y,_),L1),member(L,L1),common_genre_points(X,L,4)')\n",
        "prolog.assertz('less_common_genre(X,2,L) :- findall(Y,director(Y,_),L1),member(L,L1),common_genre_points(X,L,3)')\n",
        "\n",
        "prolog.assertz('common_actors_points(X,Y,N) :- findall(A1,actor(X,A1),L1),findall(A2,actor(Y,A2),L2),intersection(L1,L2,L),length(L,N)')\n",
        "prolog.assertz('actor_common_1(X,1,L) :- findall(Y,director(Y,_),L1),member(L,L1),common_actors_points(X,L,1)')\n",
        "prolog.assertz('actor_common_2(X,2,L) :- findall(Y,director(Y,_),L1),member(L,L1),common_actors_points(X,L,2)')\n",
        "prolog.assertz('actor_common_3(X,3,L) :- findall(Y,director(Y,_),L1),member(L,L1),common_actors_points(X,L,3)')\n",
        "\n",
        "\n",
        "\n"
      ],
      "execution_count": null,
      "outputs": []
    },
    {
      "cell_type": "markdown",
      "metadata": {
        "id": "mtHOc8ksLq2T"
      },
      "source": [
        "Αφου φτιάξαμε τους παραπάνω βασικούς κανόνες τώρα φτιάχνουμε με βάση αυτά κανόνες recomendations σε κλίμακα απο 1 μέχρι 5 οπου η ομοιότητα τύπου 5 σημαίνει full recomended και ομοιότητα τυπου 1 σημαίνει less recomended.O τρόπος που δημιουργήθηκαν αυτοί οι κανόνες ομοιότητας είναι σχετικά αυθαίρετος και βασίζεται κυρίως σε δοκιμές και έλεγχο με βάση αντίστοιχες προτάσεις του imdb."
      ]
    },
    {
      "cell_type": "code",
      "metadata": {
        "id": "5EmtNofL5-2W"
      },
      "source": [
        "prolog.assertz('(find_similar_movies_5(X, Y) :- ((director(X, D), director(Y, D),genre(X, G), genre(Y, G));fully_common_plot(X,3,Y);fully_common_genre(X,4,Y);actor_common_3(X,3,Y)), X \\= Y )')\n",
        "prolog.assertz('(find_similar_movies_4(X, Y) :- (find_same_director(X,Y);medium_common_genre(X,3,Y);medium_common_plot(X,2,Y)), X \\= Y, not(find_similar_movies_5(X, Y)) )')\n",
        "prolog.assertz('find_similar_movies_1(X,Y) :- find_same_language(X,Y),find_same_color(X,Y)')\n",
        "prolog.assertz('find_similar_movies_3(X,Y) :- less_common_genre(X,3,Y);less_common_plot(X,1,Y);actor_common_2(X,2,Y)')\n",
        "prolog.assertz('find_similar_movies_2(X,Y) :- genre(X,G),genre(Y,G),actor_common_1(X,1,Y)')"
      ],
      "execution_count": null,
      "outputs": []
    },
    {
      "cell_type": "code",
      "metadata": {
        "id": "2L6wTYXdBYc4"
      },
      "source": [
        ""
      ],
      "execution_count": null,
      "outputs": []
    },
    {
      "cell_type": "markdown",
      "metadata": {
        "id": "9fbCrsueMuKn"
      },
      "source": [
        " ## ΜΕΡΟΣ ΔΕΥΤΕΡΟ\n",
        " Η συνάρτηση simple_recomender δέχεται ως όρισμα μια ταινία και προτείνει στο χρήστη αντιστοιχα ταινίες αποκλειστικά με βάση τους 5 βαθμούς ομοιότητας όπως οριστικαν παραπάνω. Για κάθε είδος ομοιότητας κρατήσαμε μόνο τις δέκα πρώτες ταινίες που προτείνονται."
      ]
    },
    {
      "cell_type": "code",
      "metadata": {
        "id": "WNdouppC9iqp"
      },
      "source": [
        "def simple_recommender(movie):\n",
        "\n",
        "    q = prolog.query(\"find_similar_movies_5('\" + movie +\"',M)\")\n",
        "    ans5 = []\n",
        "    for soln in q:\n",
        "        ans5.append(soln[\"M\"])\n",
        "    ans = set(ans5)\n",
        "    \n",
        "    q = prolog.query(\"find_similar_movies_4('\" + movie +\"',M)\")\n",
        "    ans4 = []\n",
        "    for soln in q:\n",
        "        if soln[\"M\"] not in ans:\n",
        "            ans4.append(soln[\"M\"])\n",
        "            ans.add(soln[\"M\"])\n",
        "    \n",
        "    q = prolog.query(\"find_similar_movies_3('\" + movie +\"',M)\")\n",
        "    ans3 = []\n",
        "    for soln in q:\n",
        "        if soln[\"M\"] not in ans:\n",
        "            ans3.append(soln[\"M\"])\n",
        "            ans.add(soln[\"M\"])\n",
        "    \n",
        "    q = prolog.query(\"find_similar_movies_2('\" + movie +\"',M)\")\n",
        "    ans2 = []\n",
        "    for soln in q:\n",
        "        if soln[\"M\"] not in ans:\n",
        "            ans2.append(soln[\"M\"])\n",
        "            ans.add(soln[\"M\"])\n",
        "    \n",
        "    \n",
        "    q = prolog.query(\"find_similar_movies_1('\" + movie +\"',M)\")\n",
        "\n",
        "    ans1 = []\n",
        "    for soln in q:\n",
        "        if soln[\"M\"] not in ans4:\n",
        "            ans1.append(soln[\"M\"])\n",
        "            ans.add(soln[\"M\"])\n",
        "    #κάνουμε κάποιο Processing στα παραπάνω αποτελέσματα και επιστρέφουμε τις \"όμοιες\" ταινίες με φθίνουσα σειρά\n",
        "    return list(set(ans5))[:10], list(set(ans4))[:10],list(set(ans3))[:10],list(set(ans2))[:10],list(set(ans1))[:10]"
      ],
      "execution_count": null,
      "outputs": []
    },
    {
      "cell_type": "markdown",
      "metadata": {
        "id": "y1iUMQ9GNku3"
      },
      "source": [
        "Παρακάτω δοκίμαζουμε την συνάρτηση μας simple_rcomender δίνοντας απλά μία ταινία και τυπώνοντας ξεχωριστά δέκα ταινίες (η λιγότερες) απο το κάθε είδος ομοιότητας."
      ]
    },
    {
      "cell_type": "code",
      "metadata": {
        "id": "cniMhPx1JgIt",
        "outputId": "12c3d31b-dd22-42b8-a848-a9491f65ff7c",
        "colab": {
          "base_uri": "https://localhost:8080/",
          "height": 119
        }
      },
      "source": [
        "mov=\"Star Wars: Episode III - Revenge of the Sith\"\n",
        "r5,r4,r3,r2,r1=simple_recommender(mov)\n",
        "print(\"##########################################################################\")\n",
        "print(\"top movie recomendations for  \" + mov)\n",
        "print(\"###########################################################################\")\n",
        "for i in r5:\n",
        "  print(i)\n",
        "#l=prolog.query(\"\")"
      ],
      "execution_count": null,
      "outputs": [
        {
          "output_type": "stream",
          "text": [
            "##########################################################################\n",
            "top movie recomendations for  Star Wars: Episode III - Revenge of the Sith\n",
            "###########################################################################\n",
            "Star Wars: Episode II - Attack of the Clones\n",
            "Star Wars: Episode IV - A New Hope\n",
            "Star Wars: Episode I - The Phantom Menace\n"
          ],
          "name": "stdout"
        }
      ]
    },
    {
      "cell_type": "code",
      "metadata": {
        "id": "2i11scLEOweS",
        "outputId": "dddfe6e9-aef1-4842-f66a-c0ec7ffa08ab",
        "colab": {
          "base_uri": "https://localhost:8080/",
          "height": 238
        }
      },
      "source": [
        "print(\"##########################################################################\")\n",
        "print(\"movie similarity 4 recomendations for  \" + mov)\n",
        "print(\"###########################################################################\")\n",
        "for i in r4:\n",
        "  print(i)"
      ],
      "execution_count": null,
      "outputs": [
        {
          "output_type": "stream",
          "text": [
            "##########################################################################\n",
            "movie similarity 4 recomendations for  Star Wars: Episode III - Revenge of the Sith\n",
            "###########################################################################\n",
            "G-Force\n",
            "Underworld: Evolution\n",
            "Star Wars: Episode V - The Empire Strikes Back\n",
            "The League of Extraordinary Gentlemen\n",
            "X-Men 2\n",
            "Zathura: A Space Adventure\n",
            "The Helix... Loaded\n",
            "Beastmaster 2: Through the Portal of Time\n",
            "Dragonball: Evolution\n",
            "Pokémon 3: The Movie\n"
          ],
          "name": "stdout"
        }
      ]
    },
    {
      "cell_type": "code",
      "metadata": {
        "id": "20h6YNlxO5Ek",
        "outputId": "9b4a093b-072e-4215-d863-7ae2e9c80878",
        "colab": {
          "base_uri": "https://localhost:8080/",
          "height": 119
        }
      },
      "source": [
        "print(\"##########################################################################\")\n",
        "print(\"movie similarity 3 recomendations for  \" + mov)\n",
        "print(\"###########################################################################\")\n",
        "for i in r3:\n",
        "  print(i)"
      ],
      "execution_count": null,
      "outputs": [
        {
          "output_type": "stream",
          "text": [
            "##########################################################################\n",
            "movie similarity 3 recomendations for  Star Wars: Episode III - Revenge of the Sith\n",
            "###########################################################################\n",
            "Close Encounters of the Third Kind\n",
            "The Twilight Saga: Breaking Dawn - Part 2\n",
            "The Dead Zone\n"
          ],
          "name": "stdout"
        }
      ]
    },
    {
      "cell_type": "code",
      "metadata": {
        "id": "d0SM4VoKO8H2",
        "outputId": "c2afbc2b-8263-49f7-848a-312df90d2fc0",
        "colab": {
          "base_uri": "https://localhost:8080/",
          "height": 238
        }
      },
      "source": [
        "print(\"##########################################################################\")\n",
        "print(\"movie similarity 2 recomendations for  \" + mov)\n",
        "print(\"###########################################################################\")\n",
        "for i in r2:\n",
        "  print(i)"
      ],
      "execution_count": null,
      "outputs": [
        {
          "output_type": "stream",
          "text": [
            "##########################################################################\n",
            "movie similarity 2 recomendations for  Star Wars: Episode III - Revenge of the Sith\n",
            "###########################################################################\n",
            "Takers\n",
            "Thor: The Dark World\n",
            "Charlie and the Chocolate Factory\n",
            "The Golden Compass\n",
            "American Heist\n",
            "1941\n",
            "Cold Mountain\n",
            "V for Vendetta\n",
            "Jumper\n",
            "Mars Attacks!\n"
          ],
          "name": "stdout"
        }
      ]
    },
    {
      "cell_type": "code",
      "metadata": {
        "id": "Z8Mw2JK3O-zD",
        "outputId": "a42e126a-e4c1-40aa-ca47-8b2ef31eabce",
        "colab": {
          "base_uri": "https://localhost:8080/",
          "height": 238
        }
      },
      "source": [
        "print(\"##########################################################################\")\n",
        "print(\"movie similarity 1 recomendations for  \" + mov)\n",
        "print(\"###########################################################################\")\n",
        "for i in r1:\n",
        "  print(i)"
      ],
      "execution_count": null,
      "outputs": [
        {
          "output_type": "stream",
          "text": [
            "##########################################################################\n",
            "movie similarity 1 recomendations for  Star Wars: Episode III - Revenge of the Sith\n",
            "###########################################################################\n",
            "The Fighter\n",
            "Doc Hollidays Revenge\n",
            "You Dont Mess with the Zohan\n",
            "Ultraviolet\n",
            "The Matador\n",
            "Falcon Rising\n",
            "Red Tails\n",
            "8MM\n",
            "Jekyll and Hyde... Together Again\n",
            "Legends of Oz: Dorothys Return\n"
          ],
          "name": "stdout"
        }
      ]
    },
    {
      "cell_type": "code",
      "metadata": {
        "id": "bvo_YqfH79t1",
        "colab": {
          "base_uri": "https://localhost:8080/",
          "height": 153
        },
        "outputId": "03e08566-f9f5-42ae-dc0e-f37f1b1580a9"
      },
      "source": [
        "mov=\"Avatar\"\n",
        "k5,k4,k3,k2,k1=simple_recommender(mov)\n",
        "print(\"##########################################################################\")\n",
        "print(\"top movie recomendations for  \" + mov)\n",
        "print(\"###########################################################################\")\n",
        "for i in k5:\n",
        "  print(i)"
      ],
      "execution_count": null,
      "outputs": [
        {
          "output_type": "stream",
          "text": [
            "##########################################################################\n",
            "top movie recomendations for  Avatar\n",
            "###########################################################################\n",
            "True Lies\n",
            "Terminator 2: Judgment Day\n",
            "The Abyss\n",
            "The Terminator\n",
            "Aliens\n"
          ],
          "name": "stdout"
        }
      ]
    },
    {
      "cell_type": "code",
      "metadata": {
        "id": "Gtb0ZlnPBn3A",
        "colab": {
          "base_uri": "https://localhost:8080/",
          "height": 238
        },
        "outputId": "65dbd868-3df4-4b38-dde4-48a0cc2ace87"
      },
      "source": [
        "print(\"##########################################################################\")\n",
        "print(\"movie similarity 4 recomendations for  \" + mov)\n",
        "print(\"###########################################################################\")\n",
        "for i in k4:\n",
        "  print(i)"
      ],
      "execution_count": null,
      "outputs": [
        {
          "output_type": "stream",
          "text": [
            "##########################################################################\n",
            "movie similarity 4 recomendations for  Avatar\n",
            "###########################################################################\n",
            "G-Force\n",
            "Underworld: Evolution\n",
            "Star Wars: Episode V - The Empire Strikes Back\n",
            "The League of Extraordinary Gentlemen\n",
            "X-Men 2\n",
            "Zathura: A Space Adventure\n",
            "The Helix... Loaded\n",
            "Beastmaster 2: Through the Portal of Time\n",
            "Dragonball: Evolution\n",
            "Pokémon 3: The Movie\n"
          ],
          "name": "stdout"
        }
      ]
    },
    {
      "cell_type": "code",
      "metadata": {
        "id": "o2c34oLgB0cm",
        "colab": {
          "base_uri": "https://localhost:8080/",
          "height": 238
        },
        "outputId": "912c51fe-265e-42c0-ec7e-e11e99628521"
      },
      "source": [
        "print(\"##########################################################################\")\n",
        "print(\"movie similarity 3 recomendations for  \" + mov)\n",
        "print(\"###########################################################################\")\n",
        "for i in k3:\n",
        "  print(i)"
      ],
      "execution_count": null,
      "outputs": [
        {
          "output_type": "stream",
          "text": [
            "##########################################################################\n",
            "movie similarity 3 recomendations for  Avatar\n",
            "###########################################################################\n",
            "Impostor\n",
            "Terminator Salvation\n",
            "Renaissance\n",
            "Back to the Future\n",
            "Escape from the Planet of the Apes\n",
            "Pandorum\n",
            "Fortress\n",
            "Æon Flux\n",
            "Starship Troopers\n",
            "In Time\n"
          ],
          "name": "stdout"
        }
      ]
    },
    {
      "cell_type": "code",
      "metadata": {
        "id": "rlYykU-2B5F-",
        "colab": {
          "base_uri": "https://localhost:8080/",
          "height": 238
        },
        "outputId": "2a0f07f8-6ae6-4f84-822e-714203953b5f"
      },
      "source": [
        "print(\"##########################################################################\")\n",
        "print(\"movie similarity 2 recomendations for  \" + mov)\n",
        "print(\"###########################################################################\")\n",
        "for i in k2:\n",
        "  print(i)"
      ],
      "execution_count": null,
      "outputs": [
        {
          "output_type": "stream",
          "text": [
            "##########################################################################\n",
            "movie similarity 2 recomendations for  Avatar\n",
            "###########################################################################\n",
            "The Mortal Instruments: City of Bones\n",
            "The Shaggy Dog\n",
            "Mystery Men\n",
            "End of Days\n",
            "Deep Rising\n",
            "The Last of the Mohicans\n",
            "Face/Off\n",
            "RoboCop 3\n",
            "Undisputed\n",
            "Tales from the Crypt: Demon Knight\n"
          ],
          "name": "stdout"
        }
      ]
    },
    {
      "cell_type": "code",
      "metadata": {
        "id": "x8Rl3iFYB9kW",
        "colab": {
          "base_uri": "https://localhost:8080/",
          "height": 238
        },
        "outputId": "64278360-b160-40a0-9eee-a073f1c5b3c6"
      },
      "source": [
        "print(\"##########################################################################\")\n",
        "print(\"movie similarity 1 recomendations for  \" + mov)\n",
        "print(\"###########################################################################\")\n",
        "for i in k1:\n",
        "  print(i)"
      ],
      "execution_count": null,
      "outputs": [
        {
          "output_type": "stream",
          "text": [
            "##########################################################################\n",
            "movie similarity 1 recomendations for  Avatar\n",
            "###########################################################################\n",
            "The Fighter\n",
            "Doc Hollidays Revenge\n",
            "You Dont Mess with the Zohan\n",
            "Ultraviolet\n",
            "The Matador\n",
            "Falcon Rising\n",
            "Red Tails\n",
            "8MM\n",
            "Jekyll and Hyde... Together Again\n",
            "Legends of Oz: Dorothys Return\n"
          ],
          "name": "stdout"
        }
      ]
    },
    {
      "cell_type": "markdown",
      "metadata": {
        "id": "7qJfiLDFPgVL"
      },
      "source": [
        "Για τον έλεγχο των αποτελεσμάτων μας χρησιμοποιούμε την έτοιμη συνάρτηση που μας δόθηκε jaccard_similarity που δέχεται δύο λίστες και τυπώνει το πλήθος των στοιχείων της τομής τους προς το πλήθος των στοιχείων της ένωσης τους. Τον έλεγχο τον πραγματοποιούμε με βάση το αρχείο relative movies το οποίο για 100 ταινίες περιέχει κάποια ενδεικτικά recomendations. Αξίζει να σημειώσουμε ωστόσο οτο αναμένουμε χαμηλά ποσοστά ομοιότητας για τους εξής λόγους.\n",
        "1. Η αυθαίρετη φύση του προβλήματος και ο τρόπος που ορίζει ο καθένας την ομοιότητα\n",
        "2. για κάθε είδος ομοιότητας κρατάμε μόνο τις 10 πρώτες ταινίες και αγνοούμε άλλες που μπορεί να είναι επίσης πολύ σχετικές με την ταινία μας.\n",
        "3. Έχουμε πολλά είδη ομοιότητας τα οποία απο κάποιο σημείο και μετά δεν μας δίνουν παρόμοιες ταινίες πχ το movie similarity 1 μας δίνει ταινίες που έχουν ίδιο χρώμα και ίδια γλώσσα με τη δοσμένη το οποίο είναι προφανώς πολύ γενικό."
      ]
    },
    {
      "cell_type": "code",
      "metadata": {
        "id": "rTTYlp5LJ3sL"
      },
      "source": [
        "def jaccard_similarity(list1, list2):\n",
        "    set1 = set(list1)\n",
        "    set2 = set(list2)\n",
        "    intersection = len(set1.intersection(set2))\n",
        "    union = len(set1) + len(set2) - intersection\n",
        "    return intersection / union"
      ],
      "execution_count": null,
      "outputs": []
    },
    {
      "cell_type": "code",
      "metadata": {
        "id": "z-5HCPb3bYMj"
      },
      "source": [
        "data_test = pd.read_csv(\"/content/drive/My Drive/AI_ex2/relative_movies.csv\")\n",
        "test=data_test.take([0], axis=1).values.tolist()\n",
        "test_recomendations=data_test.iloc[:,1:].values.tolist()\n",
        "test_names = [i[0] for i in test ]\n",
        "test_rec=[i[0].split(',') for i in test_recomendations]\n",
        "\n"
      ],
      "execution_count": null,
      "outputs": []
    },
    {
      "cell_type": "code",
      "metadata": {
        "id": "Xdg-O_Upel5l",
        "outputId": "0b5206dd-4a4b-40e2-b477-d4eb9990c908",
        "colab": {
          "base_uri": "https://localhost:8080/",
          "height": 1000
        }
      },
      "source": [
        "s=0\n",
        "for i,n in enumerate(test_names):\n",
        "  print(i)\n",
        "  r5,r4,r3,r2,r1=simple_recommender(n)\n",
        "  \n",
        "  accuracy=jaccard_similarity(r5, test_rec[i])\n",
        "  print('intersection length: ',len(list(set(r5).intersection(test_rec[i]))))\n",
        "  print('jac acc: ',accuracy)\n",
        "  s+=accuracy\n",
        "print(s/100)"
      ],
      "execution_count": null,
      "outputs": [
        {
          "output_type": "stream",
          "text": [
            "0\n",
            "intersection length:  0\n",
            "jac acc:  0.0\n",
            "1\n",
            "intersection length:  0\n",
            "jac acc:  0.0\n",
            "2\n",
            "intersection length:  0\n",
            "jac acc:  0.0\n",
            "3\n",
            "intersection length:  0\n",
            "jac acc:  0.0\n",
            "4\n",
            "intersection length:  1\n",
            "jac acc:  0.07142857142857142\n",
            "5\n",
            "intersection length:  1\n",
            "jac acc:  0.1\n",
            "6\n",
            "intersection length:  1\n",
            "jac acc:  0.1\n",
            "7\n",
            "intersection length:  0\n",
            "jac acc:  0.0\n",
            "8\n",
            "intersection length:  0\n",
            "jac acc:  0.0\n",
            "9\n",
            "intersection length:  4\n",
            "jac acc:  0.36363636363636365\n",
            "10\n",
            "intersection length:  0\n",
            "jac acc:  0.0\n",
            "11\n",
            "intersection length:  2\n",
            "jac acc:  0.16666666666666666\n",
            "12\n",
            "intersection length:  6\n",
            "jac acc:  0.5454545454545454\n",
            "13\n",
            "intersection length:  1\n",
            "jac acc:  0.05263157894736842\n",
            "14\n",
            "intersection length:  1\n",
            "jac acc:  0.09090909090909091\n",
            "15\n",
            "intersection length:  7\n",
            "jac acc:  0.5384615384615384\n",
            "16\n",
            "intersection length:  0\n",
            "jac acc:  0.0\n",
            "17\n",
            "intersection length:  0\n",
            "jac acc:  0.0\n",
            "18\n",
            "intersection length:  0\n",
            "jac acc:  0.0\n",
            "19\n",
            "intersection length:  0\n",
            "jac acc:  0.0\n",
            "20\n",
            "intersection length:  0\n",
            "jac acc:  0.0\n",
            "21\n",
            "intersection length:  0\n",
            "jac acc:  0.0\n",
            "22\n",
            "intersection length:  4\n",
            "jac acc:  0.4\n",
            "23\n",
            "intersection length:  0\n",
            "jac acc:  0.0\n",
            "24\n",
            "intersection length:  2\n",
            "jac acc:  0.14285714285714285\n",
            "25\n",
            "intersection length:  0\n",
            "jac acc:  0.0\n",
            "26\n",
            "intersection length:  0\n",
            "jac acc:  0.0\n",
            "27\n",
            "intersection length:  5\n",
            "jac acc:  0.4166666666666667\n",
            "28\n",
            "intersection length:  0\n",
            "jac acc:  0.0\n",
            "29\n",
            "intersection length:  2\n",
            "jac acc:  0.2\n",
            "30\n",
            "intersection length:  0\n",
            "jac acc:  0.0\n",
            "31\n",
            "intersection length:  0\n",
            "jac acc:  0.0\n",
            "32\n",
            "intersection length:  0\n",
            "jac acc:  0.0\n",
            "33\n",
            "intersection length:  0\n",
            "jac acc:  0.0\n",
            "34\n",
            "intersection length:  0\n",
            "jac acc:  0.0\n",
            "35\n",
            "intersection length:  0\n",
            "jac acc:  0.0\n",
            "36\n",
            "intersection length:  0\n",
            "jac acc:  0.0\n",
            "37\n",
            "intersection length:  0\n",
            "jac acc:  0.0\n",
            "38\n",
            "intersection length:  1\n",
            "jac acc:  0.1\n",
            "39\n",
            "intersection length:  2\n",
            "jac acc:  0.16666666666666666\n",
            "40\n",
            "intersection length:  0\n",
            "jac acc:  0.0\n",
            "41\n",
            "intersection length:  2\n",
            "jac acc:  0.16666666666666666\n",
            "42\n",
            "intersection length:  0\n",
            "jac acc:  0.0\n",
            "43\n",
            "intersection length:  1\n",
            "jac acc:  0.05555555555555555\n",
            "44\n",
            "intersection length:  1\n",
            "jac acc:  0.09090909090909091\n",
            "45\n",
            "intersection length:  0\n",
            "jac acc:  0.0\n",
            "46\n",
            "intersection length:  1\n",
            "jac acc:  0.0625\n",
            "47\n",
            "intersection length:  1\n",
            "jac acc:  0.1\n",
            "48\n",
            "intersection length:  2\n",
            "jac acc:  0.1111111111111111\n",
            "49\n",
            "intersection length:  0\n",
            "jac acc:  0.0\n",
            "50\n",
            "intersection length:  0\n",
            "jac acc:  0.0\n",
            "51\n",
            "intersection length:  0\n",
            "jac acc:  0.0\n",
            "52\n",
            "intersection length:  1\n",
            "jac acc:  0.06666666666666667\n",
            "53\n",
            "intersection length:  0\n",
            "jac acc:  0.0\n",
            "54\n",
            "intersection length:  1\n",
            "jac acc:  0.05555555555555555\n",
            "55\n",
            "intersection length:  0\n",
            "jac acc:  0.0\n",
            "56\n",
            "intersection length:  1\n",
            "jac acc:  0.1\n",
            "57\n",
            "intersection length:  0\n",
            "jac acc:  0.0\n",
            "58\n",
            "intersection length:  1\n",
            "jac acc:  0.09090909090909091\n",
            "59\n",
            "intersection length:  0\n",
            "jac acc:  0.0\n",
            "60\n",
            "intersection length:  4\n",
            "jac acc:  0.4\n",
            "61\n",
            "intersection length:  7\n",
            "jac acc:  0.7\n",
            "62\n",
            "intersection length:  0\n",
            "jac acc:  0.0\n",
            "63\n",
            "intersection length:  0\n",
            "jac acc:  0.0\n",
            "64\n",
            "intersection length:  0\n",
            "jac acc:  0.0\n",
            "65\n",
            "intersection length:  0\n",
            "jac acc:  0.0\n",
            "66\n",
            "intersection length:  1\n",
            "jac acc:  0.08333333333333333\n",
            "67\n",
            "intersection length:  1\n",
            "jac acc:  0.05263157894736842\n",
            "68\n",
            "intersection length:  0\n",
            "jac acc:  0.0\n",
            "69\n",
            "intersection length:  0\n",
            "jac acc:  0.0\n",
            "70\n",
            "intersection length:  1\n",
            "jac acc:  0.05263157894736842\n",
            "71\n",
            "intersection length:  0\n",
            "jac acc:  0.0\n",
            "72\n",
            "intersection length:  0\n",
            "jac acc:  0.0\n",
            "73\n",
            "intersection length:  1\n",
            "jac acc:  0.09090909090909091\n",
            "74\n",
            "intersection length:  0\n",
            "jac acc:  0.0\n",
            "75\n",
            "intersection length:  0\n",
            "jac acc:  0.0\n",
            "76\n",
            "intersection length:  0\n",
            "jac acc:  0.0\n",
            "77\n",
            "intersection length:  1\n",
            "jac acc:  0.1\n",
            "78\n",
            "intersection length:  1\n",
            "jac acc:  0.05263157894736842\n",
            "79\n",
            "intersection length:  1\n",
            "jac acc:  0.1\n",
            "80\n",
            "intersection length:  0\n",
            "jac acc:  0.0\n",
            "81\n",
            "intersection length:  0\n",
            "jac acc:  0.0\n",
            "82\n",
            "intersection length:  0\n",
            "jac acc:  0.0\n",
            "83\n",
            "intersection length:  0\n",
            "jac acc:  0.0\n",
            "84\n",
            "intersection length:  0\n",
            "jac acc:  0.0\n",
            "85\n",
            "intersection length:  0\n",
            "jac acc:  0.0\n",
            "86\n",
            "intersection length:  0\n",
            "jac acc:  0.0\n",
            "87\n",
            "intersection length:  0\n",
            "jac acc:  0.0\n",
            "88\n",
            "intersection length:  1\n",
            "jac acc:  0.09090909090909091\n",
            "89\n",
            "intersection length:  0\n",
            "jac acc:  0.0\n",
            "90\n",
            "intersection length:  0\n",
            "jac acc:  0.0\n",
            "91\n",
            "intersection length:  0\n",
            "jac acc:  0.0\n",
            "92\n",
            "intersection length:  0\n",
            "jac acc:  0.0\n",
            "93\n",
            "intersection length:  0\n",
            "jac acc:  0.0\n",
            "94\n",
            "intersection length:  0\n",
            "jac acc:  0.0\n",
            "95\n",
            "intersection length:  0\n",
            "jac acc:  0.0\n",
            "96\n",
            "intersection length:  0\n",
            "jac acc:  0.0\n",
            "97\n",
            "intersection length:  0\n",
            "jac acc:  0.0\n",
            "98\n",
            "intersection length:  0\n",
            "jac acc:  0.0\n",
            "99\n",
            "intersection length:  0\n",
            "jac acc:  0.0\n",
            "100\n",
            "intersection length:  0\n",
            "jac acc:  0.0\n",
            "101\n",
            "intersection length:  4\n",
            "jac acc:  0.4\n",
            "0.06478298821061976\n"
          ],
          "name": "stdout"
        }
      ]
    },
    {
      "cell_type": "markdown",
      "metadata": {
        "id": "FWSoyptPVFf_"
      },
      "source": [
        "## ΜΕΡΟΣ ΤΡΙΤΟ \n",
        "Τώρα καλούμαστε να δημιουργήσουμε recomendations οχι μόνο με βάση την ομοιότητα των ταινιών αλλα και με βάση ένα ξεχωριστό αρχείο το οποίο περιέχει τις αξιολογίσεις του χρήστη για ενα πλήθος διαφορετικών ταινιών.Συγκεκριμένα για το πλήθος των διαφορετικών ταινίων που έχει βαθμολογίσει βρίσκουμε όλες τις ταινίες που είναι τουλάχιστον similar 1 με αυτή. Καθε ταινία που προκειται να προταθεί έχει ενα recomendation score που ορίζεται ως το βάρος που έχει η ταινία σχετικά με την ομοιότητα της με αυτή που έχει βαθμολογίσει ο χρήστης επι το βάρος βαθμολογίας που έχει δώσει ο χρήστης σε αυτή τη ταινια και αθροίζουμε για όλες τις βαθμολογημένες ταινίες.\n",
        "\n",
        "Τα βάρη ομοιότητας έχουν οριστει αναλογικά και συγκεκριμένα:\n",
        "\n",
        "similarity type 5 weight = 16 \n",
        "\n",
        "similarity type 4 weight = 12\n",
        "\n",
        "similarity type 3 weight = 8 \n",
        "\n",
        "similarity type 2 weight = 4 \n",
        "\n",
        "similarity type 1 weight = 1\n",
        "\n",
        "Τα βάρη σχετικά με τη βαθμολόγιση της ταινίας έχουν οριστεί με διαφορετικη λογική με την έννοια οτι θέλουμε οι ταινίες με βαθμό πεντε να παίζουν μεγάλο ρόλο , οι ταινίες με βαθμό 3 να είναι ουδέτερες ενώ οι ταινίες με βαθμό 1 να έχουν αρνητικό αντίκτυπο.\n",
        "\n",
        "Συγκεκριμένα έχουμε:\n",
        "\n",
        "voting weight 5 = 10 \n",
        "\n",
        "voting weight 4 = 5 \n",
        "\n",
        "voting weight 3 = 0 \n",
        "\n",
        "voting weight 2 = - 5\n",
        "\n",
        "voting weight 1 = - 10 \n",
        "\n",
        "\n",
        "\n",
        "\n"
      ]
    },
    {
      "cell_type": "markdown",
      "metadata": {
        "id": "vNDofAq6xx41"
      },
      "source": [
        "## Προτάσεις για τον 1ο user\n"
      ]
    },
    {
      "cell_type": "code",
      "metadata": {
        "id": "huQsm4xOUdOi",
        "outputId": "79c5b63e-2546-4023-eab4-e13ef8c8083d",
        "colab": {
          "base_uri": "https://localhost:8080/",
          "height": 204
        }
      },
      "source": [
        "user = \"/content/drive/My Drive/AI_ex2/user1.csv\"\n",
        "ratings = pd.read_csv(user) \n",
        "\n",
        "# Preview the first 5 lines of the loaded data \n",
        "ratings.head()"
      ],
      "execution_count": null,
      "outputs": [
        {
          "output_type": "execute_result",
          "data": {
            "text/html": [
              "<div>\n",
              "<style scoped>\n",
              "    .dataframe tbody tr th:only-of-type {\n",
              "        vertical-align: middle;\n",
              "    }\n",
              "\n",
              "    .dataframe tbody tr th {\n",
              "        vertical-align: top;\n",
              "    }\n",
              "\n",
              "    .dataframe thead th {\n",
              "        text-align: right;\n",
              "    }\n",
              "</style>\n",
              "<table border=\"1\" class=\"dataframe\">\n",
              "  <thead>\n",
              "    <tr style=\"text-align: right;\">\n",
              "      <th></th>\n",
              "      <th>movie_title</th>\n",
              "      <th>rating</th>\n",
              "    </tr>\n",
              "  </thead>\n",
              "  <tbody>\n",
              "    <tr>\n",
              "      <th>0</th>\n",
              "      <td>Heavy Metal</td>\n",
              "      <td>4</td>\n",
              "    </tr>\n",
              "    <tr>\n",
              "      <th>1</th>\n",
              "      <td>The Croods</td>\n",
              "      <td>5</td>\n",
              "    </tr>\n",
              "    <tr>\n",
              "      <th>2</th>\n",
              "      <td>Watchmen</td>\n",
              "      <td>4</td>\n",
              "    </tr>\n",
              "    <tr>\n",
              "      <th>3</th>\n",
              "      <td>The Matrix</td>\n",
              "      <td>4</td>\n",
              "    </tr>\n",
              "    <tr>\n",
              "      <th>4</th>\n",
              "      <td>The Emperors New Groove</td>\n",
              "      <td>5</td>\n",
              "    </tr>\n",
              "  </tbody>\n",
              "</table>\n",
              "</div>"
            ],
            "text/plain": [
              "               movie_title  rating\n",
              "0              Heavy Metal       4\n",
              "1               The Croods       5\n",
              "2                 Watchmen       4\n",
              "3               The Matrix       4\n",
              "4  The Emperors New Groove       5"
            ]
          },
          "metadata": {
            "tags": []
          },
          "execution_count": 18
        }
      ]
    },
    {
      "cell_type": "code",
      "metadata": {
        "id": "ome6NSaubaJM"
      },
      "source": [
        "def make_movie_score(ratings,mov):\n",
        "  similarity_weights = {\"similarity_5\": 16, \"similarity_4\":12, \"similarity_3\": 8,\"similarity_2\":4 ,\"similarity_1\": 1}\n",
        "  rating_weight = {5: 10, 4: 5, 3: 0, 2: -5, 1: -10}\n",
        "\n",
        "  sc = {m: 0 for m in  mov}\n",
        "  for row in ratings.itertuples(index=True, name='Pandas'):\n",
        "      movie = clean_text(getattr(row, 'movie_title'))\n",
        "      rating = getattr(row, 'rating')    \n",
        "      \n",
        "      q = prolog.query(\"find_similar_movies_5('\" + movie + \"',M)\")\n",
        "      for soln in q:\n",
        "          sc[soln[\"M\"]] += similarity_weights['similarity_5'] * rating_weight[rating] #το weight θα το ορίσετε ανα επίπεδο ομοιότητας οι πολύ όμοιες ταινίες θα έχουν μεγαλύτερο βάρος\n",
        "      q.close()\n",
        "      \n",
        "      q = prolog.query(\"find_similar_movies_4('\" + movie + \"',M)\")\n",
        "      for soln in q:\n",
        "          sc[soln[\"M\"]] += similarity_weights['similarity_4'] * rating_weight[rating] #το weight θα το ορίσετε ανα επίπεδο ομοιότητας οι πολύ όμοιες ταινίες θα έχουν μεγαλύτερο βάρος\n",
        "      q.close()\n",
        "      \n",
        "      q = prolog.query(\"find_similar_movies_3('\" + movie + \"',M)\")\n",
        "      for soln in q:\n",
        "          sc[soln[\"M\"]] += similarity_weights['similarity_3'] * rating_weight[rating] #το weight θα το ορίσετε ανα επίπεδο ομοιότητας οι πολύ όμοιες ταινίες θα έχουν μεγαλύτερο βάρος\n",
        "      q.close()\n",
        "      \n",
        "      q = prolog.query(\"find_similar_movies_2('\" + movie + \"',M)\")\n",
        "      for soln in q:\n",
        "          sc[soln[\"M\"]] += similarity_weights['similarity_2'] * rating_weight[rating] #το weight θα το ορίσετε ανα επίπεδο ομοιότητας οι πολύ όμοιες ταινίες θα έχουν μεγαλύτερο βάρος\n",
        "      q.close()\n",
        "\n",
        "      q = prolog.query(\"find_similar_movies_1('\" + movie + \"',M)\")\n",
        "      for soln in q:\n",
        "          sc[soln[\"M\"]] += similarity_weights['similarity_1'] * rating_weight[rating] #το weight θα το ορίσετε ανα επίπεδο ομοιότητας οι πολύ όμοιες ταινίες θα έχουν μεγαλύτερο βάρος\n",
        "      q.close()\n",
        "  return sc"
      ],
      "execution_count": null,
      "outputs": []
    },
    {
      "cell_type": "code",
      "metadata": {
        "id": "-yE-t-77iKFd"
      },
      "source": [
        "def recommender(movie_score):\n",
        "    movies_score = {k: v for k, v in sorted(movie_score.items(), key=lambda item: item[1], reverse = True)}\n",
        "    return [m for m in movies_score][:10]\n",
        "\n"
      ],
      "execution_count": null,
      "outputs": []
    },
    {
      "cell_type": "code",
      "metadata": {
        "id": "LNE5RjEXiiTc"
      },
      "source": [
        "mov_scores = make_movie_score(ratings, movie_names)\n",
        "\n"
      ],
      "execution_count": null,
      "outputs": []
    },
    {
      "cell_type": "code",
      "metadata": {
        "id": "sm4zLx14yoFt",
        "outputId": "4d373210-7cb7-43e2-d289-d730fbc27848",
        "colab": {
          "base_uri": "https://localhost:8080/",
          "height": 238
        }
      },
      "source": [
        "rec = recommender(mov_scores)\n",
        "\n",
        "print(\"##########################################\")\n",
        "print(\"movies recomended for 1st user\")\n",
        "print(\"###########################################\")\n",
        "for i in rec:\n",
        "  print(\"movie:  \",i,\"score: \",mov_scores[i])"
      ],
      "execution_count": null,
      "outputs": [
        {
          "output_type": "stream",
          "text": [
            "##########################################\n",
            "movies recomended for 1st user\n",
            "###########################################\n",
            "movie:   The Unborn score:  1780\n",
            "movie:   Home score:  1725\n",
            "movie:   Teenage Mutant Ninja Turtles score:  1540\n",
            "movie:   Casino Royale score:  1360\n",
            "movie:   Space Chimps score:  1345\n",
            "movie:   Tangled score:  1125\n",
            "movie:   Chicken Little score:  1105\n",
            "movie:   Star Wars: Episode I - The Phantom Menace score:  1025\n",
            "movie:   The Ant Bully score:  1025\n",
            "movie:   Alpha and Omega 4: The Legend of the Saw Toothed Cave score:  1020\n"
          ],
          "name": "stdout"
        }
      ]
    },
    {
      "cell_type": "markdown",
      "metadata": {
        "id": "pEludnxEyIuC"
      },
      "source": [
        "## Προτάσεις για τον δεύτερο user"
      ]
    },
    {
      "cell_type": "code",
      "metadata": {
        "id": "0FtlSryPyYUg",
        "colab": {
          "base_uri": "https://localhost:8080/",
          "height": 204
        },
        "outputId": "1a2b5cbf-d1d9-4b0a-95f5-db8482e2a0a7"
      },
      "source": [
        "user2 = \"/content/drive/My Drive/AI_ex2/user2.csv\"\n",
        "ratings2 = pd.read_csv(user2) \n",
        "\n",
        "# Preview the first 5 lines of the loaded data \n",
        "ratings2.head()"
      ],
      "execution_count": null,
      "outputs": [
        {
          "output_type": "execute_result",
          "data": {
            "text/html": [
              "<div>\n",
              "<style scoped>\n",
              "    .dataframe tbody tr th:only-of-type {\n",
              "        vertical-align: middle;\n",
              "    }\n",
              "\n",
              "    .dataframe tbody tr th {\n",
              "        vertical-align: top;\n",
              "    }\n",
              "\n",
              "    .dataframe thead th {\n",
              "        text-align: right;\n",
              "    }\n",
              "</style>\n",
              "<table border=\"1\" class=\"dataframe\">\n",
              "  <thead>\n",
              "    <tr style=\"text-align: right;\">\n",
              "      <th></th>\n",
              "      <th>movie_title</th>\n",
              "      <th>rating</th>\n",
              "    </tr>\n",
              "  </thead>\n",
              "  <tbody>\n",
              "    <tr>\n",
              "      <th>0</th>\n",
              "      <td>Loser</td>\n",
              "      <td>1</td>\n",
              "    </tr>\n",
              "    <tr>\n",
              "      <th>1</th>\n",
              "      <td>All That Jazz</td>\n",
              "      <td>2</td>\n",
              "    </tr>\n",
              "    <tr>\n",
              "      <th>2</th>\n",
              "      <td>The Sting</td>\n",
              "      <td>2</td>\n",
              "    </tr>\n",
              "    <tr>\n",
              "      <th>3</th>\n",
              "      <td>Torque</td>\n",
              "      <td>3</td>\n",
              "    </tr>\n",
              "    <tr>\n",
              "      <th>4</th>\n",
              "      <td>Project X</td>\n",
              "      <td>1</td>\n",
              "    </tr>\n",
              "  </tbody>\n",
              "</table>\n",
              "</div>"
            ],
            "text/plain": [
              "     movie_title  rating\n",
              "0          Loser       1\n",
              "1  All That Jazz       2\n",
              "2      The Sting       2\n",
              "3         Torque       3\n",
              "4      Project X       1"
            ]
          },
          "metadata": {
            "tags": []
          },
          "execution_count": 26
        }
      ]
    },
    {
      "cell_type": "code",
      "metadata": {
        "id": "CSvMuJ_31Txf"
      },
      "source": [
        "mov_scores2 = make_movie_score(ratings2, movie_names)"
      ],
      "execution_count": null,
      "outputs": []
    },
    {
      "cell_type": "code",
      "metadata": {
        "id": "V2mfXl5T4Fjy",
        "colab": {
          "base_uri": "https://localhost:8080/",
          "height": 238
        },
        "outputId": "7fd9a6e6-9253-4800-f1a8-ad5baa415cf2"
      },
      "source": [
        "rec2 = recommender(mov_scores2)\n",
        "\n",
        "print(\"##########################################\")\n",
        "print(\"movies recomended for 2nd user\")\n",
        "print(\"###########################################\")\n",
        "for i in rec2:\n",
        "  print(\"movie:  \",i,\"score: \",mov_scores2[i])"
      ],
      "execution_count": null,
      "outputs": [
        {
          "output_type": "stream",
          "text": [
            "##########################################\n",
            "movies recomended for 2nd user\n",
            "###########################################\n",
            "movie:   Jack Reacher score:  5800\n",
            "movie:   Lucky Number Slevin score:  4080\n",
            "movie:   Trance score:  3840\n",
            "movie:   Snakes on a Plane score:  3560\n",
            "movie:   My Soul to Take score:  3480\n",
            "movie:   The Gunman score:  3240\n",
            "movie:   Mercury Rising score:  3120\n",
            "movie:   Disturbia score:  2960\n",
            "movie:   Sabotage score:  2960\n",
            "movie:   Blood Work score:  2940\n"
          ],
          "name": "stdout"
        }
      ]
    },
    {
      "cell_type": "markdown",
      "metadata": {
        "id": "jp_xzy4e1RxW"
      },
      "source": [
        "## ΚΑΤΑΣΚΕΥΗ ΔΙΚΩΝ ΜΑΣ USERS\n"
      ]
    },
    {
      "cell_type": "code",
      "metadata": {
        "id": "PYdH05mZ166A"
      },
      "source": [
        "import csv\n",
        "import numpy as np\n",
        "\n",
        "def create_my_user(liked, notLiked, filename, num_of_liked =20, num_of_notliked = 20):\n",
        "    with open(filename, 'w', newline='') as file:\n",
        "        writer = csv.writer(file)\n",
        "        writer.writerow([\"movie_title\",\"rating\"])\n",
        "        likes = np.random.choice(liked, num_of_liked)\n",
        "        not_likes = np.random.choice(notliked, num_of_notliked)\n",
        "        for i in  likes:\n",
        "            grade = np.random.choice([5,4,3], p = [0.5, 0.4, 0.1])\n",
        "            writer.writerow([i, grade])\n",
        "        for i in not_likes:\n",
        "            grade = np.random.choice([1, 2], p = [0.6, 0.4])\n",
        "            writer.writerow([i, grade])"
      ],
      "execution_count": null,
      "outputs": []
    },
    {
      "cell_type": "markdown",
      "metadata": {
        "id": "w2TGfq9XgWQi"
      },
      "source": [
        "Χρησιμοποιούμε έναν user που του αρέσουν ταινίες fantasy που έχει σκηνοθετήσει ο James Cameron και δεν του αρέσουν τα θρίλερ και έναν δεύτερο user που του αρέσουν ταινίες δράσης και horror και δεν του αρέσουν οι κωμωδίες."
      ]
    },
    {
      "cell_type": "code",
      "metadata": {
        "id": "UFTjj5PQ2a9Q"
      },
      "source": [
        "# prolog.consult(\"db.pl\")\n",
        "#Κατασκευάστε τα κατηγορήματα για τις ταινίες που σας αρέσουν και για αυτές που δεν σας αρέσουν\n",
        "#Αν μια ταινία ανήκει σε μια ευρίτερη κατηγορία κατεσκευάστε την πρώτα\n",
        "prolog.assertz(\"(fantasy(X) :- genre(X, 'Sci-Fi'); genre(X, 'Fantasy'))\")\n",
        "prolog.assertz(\"(thriller(X) :- genre(X, 'Horror'); genre(X, 'Thriller'))\")\n",
        "prolog.assertz(\"(action(X)    :- genre(X,'Action'),genre(X,Adventure))\")\n",
        "prolog.assertz(\"(funny(X)     :- genre(X,'Comedy'))\")\n",
        "prolog.assertz(\"(dark(X)      :- genre(X,'Horror'))\")\n",
        "\n",
        "prolog.assertz(\"(liked(X) :- fantasy(X), director(X, 'James Cameron'))\")\n",
        "prolog.assertz(\"(notLiked(X) :- thriller(X))\")"
      ],
      "execution_count": null,
      "outputs": []
    },
    {
      "cell_type": "code",
      "metadata": {
        "id": "svi52cc7USZe"
      },
      "source": [
        "prolog.assertz(\"(liked1(X)    :- dark(X),action(X))\")\n",
        "prolog.assertz(\"(notliked1(X) :- funny(X))\")"
      ],
      "execution_count": null,
      "outputs": []
    },
    {
      "cell_type": "code",
      "metadata": {
        "id": "tMeb3k7z2hYG"
      },
      "source": [
        "q = prolog.query(\"liked(M)\")\n",
        "ans = []\n",
        "for soln in q:\n",
        "    ans.append(soln[\"M\"])\n",
        "liked = list(set(ans))\n",
        "\n",
        "q = prolog.query(\"notLiked(M)\")\n",
        "ans = []\n",
        "for soln in q:\n",
        "    ans.append(soln[\"M\"])\n",
        "notliked = list(set(ans))\n",
        "\n",
        "q = prolog.query(\"liked1(M)\")\n",
        "ans = []\n",
        "for soln in q:\n",
        "    ans.append(soln[\"M\"])\n",
        "liked1 = list(set(ans))\n",
        "\n",
        "q = prolog.query(\"notliked1(M)\")\n",
        "ans = []\n",
        "for soln in q:\n",
        "    ans.append(soln[\"M\"])\n",
        "notliked1 = list(set(ans))\n",
        "\n",
        "create_my_user(liked, notliked, filename= \"/content/drive/My Drive/AI_ex2/myuser.csv\", num_of_liked = 20, num_of_notliked = 20)\n",
        "create_my_user(liked1, notliked1, filename= \"/content/drive/My Drive/AI_ex2/myuser1.csv\", num_of_liked = 20, num_of_notliked = 20)"
      ],
      "execution_count": null,
      "outputs": []
    },
    {
      "cell_type": "code",
      "metadata": {
        "id": "i1pnZ10n53Zq",
        "colab": {
          "base_uri": "https://localhost:8080/",
          "height": 394
        },
        "outputId": "f0137246-13fb-47ba-d799-69891739a7ea"
      },
      "source": [
        "my_user = \"/content/drive/My Drive/AI_ex2/myuser.csv\"\n",
        "my_ratings = pd.read_csv(my_user) \n",
        "my_scores = make_movie_score(my_ratings, movie_names)\n",
        "my_recs = recommender(my_scores)\n",
        "print(my_scores)\n",
        "\n",
        "for i in my_recs:\n",
        "  print(\"movie:  \",i, \"Score :\",my_scores[i],\"\\n\")"
      ],
      "execution_count": null,
      "outputs": [
        {
          "output_type": "stream",
          "text": [
            "{'Avatar': 4405, 'Pirates of the Caribbean: At Worlds End': -110, 'Spectre': -150, 'The Dark Knight Rises': -110, 'Star Wars: Episode VII - The Force Awakens': 0, 'John Carter': 430, 'Spider-Man 3': -200, 'Tangled': -50, 'Avengers: Age of Ultron': -50, 'Harry Potter and the Half-Blood Prince': -50, 'Batman v Superman: Dawn of Justice': -50, 'Superman Returns': -90, 'Quantum of Solace': -130, 'Pirates of the Caribbean: Dead Mans Chest': 30, 'The Lone Ranger': -50, 'Man of Steel': -50, 'The Chronicles of Narnia: Prince Caspian': -90, 'The Avengers': -200, 'Pirates of the Caribbean: On Stranger Tides': -190, 'Men in Black 3': 410, 'The Hobbit: The Battle of the Five Armies': -110, 'The Amazing Spider-Man': -110, 'Robin Hood': -50, 'The Hobbit: The Desolation of Smaug': -110, 'The Golden Compass': -50, 'King Kong': -570, 'Titanic': 1570, 'Captain America: Civil War': -50, 'Battleship': -210, 'Jurassic World': -170, 'Skyfall': -320, 'Spider-Man 2': -290, 'Iron Man 3': -50, 'Alice in Wonderland': -200, 'X-Men: The Last Stand': -170, 'Monsters University': 130, 'Transformers: Revenge of the Fallen': -50, 'Transformers: Age of Extinction': -50, 'Oz the Great and Powerful': -200, 'The Amazing Spider-Man 2': -50, 'TRON: Legacy': -200, 'Cars 2': -90, 'Green Lantern': -50, 'Toy Story 3': -50, 'Terminator Salvation': -50, 'Furious 7': -290, 'World War Z': -310, 'X-Men: Days of Future Past': 30, 'Star Trek Into Darkness': -50, 'Jack the Giant Slayer': -110, 'The Great Gatsby': -200, 'Prince of Persia: The Sands of Time': -110, 'Pacific Rim': 230, 'Transformers: Dark of the Moon': -50, 'Indiana Jones and the Kingdom of the Crystal Skull': -150, 'The Good Dinosaur': -50, 'Brave': -50, 'Star Trek Beyond': -170, 'WALL·E': 170, 'Rush Hour 3': -170, '2012': -90, 'A Christmas Carol': -510, 'Jupiter Ascending': -50, 'The Legend of Tarzan': -200, 'The Chronicles of Narnia: The Lion, the Witch and the Wardrobe': -50, 'X-Men: Apocalypse': -50, 'The Dark Knight': -110, 'Up': -50, 'Monsters vs. Aliens': -530, 'Iron Man': -50, 'Hugo': -110, 'Wild Wild West': -50, 'The Mummy: Tomb of the Dragon Emperor': -110, 'Suicide Squad': -110, 'Evan Almighty': -50, 'Edge of Tomorrow': 430, 'Waterworld': 70, 'G.I. Joe: The Rise of Cobra': -170, 'Inside Out': -50, 'The Jungle Book': -280, 'Iron Man 2': -130, 'Snow White and the Huntsman': -110, 'Maleficent': -50, 'Dawn of the Planet of the Apes': -50, 'The Lovers': -200, '47 Ronin': -110, 'Captain America: The Winter Soldier': -50, 'Shrek Forever After': -50, 'Tomorrowland': 30, 'Big Hero 6': 190, 'Wreck-It Ralph': -50, 'The Polar Express': -210, 'Independence Day: Resurgence': 430, 'How to Train Your Dragon': -130, 'Terminator 3: Rise of the Machines': 190, 'Guardians of the Galaxy': -90, 'Interstellar': -50, 'Inception': -250, 'Godzilla Resurgence': 240, 'The Hobbit: An Unexpected Journey': -110, 'The Fast and the Furious': -630, 'The Curious Case of Benjamin Button': -50, 'X-Men: First Class': -130, 'The Hunger Games: Mockingjay - Part 2': -50, 'The Sorcerers Apprentice': -90, 'Poseidon': 130, 'Alice Through the Looking Glass': -50, 'Shrek the Third': -50, 'Warcraft': -110, 'Terminator Genisys': 610, 'The Chronicles of Narnia: The Voyage of the Dawn Treader': -170, 'Pearl Harbor': 0, 'Transformers': -50, 'Alexander': -50, 'Harry Potter and the Order of the Phoenix': -50, 'Harry Potter and the Goblet of Fire': -50, 'Hancock': -50, 'I Am Legend': -130, 'Charlie and the Chocolate Factory': -50, 'Ratatouille': -50, 'Batman Begins': -210, 'Madagascar: Escape 2 Africa': -50, 'Night at the Museum: Battle of the Smithsonian': -50, 'X-Men Origins: Wolverine': -170, 'The Matrix Revolutions': 150, 'Frozen': -50, 'The Matrix Reloaded': -50, 'Thor: The Dark World': -110, 'Mad Max: Fury Road': -170, 'Angels & Demons': -110, 'Thor': -170, 'Bolt': -50, 'G-Force': 10, 'Wrath of the Titans': -150, 'Dark Shadows': -170, 'Mission: Impossible - Rogue Nation': -150, 'The Wolfman': -270, 'Bee Movie': -50, 'Kung Fu Panda 2': -50, 'The Last Airbender': -10, 'Mission: Impossible III': -190, 'White House Down': -110, 'Mars Needs Moms': 110, 'Flushed Away': -50, 'Pan': -450, 'Mr. Peabody & Sherman': 150, 'Troy': -50, 'Madagascar 3: Europes Most Wanted': -50, 'Die Another Day': -100, 'Ghostbusters': -480, 'Armageddon': -210, 'Men in Black II': 430, 'Beowulf': -270, 'Kung Fu Panda 3': -50, 'Mission: Impossible - Ghost Protocol': -110, 'Rise of the Guardians': -90, 'Fun with Dick and Jane': -130, 'The Last Samurai': -50, 'Exodus: Gods and Kings': -200, 'Star Trek': 150, 'Spider-Man': -110, 'How to Train Your Dragon 2': -50, 'Gods of Egypt': -110, 'Stealth': 30, 'Watchmen': -150, 'Lethal Weapon 4': -190, 'Hulk': 130, 'G.I. Joe: Retaliation': -210, 'Sahara': -230, 'Final Fantasy: The Spirits Within': -110, 'Captain America: The First Avenger': -110, 'The World Is Not Enough': -410, 'Master and Commander: The Far Side of the World': -50, 'The Twilight Saga: Breaking Dawn - Part 2': -320, 'Happy Feet 2': -110, 'The Incredible Hulk': -50, 'Miami Vice': -50, 'The BFG': -50, 'The Revenant': -130, 'Turbo': -50, 'Rango': -50, 'Penguins of Madagascar': -90, 'The Bourne Ultimatum': -130, 'Kung Fu Panda': -50, 'Ant-Man': -110, 'The Hunger Games: Catching Fire': -50, 'Home': -450, 'War of the Worlds': 390, 'Bad Boys II': -170, 'Puss in Boots': -50, 'Salt': -250, 'Noah': -50, 'The Adventures of Tintin': -170, 'Harry Potter and the Prisoner of Azkaban': -50, 'Australia': -50, 'After Earth': -50, 'Dinosaur': -110, 'Harry Potter and the Deathly Hallows: Part II': -50, 'Night at the Museum: Secret of the Tomb': -50, 'Megamind': -110, 'Harry Potter and the Sorcerers Stone': -50, 'R.I.P.D.': -270, 'Pirates of the Caribbean: The Curse of the Black Pearl': -110, 'Harry Potter and the Deathly Hallows: Part I': -50, 'The Hunger Games: Mockingjay - Part 1': -90, 'The Da Vinci Code': -190, 'Rio 2': -50, 'X-Men 2': -170, 'Fast Five': -350, 'Sherlock Holmes: A Game of Shadows': -230, 'Clash of the Titans': -480, 'Total Recall': -200, 'The 13th Warrior': -50, 'The Bourne Legacy': -190, 'Batman & Robin': -170, 'How the Grinch Stole Christmas': -90, 'The Day After Tomorrow': -170, 'Mission: Impossible II': -270, 'The Perfect Storm': 210, 'Fantastic 4: Rise of the Silver Surfer': -170, 'Life of Pi': -110, 'Ghost Rider': -190, 'Jason Bourne': -190, 'Charlies Angels: Full Throttle': -470, 'Prometheus': -50, 'Stuart Little 2': -90, 'Elysium': -110, 'The Chronicles of Riddick': -170, 'RoboCop': -80, 'Speed Racer': -50, 'How Do You Know': -50, 'Knight and Day': -130, 'Oblivion': -150, 'Star Wars: Episode III - Revenge of the Sith': -50, 'Star Wars: Episode II - Attack of the Clones': -90, 'Monsters, Inc.': 130, 'The Wolverine': -170, 'Star Wars: Episode I - The Phantom Menace': 390, 'The Croods': -50, 'Asterix at the Olympic Games': 0, 'Windtalkers': -50, 'The Huntsman: Winters War': -150, 'Teenage Mutant Ninja Turtles': -320, 'Gravity': 270, 'Dantes Peak': -110, 'Teenage Mutant Ninja Turtles: Out of the Shadows': -110, 'Fantastic Four': -200, 'Night at the Museum': -50, 'San Andreas': -110, 'Tomorrow Never Dies': -150, 'The Patriot': -90, 'Oceans Twelve': -130, 'Mr. & Mrs. Smith': -250, 'Insurgent': -50, 'The Aviator': -40, 'Gullivers Travels': -1370, 'The Green Hornet': -170, 'The A-Team': -50, '300: Rise of an Empire': -50, 'The Smurfs': -50, 'Home on the Range': -110, 'Allegiant': -170, 'Real Steel': 230, 'The Smurfs 2': -90, 'Speed 2: Cruise Control': -110, 'Enders Game': 630, 'Live Free or Die Hard': -310, 'The Lord of the Rings: The Fellowship of the Ring': -110, 'Around the World in 80 Days': -400, 'Ali': 0, 'The Cat in the Hat': -50, 'I, Robot': -50, 'Kingdom of Heaven': -90, 'Stuart Little': -110, 'The Princess and the Frog': -110, 'The Martian': -50, '10,000 B.C.': 0, 'The Island': -520, 'Town & Country': -50, 'Gone in Sixty Seconds': -190, 'Gladiator': -50, 'Minority Report': 190, 'Harry Potter and the Chamber of Secrets': 130, 'Casino Royale': -120, 'Planet of the Apes': -440, 'Terminator 2: Judgment Day': 2925, 'Public Enemies': -90, 'American Gangster': -90, 'True Lies': 1850, 'The Taking of Pelham 1 2 3': -110, 'Little Fockers': -110, 'The Other Guys': -250, 'Eraser': -170, 'Django Unchained': -50, 'The Hunchback of Notre Dame': -50, 'The Emperors New Groove': -90, 'The Expendables 2': -210, 'National Treasure': -110, 'Eragon': 0, 'Where the Wild Things Are': -50, 'Epic': -50, 'The Tourist': -320, 'End of Days': -130, 'Blood Diamond': -50, 'The Wolf of Wall Street': -50, 'Batman Forever': -230, 'Starship Troopers': 670, 'Cloud Atlas': 190, 'Legend of the Guardians: The Owls of GaHoole': -50, 'Catwoman': -150, 'Hercules': -280, 'Treasure Planet': 650, 'Land of the Lost': 90, 'The Expendables 3': -290, 'Point Break': -400, 'Son of the Mask': -170, 'In the Heart of the Sea': -150, 'The Adventures of Pluto Nash': 190, 'Green Zone': -190, 'The Peanuts Movie': -50, 'The Spanish Prisoner': -230, 'The Mummy Returns': -170, 'Gangs of New York': -250, 'The Flowers of War': 0, 'Surfs Up': -150, 'The Stepford Wives': -90, 'Black Hawk Down': -50, 'The Campaign': -50, 'The Fifth Element': 350, 'Sex and the City 2': -90, 'The Road to El Dorado': -50, 'Ice Age: Continental Drift': 190, 'Cinderella': -320, 'The Lovely Bones': -280, 'Finding Nemo': -50, 'The Lord of the Rings: The Return of the King': -110, 'The Lord of the Rings: The Two Towers': -110, 'Seventh Son': -110, 'Lara Croft: Tomb Raider': -170, 'Transcendence': -250, 'Jurassic Park III': -210, 'Rise of the Planet of the Apes': -110, 'The Spiderwick Chronicles': -50, 'A Good Day to Die Hard': -190, 'The Alamo': -200, 'The Incredibles': -230, 'Cutthroat Island': -150, 'Percy Jackson & the Olympians: The Lightning Thief': -50, 'Men in Black': 390, 'Toy Story 2': -130, 'Unstoppable': -110, 'Rush Hour 2': -170, 'What Lies Beneath': -160, 'Cloudy with a Chance of Meatballs': -110, 'Ice Age: Dawn of the Dinosaurs': -130, 'The Secret Life of Walter Mitty': -50, 'Charlies Angels': -165, 'The Departed': -210, 'Mulan': -50, 'Tropic Thunder': -50, 'The Girl with the Dragon Tattoo': -430, 'Die Hard with a Vengeance': -310, 'Sherlock Holmes': -230, 'Ben-Hur': -810, 'Atlantis: The Lost Empire': 10, 'Alvin and the Chipmunks: The Road Chip': -50, 'Valkyrie': -50, 'You Dont Mess with the Zohan': -50, 'Pixels': 430, 'A.I. Artificial Intelligence': 470, 'The Haunted Mansion': -170, 'Contact': -650, 'Hollow Man': -330, 'The Interpreter': -60, 'Percy Jackson: Sea of Monsters': -50, 'Lara Croft Tomb Raider: The Cradle of Life': -110, 'Now You See Me 2': -390, 'The Saint': -170, 'Spy Game': -190, 'Mission to Mars': -250, 'Rio': -50, 'Bicentennial Man': 230, 'Volcano': -190, 'The Devils Own': -310, 'K-19: The Widowmaker': -90, 'Conan the Barbarian': -320, 'Cinderella Man': -90, 'The Nutcracker in 3D': -110, 'Seabiscuit': 0, 'Twister': -110, 'Cast Away': -250, 'Happy Feet': -110, 'The Bourne Supremacy': -130, 'Air Force One': -190, 'Oceans Eleven': -50, 'The Three Musketeers': -250, 'Hotel Transylvania': 130, 'Enchanted': -50, 'Hannibal': -50, 'Safe House': -250, '102 Dalmatians': -50, 'Tower Heist': -90, 'The Holiday': -50, 'Enemy of the State': -330, 'Its Complicated': -90, 'Oceans Thirteen': -130, 'Open Season': -50, 'Divergent': -50, 'Enemy at the Gates': -50, 'The Rundown': -270, 'Last Action Hero': -50, 'Memoirs of a Geisha': -50, 'The Fast and the Furious: Tokyo Drift': -110, 'Arthur Christmas': -50, 'Meet Joe Black': -90, 'Collateral Damage': -110, 'All That Jazz': -90, 'Mirror Mirror': -50, 'Scott Pilgrim vs. the World': -110, 'The Core': -230, 'Nutty Professor II: The Klumps': -110, 'Scooby-Doo': -150, 'Dredd': -200, 'Click': -110, 'Creepshow': -280, 'Cats & Dogs: The Revenge of Kitty Galore': -170, 'Jumper': -170, 'Hellboy II: The Golden Army': 10, 'Zodiac': -350, 'The 6th Day': 190, 'Bruce Almighty': -90, 'The Expendables': 70, 'Mission: Impossible': -310, 'The Hunger Games': 310, 'The Hangover Part II': -50, 'Batman Returns': -90, 'Over the Hedge': -50, 'Lilo & Stitch': 430, 'Charlottes Web': -50, 'Deep Impact': -230, 'RED 2': -330, 'The Longest Yard': -50, 'Alvin and the Chipmunks: Chipwrecked': -50, 'Grown Ups 2': -50, 'Get Smart': -210, 'Somethings Gotta Give': -130, 'Shutter Island': -110, 'Four Christmases': -110, 'Robots': 190, 'Face/Off': -70, 'Bedtime Stories': -50, 'Road to Perdition': -130, 'Just Go with It': -50, 'Daredevil': 0, 'Con Air': -190, 'Eagle Eye': -250, 'Cold Mountain': -50, 'The Book of Eli': -110, 'Flubber': -110, 'The Haunting': -410, 'Space Jam': 390, 'The Pink Panther': -50, 'The Day the Earth Stood Still': 640, 'Conspiracy Theory': -210, 'Fury': -50, 'Six Days Seven Nights': -150, 'Yogi Bear': -50, 'Spirit: Stallion of the Cimarron': -110, 'Zookeeper': -110, 'Lost in Space': -70, 'The Manchurian Candidate': -110, 'Déjà Vu': -50, 'Hotel Transylvania 2': -50, 'Bewitched': 0, 'Fantasia 2000': -110, 'The Time Machine': 90, 'Mighty Joe Young': -170, 'Swordfish': -110, 'The Legend of Zorro': -40, 'What Dreams May Come': -50, 'Little Nicky': -110, 'The Brothers Grimm': -170, 'Mars Attacks!': 390, 'Evolution': -60, 'The Edge': -110, 'Surrogates': 410, 'Thirteen Days': -50, 'Daylight': -190, 'Walking with Dinosaurs 3D': -110, 'Battlefield Earth': 430, 'Looney Tunes: Back in Action': -90, 'Nine': 0, 'Timeline': -50, 'The Postman': -50, 'Babe: Pig in the City': -50, 'The Last Witch Hunter': -110, 'Red Planet': 170, 'Arthur and the Invisibles': -50, 'Oceans': 0, 'A Sound of Thunder': -30, 'Pompeii': -210, 'Top Cat Begins': 0, 'A Beautiful Mind': -50, 'The Lion King': -110, 'Journey 2: The Mysterious Island': -30, 'Cloudy with a Chance of Meatballs 2': -150, 'Red Dragon': -50, 'Hidalgo': -50, 'Jack and Jill': -50, '2 Fast 2 Furious': -110, 'The Little Prince': -110, 'The Invasion': 350, 'The Adventures of Rocky & Bullwinkle': -90, 'The Secret Life of Pets': -110, 'The League of Extraordinary Gentlemen': 0, 'Despicable Me 2': -110, 'Independence Day': 430, 'The Lost World: Jurassic Park': -90, 'Madagascar': -50, 'Children of Men': -50, 'X-Men': -90, 'Wanted': -190, 'The Rock': 470, 'Ice Age: The Meltdown': -50, '50 First Dates': -50, 'Hairspray': -110, 'Exorcist: The Beginning': -110, 'Inspector Gadget': -250, 'Now You See Me': -190, 'Grown Ups': -50, 'The Terminal': -110, 'Constantine': -50, 'Hotel for Dogs': -110, 'Vertical Limit': -230, 'Charlie Wilsons War': -130, 'Shark Tale': -130, 'Dreamgirls': -50, 'Life': -50, 'Be Cool': -130, 'Munich': -50, 'Tears of the Sun': -190, 'Killers': -230, 'The Man from U.N.C.L.E.': -190, 'Spanglish': -50, 'Monster House': -250, 'Bandits': -50, 'First Knight': -110, 'Anna and the King': -50, 'Immortals': -50, 'Hostage': -490, 'Titan A.E.': 310, 'Hollywood Homicide': -330, 'Soldier': -370, 'Carriers': -130, 'Monkeybone': -150, 'Flight of the Phoenix': -270, 'Unbreakable': -110, 'Minions': -110, 'Sucker Punch': -50, 'Snake Eyes': -430, 'Sphere': 130, 'The Angry Birds Movie': -110, 'Fools Gold': -230, 'Funny People': -50, 'The Kingdom': -150, 'Talladega Nights: The Ballad of Ricky Bobby': -50, 'Dr. Dolittle 2': -170, 'Braveheart': -50, 'Jarhead': -50, 'The Simpsons Movie': -110, 'The Majestic': -230, 'Driven': -50, 'Two Brothers': -110, 'The Village': -110, 'Doctor Dolittle': -190, 'Signs': -50, 'Shrek 2': -50, 'Cars': -50, 'Runaway Bride': -130, 'xXx': -110, 'The SpongeBob Movie: Sponge Out of Water': -50, 'Ransom': -90, 'Inglourious Basterds': -130, 'Hook': -50, 'Die Hard 2': -330, 'S.W.A.T.': -450, 'Sleepy Hollow': -50, 'Vanilla Sky': -150, 'Lady in the Water': -230, 'AVP: Alien vs. Predator': -230, 'Alvin and the Chipmunks: The Squeakquel': -130, 'We Were Soldiers': -130, 'Olympus Has Fallen': -190, 'Star Trek: Insurrection': 310, 'Battle Los Angeles': 470, 'Big Fish': -110, 'Wolf': -50, 'War Horse': -40, 'The Monuments Men': -50, 'The Abyss': 2620, 'Wall Street: Money Never Sleeps': -90, 'Dracula Untold': -110, 'The Siege': -110, 'Stardust': -50, 'Seven Years in Tibet': -50, 'The Dilemma': -130, 'Bad Company': -470, 'Doom': -350, 'I Spy': -270, 'Underworld: Awakening': -210, 'Rock of Ages': -50, 'Harts War': -50, 'Killer Elite': -250, 'Rollerball': -110, 'Ballistic: Ecks vs. Sever': -190, 'Hard Rain': -510, 'Osmosis Jones': -190, 'Legends of Oz: Dorothys Return': -50, 'Blackhat': -330, 'Sky Captain and the World of Tomorrow': 110, 'Basic Instinct 2': -190, 'Escape Plan': -170, 'The Legend of Hercules': -110, 'The Sum of All Fears': -100, 'The Twilight Saga: Eclipse': -190, 'The Score': -130, 'Despicable Me': -110, 'Money Train': -290, 'Ted 2': -130, 'Agora': -50, 'Mystery Men': -50, 'Hall Pass': -90, 'The Insider': -130, 'The Finest Hours': -110, 'Body of Lies': -230, 'Dinner for Schmucks': -50, 'Abraham Lincoln: Vampire Hunter': -110, 'Entrapment': -110, 'Last Man Standing': -50, 'The X Files': 330, 'The Last Legion': -110, 'Saving Private Ryan': -50, 'Need for Speed': -230, 'What Women Want': -110, 'Ice Age': -50, 'Dreamcatcher': 350, 'Lincoln': -90, 'The Matrix': -50, 'Apollo 13': -50, 'The Santa Clause 2': -50, 'Les Misérables': -50, 'Youve Got Mail': -50, 'Step Brothers': -50, 'The Mask of Zorro': -350, 'Due Date': -130, 'Unbroken': -280, 'Space Cowboys': -60, 'Cliffhanger': -110, 'Broken Arrow': -110, 'The Kid': -170, 'World Trade Center': -330, 'Mona Lisa Smile': -50, 'The Dictator': -50, 'Eyes Wide Shut': -190, 'Annie': -110, 'Focus': -50, 'This Means War': -290, 'Blade: Trinity': -110, 'Red Dawn': -50, 'Primary Colors': -90, 'Resident Evil: Retribution': -910, 'Death Race': -470, 'The Long Kiss Goodnight': -510, 'Proof of Life': -110, 'Zathura: A Space Adventure': 10, 'Fight Club': -50, 'We Are Marshall': -110, 'The Missing': -50, 'Hudson Hawk': -110, 'Lucky Numbers': -50, 'I, Frankenstein': -190, 'Oliver Twist': -50, 'Elektra': -150, 'Sin City: A Dame to Kill For': -140, 'Random Hearts': -330, 'Everest': -50, 'Perfume: The Story of a Murderer': -50, 'Austin Powers in Goldmember': 110, 'Astro Boy': 110, 'Jurassic Park': -50, 'Wyatt Earp': -90, 'Clear and Present Danger': -390, 'Dragon Blade': 0, 'Littleman': -50, 'U-571': -50, 'The American President': -50, 'The Love Guru': -50, '3000 Miles to Graceland': -170, 'The Hateful Eight': -350, 'Blades of Glory': -90, 'Hop': -50, '300': -50, 'Meet the Fockers': -110, 'Marley & Me': -150, 'The Green Mile': -50, 'Wild Hogs': -110, 'Chicken Little': -50, 'Gone Girl': -350, 'The Bourne Identity': -190, 'GoldenEye': -190, 'The Generals Daughter': -110, 'The Truman Show': -50, 'The Prince of Egypt': -170, 'Daddy Day Care': -110, '2 Guns': -290, 'Cats & Dogs': -230, 'The Italian Job': -210, 'Two Weeks Notice': -50, 'Antz': -50, 'Couples Retreat': -90, 'Days of Thunder': -50, 'Cheaper by the Dozen 2': -90, 'The Scorch Trials': -190, 'Eat Pray Love': -50, 'The Family Man': -190, 'RED': -370, 'Any Given Sunday': -90, 'The Horse Whisperer': -50, 'Collateral': -50, 'The Scorpion King': -170, 'Ladder 49': -150, 'Jack Reacher': -440, 'Deep Blue Sea': -230, 'This Is It': -90, 'Contagion': -130, 'Kangaroo Jack': -170, 'Coraline': -60, 'The Happening': -50, 'Man on Fire': -310, 'The Shaggy Dog': -30, 'Starsky & Hutch': -290, 'Jingle All the Way': -110, 'Hellboy': -110, 'A Civil Action': -50, 'ParaNorman': -210, 'The Jackal': -350, 'Paycheck': 150, 'Up Close & Personal': -50, 'The Tale of Despereaux': -90, 'Rules of Engagement': -50, 'The Tuxedo': -130, 'Under Siege 2: Dark Territory': -110, 'Jack Ryan: Shadow Recruit': -110, 'Joy': -50, 'London Has Fallen': -310, 'Alien: Resurrection': 370, 'Shooter': -330, 'The Boxtrolls': -50, 'Practical Magic': -190, 'The Lego Movie': -90, 'Miss Congeniality 2: Armed and Fabulous': -90, 'Reign of Fire': -170, 'Gangster Squad': -390, 'Year One': -110, 'Invictus': -90, 'State of Play': -350, 'Duplicity': -90, 'My Favorite Martian': 330, 'The Sentinel': -110, 'Planet 51': 430, 'Star Trek: Nemesis': -170, 'Intolerable Cruelty': -50, 'Trouble with the Curve': -50, 'Edge of Darkness': -390, 'The Relic': -110, 'Analyze That': -90, 'Righteous Kill': -330, 'Mercury Rising': -640, 'The Soloist': -130, 'The Legend of Bagger Vance': -50, 'Almost Famous': -110, 'Garfield 2': -70, 'xXx: State of the Union': -170, 'Priest': -170, 'Sinbad: Legend of the Seven Seas': -50, 'Event Horizon': -370, 'Dragonfly': -350, 'The Black Dahlia': -710, 'Flyboys': -40, 'The Last Castle': -110, 'Supernova': -130, 'Winters Tale': -50, 'The Mortal Instruments: City of Bones': -170, 'Meet Dave': 430, 'Dark Water': -50, 'Edtv': -50, 'Inkheart': -50, 'The Spirit': -110, 'Mortdecai': -110, 'In the Name of the King: A Dungeon Siege Tale': -270, 'Beyond Borders': -130, 'Xi you ji zhi: Sun Wukong san da Baigu Jing': -110, 'The Great Raid': -80, 'Deadpool': -150, 'Holy Man': -50, 'American Sniper': -110, 'Goosebumps': 360, 'Sabrina, the Teenage Witch': -50, 'Just Like Heaven': -190, 'The Flintstones in Viva Rock Vegas': -110, 'Rambo III': -190, 'Leatherheads': -90, 'The Ridiculous 6': -50, 'Did You Hear About the Morgans?': -90, 'The Internship': -50, 'Resident Evil: Afterlife': -710, 'Red Tails': -50, 'Sex and the City': -50, 'The Devils Advocate': -110, 'Thats My Boy': -50, 'DragonHeart': 30, 'After the Sunset': -210, 'Ghost Rider: Spirit of Vengeance': -110, 'Captain Corellis Mandolin': -90, 'Anger Management': -50, 'The Pacifier': -170, 'Walking Tall': -130, 'Forrest Gump': -160, 'Alvin and the Chipmunks': -50, 'Meet the Parents': -190, 'Pocahontas': -110, 'Superman': -50, 'The Nutty Professor': -50, 'Hitch': -50, 'George of the Jungle': -50, 'American Wedding': -50, 'Captain Phillips': -50, 'Date Night': -50, 'Casper': -130, 'The Equalizer': -190, 'Maid in Manhattan': -50, 'Crimson Tide': 130, 'The Pursuit of Happyness': -50, 'Flightplan': -110, 'Disclosure': -50, 'City of Angels': -170, 'Kill Bill: Vol. 1': -80, 'Bowfinger': -50, 'Stargate SG-1': -50, 'Kill Bill: Vol. 2': -220, 'Tango & Cash': -170, 'Death Becomes Her': -450, 'Shanghai Noon': -190, 'Executive Decision': -10, 'Mr. Poppers Penguins': -50, 'The Forbidden Kingdom': -110, 'Free Birds': -50, 'Alien 3': 430, 'Evita': -50, 'Ronin': -170, 'The Ghost and the Darkness': -110, 'Paddington': -50, 'The Watch': 680, 'The Hunted': -350, 'Instinct': -50, 'Stuck on You': -130, 'Semi-Pro': -50, 'The Pirates! Band of Misfits': -110, 'Changeling': -350, 'Chain Reaction': -230, 'The Fan': -110, 'The Phantom of the Opera': -320, 'Elizabeth: The Golden Age': -50, 'Æon Flux': 170, 'Gods and Generals': -50, 'Turbulence': -110, 'Imagine That': -50, 'Muppets Most Wanted': -50, 'Thunderbirds': -170, 'Burlesque': -50, 'A Very Long Engagement': -40, 'Lolita': -80, 'Eye See You': -110, 'Blade II': -110, 'Seven Pounds': -50, 'Bullet to the Head': -150, 'The Godfather: Part III': -50, 'Elizabethtown': -50, 'You, Me and Dupree': -50, 'Superman II': -130, 'Gigli': -210, 'All the Kings Men': -80, 'Shaft': -150, 'Anastasia': -270, 'Moulin Rouge!': 0, 'Domestic Disturbance': -110, 'Black Mass': -130, 'Flags of Our Fathers': -50, 'Law Abiding Citizen': -50, 'Grindhouse': -190, 'Beloved': -90, 'Lucky You': -50, 'Catch Me If You Can': -90, 'Zero Dark Thirty': -130, 'The Break-Up': -50, 'Mamma Mia!': -150, 'Valentines Day': -50, 'The Dukes of Hazzard': -110, 'The Thin Red Line': -90, 'The Change-Up': -190, 'Man on the Moon': -50, 'Casino': -50, 'From Paris with Love': -230, 'Bulletproof Monk': -110, 'Me, Myself & Irene': -210, 'Barnyard': -110, 'Deck the Halls': -230, 'The Twilight Saga: New Moon': -110, 'Shrek': -50, 'The Adjustment Bureau': -50, 'Robin Hood: Prince of Thieves': -130, 'Jerry Maguire': -50, 'Ted': -110, 'As Good as It Gets': -210, 'Patch Adams': -230, 'Anchorman 2: The Legend Continues': -50, 'Mr. Deeds': -50, 'Super 8': -110, 'Erin Brockovich': -50, 'How to Lose a Guy in 10 Days': -50, '22 Jump Street': -50, 'Interview with the Vampire: The Vampire Chronicles': -110, 'Yes Man': -50, 'Central Intelligence': -50, 'Stepmom': -50, 'Daddys Home': -110, 'Into the Woods': -50, 'Inside Man': -550, 'Payback': -310, 'Congo': -110, 'We Bought a Zoo': -110, 'Knowing': -110, 'Failure to Launch': -130, 'The Ring Two': -125, 'Crazy, Stupid, Love.': -50, 'Garfield': -110, 'Christmas with the Kranks': -230, 'Moneyball': -50, 'Outbreak': -350, 'Non-Stop': -1090, 'Race to Witch Mountain': 310, 'V for Vendetta': -110, 'Shanghai Knights': -190, 'Unforgotten': -50, 'Curious George': -50, 'Herbie Fully Loaded': -50, 'Dont Say a Word': -390, 'Hansel & Gretel: Witch Hunters': -110, 'Unfaithful': -50, 'I Am Number Four': -165, 'Syriana': -360, '13 Hours': -150, 'The Book of Life': -50, 'Firewall': -90, 'Absolute Power': -350, 'G.I. Jane': -50, 'The Game': -150, 'Silent Hill': -270, 'The Replacements': -50, 'American Reunion': -50, 'The Negotiator': -490, 'Into the Storm': -110, 'Beverly Hills Cop III': -170, 'Gremlins 2: The New Batch': 130, 'The Judge': -50, 'The Peacemaker': -190, 'Resident Evil: Apocalypse': -50, 'Bridget Jones: The Edge of Reason': -50, 'Out of Time': -50, 'On Deadly Ground': -110, 'The Adventures of Sharkboy and Lavagirl 3-D': -50, 'The Beach': -50, 'Raising Helen': -90, 'Ninja Assassin': -150, 'For Love of the Game': -90, 'A Touch of Frost': -50, 'Striptease': -170, 'Marmaduke': -110, 'Hereafter': -90, 'Murder by Numbers': -400, 'Assassins': -60, 'Hannibal Rising': -130, 'The Story of Us': -50, 'The Host': 1340, 'Basic': -330, 'Blood Work': -330, 'The International': -350, 'Escape from L.A.': -390, 'Twisted': -50, 'The Iron Giant': 230, 'The Life Aquatic with Steve Zissou': -150, 'Free State of Jones': -50, 'The Life of David Gale': -90, 'Man of the House': -50, 'Run All Night': -1010, 'Eastern Promises': -130, 'Into the Blue': -170, 'The Messenger: The Story of Joan of Arc': -50, 'Your Highness': -130, 'Dream House': -130, 'Mad City': -50, 'Babys Day Out': -50, 'The Scarlet Letter': -50, 'Fair Game': -130, 'Defiance': -50, 'Domino': -390, 'Jade': 190, 'Gamer': -150, 'Beautiful Creatures': -70, 'Death to Smoochy': -130, 'Zoolander 2': -50, 'The Big Bounce': -50, 'What Planet Are You From?': 430, 'Drive Angry': -110, 'Street Fighter: The Legend of Chun-Li': -160, 'The One': -350, 'Outlander': -50, 'The Adventures of Ford Fairlane': -270, 'Pirate Radio': -50, 'Traffic': -50, 'Indiana Jones and the Last Crusade': -150, 'Anna Karenina': -130, 'Chappie': 290, 'The Bone Collector': -510, 'Panic Room': -50, 'The Tooth Fairy': -50, 'Three Kings': -110, 'Child 44': -130, 'Rat Race': -110, 'K-PAX': -130, 'Kate & Leopold': 90, 'Bedazzled': -110, 'The Cotton Club': -170, '3:10 to Yuma': -50, 'Taken 3': -190, 'Out of Sight': -50, 'The Cable Guy': -50, 'Earth': 0, 'Dick Tracy': -290, 'The Thomas Crown Affair': -50, 'Riding in Cars with Boys': -90, 'First Blood': -200, 'Solaris': 180, 'Happily NEver After': -50, 'Mary Reilly': -50, 'My Best Friends Wedding': -50, 'Americas Sweethearts': -130, 'Insomnia': -310, 'Star Trek: First Contact': 190, 'Jonah Hex': -150, 'Courage Under Fire': -170, 'Liar Liar': -110, 'The Infiltrator': -170, 'Inchon': -50, 'The Flintstones': -90, 'Taken 2': -230, 'Scary Movie 3': -90, 'Miss Congeniality': -90, 'Journey to the Center of the Earth': 10, 'The Princess Diaries 2: Royal Engagement': -110, 'The Pelican Brief': -390, 'The Client': -830, 'The Bucket List': -230, 'Patriot Games': -270, 'Monster-in-Law': -90, 'Prisoners': -590, 'Training Day': -130, 'Galaxy Quest': 370, 'Scary Movie 2': -50, 'The Muppets': -50, 'Blade': -50, 'Coach Carter': -50, 'Changing Lanes': -130, 'Anaconda': -170, 'Coyote Ugly': -50, 'Love Actually': -90, 'A Bugs Life': -50, 'From Hell': -320, 'The Specialist': -310, 'Tin Cup': -50, 'Yours, Mine and Ours': -170, 'Kicking & Screaming': -190, 'The Hitchhikers Guide to the Galaxy': 370, 'Fat Albert': -50, 'Resident Evil: Extinction': -230, 'Blended': -50, 'Last Holiday': -150, 'The River Wild': -250, 'The Indian in the Cupboard': -110, 'Savages': 0, 'Cellular': -270, 'Johnny English': -170, 'The Ant Bully': -50, 'Dune': -50, 'Across the Universe': -200, 'Revolutionary Road': -130, '16 Blocks': -270, 'Babylon A.D.': -210, 'The Glimmer Man': -330, 'Multiplicity': -50, 'Aliens in the Attic': 430, 'The Pledge': -530, 'The Producers': -50, 'The Phantom': -130, 'All the Pretty Horses': -50, 'Nixon': 0, 'The Ghost Writer': -230, 'Deep Rising': 190, 'Miracle at St. Anna': -230, 'Curse of the Golden Flower': 0, 'Bangkok Dangerous': -110, 'Big Trouble': -110, 'Love in the Time of Cholera': -50, 'The Returned': 0, 'Shadow Conspiracy': -110, 'Johnny English Reborn': -210, 'Foodfight!': -50, 'Argo': -130, 'The Fugitive': -590, 'The Bounty Hunter': -90, 'Sleepers': 0, 'Rambo: First Blood Part II': -110, 'The Juror': -50, 'Pinocchio': -110, 'Heavens Gate': -50, 'Underworld: Evolution': -210, 'Victor Frankenstein': -630, 'Finding Forrester': -50, '28 Days': -130, 'Unleashed': -390, 'The Sweetest Thing': -50, 'The Firm': -150, 'Charlie St. Cloud': -130, 'The Mechanic': -130, '21 Jump Street': -210, 'Notting Hill': -50, 'Chicken Run': -50, 'Along Came Polly': -50, 'Boomerang': -50, 'The Heat': -250, 'Cleopatra': -50, 'Here Comes the Boom': -50, 'High Crimes': -390, 'The Mirror Has Two Faces': -130, 'The Mothman Prophecies': -230, 'Brüno': -50, 'Licence to Kill': -190, 'Red Riding Hood': -330, '15 Minutes': -350, 'Super Mario Bros.': -50, 'Lord of War': -50, 'Hero': 0, 'One for the Money': -170, 'The Interview': -50, 'The Warriors Way': -50, 'McHales Navy': 0, 'Micmacs': -80, '8 Mile': -50, 'Animal Kingdom: Lets go Ape': 0, 'A Knights Tale': -50, 'The Medallion': -110, 'The Sixth Sense': -190, 'Man on a Ledge': -310, 'The Big Year': -50, 'The Karate Kid': -280, 'American Hustle': -50, 'The Proposal': -50, 'Double Jeopardy': -110, 'Back to the Future Part II': -270, 'Lucy': -190, 'Fifty Shades of Grey': -50, 'Spy Kids 3-D: Game Over': -90, 'A Time to Kill': -530, 'Cheaper by the Dozen': -150, 'Lone Survivor': -110, 'A League of Their Own': 0, 'The Conjuring 2': -150, 'The Social Network': -50, 'Hes Just Not That Into You': -50, 'Scary Movie 4': -90, 'Scream 3': -90, 'Back to the Future Part III': -230, 'Get Hard': -50, 'Bram Stokers Dracula': -110, 'Julie & Julia': -50, '42': -90, 'The Talented Mr. Ripley': -210, 'Dumb and Dumber To': -70, 'Eight Below': -110, 'The Intern': -50, 'Ride Along 2': -130, 'The Last of the Mohicans': -90, 'Ray': -50, 'Sin City': 0, 'Vantage Point': -350, 'I Love You, Man': -50, 'Shallow Hal': -150, 'JFK': -40, 'Big Mommas House 2': -90, 'The Mexican': -190, '17 Again': -50, 'The Other Woman': -130, 'The Final Destination': -50, 'Bridge of Spies': -170, 'Behind Enemy Lines': -190, 'Get Him to the Greek': -50, 'Shall We Dance': -50, 'Small Soldiers': -50, 'Spawn': -50, 'The Count of Monte Cristo': -230, 'The Lincoln Lawyer': -50, 'Unknown': -280, 'The Prestige': -190, 'Horrible Bosses 2': -90, 'Escape from Planet Earth': 350, 'Apocalypto': -60, 'The Living Daylights': -110, 'Predators': -210, 'Legal Eagles': -50, 'Secret Window': -150, 'The Lake House': -50, 'The Skeleton Key': -140, 'The Odd Life of Timothy Green': -90, 'Made of Honor': -50, 'Jersey Boys': -50, 'The Rainmaker': -50, 'Gothika': -110, 'Amistad': -90, 'Medicine Man': -50, 'Aliens vs. Predator: Requiem': 370, 'Ri¢hie Ri¢h': -110, 'Autumn in New York': -90, 'Music and Lyrics': -50, 'Paul': 370, 'The Guilt Trip': -50, 'Scream 4': -50, '8MM': -270, 'The Doors': -90, 'Sex Tape': -50, 'Hanging Up': -50, 'Final Destination 5': -90, 'Mickey Blue Eyes': -170, 'Pay It Forward': -50, 'Fever Pitch': -50, 'Arthur': -50, 'Drillbit Taylor': -50, 'A Million Ways to Die in the West': -90, 'The Shadow': -290, 'Extremely Loud & Incredibly Close': -50, 'Morning Glory': -50, 'Get Rich or Die Tryin': -50, 'The Art of War': 410, 'Rent': -50, 'Bless the Child': -150, 'The Out-of-Towners': -50, 'The Island of Dr. Moreau': -90, 'The Musketeer': -50, 'The Other Boleyn Girl': -50, 'Sweet November': -90, 'The Reaping': -50, 'Mean Streets': -50, 'Renaissance Man': -50, 'Colombiana': -230, 'The Magic Sword: Quest for Camelot': -50, 'City by the Sea': -510, 'At First Sight': 0, 'Torque': -70, 'City Hall': -50, 'Showgirls': -50, 'Marie Antoinette': -50, 'Kiss of Death': -190, 'Get Carter': -230, 'The Impossible': -50, 'Ishtar': -310, 'Fantastic Mr. Fox': -110, 'Life or Something Like It': -50, 'Memoirs of an Invisible Man': -210, 'Amélie': 0, 'New York Minute': -110, 'Alfie': -50, 'Big Miracle': -50, 'The Deep End of the Ocean': -50, 'Feardotcom': -50, 'Cirque du Freak: The Vampires Assistant': -210, 'Duplex': -90, 'Soul Men': -50, 'Raise the Titanic': 130, 'Universal Soldier: The Return': -50, 'Pandorum': 190, 'Impostor': 570, 'Extreme Ops': -110, 'Just Visiting': -110, 'Sunshine': 190, 'A Thousand Words': -50, 'Delgo': -50, 'The Gunman': -410, 'Alex Rider: Operation Stormbreaker': -225, 'Disturbia': -880, 'Hackers': -50, 'The Hunting Party': -190, 'The Hudsucker Proxy': -60, 'The Warlords': 0, 'Nomad: The Warrior': -20, 'Snowpiercer': -110, 'A Monster in Paris': 180, 'The Last Shot': -90, 'The Crow': -50, 'Baahubali: The Beginning': -100, 'The Time Travelers Wife': -50, 'Because I Said So': -50, 'Frankenweenie': 0, 'Serenity': 70, 'Against the Ropes': -50, 'Superman III': -50, 'Grudge Match': -90, 'Red Cliff': 0, 'Sweet Home Alabama': -50, 'The Ugly Truth': -50, 'Sgt. Bilko': -130, 'Spy Kids 2: Island of Lost Dreams': -190, 'Star Trek: Generations': -190, 'The Grandmaster': -40, 'Water for Elephants': -50, '3rd Rock from the Sun': -50, 'Dragon Nest: Warriors Dawn': -50, 'The Hurricane': 0, 'Enough': -530, 'Heartbreakers': -50, 'Paul Blart: Mall Cop 2': -50, 'Angel Eyes': -50, 'Joe Somebody': -150, 'The Ninth Gate': -230, 'Extreme Measures': -300, 'Rock Star': -50, 'Precious': -200, 'White Squall': -50, 'The Thing': -210, 'Riddick': 290, 'Switchback': -110, 'Texas Rangers': -110, 'City of Ember': -130, 'The Master': -50, 'Virgin Territory': -110, 'The Express': 0, 'The 5th Wave': 270, 'Creed': -90, 'The Town': -50, 'What to Expect When Youre Expecting': -50, 'Burn After Reading': -170, 'Nims Island': -150, 'Rush': -50, 'Magnolia': -50, 'Cop Out': -170, 'How to Be Single': -50, 'Dolphin Tale': -90, 'Twilight': -200, 'John Q': -130, 'Blue Streak': -410, 'Were the Millers': -50, 'Obitaemyy ostrov': -40, 'Breakdown': -330, 'Never Say Never Again': -150, 'Hot Tub Time Machine': -50, 'Dolphin Tale 2': -90, 'Reindeer Games': -350, 'A Man Apart': -230, 'Aloha': -280, 'Ghosts of Mississippi': -50, 'Snow Falling on Cedars': -110, 'The Rite': -230, 'Gattaca': 30, 'Isnt She Great': -50, 'Space Chimps': -50, 'Head of State': -50, 'The Hangover': -50, 'Ip Man 3': 0, 'Austin Powers: The Spy Who Shagged Me': -210, 'Batman': -210, 'There Be Dragons': -50, 'Lethal Weapon 3': -350, 'The Blind Side': -50, 'Rush Hour': -50, 'Spy Kids': -170, 'Horrible Bosses': -50, 'True Grit': -50, 'The Devil Wears Prada': -50, 'Star Trek: The Motion Picture': 430, 'Identity Thief': -210, 'Cape Fear': -90, '21': -50, 'Trainwreck': -90, 'Guess Who': -50, 'The English Patient': -110, 'L.A. Confidential': -510, 'Sky High': -50, 'In & Out': -50, 'Species': 250, 'A Nightmare on Elm Street': -200, 'The Cell': -90, 'The Man in the Iron Mask': -50, 'Secretariat': -50, 'TMNT': 190, 'Radio': -50, 'Friends with Benefits': -50, 'Neighbors 2: Sorority Rising': -50, 'Saving Mr. Banks': -50, 'Malcolm X': -50, 'This Is 40': -130, 'Old Dogs': -110, 'Underworld: Rise of the Lycans': -170, 'License to Wed': -50, 'The Benchwarmers': -50, 'Must Love Dogs': -50, 'Donnie Brasco': -90, 'Resident Evil': -100, 'Poltergeist': -480, 'The Ladykillers': -130, 'Max Payne': -370, 'In Time': 130, 'The Back-up Plan': -50, 'Something Borrowed': -50, 'Hit the Floor': -50, 'Black Knight': 150, 'The Bad News Bears': -110, 'Street Fighter': -230, 'The Pianist': 0, 'The Nativity Story': -110, 'House of Wax': -520, 'Closer': -50, 'J. Edgar': -170, 'Mirrors': -50, 'Queen of the Damned': -110, 'Predator 2': 350, 'Untraceable': -50, 'Blast from the Past': -50, 'Flash Gordon': -50, 'Jersey Girl': -90, 'Alex Cross': -370, 'Midnight in the Garden of Good and Evil': -350, 'Heist': -320, 'Nanny McPhee Returns': -50, 'Hoffa': -130, 'The X Files: I Want to Believe': -150, 'Ella Enchanted': -50, 'Concussion': -50, 'Abduction': -50, 'Valiant': -50, 'Wonder Boys': -50, 'Superhero Movie': -110, 'Broken City': -50, 'Cursed': -230, 'Premium Rush': -270, 'Hot Pursuit': -50, 'The Four Feathers': -270, 'Parker': -290, 'Wimbledon': -50, 'Furry Vengeance': -110, 'Bait': -50, 'Krull': -50, 'Lions for Lambs': -50, 'Flight of the Intruder': -110, 'Walk Hard: The Dewey Cox Story': -50, 'The Shipping News': -50, 'American Outlaws': -50, 'The Young Victoria': -50, 'Whiteout': -170, 'The Tree of Life': -50, 'Knock Off': -190, 'Sabotage': -560, 'The Order': -90, 'Punisher: War Zone': -310, 'Zoom': -110, 'The Walk': -370, 'Warriors of Virtue': -110, 'A Good Year': -50, 'Luther': -50, 'Radio Flyer': -50, 'Blood In, Blood Out': -50, 'Smillas Sense of Snow': -230, 'Femme Fatale': -830, 'Lion of the Desert': 0, 'The Horseman on the Roof': -160, 'Ride with the Devil': -50, 'Biutiful': 0, 'Bandidas': -50, 'Black Water Transit': -50, 'The Maze Runner': -50, 'Unfinished Business': -90, 'The Age of Innocence': -50, 'The Fountain': -50, 'Chill Factor': -230, 'Stolen': -390, 'Ponyo': 0, 'The Longest Ride': -50, 'The Astronauts Wife': -280, 'I Dreamed of Africa': -50, 'Playing for Keeps': -50, 'Mandela: Long Walk to Freedom': -50, 'Reds': -130, 'A Few Good Men': -50, 'Exit Wounds': -930, 'Big Mommas House': -90, 'Thunder and the House of Magic': -50, 'The Darkest Hour': 250, 'Step Up Revolution': -50, 'Snakes on a Plane': -680, 'The Watcher': -150, 'The Punisher': -310, 'Goal! The Dream Begins': -50, 'Safe': -130, 'Pushing Tin': -50, 'Star Wars: Episode VI - Return of the Jedi': -90, 'Doomsday': -230, 'The Reader': -50, 'Wanderlust': -50, 'Elf': -50, 'Phenomenon': -50, 'Snow Dogs': -50, 'Scrooged': -210, 'Nacho Libre': -110, 'Bridesmaids': -50, 'This Is the End': -110, 'Stigmata': -50, 'Men of Honor': -50, 'Takers': -150, 'The Big Wedding': -50, 'Big Mommas: Like Father, Like Son': -50, 'Source Code': -110, 'Alive': -90, 'The Number 23': -310, 'The Young and Prodigious T.S. Spivet': -110, '1941': 190, 'Dreamer: Inspired by a True Story': -50, 'A History of Violence': -50, 'Transporter 2': -290, 'The Quick and the Dead': -60, 'Laws of Attraction': -50, 'Bringing Out the Dead': -210, 'Repo Men': 130, 'Dragon Wars: D-War': -290, 'Bogus': -50, 'The Incredible Burt Wonderstone': -50, 'Cats Dont Dance': -50, 'Cradle Will Rock': -50, 'The Good German': -220, 'George and the Dragon': -50, 'Apocalypse Now': -90, 'Going the Distance': -50, 'Mr. Hollands Opus': -50, 'Criminal': -410, 'Out of Africa': -50, 'Flight': -370, 'Moonraker': -170, 'The Grand Budapest Hotel': -170, 'Hearts in Atlantis': -50, 'Arachnophobia': -170, 'Frequency': -350, 'Vacation': -110, 'Get Shorty': -130, 'Chicago': 0, 'Big Daddy': -90, 'American Pie 2': -50, 'Toy Story': -50, 'Speed': -150, 'The Vow': -50, 'Extraordinary Measures': -90, 'Remember the Titans': -50, 'The Hunt for Red October': 50, 'Lee Daniels The Butler': -50, 'Dodgeball: A True Underdog Story': 0, 'The Addams Family': -110, 'Ace Ventura: When Nature Calls': -130, 'The Princess Diaries': -110, 'The First Wives Club': -130, 'Se7en': -470, 'District 9': 370, 'The SpongeBob SquarePants Movie': -50, 'Mystic River': -390, 'Million Dollar Baby': -130, 'Analyze This': -130, 'The Notebook': -50, '27 Dresses': -50, 'Hannah Montana: The Movie': -110, 'Rugrats in Paris: The Movie': -50, 'The Prince of Tides': -50, 'Legends of the Fall': -50, 'Up in the Air': -150, 'About Schmidt': -50, 'Warm Bodies': -230, 'Looper': 110, 'Down to Earth': -110, 'Babe': -110, 'Hope Springs': -50, 'Forgetting Sarah Marshall': -50, 'Friday Night Lights': -50, 'Four Brothers': -330, 'Baby Mama': -170, 'Hope Floats': -50, 'Bride Wars': -50, 'Without a Paddle': -150, '13 Going on 30': -110, 'Midnight in Paris': -110, 'The Nut Job': -90, 'Blow': -50, 'Message in a Bottle': -50, 'Star Trek V: The Final Frontier': -170, 'Like Mike': -50, 'Naked Gun 33 1/3: The Final Insult': -50, 'A View to a Kill': -110, 'The Curse of the Were-Rabbit': -110, 'P.S. I Love You': -50, 'Racing Stripes': -50, 'Atonement': -130, 'Letters to Juliet': -50, 'Black Rain': -150, 'The Three Stooges': -50, 'Corpse Bride': -110, 'Glory Road': -50, 'Sicario': -330, 'Southpaw': -50, 'Drag Me to Hell': -90, 'The Age of Adaline': -130, 'Secondhand Lions': -110, 'Step Up 3D': -50, 'Blue Crush': -50, 'Stranger Than Fiction': -150, '30 Days of Night': -50, 'The Cabin in the Woods': -10, 'Meet the Spartans': -90, 'Midnight Run': -290, 'The Running Man': -270, 'Little Shop of Horrors': -130, 'Hanna': -190, 'The Family': -50, 'Mortal Kombat: Annihilation': -10, 'Larry Crowne': -50, 'Carrie': -320, 'Take the Lead': -50, 'Entourage': -50, 'Gridiron Gang': -50, 'Whats the Worst That Could Happen?': -130, '9': 130, 'Side Effects': -200, 'The Prince and Me': -110, 'Winnie the Pooh': -50, 'Dumb and Dumberer: When Harry Met Lloyd': -50, 'Bulworth': -50, 'Get on Up': -50, 'One True Thing': -50, 'Virtuosity': -110, 'My Super Ex-Girlfriend': -50, 'Deliver Us from Evil': -110, 'Sanctum': 190, 'Little Black Book': -50, 'The Five-Year Engagement': -50, 'Mr 3000': -170, 'The Next Three Days': -50, 'Ultraviolet': -230, 'Assault on Precinct 13': -550, 'The Replacement Killers': -270, 'Fled': -50, 'Eight Legged Freaks': -110, 'Love & Other Drugs': -50, '88 Minutes': -430, 'North Country': -50, 'The Whole Ten Yards': -50, 'Splice': -110, 'Howard the Duck': 370, 'Pride and Glory': -210, 'The Cave': -110, 'Alex & Emma': -90, 'Wicker Park': -320, 'Fright Night': -310, 'The New World': -50, 'Wing Commander': -90, 'In Dreams': -170, 'Dragonball: Evolution': -170, 'The Last Stand': -150, 'Godsend': -130, 'Chasing Liberty': -200, 'Hoodwinked Too! Hood vs. Evil': -110, 'An Unfinished Life': -90, 'The Imaginarium of Doctor Parnassus': -190, 'Barneys Version': -50, 'Trapped': 0, 'Runner Runner': -50, 'Antitrust': -230, 'Glory': -360, 'Once Upon a Time in America': -50, 'Dead Man Down': -230, 'The Merchant of Venice': -50, 'The Good Thief': -230, 'Supercross': -50, 'Miss Potter': -50, 'The Promise': 0, 'DOA: Dead or Alive': -130, 'The Assassination of Jesse James by the Coward Robert Ford': -50, '1911': 0, 'Little Nicholas': -60, 'Wild Card': -330, 'Machine Gun Preacher': -50, 'Animals United': -60, 'The Color of Freedom': -50, 'United Passions': -50, 'Grace of Monaco': -90, 'A Warriors Tail': -60, 'Ripleys Game': -350, 'Sausage Party': -50, 'Pitch Perfect 2': -130, 'Walk the Line': -50, '12 Monkeys': -50, 'Keeping the Faith': -50, 'The Borrowers': -50, 'Frost/Nixon': -50, 'Confessions of a Dangerous Mind': -170, 'Serving Sara': -50, 'The Boss': -50, 'Cry Freedom': -130, 'Mumford': -80, 'Seed of Chucky': -90, 'The Jacket': -190, 'Aladdin': -50, 'Straight Outta Compton': -50, 'Indiana Jones and the Temple of Doom': -50, 'The Rugrats Movie': -130, 'Along Came a Spider': -130, 'Florence Foster Jenkins': -50, 'Once Upon a Time in Mexico': -190, 'Die Hard': -110, 'Role Models': -90, 'The Big Short': -50, 'Taking Woodstock': -90, 'Miracle': -50, 'Dawn of the Dead': -440, 'The Wedding Planner': -130, 'Harlock: Space Pirate': 200, 'The Royal Tenenbaums': -70, 'Identity': -110, 'Last Vegas': -50, 'For Your Eyes Only': -170, 'Serendipity': -50, 'Timecop': 150, 'Zoolander': -50, 'Safe Haven': -130, 'Hocus Pocus': -50, 'No Reservations': -90, 'Kick-Ass': -50, '30 Minutes or Less': -50, 'Dracula 2000': -250, 'Alexander and the Terrible, Horrible, No Good, Very Bad Day': -170, 'Pride & Prejudice': -50, 'Blade Runner': -90, 'Rob Roy': -90, '3 Days to Kill': -310, 'We Own the Night': -50, 'Lost Souls': -130, 'Winged Migration': 190, 'Just My Luck': -110, 'Mystery, Alaska': -270, 'The Spy Next Door': -230, 'A Simple Wish': -50, 'Ghosts of Mars': -45, 'Our Brand Is Crisis': -50, 'Pride and Prejudice and Zombies': -130, 'Kundun': -50, 'How to Lose Friends & Alienate People': -90, 'Kick-Ass 2': -50, 'Captain Alatriste: The Spanish Musketeer': 0, 'Brick Mansions': -230, 'Octopussy': -110, 'Knocked Up': -50, 'My Sisters Keeper': -130, 'Welcome Home, Roscoe Jenkins': -50, 'A Passage to India': -130, 'Notes on a Scandal': -50, 'Rendition': -210, 'Limitless': -50, 'Star Trek VI: The Undiscovered Country': -170, 'Divine Secrets of the Ya-Ya Sisterhood': -50, 'Kiss the Girls': -470, 'The Blues Brothers': -50, 'The Sisterhood of the Traveling Pants 2': -190, 'Joyful Noise': -50, 'About a Boy': -50, 'Lake Placid': -110, 'Lucky Number Slevin': -1200, 'The Right Stuff': -50, 'Anonymous': -50, 'The NeverEnding Story': -50, 'Dark City': -290, 'The Duchess': -50, 'The Honeymooners': 0, 'Return to Oz': -130, 'The Newton Boys': -50, 'Case 39': -150, 'Suspect Zero': -390, 'Martian Child': -130, 'Spy Kids: All the Time in the World in 4D': -90, 'Money Monster': -90, 'Formula 51': -330, 'Flawless': -490, 'Mindhunters': -270, 'What Just Happened': -130, 'The Statement': -160, 'The Magic Flute': -50, 'Paul Blart: Mall Cop': -50, 'Freaky Friday': -50, 'The 40-Year-Old Virgin': -50, 'Shakespeare in Love': -130, 'A Walk Among the Tombstones': -470, 'Kindergarten Cop': -50, 'Pineapple Express': -50, 'Ever After: A Cinderella Story': -50, 'Open Range': -50, 'Flatliners': -410, 'Its Always Sunny in Philadelphia': -50, 'A Bridge Too Far': 0, 'Red Eye': -190, 'Final Destination 2': -170, 'O Brother, Where Art Thou?': -110, 'Legion': -110, 'Pain & Gain': -50, 'In Good Company': -50, 'Clockstoppers': 710, 'Silverado': -50, 'Brothers': -200, 'Agent Cody Banks 2: Destination London': -90, 'New Years Eve': -50, 'Original Sin': -110, 'The Raven': -110, 'Welcome to Mooseport': -50, 'Highlander: The Final Dimension': -50, 'Blood and Wine': -50, 'Snow White: A Tale of Terror': -110, 'The Curse of the Jade Scorpion': -130, 'Accidental Love': -50, 'Flipper': -150, 'Self/less': -50, 'The Constant Gardener': -230, 'The Passion of the Christ': 0, 'Mrs. Doubtfire': -190, 'Rain Man': -50, 'Gran Torino': -50, 'W.': -90, 'Taken': -310, 'The Best of Me': -50, 'The Bodyguard': -50, 'Schindlers List': -40, 'The Help': -50, 'The Fifth Estate': -50, 'Scooby-Doo 2: Monsters Unleashed': 50, 'Viy': -160, 'Freddy vs. Jason': -110, 'The Face of an Angel': -50, 'Jimmy Neutron: Boy Genius': 350, 'Cloverfield': -110, 'Teenage Mutant Ninja Turtles II: The Secret of the Ooze': -50, 'The Untouchables': -210, 'No Country for Old Men': -50, 'Ride Along': -250, 'Bridget Joness Diary': -50, 'Chocolat': -50, 'Legally Blonde 2: Red, White & Blonde': -50, 'Parental Guidance': -110, 'No Strings Attached': -130, 'Tombstone': 330, 'Romeo Must Die': -630, 'The Omen': -560, 'Final Destination 3': -90, 'The Lucky One': -50, 'Bridge to Terabithia': -50, 'Finding Neverland': -50, 'A Madea Christmas': -50, 'The Grey': -150, 'Hide and Seek': -230, 'Anchorman: The Legend of Ron Burgundy': -50, 'Goodfellas': -130, 'Agent Cody Banks': -390, 'Nanny McPhee': -50, 'Scarface': -50, 'Nothing to Lose': -170, 'The Last Emperor': -50, 'Contraband': -430, 'Money Talks': -330, 'There Will Be Blood': -50, 'The Wild Thornberrys Movie': -50, 'Rugrats Go Wild': 190, 'Undercover Brother': -50, 'The Sisterhood of the Traveling Pants': -110, 'Kiss of the Dragon': -230, 'The House Bunny': -50, 'Beauty Shop': -50, 'Million Dollar Arm': -90, 'The Giver': 0, 'What a Girl Wants': -110, 'Jeepers Creepers II': -50, 'Good Luck Chuck': -130, 'Cradle 2 the Grave': -750, 'The Hours': -50, 'Shes the Man': -50, 'Mr. Beans Holiday': -110, 'Anacondas: The Hunt for the Blood Orchid': -170, 'Blood Ties': -50, 'August Rush': -50, 'Elizabeth': -50, 'Bride of Chucky': -50, 'Tora! Tora! Tora!': -50, 'Spice World': -110, 'The Sitter': -50, 'Dance Flick': -50, 'The Shawshank Redemption': -90, 'Crocodile Dundee in Los Angeles': -110, 'Kingpin': -70, 'The Gambler': -360, 'August: Osage County': -130, 'Ice Princess': -110, 'A Lot Like Love': -50, 'Eddie the Eagle': -200, 'He Got Game': -50, 'Don Juan DeMarco': -50, 'Shaun the Sheep': -50, 'Dear John': 0, 'The Losers': -530, 'Dont Be Afraid of the Dark': -110, 'War': -170, 'Punch-Drunk Love': -50, 'EuroTrip': -170, 'Half Past Dead': -150, 'Unaccompanied Minors': -110, 'Bright Lights, Big City': -90, 'The Adventures of Pinocchio': 0, 'The Greatest Game Ever Played': -50, 'The Box': 210, 'The Ruins': -50, 'The Next Best Thing': -170, 'My Soul to Take': -400, 'The Girl Next Door': -50, 'Maximum Risk': -230, 'Stealing Harvard': -200, 'Legend': -250, 'Hot Rod': -170, 'Shark Night 3D': -50, 'Angelas Ashes': -130, 'Draft Day': -50, 'Lifeforce': 370, 'The Powerpuff Girls': -50, 'The Conspirator': -50, 'Lords of Dogtown': -50, 'The 33': -50, 'Big Trouble in Little China': -190, 'A Perfect Plan': 0, 'Warrior': -50, 'Michael Collins': -120, 'Gettysburg': -50, 'Stop-Loss': -50, 'Abandon': -150, 'Brokedown Palace': -110, 'The Possession': -200, 'Mrs. Winterbourne': -50, 'Straw Dogs': -150, 'The Hoax': -110, 'Stone Cold': -270, 'The Road': -50, 'Sheena': -150, 'Underclassman': -450, 'Say It Isnt So': -50, 'The Worlds Fastest Indian': -50, 'Tank Girl': -50, 'Kings Ransom': -210, 'Blindness': -270, 'BloodRayne': -50, 'Carnage': -50, 'Where the Truth Lies': -390, 'Cirque du Soleil: Worlds Away': -50, 'Without Limits': -90, 'Me and Orson Welles': -50, 'The Best Offer': -50, 'Bad Lieutenant: Port of Call New Orleans': -50, 'A Turtles Tale: Sammys Adventures': -110, 'Little White Lies': -80, 'Love Ranch': -90, 'The True Story of PussN Boots': -110, 'Space Dogs': 0, 'The Counselor': -50, 'Ironclad': -50, 'Waterloo': -50, 'Kung Fu Killer': -240, 'Red Sky': -60, 'Dangerous Liaisons': -200, 'On the Road': -50, 'Star Trek IV: The Voyage Home': 90, 'Rocky Balboa': -90, 'Scream 2': -50, 'Jane Got a Gun': -50, 'Think Like a Man Too': -50, 'The Whole Nine Yards': -50, 'Footloose': -200, 'Old School': -50, 'The Fisher King': -110, 'I Still Know What You Did Last Summer': -90, 'Return to Me': -50, 'Zack and Miri Make a Porno': -130, 'Nurse Betty': -330, 'The Men Who Stare at Goats': -50, 'Double Take': -290, 'Girl, Interrupted': -50, 'Win a Date with Tad Hamilton!': -50, 'Muppets from Space': 430, 'The Wiz': -50, 'Ready to Rumble': -50, 'Play It to the Bone': -50, 'I Dont Know How She Does It': -50, 'Piranha 3D': -110, 'Beyond the Sea': 0, 'Meet the Deedles': -110, 'The Princess and the Cobbler': -130, 'The Bridge of San Luis Rey': -50, 'Faster': -230, 'Howls Moving Castle': 0, 'Zombieland': -170, 'The Waterboy': 0, 'Star Wars: Episode V - The Empire Strikes Back': -170, 'Bad Boys': -450, 'The Naked Gun 2½: The Smell of Fear': -50, 'Final Destination': -90, 'The Ides of March': -90, 'Pitch Black': -50, 'Someone Like You...': -50, 'Her': 190, 'Joy Ride': -150, 'The Adventurer: The Curse of the Midas Box': -50, 'Anywhere But Here': -50, 'The Crew': -130, 'Haywire': -190, 'Jaws: The Revenge': -110, 'Marvins Room': -50, 'The Longshots': -110, 'The End of the Affair': -50, 'Harley Davidson and the Marlboro Man': -230, 'In the Valley of Elah': -550, 'Coco Before Chanel': 0, 'Forsaken': -200, 'Chéri': -50, 'Rogue': -50, 'Vanity Fair': -50, 'Bodyguards and Assassins': 0, '1408': -110, 'Spaceballs': -110, 'The Water Diviner': -50, 'Ghost': -90, 'Theres Something About Mary': -50, 'The Santa Clause': -50, 'The Rookie': -70, 'The Game Plan': -110, 'The Bridges of Madison County': -50, 'The Animal': -170, 'Gandhi': -40, 'The Hundred-Foot Journey': -50, 'The Net': -330, 'I Am Sam': -50, 'Son of God': -50, 'Underworld': -150, 'Derailed': -250, 'The Informant!': -130, 'Shadowlands': -50, 'Deuce Bigalow: European Gigolo': -50, 'Delivery Man': -50, 'Our Kind of Traitor': -90, 'Saving Silverman': -50, 'Diary of a Wimpy Kid: Dog Days': -110, 'Summer of Sam': -50, 'Jay and Silent Bob Strike Back': -210, 'The Glass House': -390, 'Hail, Caesar!': -50, 'Josie and the Pussycats': -50, 'Homefront': -290, 'The Little Vampire': -50, 'I Heart Huckabees': -170, 'RoboCop 3': -230, 'Megiddo: The Omega Code 2': 830, 'Darling Lili': -90, 'Dudley Do-Right': -110, 'The Transporter Refueled': -110, 'The Libertine': -50, 'Black Book': 0, 'Joyeux Noel': 0, 'Hit and Run': -50, 'Mad Money': -50, 'Before I Go to Sleep': -370, 'Sorcerer': -50, 'Stone': -50, 'Molière': 0, 'Out of the Furnace': -130, 'Michael Clayton': -350, 'My Fellow Americans': -110, 'Arlington Road': -250, 'Underdogs': -60, 'To Rome with Love': -50, 'Firefox': -190, 'South Park: Bigger Longer & Uncut': -110, 'Death at a Funeral': -360, 'Teenage Mutant Ninja Turtles III': 10, 'Hardball': -50, 'Silver Linings Playbook': -50, 'Freedom Writers': -50, 'For Colored Girls': -50, 'The Transporter': -130, 'Never Back Down': -90, 'The Rage: Carrie 2': 0, 'The Bachelor': -50, 'Away We Go': -50, 'Swing Vote': -50, 'Moonlight Mile': -90, 'Tinker Tailor Soldier Spy': -150, 'Molly': -50, 'The Beaver': -50, 'The Best Little Whorehouse in Texas': -50, 'eXistenZ': -50, 'Raiders of the Lost Ark': -50, 'Home Alone 2: Lost in New York': -110, 'Close Encounters of the Third Kind': 430, 'Pulse': -50, 'Beverly Hills Cop II': -370, 'Bringing Down the House': -50, 'The Silence of the Lambs': -90, 'Waynes World': -50, 'Jackass 3D': -50, 'Jaws 2': -150, 'Beverly Hills Chihuahua': -50, 'The Conjuring': -110, 'Are We There Yet?': -50, 'Tammy': -50, 'School of Rock': -50, 'Mortal Kombat': -530, 'White Chicks': -130, 'The Descendants': -130, 'Holes': 0, 'The Last Song': -50, '12 Years a Slave': -50, 'Drumline': -50, 'Why Did I Get Married Too?': -50, 'Edward Scissorhands': -130, 'Me Before You': -50, 'Madeas Witness Protection': -50, 'The French Connection': -560, 'Bad Moms': -200, 'Date Movie': -50, 'Return to Never Land': -130, 'Selma': -50, 'The Jungle Book 2': -110, 'Boogeyman': -230, 'Premonition': -310, 'The Tigger Movie': -110, 'Orphan': -690, 'Max': -110, 'Meet the Browns': -50, 'Epic Movie': -110, 'Spotlight': -130, 'Lakeview Terrace': -205, 'The Grudge 2': -170, 'How Stella Got Her Groove Back': -50, 'Bill & Teds Bogus Journey': 230, 'Man of the Year': -50, 'The Black Hole': 170, 'The American': -50, 'Selena': -50, 'Vampires Suck': -50, 'Babel': -50, 'This Is Where I Leave You': -90, 'Doubt': -50, 'Team America: World Police': -170, 'Texas Chainsaw 3D': -50, 'Copycat': -390, 'Scary Movie 5': -50, 'Paint Your Wagon': -50, 'Milk': -50, 'Risen': -110, 'Ghost Ship': -50, 'A Very Harold & Kumar 3D Christmas': -110, 'Wild Things': -390, 'The Stepfather': -50, 'The Debt': -50, 'High Fidelity': -50, 'One Missed Call': -90, 'Eye for an Eye': -170, 'The Bank Job': -130, 'Eternal Sunshine of the Spotless Mind': -50, 'You Again': -110, 'Street Kings': -270, 'The Worlds End': -50, 'Nancy Drew': -210, 'Daybreakers': -110, 'Shes Out of My League': -110, 'Monte Carlo': -50, 'Stay Alive': -130, 'Quigley Down Under': -50, 'Alpha and Omega': -50, 'The Covenant': -170, 'Stick It': -50, 'Shorts': -50, 'To Die For': -50, 'Nerve': -110, 'Appaloosa': -50, 'Vampires': -270, 'Yu-Gi-Oh! Duel Monsters': 0, 'Psycho': -60, 'My Best Friends Girl': -50, 'Endless Love': -50, 'Georgia Rule': -130, 'Under the Rainbow': -50, 'Ladyhawke': -130, 'Simon Birch': -110, 'Reign Over Me': -50, 'Into the Wild': -90, 'School for Scoundrels': -50, 'Silent Hill: Revelation 3D': -290, 'From Dusk Till Dawn': -150, 'Poohs Heffalump Movie': -110, 'Home for the Holidays': -50, 'Kung Fu Hustle': -60, 'Fired Up': -50, 'The Country Bears': -110, 'The Kite Runner': 0, '21 Grams': -50, 'Paparazzi': -390, 'A Guy Thing': -50, 'Loser': -50, 'Capitalism: A Love Story': -50, 'The Greatest Story Ever Told': -50, 'Secret in Their Eyes': -590, 'Disaster Movie': -50, 'Armored': -110, 'The Man Who Knew Too Little': -290, 'Whats Your Number?': -50, 'Lockout': -210, 'Envy': -170, 'Crank: High Voltage': -150, 'Bullets Over Broadway': -50, 'One Night with the King': -50, 'The Quiet American': -110, 'The Weather Man': -50, 'Undisputed': -20, 'Ghost Town': -190, '12 Rounds': -150, 'Let Me In': -270, '3 Ninjas Kick Back': -110, 'Be Kind Rewind': -50, 'Mrs Henderson Presents': -50, 'Triple 9': -230, 'Deconstructing Harry': -50, 'Three to Tango': -50, 'Burnt': -50, 'Were No Angels': -210, 'Everyone Says I Love You': -50, 'Death Sentence': -230, 'Everybodys Fine': -50, 'Superbabies: Baby Geniuses 2': -150, 'The Man': -130, 'Code Name: The Cleaner': -50, 'Connie and Carla': -50, 'Sweet Charity': -90, 'Inherent Vice': -50, 'Doogal': -50, 'Battle of the Year': -50, 'Perception': -50, 'An American Carol': -110, 'Machete Kills': -170, 'Willard': -130, 'Strange Wilderness': -110, 'Topsy-Turvy': -50, 'Little Boy': -50, 'A Dangerous Method': -50, 'A Scanner Darkly': -150, 'Chasing Mavericks': -210, 'Alone in the Dark': -50, 'Bandslam': -110, 'Birth': -150, 'A Most Violent Year': -230, 'Passchendaele': -50, 'Flash of Genius': -50, 'Im Not There.': -80, 'The Cold Light of Day': -110, 'The Brothers Bloom': -190, 'Synecdoche, New York': -50, 'Princess Mononoke': -60, 'Bon voyage': -60, 'Cant Stop the Music': -90, 'The Proposition': -50, 'Courage': -50, 'Marci X': -50, 'Equilibrium': -110, 'The Children of Huang Shi': -230, 'The Yards': -50, 'The Oogieloves in the Big Balloon Adventure': -50, 'By the Sea': -90, 'Steamboy': -240, 'The Game of Their Lives': -50, 'All Good Things': -390, 'Rapa Nui': -50, 'CJ7': -60, 'Les couloirs du temps: Les visiteurs II': 0, 'Dylan Dog: Dead of Night': -210, 'People I Know': -130, 'The Doombolt Chase': -50, 'The Tempest': -110, 'Regression': -510, 'The Touch': -50, 'Three Kingdoms: Resurrection of the Dragon': 0, 'Shattered': -170, 'Zambezia': -50, 'Ramanujan': -50, 'Dwegons and Leprechauns': -50, 'Hands of Stone': -50, 'Survivor': -190, 'The Frozen Ground': -350, 'The Painted Veil': 0, 'The Baader Meinhof Complex': 0, 'Dances with Wolves': -50, 'Bad Teacher': -50, 'Sea of Love': -390, 'A Cinderella Story': -110, 'Scream': -50, 'Thir13en Ghosts': -130, 'The Shining': -50, 'Back to the Future': 110, 'House on Haunted Hill': -190, 'I Can Do Bad All by Myself': -50, 'Fight Valley': -50, 'The Switch': -50, 'Just Married': -50, 'The Devils Double': -50, 'Gone, Baby, Gone': -50, 'Thomas and the Magic Railroad': -50, 'The Crazies': -50, 'Spirited Away': 0, 'Firestorm': -60, 'The Bounty': -90, 'The Book Thief': -50, 'Sex Drive': -110, 'Leap Year': -130, 'The Fall of the Roman Empire': -50, 'Take Me Home Tonight': 70, 'Wont Back Down': -50, 'The Nutcracker': -110, 'Kansas City': -50, 'Indignation': 0, 'The Amityville Horror': -350, 'Adaptation.': -130, 'Land of the Dead': 240, 'Out of Inferno': 0, 'Fear and Loathing in Las Vegas': -190, 'The Invention of Lying': -110, 'Neighbors': -50, 'The Mask': -190, 'Big': -50, 'Borat: Cultural Learnings of America for Make Benefit Glorious Nation of Kazakhstan': -50, 'Legally Blonde': -50, 'Star Trek III: The Search for Spock': -50, 'The Exorcism of Emily Rose': -90, 'Deuce Bigalow: Male Gigolo': -50, 'Left Behind': -680, 'The Family Stone': -130, 'Barbershop 2: Back in Business': 0, 'Bad Santa': -50, 'Austin Powers: International Man of Mystery': -170, 'My Big Fat Greek Wedding 2': -190, 'Diary of a Wimpy Kid: Rodrick Rules': -110, 'Predator': -90, 'Amadeus': -50, 'Prom Night': -50, 'Mean Girls': -130, 'Under the Tuscan Sun': -90, 'Gosford Park': -50, 'The O.C.': -50, 'Peggy Sue Got Married': -110, 'Birdman or (The Unexpected Virtue of Ignorance)': -130, 'Blue Jasmine': -50, 'United 93': -50, 'Honey': -50, 'Spy Hard': -90, 'The Fog': -640, 'Soul Surfer': -50, 'Catch-22': -50, 'Observe and Report': -50, 'Conan the Destroyer': -190, 'Raging Bull': 0, 'Love Happens': -50, 'Young Sherlock Holmes': -210, 'Fame': -50, '127 Hours': -50, 'Small Time Crooks': -50, 'Center Stage': -50, 'Love the Coopers': -50, 'Catch That Kid': -50, 'Life as a House': -170, 'Steve Jobs': -50, 'I Love You, Beth Cooper': -50, 'Youth in Revolt': -50, 'The Legend of the Lone Ranger': -50, 'The Tailor of Panama': -90, 'Blow Out': -510, 'Getaway': -110, 'The Ice Storm': -50, 'And So It Goes': -50, 'Troop Beverly Hills': -110, 'Being Julia': -130, '9½ Weeks': -50, 'Dragonslayer': -110, 'The Last Station': -50, 'Ed Wood': -20, 'Labor Day': -210, 'Mongol: The Rise of Genghis Khan': 0, 'RocknRolla': -110, 'Megaforce': -50, 'Hamlet': -200, 'Maos Last Dancer': -50, 'Midnight Special': 310, 'Anything Else': -170, 'The Railway Man': -50, 'Unforgettable': 0, 'The White Ribbon': -80, 'Restoration': -50, 'The Wraith': -310, 'The Salton Sea': -430, 'Metallica Through the Never': -50, 'The Informers': -50, 'Carlos': -50, 'I Come with the Rain': -130, 'One Mans Hero': -50, 'Day of the Dead': -480, 'I Am Wrath': -230, 'Renaissance': 130, 'Red Sonja': -110, 'Red Lights': -230, 'Superbad': -50, 'Madea Goes to Jail': -50, 'Wolves': -50, 'Step Up 2: The Streets': -50, 'Hoodwinked!': -110, 'Hotel Rwanda': -50, 'Hitman': -230, 'Black Nativity': -50, 'The Prince': -230, 'City of Ghosts': -50, 'The Others': -110, 'Aliens': 3940, 'My Fair Lady': -50, 'I Know What You Did Last Summer': -190, 'Lets Be Cops': -130, 'Sideways': -230, 'Beerfest': -50, 'Halloween': -1170, 'Good Boy!': -50, 'The Best Man Holiday': -50, 'Smokin Aces': -270, 'Saw 3D: The Final Chapter': -90, '40 Days and 40 Nights': -130, 'A Night at the Roxbury': -50, 'Beastly': -50, 'The Hills Have Eyes': -90, 'Dickie Roberts: Former Child Star': -50, 'McFarland, USA': -50, 'Lottery Ticket': -50, 'ATL': -50, 'Pitch Perfect': -50, 'Summer Catch': -50, 'A Simple Plan': -50, 'They': -110, 'Larry the Cable Guy: Health Inspector': -50, 'The Adventures of Elmo in Grouchland': -130, 'Brooklyns Finest': -50, '55 Days at Peking': -50, 'Evil Dead': -50, 'My Life in Ruins': -50, 'American Dreamz': -50, 'Superman IV: The Quest for Peace': -110, 'How She Move': -50, 'Running Scared': -310, 'Bobby Jones: Stroke of Genius': -90, 'Shanghai Surprise': -50, 'The Illusionist': -320, 'Roar': -150, 'Veronica Guerin': -40, 'Escobar: Paradise Lost': -50, 'Southland Tales': -410, 'Dragon Hunters': 0, 'Damnation Alley': 90, 'The Apparition': -50, 'My Girl': -110, 'Fur: An Imaginary Portrait of Diane Arbus': -50, 'Wall Street': -50, 'Sense and Sensibility': -50, 'Becoming Jane': -50, 'Sydney White': -50, 'House of Sand and Fog': -50, 'Dead Poets Society': -50, 'Dumb & Dumber': -50, 'When Harry Met Sally...': -130, 'The Verdict': -130, 'Road Trip': -50, 'Varsity Blues': -50, 'The Artist': 0, 'The Unborn': -760, 'Moonrise Kingdom': -150, 'The Texas Chainsaw Massacre: The Beginning': -90, 'The Young Messiah': -50, 'The Master of Disguise': -110, 'Pans Labyrinth': 0, 'The Messengers': -50, 'See Spot Run': -150, 'Baby Boy': -120, 'The Roommate': -50, 'Joe Dirt': -150, 'Double Impact': -130, 'Hot Fuzz': -270, 'The Women': -50, 'Vicky Cristina Barcelona': -130, 'Arn: The Knight Templar': -40, 'Boys and Girls': -50, 'White Oleander': -50, 'Jennifers Body': -50, 'Drowning Mona': -50, 'Radio Days': -50, 'Remember Me': -50, 'How to Deal': -50, 'My Stepmother Is an Alien': 350, 'Philadelphia': -50, 'The Thirteenth Floor': -250, 'The Cookout': -50, 'Meteor': -110, 'Duets': -50, 'Hollywood Ending': -50, 'Detroit Rock City': -50, 'Highlander': -110, 'Things We Lost in the Fire': -50, 'Steel': -90, 'The Immigrant': -50, 'The White Countess': -50, 'Trance': -1240, 'Soul Plane': -130, 'Welcome to the Sticks': 0, 'Good': -50, 'Enter the Void': -50, 'Vamps': -110, 'Hachi: A Dogs Tale': -50, 'Zulu': -90, 'The Homesman': -90, 'Juwanna Mann': -90, 'Lilyhammer': -50, 'Ararat': -50, 'Madison': -50, 'Slow Burn': -130, 'Wasabi': -240, 'Slither': 290, 'Beverly Hills Cop': -50, 'Home Alone': -170, '3 Men and a Baby': -110, 'Tootsie': -150, 'Top Gun': -90, 'Crouching Tiger, Hidden Dragon': -40, 'American Beauty': -50, 'The Kings Speech': -50, 'Twins': -50, 'Scream: The TV Series': -50, 'The Yellow Handkerchief': -50, 'The Color Purple': -50, 'Tidal Wave': -60, 'The Imitation Game': -50, 'Private Benjamin': -50, 'Coal Miners Daughter': -210, 'Diary of a Wimpy Kid': -110, 'Mama': -110, 'National Lampoons Vacation': -110, 'Bad Grandpa': -50, 'The Queen': -50, 'Beetlejuice': -190, 'Why Did I Get Married?': -130, 'Little Women': -50, 'The Woman in Black': -310, 'When a Stranger Calls': -50, 'Big Fat Liar': -200, 'The Deer Hunter': -50, 'Wag the Dog': -90, 'The Lizzie McGuire Movie': -50, 'Snitch': -320, 'Krampus': -50, 'The Faculty': 350, 'Whats Love Got to Do with It': -50, 'Cop Land': -50, 'Not Another Teen Movie': -50, 'End of Watch': -250, 'The Skulls': -230, 'The Theory of Everything': -50, 'Malibus Most Wanted': -50, 'Where the Heart Is': -50, 'Lawrence of Arabia': -50, 'Halloween II': -440, 'Wild': -50, 'The Last House on the Left': -280, 'The Wedding Date': -50, 'Halloween: Resurrection': -110, 'The Princess Bride': -50, 'The Great Debaters': -50, 'Drive': -50, 'Confessions of a Teenage Drama Queen': -190, 'The Object of My Affection': -50, '28 Weeks Later': -50, 'When the Game Stands Tall': -50, 'Because of Winn-Dixie': -110, 'Love & Basketball': -50, 'Grosse Pointe Blank': -250, 'All About Steve': -50, 'Book of Shadows: Blair Witch 2': -230, 'The Craft': -230, 'Match Point': -50, 'Ramona and Beezus': -50, 'The Remains of the Day': -50, 'Boogie Nights': -50, 'Nowhere to Run': -230, 'Flicka': -110, 'The Hills Have Eyes II': -90, 'Urban Legends: Final Cut': -110, 'Tuck Everlasting': -190, 'The Marine': -70, 'Keanu': -50, 'Country Strong': -50, 'Disturbing Behavior': -110, 'The Place Beyond the Pines': -210, 'The November Man': -110, 'Eye of the Beholder': -110, 'The Hurt Locker': -90, 'Firestarter': -110, 'Killing Them Softly': -50, 'A Most Wanted Man': -50, 'Freddy Got Fingered': -50, 'The Pirates Who Dont Do Anything: A VeggieTales Movie': -50, 'U2 3D': -50, 'Highlander: Endgame': -130, 'Idlewild': -130, 'One Day': -50, 'Whip It': -50, 'Knockaround Guys': -130, 'Confidence': -50, 'The Muse': -50, 'De-Lovely': 0, 'New York Stories': -50, 'Barneys Great Adventure': -110, 'The Man with the Iron Fists': -50, 'Home Fries': -50, 'Here on Earth': -90, 'Brazil': -50, 'Raise Your Voice': -50, 'The Dead Zone': -480, 'The Big Lebowski': -90, 'Black Snake Moan': -120, 'Dark Blue': -330, 'A Mighty Heart': -170, 'Whatever It Takes': -50, 'Boat Trip': -50, 'The Importance of Being Earnest': -50, 'The Love Letter': 200, 'Hoot': -90, 'In Bruges': -130, 'Peeples': -50, 'The Rocker': -50, 'Post Grad': -50, 'Promised Land': -50, 'Whatever Works': -50, 'The In Crowd': -140, 'Three Burials': -50, 'Jakob the Liar': -50, 'Kiss Kiss Bang Bang': -170, 'Idle Hands': -50, 'Mulholland Drive': -270, 'Blood and Chocolate': -110, 'You Will Meet a Tall Dark Stranger': -150, 'Never Let Me Go': -50, 'The Company': -50, 'Transsiberian': -350, 'The Clan of the Cave Bear': -110, 'Crazy in Alabama': -50, 'Funny Games': -70, 'Listening': -50, 'Felicias Journey': -130, 'Metropolis': 0, 'District B13': -220, 'Things to Do in Denver When Youre Dead': -90, 'The Assassin': 0, 'Buffalo Soldiers': -50, 'The Return': -60, 'Ong-bak 2': -40, 'Centurion': -110, 'Silent Trigger': -110, 'The Midnight Meat Train': -110, 'Winnie Mandela': -50, 'The Son of No One': -50, 'All the Queens Men': -50, 'The Good Night': -110, 'Bathory: Countess of Blood': -50, 'Khumba': -150, 'Automata': 370, 'Dungeons & Dragons: Wrath of the Dragon God': -150, 'Chiamatemi Francesco - Il Papa della gente': 0, 'Shinjuku Incident': -180, 'Pandaemonium': -50, 'Groundhog Day': -130, 'Magic Mike XXL': -50, 'Romeo + Juliet': -50, 'Sarahs Key': -120, 'Freedom': -50, 'Unforgiven': -90, 'Manderlay': -130, 'Slumdog Millionaire': -50, 'Fatal Attraction': -50, 'Pretty Woman': -50, 'Towering Inferno': -50, 'Crocodile Dundee II': -190, 'Broken Horses': -330, 'Born on the Fourth of July': -50, 'Cool Runnings': 0, 'My Bloody Valentine': -90, 'Stomp the Yard': -90, 'The Spy Who Loved Me': 70, 'Ghost Hunters': -50, 'Urban Legend': -150, 'Good Deeds': -90, 'White Fang': -50, 'Superstar': -50, 'The Iron Lady': -50, 'Jonah: A VeggieTales Movie': -50, 'Poetic Justice': -50, 'All About the Benjamins': -210, 'Vampire in Brooklyn': -50, 'Exorcist II: The Heretic': -50, 'An American Haunting': -150, 'My Bosss Daughter': -50, 'A Perfect Getaway': -150, 'Our Family Wedding': -50, 'Dead Man on Campus': -50, 'Tea with Mussolini': -50, 'Thinner': -230, 'New York, New York': -50, 'Crooklyn': -50, 'I Think I Love My Wife': -130, 'Jason X': -170, 'Bobby': -50, 'Head Over Heels': -50, 'Fun Size': -110, 'The Diving Bell and the Butterfly': 0, 'Little Children': -130, 'Gossip': -230, 'A Walk on the Moon': -50, 'Catch a Fire': -50, 'Soul Survivors': -310, 'Jefferson in Paris': -50, 'Easy Virtue': -50, 'Caravans': -50, 'Mr. Turner': -50, 'Wild Grass': 0, 'Amen.': -50, 'Reign of Assassins': -40, 'The Lucky Ones': -50, 'Margaret': -50, 'Stan Helsing': -110, 'Flipped': -90, 'Brokeback Mountain': -50, 'Clueless': -50, 'Far from Heaven': -50, 'Hot Tub Time Machine 2': -50, 'Dekalog': 0, 'Quills': -50, 'Seven Psychopaths': -130, 'The Cavemans Valentine': -350, 'The Border': 0, 'Downfall': 0, 'The Sea Inside': 0, 'Under the Skin': 430, 'Good Morning, Vietnam': -50, 'The Last Godfather': -50, 'Justin Bieber: Never Say Never': -50, 'Black Swan': -50, 'The Godfather: Part II': -130, 'Save the Last Dance': -50, 'A Nightmare on Elm Street 4: The Dream Master': -110, 'Miracles from Heaven': -50, 'Dude, Wheres My Car?': -50, 'Young Guns': -230, 'St. Vincent': -70, 'About Last Night': 230, '10 Things I Hate About You': -50, 'The New Guy': -50, 'Loaded Weapon 1': -130, 'The Shallows': -410, 'The Butterfly Effect': 150, 'Snow Day': -50, 'This Christmas': -130, 'Baby Geniuses': -170, 'The Big Hit': -170, 'Harriet the Spy': -230, 'Childs Play 2': -110, 'No Good Deed': -90, 'The Mist': -50, 'Ex Machina': 220, 'Being John Malkovich': -110, 'Two Can Play That Game': -50, 'Earth to Echo': 370, 'Crazy/Beautiful': -70, 'Letters from Iwo Jima': -40, 'The Astronaut Farmer': -130, 'Woo': -70, 'Room': -50, 'Dirty Work': -130, 'Serial Mom': -50, 'Dick': -50, 'Del 1 - Män som hatar kvinnor': -120, 'Light It Up': -210, '54': -50, 'Bubble Boy': -110, 'Birthday Girl': -50, '21 & Over': -50, 'Paris, je taime': 0, 'Resurrecting the Champ': -90, 'Admission': -50, 'The Widow of Saint-Pierre': -40, 'Chloe': -230, 'Faithful': -50, 'Find Me Guilty': -130, 'The Perks of Being a Wallflower': -50, 'Excessive Force': -210, 'Infamous': -90, 'The Claim': -200, 'The Vatican Tapes': -50, 'Attack the Block': 370, 'In the Land of Blood and Honey': 0, 'The Call': -50, 'Operation Chromite': -90, 'The Crocodile Hunter: Collision Course': -130, 'I Love You Phillip Morris': -50, 'Quest for Fire': 0, 'Antwone Fisher': -50, 'The Emperors Club': -50, 'True Romance': -230, 'Womb': -90, 'Glengarry Glen Ross': -50, 'The Killer Inside Me': -130, 'Cat People': -320, 'Sorority Row': -50, 'The Prisoner of Zenda': 0, 'Lars and the Real Girl': -50, 'The Boy in the Striped Pajamas': -50, 'Dancer in the Dark': -50, 'Oscar and Lucinda': -50, 'The Funeral': -50, 'Solitary Man': -50, 'Machete': -110, 'Casino Jack': -50, 'The Land Before Time': -110, 'Tae Guk Gi: The Brotherhood of War': 0, 'The Perfect Game': -100, 'The Exorcist': -50, 'Jaws': -50, 'American Pie': -50, 'Ernest & Celestine': -60, 'The Golden Child': -150, 'Think Like a Man': -50, 'Barbershop': -50, 'Star Trek II: The Wrath of Khan': -50, 'Ace Ventura: Pet Detective': -210, 'WarGames': -50, 'Witness': -290, 'Act of Valor': -110, 'Step Up': -50, 'Beavis and Butt-Head Do America': -150, 'Jackie Brown': -50, 'Harold & Kumar Escape from Guantanamo Bay': -110, 'Chronicle': -50, 'Yentl': -50, 'Time Bandits': -50, 'Crossroads': -200, 'Project X': -50, 'Patton': -50, 'One Hour Photo': -50, 'Quarantine': -150, 'The Eye': -50, 'Johnson Family Vacation': -50, 'How High': -110, 'The Muppet Christmas Carol': -50, 'Frida': 0, 'Katy Perry: Part of Me': -50, 'The Fault in Our Stars': -50, 'Rounders': -50, 'Top Five': -50, 'Prophecy': 130, 'Stir of Echoes': -110, 'Spartacus: War of the Damned': -50, 'Philomena': -50, 'The Upside of Anger': -50, 'The Boys from Brazil': -50, 'Aquamarine': -50, 'Paper Towns': -50, 'My Babys Daddy': -50, 'Nebraska': -60, 'Tales from the Crypt: Demon Knight': -130, 'Max Keebles Big Move': -190, 'Young Adult': -50, 'Crank': -210, 'How to Be a Player': -130, 'Living Out Loud': -50, 'Just Wright': -50, 'Rachel Getting Married': -50, 'The Postman Always Rings Twice': -50, 'Girl with a Pearl Earring': -50, 'Das Boot': 240, 'Sorority Boys': -50, 'About Time': 150, 'House of Flying Daggers': -240, 'Arbitrage': -50, 'Project Almanac': 150, 'Cadillac Records': -130, 'Screwed': -50, 'Fortress': 130, 'For Your Consideration': -130, 'Celebrity': -80, 'Running with Scissors': -90, 'From Justin to Kelly': -50, 'Girl 6': -170, 'In the Cut': -110, 'Two Lovers': -170, 'Last Orders': -50, 'The Pursuit of D.B. Cooper': -50, 'Ravenous': -110, 'Charlie Bartlett': -50, 'The Great Beauty': -40, 'The Dangerous Lives of Altar Boys': -50, 'Stoker': -45, '2046': 0, 'Married Life': -50, 'Duma': -110, 'Ondine': -130, 'Brother': -130, 'Welcome to Collinwood': -50, 'Critical Care': -130, 'The Life Before Her Eyes': -110, 'Darling Companion': -50, 'Trade': -130, 'Fateless': -40, 'Breakfast of Champions': -90, 'A Woman, a Gun and a Noodle Shop': 0, 'Cypher': -230, 'City of Life and Death': -40, 'Legend of Kung Fu Rabbit': 0, 'Space Battleship Yamato': 480, '5 Days of War': -130, 'Triangle': -110, '10 Days in a Madhouse': -50, 'Heaven Is for Real': -50, 'Snatch': -280, 'Dancin Its On': -50, 'Pet Sematary': -190, 'Madadayo': 0, 'The Cry of the Owl': -50, 'A Tale of Three Cities': 0, 'Gremlins': -50, 'Star Wars: Episode IV - A New Hope': -90, 'Dirty Grandpa': -50, 'Doctor Zhivago': -130, 'Trash': -300, 'High School Musical 3: Senior Year': -110, 'The Fighter': -50, 'Jackass Number Two': -90, 'My Cousin Vinny': -50, 'If I Stay': -50, 'Drive Hard': -50, 'Major League': -50, 'St. Trinians': -50, 'Phone Booth': -370, 'A Walk to Remember': -50, 'Dead Man Walking': -90, 'Cruel Intentions': -130, 'Saw VI': -90, 'History of the World: Part I': -200, 'The Secret Life of Bees': -50, 'Corky Romano': -170, 'Raising Cain': -290, 'F.I.S.T.': -50, 'Invaders from Mars': 370, 'Brooklyn': -130, 'Barry Lyndon': -50, 'Out Cold': -50, 'The Ladies Man': -50, 'Quartet': -50, 'Tomcats': -50, 'Frailty': -90, 'Woman in Gold': -50, 'Kinsey': -200, 'Army of Darkness': -50, 'Slackers': -50, 'Whats Eating Gilbert Grape': -230, 'The Visual Bible: The Gospel of John': -50, 'Vera Drake': -170, 'The Guru': -50, 'The Perez Family': -50, 'Inside Llewyn Davis': -50, 'O': -200, 'Return to the Blue Lagoon': -90, 'The Molly Maguires': -170, 'Romance & Cigarettes': -170, 'Copying Beethoven': -50, 'Brighton Rock': -50, 'Saw V': -90, 'Machine Gun McCain': -50, 'LOL': -50, 'Jindabyne': -350, 'Kabhi Alvida Naa Kehna': 0, 'An Ideal Husband': -50, 'The Last Days on Mars': -130, 'Darkness': -50, '2001: A Space Odyssey': -50, 'E.T. the Extra-Terrestrial': -50, 'In the Land of Women': -210, 'The Blue Butterfly': -50, 'There Goes My Baby': -210, 'Lovesick': -50, 'Housefull': 0, 'September Dawn': 0, 'For Greater Glory: The True Story of Cristiada': 0, 'La Famille Bélier': 0, 'Good Will Hunting': -50, 'Misconduct': -50, 'Saw III': -250, 'Stripes': -170, 'Bring It On': -50, 'The Purge: Election Year': -110, 'Shes All That': -50, 'Saw IV': -45, 'White Noise': -310, 'Madeas Family Reunion': -50, 'The Color of Money': 70, 'The Longest Day': 0, 'The Mighty Ducks': -110, 'The Grudge': -190, 'Happy Gilmore': -50, 'Jeepers Creepers': -50, 'Bill & Teds Excellent Adventure': -110, 'Oliver!': -50, 'The Best Exotic Marigold Hotel': -50, 'Recess: Schools Out': -110, 'Mad Max Beyond Thunderdome': -210, 'Commando': -110, 'The Boy': -110, 'Devil': -110, 'Friday After Next': -50, 'Insidious: Chapter 3': -110, 'The Last Dragon': -90, 'The Lawnmower Man': -110, 'Nick and Norahs Infinite Playlist': -50, 'Dogma': -50, 'The Banger Sisters': -90, 'Twilight Zone: The Movie': -110, 'Road House': -230, 'A Low Down Dirty Shame': -90, 'Swimfan': -130, 'Employee of the Month': -50, 'Cant Hardly Wait': -50, 'The Outsiders': -50, 'Petes Dragon': -50, 'Sinister 2': -110, 'Sparkle': -90, 'Valentine': -190, 'The Fourth Kind': 330, 'A Prairie Home Companion': -50, 'Sugar Hill': 0, 'Invasion U.S.A.': -230, 'Roll Bounce': -50, 'Rushmore': -70, 'Skyline': -110, 'The Second Best Exotic Marigold Hotel': -50, 'Kit Kittredge: An American Girl': -90, 'The Perfect Man': -110, 'Mo Better Blues': -50, 'Kung Pow: Enter the Fist': -50, 'Tremors': 70, 'Wrong Turn': -50, 'The Long Riders': -130, 'The Corruptor': -490, 'Mud': -90, 'Reno 911!: Miami': -250, 'One Direction: This Is Us': -50, 'The Goods: Live Hard, Sell Hard': -50, 'Hey Arnold! The Movie': -50, 'My Week with Marilyn': -50, 'The Matador': -130, 'Love Jones': -130, 'The Gift': -400, 'End of the Spear': -90, 'Get Over It': -50, 'Office Space': -170, 'Drop Dead Gorgeous': -50, 'Big Eyes': -130, 'Very Bad Things': -50, 'Sleepover': -50, 'Body Double': -220, 'MacGruber': -50, 'Dirty Pretty Things': -70, 'Movie 43': -50, 'Over Her Dead Body': -190, 'Seeking a Friend for the End of the World': -60, 'Cedar Rapids': -50, 'Bones': -50, 'American History X': 0, 'The Collection': -150, 'Teachers Pet': -50, 'The Red Violin': -80, 'The Straight Story': -50, 'Deuces Wild': -50, 'Bad Words': -90, 'Run, Fatboy, Run': -90, 'Heartbeeps': 230, 'Black or White': -50, 'On the Line': -110, 'Rescue Dawn': -50, 'Danny Collins': -50, 'Jeff, Who Lives at Home': -50, 'I Am Love': 0, 'Atlas Shrugged II: The Strike': -50, 'Romeo Is Bleeding': -430, 'The Limey': -430, 'Crash': -200, 'The House of Mirth': -50, 'Malone': -190, 'Peaceful Warrior': -50, 'Bucky Larson: Born to Be a Star': -50, 'Bamboozled': -170, 'The Forest': -110, 'Sphinx': -150, 'While Were Young': -50, 'A Better Life': -210, 'Spider': -110, 'Gun Shy': -150, 'Nicholas Nickleby': -90, 'The Iceman': -50, 'Krrish': 0, 'Cecil B. DeMented': -90, 'Killer Joe': -50, 'The Joneses': -90, 'Owning Mahowny': -50, 'The Brothers Solomon': -170, 'My Blueberry Nights': -50, 'Illuminata': -50, 'Swept Away': -90, 'War, Inc.': -110, 'Shaolin Soccer': -40, 'The Brown Bunny': -50, 'The Swindle': 0, 'Rosewater': -50, 'The Chambermaid on the Titanic': 0, 'Coriolanus': -50, 'Imaginary Heroes': -50, 'High Heels and Low Lifes': -110, 'Worlds Greatest Dad': -50, 'Severance': -110, 'Edmond': -50, 'Welcome to the Rileys': -50, 'Police Academy: Mission to Moscow': -50, 'Blood Done Sign My Name': -50, 'Cinco de Mayo, La Batalla': 0, 'Elsa & Fred': -50, 'An Alan Smithee Film: Burn Hollywood Burn': -50, 'The Open Road': -50, 'The Good Guy': -50, 'Motherhood': -170, 'Free Style': -50, 'Strangerland': -110, 'The Janky Promoters': -50, 'Blonde Ambition': -50, 'The Oxford Murders': -110, 'The Reef': 190, 'Eulogy': -50, 'White Noise 2: The Light': -230, 'You Got Served: Beat the World': -50, 'Fifty Dead Men Walking': -50, 'Jungle Shuffle': -50, 'Adam Resurrected': -50, 'Of Horses and Men': 0, 'Its a Wonderful Afterlife': -270, 'The Devils Tomb': -150, 'Partition': -50, 'Good Intentions': -50, 'The Good, the Bad, the Weird': -60, 'Nurse 3D': -50, 'Gunless': -50, 'Adventureland': -50, 'The Lost City': -50, 'Next Friday': -130, 'American Heist': -230, 'You Only Live Twice': -110, 'Plastic': -50, 'Amour': 0, 'Poltergeist III': -50, 'Re-Kill': -50, 'Its a Mad, Mad, Mad, Mad World': -170, 'Volver': -160, 'Heavy Metal': -50, 'Gentlemen Broncos': -110, 'Richard III': -50, 'Into the Grizzly Maze': -60, 'Kites': -110, 'Melancholia': -50, 'Red Dog': -110, 'Jab Tak Hai Jaan': 0, 'Alien': 630, 'The Texas Chain Saw Massacre': -200, 'The Runaways': -50, 'Fiddler on the Roof': -50, 'Thunderball': -110, 'Detention': -110, 'Loose Cannons': 0, 'Set It Off': -230, 'The Best Man': -50, 'Childs Play': -110, 'Sicko': -50, 'The Purge: Anarchy': -110, 'Down to You': -50, 'Harold & Kumar Go to White Castle': -270, 'The Contender': -50, 'Boiler Room': -50, 'Trading Places': -50, 'Black Christmas': -50, 'Breakin All the Rules': -90, 'Henry V': -50, 'The Savages': -50, 'Chasing Papi': -50, 'The Way of the Gun': -390, 'Igby Goes Down': -50, 'PCU': -50, 'The Ultimate Gift': -50, 'The Bold and the Beautiful': -50, 'The Ice Pirates': -110, 'Gracie': -50, 'Trust the Man': -50, 'Hamlet 2': -50, 'Velvet Goldmine': -50, 'The Wailing': -280, 'Glee: The 3D Concert Movie': -50, 'The Legend of Suriyothai': 0, 'Two Evil Eyes': -50, 'Barbecue': 0, 'All or Nothing': -170, 'Princess Kaiulani': -50, 'Opal Dream': -50, 'Flame and Citron': 0, 'Undiscovered': -50, 'Red Riding: In the Year of Our Lord 1974': -350, 'The Girl on the Train': 0, 'Veronika Decides to Die': -130, 'Crocodile Dundee': -190, 'Ultramarines: A Warhammer 40,000 Movie': 10, 'The I Inside': -190, 'Beneath Hill 60': -130, 'Polisse': -160, 'Awake': -110, 'Star Wars: The Clone Wars': -50, 'Skin Trade': -230, 'The Lost Boys': -210, 'Crazy Heart': -130, 'The Rose': -50, 'Baggage Claim': -50, 'Barbarella': 190, 'Shipwrecked': -150, 'Election': -90, 'The Namesake': -50, 'The DUFF': -170, 'Glitter': -50, 'The Haunting in Connecticut 2: Ghosts of Georgia': -230, 'Silmido': -100, 'Bright Star': -50, 'My Name Is Khan': -60, 'All Is Lost': -50, 'Limbo': 270, 'Namastey London': 0, 'The Wind That Shakes the Barley': -50, 'Yeh Jawaani Hai Deewani': 0, 'Quo Vadis': -50, 'Repo! The Genetic Opera': 110, 'Valley of the Wolves: Iraq': 0, 'Pulp Fiction': -50, 'The Muppet Movie': -50, 'Nightcrawler': -90, 'Club Dread': -150, 'The Sound of Music': -50, 'Splash': -110, 'Little Miss Sunshine': -50, 'Stand by Me': -50, '28 Days Later...': -130, 'You Got Served': -50, 'Escape from Alcatraz': -90, 'Brown Sugar': -90, 'A Thin Line Between Love and Hate': -130, '50/50': -90, 'Shutter': -110, 'That Awkward Moment': -50, 'Modern Problems': -110, 'Kicks': -50, 'Much Ado About Nothing': -50, 'On Her Majestys Secret Service': -150, 'The Player': -50, 'New Nightmare': -290, 'Drive Me Crazy': -50, 'Akeelah and the Bee': -50, 'Half Baked': -50, 'New in Town': -50, 'American Psycho': -50, 'The Good Girl': -50, 'Bon Cop Bad Cop': -330, 'The Boondock Saints II: All Saints Day': -110, 'The City of Your Final Destination': -90, 'Enough Said': -50, 'Easy A': -50, 'The Inkwell': -50, 'Shadow of the Vampire': -80, 'Prom': -50, 'The Pallbearer': -50, 'Held Up': -50, 'Woman on Top': -110, 'Howards End': -50, 'Preacher': -50, 'Anomalisa': -50, 'Another Year': -50, '8 Women': -80, 'Showdown in Little Tokyo': -210, 'Clay Pigeons': -90, 'Its Kind of a Funny Story': -50, 'Made in Dagenham': -130, 'When Did You Last See Your Father?': -90, 'Prefontaine': -50, 'The Wicked Lady': -170, 'The Secret of Kells': -50, 'Begin Again': -50, 'Down in the Valley': -50, 'Brooklyn Rules': -50, 'Restless': -50, 'The Singing Detective': -130, 'The Land Girls': -50, 'Fido': -260, 'The Wendell Baker Story': -110, 'Wild Target': -130, 'Pathology': -50, 'Wuthering Heights': -50, '10th & Wolf': -90, 'Dear Wendy': -50, 'Aloft': -50, 'Akira': 0, 'The Death and Life of Bobby Z': -190, 'The Rocket: The Legend of Rocket Richard': 0, 'Swelter': -230, 'My Lucky Star': -60, 'Imagine Me & You': -50, 'Mr. Church': -50, 'Swimming Pool': -350, 'Green Street 3: Never Back Down': -90, 'The Blood of Heroes': -50, 'Code of Honor': -210, 'Driving Miss Daisy': -150, 'Soul Food': -50, 'Rumble in the Bronx': -40, 'Far from Men': 0, 'Thank You for Smoking': -90, 'Hostel: Part II': -50, 'An Education': -50, 'Shopgirl': -50, 'The Hotel New Hampshire': -50, 'Narc': -350, 'Men with Brooms': -50, 'Witless Protection': -90, 'The Work and the Glory': -50, 'Extract': -90, 'Masked and Anonymous': -130, 'Alias Betty': -120, 'Code 46': -50, 'Outside Bet': -50, 'Albert Nobbs': -70, 'Black November': -230, 'Ta Ra Rum Pum': -60, 'Persepolis': 0, 'The Hole': -110, 'The Wave': 0, 'The Neon Demon': -50, 'Harry Brown': -430, 'The Omega Code': -170, 'Juno': -360, 'Pound of Flesh': -110, 'Diamonds Are Forever': -110, 'The Godfather': -50, 'Flashdance': -50, '500 Days of Summer': -50, 'The Piano': -50, 'Magic Mike': -90, 'Darkness Falls': -110, 'Live and Let Die': -150, 'My Dog Skip': -50, 'Definitely, Maybe': -130, 'Jumping the Broom': -50, 'Good Night, and Good Luck.': 0, 'Capote': -50, 'Desperado': -110, 'Fargo': -50, 'Logans Run': -50, 'The Man with the Golden Gun': -110, 'Action Jackson': -170, 'The Descent': -110, 'Michael Jordan to the Max': -50, 'Devils Due': -50, 'Flirting with Disaster': -50, 'The Devils Rejects': -210, 'Buffy the Vampire Slayer': -50, 'Dope': -50, 'In Too Deep': -250, 'House of 1000 Corpses': 0, 'Alien Zone': -50, 'A Serious Man': -50, 'Get Low': -130, 'Warlock': -210, 'Beyond the Lights': -50, 'A Single Man': -50, 'The Last Temptation of Christ': -50, 'Outside Providence': -50, 'Bride & Prejudice': -50, 'Rabbit-Proof Fence': 0, 'Whos Your Caddy?': -50, 'Split Second': -110, 'Nikita': -50, 'The Other Side of Heaven': -50, 'Dark Angel': -50, 'Veer-Zaara': -80, 'Redbelt': -90, 'Cyrus': -70, 'A Dog of Flanders': -90, 'Auto Focus': -50, 'Factory Girl': -50, 'We Need to Talk About Kevin': -90, 'The Christmas Candle': -50, 'The Mighty Macs': -50, 'Losin It': -110, 'Mother and Child': -130, 'March or Die': -50, 'Les visiteurs': -60, 'Somewhere': -130, 'I Hope They Serve Beer in Hell': -50, 'Chairman of the Board': -50, 'Hesher': -90, 'Dom Hemingway': -190, 'Gerry': -50, 'The Heart of Me': -130, 'Freeheld': -50, 'The Extra Man': -90, 'Hard to Be a God': -120, 'Ca$h': -50, 'Wah-Wah': -50, 'The Boondock Saints': -180, 'Z Storm': 0, 'Twixt': -130, 'Snow Queen': -60, 'Alpha and Omega 4: The Legend of the Saw Toothed Cave': -180, 'Pale Rider': -50, 'Stargate: The Ark of Truth': -50, 'Dazed and Confused': -50, 'High School Musical 2': -110, 'Two Lovers and a Bear': -50, 'Criminal Activities': -50, 'Aimee & Jaguar': 0, 'The Chumscrubber': -90, 'Shade': -50, 'House at the End of the Street': -50, 'Incendies': 0, 'Remember Me, My Love': -40, 'Perriers Bounty': -410, 'Elite Squad': -340, 'Annabelle': -50, 'Bran Nue Dae': -50, 'Boyz n the Hood': -50, 'La Bamba': -50, 'The Four Seasons': -50, 'Dressed to Kill': -430, 'The Adventures of Huck Finn': -50, 'Go': -130, 'Friends with Money': -50, 'The Andromeda Strain': 370, 'Bats': -50, 'Nowhere in Africa': -50, 'Shame': -90, 'Layer Cake': -50, 'The Work and the Glory II: American Zion': -50, 'The East': -90, 'A Home at the End of the World': -50, 'Aberdeen': -110, 'The Messenger': -50, 'Tracker': -50, 'Control': 0, 'The Terminator': 2675, 'Good Bye Lenin!': 0, 'The Damned United': -50, 'The Return of the Living Dead': -320, 'Gomorrah': 0, 'Mallrats': -50, 'Grease': -50, 'Platoon': -50, 'Fahrenheit 9/11': -50, 'Butch Cassidy and the Sundance Kid': -50, 'Mary Poppins': -50, 'Ordinary People': -90, 'West Side Story': -50, 'Caddyshack': -190, 'The Brothers': -50, 'The Wood': -50, 'The Usual Suspects': -430, 'A Nightmare on Elm Street 5: The Dream Child': -60, 'Van Wilder: Party Liaison': -50, 'The Wrestler': -50, 'Duel in the Sun': -90, 'Best in Show': -50, 'Escape from New York': -450, 'School Daze': -90, 'Daddy Day Camp': -110, 'Mr. Nice Guy': -50, 'A Mighty Wind': -50, 'Mystic Pizza': -50, 'War & Peace': -50, 'Sliding Doors': -110, 'Tales from the Hood': -150, 'The Last King of Scotland': -130, 'Halloween 5': -50, 'Bernie': -50, 'Dolphins and Whales 3D: Tribes of the Ocean': -50, 'Pollock': -50, '200 Cigarettes': -50, 'The Words': -270, 'Casa de mi Padre': -80, 'City Island': -50, 'The Guard': -90, 'College': -50, 'The Virgin Suicides': -50, 'Little Voice': -50, 'Miss March': -50, 'Wish I Was Here': -130, 'Simply Irresistible': -110, 'Veronica Mars': -50, 'Hedwig and the Angry Inch': -50, 'Only the Strong': -130, 'Goddess of Love': -230, 'Shattered Glass': -170, 'Novocaine': -130, 'The Business of Strangers': -190, 'The Wild Bunch': -50, 'The Wackness': -50, 'The Great Train Robbery': 0, 'Morvern Callar': -50, 'Beastmaster 2: Through the Portal of Time': -50, 'The 5th Quarter': -90, 'The Flower of Evil': 0, 'The Greatest': -50, 'Snow Flower and the Secret Fan': 0, 'Come Early Morning': -50, 'Lucky Break': -50, 'Julia': -90, 'Surfer, Dude': -50, 'Lake of Fire': 0, '11:14': -50, 'Men of War': -105, 'Don McKay': -110, 'Deadfall': -50, 'A Shine of Rainbows': -130, 'The Hit List': -110, 'Emma': -50, 'Videodrome': -110, 'Lauberge espagnole': 0, 'Song One': -50, 'Winter in Wartime': 0, 'Freaky Deaky': 0, 'The Train': 0, 'Trade of Innocents': -50, 'The Protector': -340, 'Stiff Upper Lips': -50, 'The Inbetweeners': -50, 'Bend It Like Beckham': -50, 'Sunshine State': -50, 'Crossover': -50, 'Khiladi 786': 0, '[Rec] 2': -80, 'Standing Ovation': -50, 'The Sting': -50, 'Chariots of Fire': -50, 'Diary of a Mad Black Woman': -50, 'Shine': -50, 'Don Jon': -50, 'High Plains Drifter': -130, 'Ghost World': -50, 'Iris': -90, 'Galaxina': 430, 'The Chorus': 0, 'Mambo Italiano': -210, 'Wonderland': -510, 'Do the Right Thing': -50, 'Harvard Man': -50, 'Le Havre': -120, 'Irreversible': -380, 'R100': 0, 'Rang De Basanti': 0, 'Animals': -50, 'Salvation Boulevard': -110, 'The Ten': -130, 'A Room for Romeo Brass': -50, 'Headhunters': -40, 'Grabbers': -110, 'Saint Ralph': -50, 'Miss Julie': -50, 'Somewhere in Time': 150, 'Dum Maaro Dum': -400, 'Insidious: Chapter 2': -110, 'Saw II': -330, '10 Cloverfield Lane': 250, 'Jackass: The Movie': -50, 'Lights Out': -50, 'Paranormal Activity 3': -50, 'Ouija': -190, 'A Nightmare on Elm Street 3: Dream Warriors': -170, 'Instructions Not Included': 0, 'Paranormal Activity 4': -50, 'The Robe': -90, 'The Return of the Pink Panther': -50, 'Freddys Dead: The Final Nightmare': -50, 'Monster': -170, '20,000 Leagues Under the Sea': 280, 'Paranormal Activity: The Marked Ones': -230, 'The Elephant Man': -80, 'Dallas Buyers Club': -50, 'The Lazarus Effect': -50, 'Memento': -60, 'Oculus': -130, 'Clerks II': 0, 'Billy Elliot': -50, 'The Way Way Back': -50, 'House Party 2': -50, 'The Man from Snowy River': -110, 'Dougs 1st Movie': 70, 'The Apostle': -50, 'Mommie Dearest': -50, 'Our Idiot Brother': -50, 'Race': -50, 'The Players Club': -90, 'As Above, So Below': -110, 'Addicted': 0, 'Eves Bayou': -210, 'Still Alice': -50, 'The Egyptian': -50, 'Nighthawks': -110, 'Friday the 13th Part VIII: Jason Takes Manhattan': -110, 'My Big Fat Greek Wedding': -110, 'Spring Breakers': -50, 'Halloween: The Curse of Michael Myers': -170, 'Y Tu Mamá También': -60, 'Shaun of the Dead': -190, 'The Haunting of Molly Hartley': -50, 'Lone Star': -50, 'Halloween 4: The Return of Michael Myers': -50, 'April Fools Day': -170, 'Diner': -50, 'Lone Wolf McQuade': -270, 'Apollo 18': -110, 'Sunshine Cleaning': -50, 'No Escape': -110, 'The Beastmaster': -110, 'Solomon and Sheba': -50, 'Fifty Shades of Black': -50, 'Not Easily Broken': -50, 'A Farewell to Arms': -60, 'The Perfect Match': -50, 'Digimon: The Movie': -150, 'Saved!': -50, 'The Barbarian Invasions': 0, 'Robin and Marian': -50, 'The Forsaken': -130, 'Force 10 from Navarone': -80, 'UHF': -50, 'Grandmas Boy': -50, 'Slums of Beverly Hills': -50, 'Once Upon a Time in the West': -50, 'Made': -50, 'Moon': -50, 'Keeping Up with the Steins': -50, 'Sea Rex 3D: Journey to a Prehistoric World': -50, 'The Sweet Hereafter': -50, 'Of Gods and Men': 0, 'Bottle Shock': -110, 'Jekyll and Hyde... Together Again': -130, 'Heavenly Creatures': -170, '90 Minutes in Heaven': -130, 'Everything Must Go': -50, 'Zero Effect': -350, 'The Machinist': -50, 'Light Sleeper': -50, 'Kill the Messenger': -630, 'Rabbit Hole': -50, 'Party Monster': -170, 'Green Room': -50, 'The Oh in Ohio': -130, 'Atlas Shrugged: Who Is John Galt?': -130, 'Bottle Rocket': -50, 'Albino Alligator': -210, 'Gandhi, My Father': 0, 'Standard Operating Procedure': -50, 'Out of the Blue': -200, 'Tucker and Dale vs Evil': -110, 'Lovely, Still': -50, 'Tycoon': -50, 'Desert Blue': -90, 'Decoys': -110, 'The Visit': -50, 'Redacted': -250, 'Fascination': -230, 'Saving Grace': -200, 'Area 51': 430, 'Sleep Tight': -40, 'The Cottage': -190, 'Dead Like Me: Life After Death': -310, 'Farce of the Penguins': -50, 'Flying By': -50, 'Psych': -50, 'Rudderless': -50, 'Henry & Me': -50, 'Christmas Eve': -50, 'We Have Your Husband': -50, 'Dying of the Light': -210, 'Born of War': -230, 'Capricorn One': -190, 'Shouldve Been Romeo': -50, 'Running Forever': -50, 'Yoga Hosers': -90, 'Navy Seals vs. Zombies': -130, 'I Served the King of England': 0, 'Soul Kitchen': 0, 'Sling Blade': -50, 'The Awakening': -130, 'Hostel': -50, 'Tristram Shandy: A Cock and Bull Story': -50, 'Take Shelter': -50, 'Lady in White': -370, 'Driving Lessons': -90, 'Lets Kill Wards Wife': -170, 'The Texas Chainsaw Massacre 2': -110, 'Pat Garrett & Billy the Kid': -50, 'Only God Forgives': -50, 'Camping sauvage': 0, 'Without Men': -130, 'Barfi': 0, 'Dear Frankie': -50, 'All Hat': -50, 'The Names of Love': 0, 'Treading Water': -50, 'Savage Grace': -90, 'Police Academy': -210, 'The Blue Lagoon': -90, 'Four Weddings and a Funeral': -50, 'Fast Times at Ridgemont High': -50, 'Moby Dick': -130, '25th Hour': -50, 'Secrets and Lies': -50, 'Bound': -130, 'Requiem for a Dream': -50, 'State Fair': -50, 'Tango': 0, 'Salvador': -50, 'Moms Night Out': -50, 'Donnie Darko': 110, 'Saving Private Perez': 100, 'Character': -160, 'Spun': -190, 'Life During Wartime': -130, 'Lady Vengeance': -80, 'Mozarts Sister': 0, 'Mean Machine': -50, 'Exiled': -180, 'Blackthorn': -210, 'Lilya 4-Ever': 0, 'After.Life': -270, 'Fugly': 0, 'One Flew Over the Cuckoos Nest': -110, 'R.L. Stines Monsterville: The Cabinet of Souls': -50, 'Silent Movie': 0, 'Airlift': -60, 'Anne of Green Gables': -50, 'Falcon Rising': -50, 'The Sweeney': -170, 'Sexy Beast': -130, 'Easy Money': -220, 'Whale Rider': -50, 'Paa': 0, 'Cargo': -100, 'High School Musical': -110, 'Animal Kingdom': -50, 'Love and Death on Long Island': -130, 'Night Watch': 0, 'The Crying Game': -50, 'Porkys': -130, 'Survival of the Dead': -170, 'Night of the Living Dead': -160, 'Lost in Translation': -50, 'Annie Hall': -50, 'The Greatest Show on Earth': -50, 'Monsters Ball': -50, 'Maggie': -50, 'Leaving Las Vegas': -130, 'Hansel & Gretel Get Baked': -110, 'The Front Page': -50, 'The Boy Next Door': -110, 'Trapeze': -50, 'The Kids Are All Right': -70, 'They Live': 270, 'The Great Escape': -130, 'What the #$*! Do We (K)now!?': -120, 'The Last Exorcism Part II': -130, 'Boyhood': -50, 'Scoop': -50, 'The Wash': -50, '3 Strikes': -50, 'The Cooler': -50, 'The Misfits': 0, 'The Night Listener': -110, 'The Jerky Boys': -210, 'The Orphanage': -140, 'A Haunted House 2': -110, 'The Rules of Attraction': -50, 'Topaz': -90, 'Lets Go to Prison': -130, 'Four Rooms': -190, 'Secretary': -130, 'The Real Cancun': -50, 'Talk Radio': -50, 'Waiting for Guffman': -50, 'Love Stinks': -50, 'You Kill Me': -90, 'Thumbsucker': -50, 'Red State': -110, 'Mirrormask': -110, 'Samsara': 0, 'The Barbarians': -110, 'The Art of Getting By': -50, 'Zipper': -50, 'Poolhall Junkies': -130, 'The Loss of Sexual Innocence': -90, 'Holy Motors': -40, 'Joe': -50, 'Shooting Fish': -50, 'Prison': -130, 'Psycho Beach Party': -110, 'The Big Tease': -170, 'Buen Día, Ramón': 0, 'Trust': -90, 'An Everlasting Piece': -50, 'Among Giants': -50, 'Adore': -170, 'The Velocity of Gary': -130, 'Mondays in the Sun': 0, 'Stake Land': -50, 'Sonny with a Chance': -50, 'The Last Time I Committed Suicide': -90, 'Futuro Beach': -140, 'Another Happy Day': -50, 'A Lonely Place to Die': -170, 'Nothing': -110, 'The Geographer Drank His Globe Away': -80, '1776': -50, 'Inescapable': -110, 'Hells Angels': 0, 'Purple Violets': -50, 'The Veil': -50, 'The Loved Ones': -50, 'No Vacancy': -110, 'How to Fall in Love': -50, 'The Perfect Wave': -50, 'A Man for All Seasons': -50, 'Network': -50, 'Gone with the Wind': -50, 'Desert Dancer': -50, 'Major Dundee': -50, 'Down for Life': -50, 'Annie Get Your Gun': -50, 'Four Lions': -50, 'House of Sand': 0, 'Defendor': -50, 'The Pirate': -110, 'The Good Heart': -90, 'The History Boys': -50, 'M*A*S*H': -50, 'Midnight Cowboy': 0, 'The Full Monty': -200, 'Airplane!': -110, 'Chain of Command': -150, 'Friday': -160, 'Menace II Society': -50, 'Empire': -50, 'Creepshow 2': -50, 'The Ballad of Cable Hogue': -50, 'In Cold Blood': -160, 'The Nuns Story': -110, 'Harper': -330, 'Frenzy': -250, 'The Witch': -50, 'I Got the Hook Up': -50, 'Shes the One': -130, 'Gods and Monsters': 0, 'The Secret in Their Eyes': -60, 'Train': -90, 'Evil Dead II': -50, 'Pootie Tang': -190, 'Sharknado': -50, 'La otra conquista': 0, 'Trollhunter': 0, 'Ira & Abby': -50, 'Winter Passing': -50, 'D.E.B.S.': -50, 'The Masked Saint': -110, 'The Betrayed': -390, 'Taxman': -170, 'The Secret': -50, '2:13': -90, 'Batman: The Dark Knight Returns, Part 2': -110, 'Time to Choose': -50, 'In the Name of the King: The Last Job': -170, 'Wicked Blood': -230, 'Dawn Patrol': -90, 'Lords of London': -110, 'High Anxiety': -90, 'March of the Penguins': 240, 'Margin Call': -50, 'August': -50, 'Choke': -130, 'Whiplash': -90, 'City of God': -40, 'Human Traffic': -50, 'Day One': -50, 'The Dead Girl': -50, 'The Hunt': -80, 'A Christmas Story': -110, 'Bella': -50, 'Class of 1984': -230, 'The Opposite Sex': -50, 'Dreaming of Joseph Lees': -50, 'The Class': 0, 'Rosemarys Baby': -50, 'The Man Who Shot Liberty Valance': 0, 'Adam': -90, 'Maria Full of Grace': 0, 'Beginners': -90, 'Feast': -30, 'Animal House': -50, 'Goldfinger': -110, 'Antiviral': -50, 'Its a Wonderful Life': -110, 'Trainspotting': -50, 'The Original Kings of Comedy': -50, 'Paranormal Activity 2': -50, 'Waking Ned Devine': -90, 'Bowling for Columbine': 0, 'Coming Home': -140, 'A Nightmare on Elm Street 2: Freddys Revenge': -110, 'A Room with a View': -90, 'The Purge': -130, 'Sinister': -170, 'Martin Lawrence Live: Runteldat': -50, 'Cat on a Hot Tin Roof': -50, 'Beneath the Planet of the Apes': -130, 'Air Bud': -110, 'Pokémon 3: The Movie': 60, 'Jason Lives: Friday the 13th Part VI': -90, 'The Bridge on the River Kwai': -50, 'Spaced Invaders': 330, 'Family Plot': -130, 'The Apartment': 0, 'Jason Goes to Hell: The Final Friday': -110, 'Torn Curtain': -110, 'Dave Chappelles Block Party': -50, 'Slow West': -50, 'Krush Groove': -50, 'Next Day Air': -50, 'Elmer Gantry': -50, 'Judgment at Nuremberg': 0, 'Trippin': -50, 'Robot Chicken': -50, 'Red River': 0, 'Phat Girlz': -50, 'Before Midnight': -50, 'Teen Wolf Too': -110, 'Phantasm II': -170, 'Woman Thou Art Loosed': -90, 'Real Women Have Curves': -50, 'Deadline Gallipoli': -50, 'Water': 0, 'East Is East': -50, 'Whipped': -50, 'Kama Sutra: A Tale of Love': -50, 'Please Give': -170, 'Willy Wonka & the Chocolate Factory': -110, 'Warlock: The Armageddon': -110, '8 Heads in a Duffel Bag': -50, 'Days of Heaven': -50, 'Thirteen Conversations About One Thing': -50, 'Jawbreaker': -50, 'Basquiat': -50, 'Frances Ha': 0, 'Tsotsi': -120, 'Happiness': -130, 'DysFunktional Family': -50, 'Tusk': -110, 'Oldboy': -300, 'Letters to God': -50, 'Hobo with a Shotgun': -110, 'Compadres': -50, 'Freeway': -210, 'Loves Abiding Joy': 0, 'Fish Tank': -130, 'Damsels in Distress': -50, 'Creature': -50, 'Bachelorette': -50, 'BrainDead': -50, 'Brave New Girl': -50, 'Tim and Erics Billion Dollar Movie': -50, 'The Grand': -50, 'Summer Storm': 0, 'Fort McCoy': -50, 'Chain Letter': -50, 'Just Looking': -110, 'The Divide': 570, 'The Eclipse': -250, 'Demonic': -130, 'My Big Fat Independent Movie': -50, 'The Deported': -130, 'Tanner Hall': -50, 'Open Road': -270, 'They Came Together': -50, '30 Nights of Paranormal Activity with the Devil Inside the Girl with the Dragon Tattoo': -130, 'Never Back Down 2: The Beatdown': -90, 'Point Blank': -290, 'Four Single Fathers': 0, 'Enter the Dangerous Mind': -50, 'Something Wicked': -180, 'AWOL-72': -50, 'Iguana': -50, 'Chicago Overcoat': -250, 'Barry Munday': -210, 'Central Station': 0, 'Pocketful of Miracles': -50, 'Close Range': -50, 'Boynton Beach Club': -50, 'Amnesiac': -230, 'Freakonomics': -50, 'High Tension': 0, 'Griff the Invisible': -110, 'Unnatural': -110, 'Hustle & Flow': -50, 'Some Like It Hot': 0, 'Friday the 13th Part VII: The New Blood': -90, 'The Wizard of Oz': 0, 'Young Frankenstein': -60, 'Diary of the Dead': -210, 'Lage Raho Munna Bhai': 0, 'Ulees Gold': -50, 'The Black Stallion': -150, 'Sardaar Ji': 0, 'Journey to Saturn': -60, 'Donovans Reef': -110, 'The Dress': 0, 'A Guy Named Joe': -40, 'Blazing Saddles': -50, 'Friday the 13th: The Final Chapter': -50, 'Ida': 0, 'Maurice': -50, 'Beer League': -50, 'Riding Giants': -50, 'Timecrimes': -100, 'Silver Medallist': -60, 'Timber Falls': -50, 'Singin in the Rain': -50, 'Fat, Sick & Nearly Dead': -50, 'A Haunted House': -110, '2016: Obamas America': -50, 'That Thing You Do!': -50, 'Halloween III: Season of the Witch': -130, 'Escape from the Planet of the Apes': 190, 'Hud': 0, 'Kevin Hart: Let Me Explain': -50, 'My Own Private Idaho': -50, 'Garden State': -210, 'Before Sunrise': -50, 'Sur le seuil': -140, 'Jesus Son': -130, 'Saving Face': -50, 'Brick Lane': -50, 'Robot & Frank': 110, 'My Life Without Me': -170, 'The Spectacular Now': -50, 'Marilyn Hotchkiss Ballroom Dancing and Charm School': -110, 'Religulous': -50, 'Fuel': -50, 'Valley of the Hearts Delight': -90, 'Eye of the Dolphin': -230, '8: The Mormon Proposition': -50, 'The Other End of the Line': -50, 'Anatomy': 0, 'Sleep Dealer': 240, 'Super': -50, 'Christmas Mail': -110, 'Stung': 70, 'Antibirth': -50, 'Get on the Bus': -130, 'Thr3e': -230, 'Idiocracy': 130, 'The Rise of the Krays': 0, 'This Is England': -50, 'Alien Uprising': -50, 'Bathing Beauty': -50, 'Go for It!': -50, 'Dancer, Texas Pop. 81': -110, 'Show Boat': -50, 'Redemption Road': -50, 'The Calling': -200, 'The Brave Little Toaster': -50, 'Fantasia': -110, '8 Days': -50, 'Friday the 13th Part III': -50, 'Friday the 13th: A New Beginning': -110, 'The Last Sin Eater': -90, 'Do You Believe?': -50, 'Impact Point': -210, 'The Valley of Decision': 0, 'Eden': -90, 'Chicken Tikka Masala': -50, 'Always Woodstock': -50, 'Jack Brooks: Monster Slayer': -150, 'The Best Years of Our Lives': 0, 'Bully': -90, 'Elling': 0, 'Mi America': -50, '[Rec]': 0, 'Lies in Plain Sight': -50, 'Sharkskin': -110, 'Containment': -50, 'The Timber': -50, 'From Russia with Love': -110, 'The Toxic Avenger Part II': -110, 'In the Heat of the Night': -50, 'Sleeper': 30, 'It Follows': -50, 'Everything You Always Wanted to Know About Sex * But Were Afraid to Ask': 0, 'To Kill a Mockingbird': 0, 'Mad Max 2: The Road Warrior': -120, 'The Legend of Drunken Master': -40, 'Boys Dont Cry': -50, 'Silent House': -310, 'The Lives of Others': -200, 'Courageous': -210, 'The Hustler': 0, 'Boom Town': 0, 'The Triplets of Belleville': 0, 'Smoke Signals': -50, 'American Splendor': -50, 'Before Sunset': -50, 'Amores Perros': 0, 'Thirteen': -50, 'Gentlemans Agreement': -40, 'Winters Bone': -50, 'Touching the Void': -50, 'Alexanders Ragtime Band': 0, 'Me and You and Everyone We Know': -50, 'Inside Job': -50, 'We Are Your Friends': -50, 'Ghost Dog: The Way of the Samurai': -230, 'Harsh Times': -390, 'Captive': -50, 'Full Frontal': -130, 'Witchboard': -110, 'Strangers with Candy': -50, 'Shortbus': -50, 'Waltz with Bashir': 0, 'The Book of Mormon Movie, Volume 1: The Journey': -50, 'No End in Sight': -50, 'The Diary of a Teenage Girl': -50, 'Get Real': -50, 'In the Shadow of the Moon': 0, 'Meeks Cutoff': -50, 'Inside Deep Throat': 0, 'Dinner Rush': -330, 'Clockwatchers': -50, 'The Virginity Hit': -50, 'Subway': 0, 'House of D': -90, 'Teeth': -50, 'Six-String Samurai': -110, 'Hum To Mohabbat Karega': -220, 'Its All Gone Pete Tong': -50, 'Saint John of Las Vegas': -50, '24 7: Twenty Four Seven': -40, 'Stonewall': -50, 'Eureka': -50, 'Roadside Romeo': -60, 'This Thing of Ours': -130, 'The Lost Medallion: The Adventures of Billy Stone': -90, 'The Last Five Years': -50, 'The Missing Person': -90, 'Return of the Living Dead III': -130, 'London': -50, 'Sherrybaby': -50, 'Circle': -230, 'Eden Lake': -90, 'Plush': -50, 'Vampire Killers': -50, 'Gangsters Paradise: Jerusalema': -290, 'Freeze Frame': -50, 'Grave Encounters': -130, 'Stitches': -110, 'Nine Dead': -510, 'To Be Frank, Sinatra at 100': -50, 'Bananas': -50, 'Supercapitalist': -50, 'Rockaway': -230, 'Wings': -50, 'The Lady from Shanghai': -300, 'No Mans Land: The Rise of Reeker': -110, 'Highway': -50, 'Small Apartments': 0, 'Coffee Town': -90, 'The Ghastly Love of Johnny X': -60, 'All Is Bright': -50, 'The Torture Chamber of Dr. Sadism': 0, 'Straight As': -50, 'A Funny Thing Happened on the Way to the Forum': -50, 'Slacker Uprising': -50, 'The Legend of Hells Gate: An American Conspiracy': -50, 'The Walking Deceased': -190, 'The Curse of Downers Grove': -230, 'Shark Lake': -210, 'Rivers Edge': -200, 'Northfork': -50, 'The Marine 4: Moving Target': -150, 'Buried': -110, 'Submarine': -50, 'The Square': 0, 'One to Another': 0, 'ABCD (Any Body Can Dance)': 0, 'Man on Wire': -50, 'Abandoned': -50, 'Brotherly Love': -210, 'The Last Exorcism': -50, 'Nowhere Boy': -50, 'A Streetcar Named Desire': 0, 'Dr. Strangelove or: How I Learned to Stop Worrying and Love the Bomb': 0, 'El crimen del padre Amaro': 0, 'Beasts of the Southern Wild': -130, 'Battle for the Planet of the Apes': -90, 'Songcatcher': -170, 'Higher Ground': -50, 'Vaalu': 0, 'The Greatest Movie Ever Sold': -50, 'Ed and His Dead Mother': -140, 'Travelers and Magicians': 0, 'Hang Em High': -50, 'Deadline - U.S.A.': -80, 'Sublime': -130, 'A Beginners Guide to Snuff': -110, 'Independence Daysaster': -50, 'Dysfunctional Friends': -50, 'Run Lola Run': 0, 'May': -50, 'Against the Wild': -110, 'Living Dark: The Story of Ted the Caver': -50, 'Under the Same Moon': 0, 'Conquest of the Planet of the Apes': 190, 'In the Bedroom': -130, 'I Spit on Your Grave': -170, 'Happy, Texas': -50, 'My Summer of Love': -50, 'The Lunchbox': 0, 'Yes': -50, 'You Cant Take It with You': 0, 'From Here to Eternity': 0, 'She Wore a Yellow Ribbon': -50, 'Grace Unplugged': -50, 'Foolish': -50, 'N-Secure': -50, 'Caramel': -240, 'Out of the Dark': -130, 'The Bubble': -40, 'The Conversation': -230, 'Dil Jo Bhi Kahey...': -50, 'Mississippi Mermaid': -40, 'I Love Your Work': -50, 'Cabin Fever': -50, 'Waitress': -50, 'Bloodsport': -90, 'Mr. Smith Goes to Washington': 0, 'Kids': -90, 'The Squid and the Whale': -90, 'Kissing Jessica Stein': -130, 'Kickboxer: Vengeance': 0, 'Spellbound': -250, 'Exotica': -50, 'Buffalo 66': -50, 'Insidious': -290, 'Repo Man': -50, 'Nine Queens': 0, 'The Gatekeepers': 0, 'The Ballad of Jack and Rose': -90, 'The To Do List': -50, 'Killing Zoe': -50, 'The Believer': 0, 'Snow Angels': -50, 'Unsullied': -100, 'Session 9': -90, 'I Want Someone to Eat Cheese With': -50, 'Mooz-Lum': -50, 'Hatchet': -110, 'Modern Times': -60, 'Stolen Summer': -90, 'My Name Is Bruce': -110, 'The Salon': -50, 'Road Hard': -50, 'Forty Shades of Blue': -50, 'Amigo': -50, 'Pontypool': -190, 'Trucker': -130, 'Me You and Five Bucks': -50, 'The Lords of Salem': -230, 'Housebound': -190, 'Wal-Mart: The High Cost of Low Price': -50, 'Fetching Cody': 110, 'Once Upon a Time in Queens': 0, 'Closer to the Moon': -50, 'Mutant World': -50, 'Growing Up Smith': -130, 'Checkmate': -110, '#Horror': -230, 'Wind Walkers': -110, 'Snow White and the Seven Dwarfs': -110, 'The Holy Girl': -80, 'Shalako': -50, 'Incident at Loch Ness': 130, 'The Dog Lover': -50, 'Girl House': -50, 'The Blue Room': 0, 'House at the End of the Drive': -50, 'Batman: The Movie': -50, 'Lock, Stock and Two Smoking Barrels': -90, 'The Ballad of Gregorio Cortez': -50, 'The Streets of San Francisco': -50, 'The Celebration': -80, 'Trees Lounge': -50, 'Journey from the Fall': -80, 'The Basket': -50, 'Eddie: The Sleepwalking Cannibal': -110, 'Space: Above and Beyond': -50, 'Queen of the Mountains': -50, 'Def-Con 4': -50, 'The Hebrew Hammer': 0, 'Neal N Nikki': -50, 'The 41-Year-Old Virgin Who Knocked Up Sarah Marshall and Felt Superbad About It': -130, 'Forget Me Not': -50, 'Rebecca': -100, 'Friday the 13th Part 2': -110, 'The Lost Weekend': 0, 'C.H.U.D.': -50, 'Filly Brown': -50, 'The Lion of Judah': -50, 'Niagara': -90, 'How Green Was My Valley': 0, 'The Girlfriend Experience': -50, 'Da Sweet Blood of Jesus': -50, 'Sex, Lies, and Videotape': -170, 'Saw': -150, 'Super Troopers': -290, 'The Algerian': -110, 'The Amazing Catfish': -80, 'Monsoon Wedding': 0, 'You Can Count on Me': -50, 'The Trouble with Harry': -170, 'But Im a Cheerleader': -50, 'Home Run': -50, 'Reservoir Dogs': -50, 'The Blue Bird': -100, 'The Good, the Bad and the Ugly': 0, 'The Second Mother': 0, 'Blue Like Jazz': -50, 'Down and Out with the Dolls': -50, 'Pink Ribbons, Inc.': -50, 'Certifiably Jonathan': -50, 'Q': 0, 'The Knife of Don Juan': 0, 'Grand Theft Parsons': -110, 'Extreme Movie': -130, 'The Charge of the Light Brigade': 0, 'Below Zero': -50, 'Crowsnest': -50, 'Airborne': -110, 'Cotton Comes to Harlem': -50, 'The Wicked Within': -50, 'Bleeding Hearts': -170, 'Waiting...': -50, 'Dead Mans Shoes': -80, 'Wolf Creek': -50, 'From a Whisper to a Scream': -110, 'Sex with Strangers': -130, 'Dracula: Pages from a Virgins Diary': -60, 'Faith Like Potatoes': 0, 'Beyond the Black Rainbow': -50, 'The Raid: Redemption': -380, 'The Dead Undead': -130, 'The Vatican Exorcisms': -50, 'Casablanca': -210, 'Lake Mungo': -350, 'Rocket Singh: Salesman of the Year': 0, 'Silent Running': 230, 'Rocky': -90, 'The Sleepwalker': -190, 'Tom Jones': -110, 'Unfriended': -190, 'Taxi Driver': -50, 'The Howling': -50, 'Dr. No': -110, 'Chernobyl Diaries': -110, 'Hellraiser': -110, 'Gods Not Dead 2': -50, 'Cry_Wolf': -270, 'Godzilla 2000': 420, 'Blue Valentine': -50, 'Transamerica': -110, 'The Devil Inside': -50, 'Beyond the Valley of the Dolls': -50, 'Love Me Tender': 0, 'An Inconvenient Truth': -50, 'Sands of Iwo Jima': 0, 'Shine a Light': -50, 'The Green Inferno': -110, 'Departure': -50, 'The Sessions': -50, 'Food, Inc.': -50, 'October Baby': -50, 'Next Stop Wonderland': -110, 'The Skeleton Twins': -50, 'Martha Marcy May Marlene': -110, 'Obvious Child': -50, 'Frozen River': -50, '20 Feet from Stardom': -50, 'Two Girls and a Guy': -130, 'Walking and Talking': -50, 'Who Killed the Electric Car?': -50, 'The Broken Hearts Club: A Romantic Comedy': -50, 'Bubba Ho-Tep': -110, 'Slam': 230, 'Brigham City': -50, 'Fiza': 0, 'Orgazmo': -90, 'All the Real Girls': -50, 'Dream with the Fishes': -50, 'Blue Car': -90, 'Luminarias': -50, 'Palo Alto': -50, 'Ajami': 0, 'Wristcutters: A Love Story': -150, 'I Origins': -50, 'The Battle of Shaker Heights': -50, 'The Act of Killing': 0, 'Taxi to the Dark Side': -50, 'Once in a Lifetime: The Extraordinary Story of the New York Cosmos': -50, 'Guiana 1838': -50, 'Lisa Picard Is Famous': -50, 'Antarctica: A Year on Ice': -50, 'A Lego Brickumentary': -50, 'Hardflip': -50, 'Chocolate: Deep Dark Secrets': -40, 'The House of the Devil': -170, 'The Perfect Host': -50, 'Safe Men': -130, 'Speedway Junky': -50, 'The Last Big Thing': -210, 'The Specials': -110, '16 to Life': -50, 'Alone with Her': 0, 'Creative Control': -50, 'Special': -50, 'Sparkler': -50, 'The Helix... Loaded': 10, 'In Her Line of Fire': -90, 'The Jimmy Show': -50, 'Heli': -160, 'Karachi se Lahore': -60, 'Loving Annabelle': -50, 'Hits': -50, 'Jimmy and Judy': -120, 'Frat Party': -50, 'The Partys Over': 0, 'Proud': -90, 'The Poker House': -50, 'Childless': -50, 'ZMD: Zombies of Mass Destruction': -230, 'Snow White: A Deadly Summer': -50, 'Hidden Away': 0, 'My Last Day Without You': -50, 'Steppin: The Movie': -50, 'Doc Hollidays Revenge': -50, 'Black Rock': -90, 'Truth or Die': -50, 'The Pet': -50, 'Bang Bang Baby': -50, 'Fear Clinic': -130, 'Zombie Hunter': -190, 'A Fine Step': 0, 'Charly': -50, 'Banshee Chapter': -50, 'Jesse': -50, 'Ask Me Anything': -50, 'And Then Came Love': -50, 'Food Chains': -50, 'On the Waterfront': -40, 'L!fe Happens': -50, '4 Months, 3 Weeks and 2 Days': 0, 'The Horror Network Vol. 1': -50, 'Hard Candy': -50, 'The Quiet': -170, 'Circumstance': 0, 'Fruitvale Station': -210, 'The Brass Teapot': -110, 'Bambi': -50, 'The Hammer': -50, 'Latter Days': -170, 'Elza': 0, '1982': -50, 'For a Good Time, Call...': -130, 'Celeste & Jesse Forever': -50, 'Time Changer': -50, 'London to Brighton': -50, 'American Hero': -50, 'Windsor Drive': -110, 'A Separation': 0, 'Crying with Laughter': -50, 'Welcome to the Dollhouse': -50, 'Ruby in Paradise': -50, 'Raising Victor Vargas': -90, 'Pandoras Box': 0, 'Harrison Montgomery': -50, 'Live-In Maid': 0, 'Deterrence': -50, 'The Mudge Boy': -90, 'The Young Unknowns': -50, 'Not Cool': -50, 'Dead Snow': -140, 'Saints and Soldiers': -50, 'Vessel': 490, 'American Graffiti': -90, 'Iraq for Sale: The War Profiteers': -50, 'Aqua Teen Hunger Force Colon Movie Film for Theaters': 290, 'Safety Not Guaranteed': 150, 'Kevin Hart: Laugh at My Pain': -50, 'Kill List': -50, 'The Innkeepers': -50, 'The Conformist': -120, 'Interview with the Assassin': -50, 'Donkey Punch': -90, 'All the Boys Love Mandy Lane': -50, 'Bled': -50, 'High Noon': 0, 'Hoop Dreams': -50, 'Rize': -50, 'Destiny': -50, 'L.I.E.': -50, 'The Sisterhood of Night': -110, 'B-Girl': -50, 'Half Nelson': -50, 'Naturally Native': -50, 'Hav Plenty': -50, 'Adulterers': -170, 'Escape from Tomorrow': -60, 'Starsuckers': -50, 'The Hadza: Last of the First': -50, 'After': -290, 'Treachery': 190, 'Walter': -50, 'Top Hat': 0, 'The Blair Witch Project': 0, 'Woodstock': -50, 'The Kentucky Fried Movie': -50, 'Mercy Streets': -50, 'Arnolds Park': -110, 'Broken Vessels': -50, 'Water & Power': -50, 'They Will Have to Kill Us First': 0, 'Crop Circles: Quest for Truth': -50, 'Light from the Darkroom': -110, 'Irreplaceable': -120, 'The Maids Room': -50, 'A Hard Days Night': 0, 'The Harvest/La Cosecha': -50, 'Love Letters': -50, 'Julija in alfa Romeo': 0, 'Fireproof': -50, 'Faith Connections': 0, 'Benji': -110, 'Open Water': -110, 'High Road': -50, 'Kingdom of the Spiders': -90, 'Mad Hot Ballroom': -50, 'The Station Agent': -50, 'To Save a Life': -50, 'Wordplay': -50, 'Beyond the Mat': -50, 'The Singles Ward': -50, 'Osama': 0, 'Sholem Aleichem: Laughing in the Darkness': -50, 'Groove': -50, 'The R.M.': -310, 'Twin Falls Idaho': -50, 'Mean Creek': -50, 'Hurricane Streets': 0, 'Never Again': -50, 'Civil Brand': -50, 'Lonesome Jim': -50, 'Drinking Buddies': -50, 'Deceptive Practice: The Mysteries and Mentors of Ricky Jay': -50, 'Seven Samurai': 0, 'The Other Dream Team': -50, 'Johnny Suede': -40, 'Finishing the Game: The Search for a New Bruce Lee': -50, 'Rubber': -50, 'Kiss the Bride': -130, 'The Slaughter Rule': -50, 'Monsters': 430, 'The Californians': -50, 'The Living Wake': -50, 'Detention of the Dead': -190, 'Crazy Stone': 0, 'Scott Walker: 30 Century Man': -50, 'Everything Put Together': -50, 'Good Kill': -50, 'Insomnia Manica': -50, 'The Outrageous Sophie Tucker': -50, 'Now Is Good': -90, 'Girls Gone Dead': -110, 'America Is Still the Place': -50, 'Subconscious': 390, 'Enter Nowhere': -110, 'The King of Najayo': 0, 'Fight to the Finish': -50, 'Alleluia! The Devils Carnival': -130, 'The Sound and the Shadow': -110, 'Rodeo Girl': -50, 'Born to Fly: Elizabeth Streb vs. Gravity': -50, 'The Little Ponderosa Zoo': -50, 'The Toxic Avenger': -110, 'Straight Out of Brooklyn': -50, 'Bloody Sunday': -130, 'Diamond Ruff': -50, 'Conversations with Other Women': -50, 'Poultrygeist: Night of the Chicken Dead': -110, 'Mutual Friends': -50, '42nd Street': 0, 'Rise of the Entrepreneur: The Search for a Better Way': -50, 'Metropolitan': -50, 'As It Is in Heaven': 0, 'Roadside': -230, 'Napoleon Dynamite': -50, 'Blue Ruin': -90, 'Paranormal Activity': -50, 'Dogtown and Z-Boys': 0, 'Monty Python and the Holy Grail': -50, 'Quinceañera': 0, 'Gory Gory Hallelujah': -50, 'Heroes': -50, 'Tarnation': -50, 'I Want Your Money': -50, 'Love in the Time of Monsters': 70, 'The Beyond': -80, 'Home Movies': -50, 'What Happens in Vegas': -50, 'The Dark Hours': -50, 'My Beautiful Laundrette': -50, 'Fabled': -180, 'Show Me': 0, 'Cries & Whispers': 0, 'Intolerance: Loves Struggle Throughout the Ages': 0, 'Trekkies': -90, 'The Broadway Melody': 0, 'The Evil Dead': -110, 'Maniac': -50, 'Censored Voices': 0, 'Murderball': -50, 'American Ninja 2: The Confrontation': -90, '51 Birch Street': -50, 'Revolution': -50, 'Rotor DR1': -50, '12 Angry Men': 0, 'My Dog Tulip': -50, 'It Happened One Night': -40, 'Dogtooth': 0, 'Tupac: Resurrection': -50, 'Tumbleweeds': -90, 'The Prophecy': -230, 'When the Cats Away': 0, 'Pieces of April': -50, 'The Big Swap': -90, 'Old Joy': -50, 'Wendy and Lucy': -50, '3 Backyards': -50, 'Pierrot le Fou': 0, 'Sisters in Law': -50, 'Ayurveda: Art of Being': -50, 'Nothing But a Man': 0, 'First Love, Last Rites': -130, 'Fighting Tommy Riley': -50, 'Royal Kill': -150, 'The Looking Glass': -50, 'Death Race 2000': -50, 'Locker 13': -50, 'Midnight Cabaret': -40, 'Andersons Cross': -130, 'Bizarre': -90, 'Graduation Day': -50, 'Some Guy Who Kills People': -530, 'Compliance': -170, 'Chasing Amy': -130, 'Lovely & Amazing': -50, 'Death Calls': -130, 'Better Luck Tomorrow': -90, 'The Incredibly True Adventure of Two Girls in Love': -50, 'Chuck & Buck': -50, 'American Desi': -50, 'Amidst the Devils Wings': -50, 'Cube': -110, 'Love and Other Catastrophes': -50, 'I Married a Strange Person!': -190, 'November': -110, 'Like Crazy': -50, 'Teeth and Blood': -50, 'Sugar Town': -50, 'The Motel': 0, 'The Canyons': -90, 'Happy Valley': -50, 'On the Outs': -50, 'Shotgun Stories': -50, 'Exam': -110, 'The Sticky Fingers of Time': 300, 'Sunday School Musical': -50, 'Rust': -50, 'Ink': -50, 'The Christmas Bunny': -50, 'Jesus People': -50, 'Butterfly': -50, 'UnDivided': -50, 'The Frozen': -50, 'Horse Camp': -50, 'Give Me Shelter': -50, 'The Big Parade': 0, 'Little Big Top': -50, 'Along the Roadside': -50, 'Bronson': -50, 'Western Religion': -110, 'Burn': 230, 'Urbania': -50, 'The Stewardesses': -130, 'The Beast from 20,000 Fathoms': 120, 'Mad Max': -170, 'Swingers': -130, 'A Fistful of Dollars': -80, 'She Done Him Wrong': 0, 'Short Cut to Nirvana: Kumbh Mela': -50, 'The Grace Card': -290, 'Middle of Nowhere': -50, '3': 0, 'The Business of Fancydancing': -50, 'Call + Response': -50, 'Malevolence': -110, 'Shooting the Warwicks': -170, 'Super Hybrid': -50, 'Baghead': -230, 'Solitude': -170, 'The Case of the Grinning Cat': 0, 'Ordet': -80, 'Good Dick': -130, 'The Man from Earth': -50, 'The Trials of Darryl Hunt': -50, 'An American Girl Holiday': -50, 'Yesterday Was a Lie': 200, 'Theresa Is a Mother': -50, 'H.': -50, 'Archaeology of a Woman': -50, 'Children of Heaven': 0, 'Weekend': -190, 'Shes Gotta Have It': -200, 'Butterfly Girl': -50, 'The World Is Mine': 0, 'Another Earth': -50, 'Sweet Sweetbacks Baadasssss Song': -50, 'Perfect Cowboy': -50, 'Tadpole': -50, 'Once': -50, 'The Woman Chaser': 0, 'The Horse Boy': -50, 'When the Lights Went Out': -50, 'Heroes of Dirt': -50, 'A Charlie Brown Christmas': -110, 'Antarctic Edge: 70° South': -50, 'Aroused': 0, 'Top Spin': -50, 'Roger & Me': -50, 'An American in Hollywood': -50, 'Sound of My Voice': -110, 'The Brain That Sings': 0, 'The Blood of My Brother': -50, 'Your Sisters Sister': -50, 'Romantic Schemer': -50, 'A Dogs Breakfast': -200, 'Une Femme Mariée': -80, 'The Birth of a Nation': -50, 'The Work and the Story': -50, 'Facing the Giants': -50, 'The Gallows': -50, 'Eraserhead': -60, 'Over the Hill to the Poorhouse': -80, 'Hollywood Shuffle': -130, 'The Mighty': -50, 'Penitentiary': -50, 'The Lost Skeleton of Cadavra': 480, 'Dude, Wheres My Dog?!': -50, 'Cheap Thrills': -190, 'Indie Game: The Movie': -50, 'Closure': -90, 'Open Secret': -80, 'Echo Dr.': -110, 'The Night Visitor': -130, 'The Past is a Grotesque Animal': -50, 'Peace, Propaganda & the Promised Land': -50, 'Pi': -60, 'I Love You, Dont Touch Me!': -50, '20 Dates': -50, 'Queen Crab': -110, 'Super Size Me': -50, 'The FP': -50, 'Happy Christmas': -90, 'The Brain That Wouldnt Die': 0, 'Tiger Orange': -50, 'Supporting Characters': -50, 'Absentia': -130, 'The Brothers McMullen': -50, 'The Dirties': -130, 'Gabriela': 0, 'Tiny Furniture': -50, 'Hayride': -50, 'The Naked Ape': -90, 'Counting': -50, 'The Call of Cthulhu': -240, 'Bending Steel': -50, 'The Signal': -50, 'The Image Revolution': -50, 'This Is Martin Bonner': -50, 'A True Story': -50, 'George Washington': -50, 'Smiling Fish & Goat on Fire': -130, 'Dawn of the Crescent Moon': -50, 'Raymond Did It': -50, 'The Last Waltz': -50, 'Run, Hide, Die': -50, 'The Exploding Girl': -130, 'The Legend of Gods Gun': -50, 'Mutual Appreciation': 0, 'Her Cry: La Llorona Investigation': -50, 'Down Terrace': -50, 'Clerks': 0, 'Pink Narcissus': -50, 'Funny Ha Ha': -50, 'In the Company of Men': -130, 'Manito': -50, 'Rampage': -190, 'Slacker': 0, 'Dutch Kills': -50, 'Dry Spell': -50, 'Flywheel': -50, 'Exeter': -190, 'The Ridges': 0, 'The Puffy Chair': -50, 'Stories of Our Lives': 0, 'Breaking Upwards': -50, 'All Superheroes Must Die': -50, 'Pink Flamingos': -190, 'Clean': 0, 'The Circle': -80, 'Tin Can Man': 0, 'The Cure': -60, 'On the Downlow': -50, 'Sanctuary; Quite a Conundrum': -230, 'Bang': -50, 'Primer': 150, 'Cavite': -50, 'El Mariachi': -220, 'The Mongol King': -50, 'Newlyweds': -50, 'Signed Sealed Delivered': -50, 'The Following': -50, 'A Plague So Pleasant': -50, 'Shanghai Calling': -50, 'My Date with Drew': -130}\n",
            "movie:   Avatar Score : 4405 \n",
            "\n",
            "movie:   Aliens Score : 3940 \n",
            "\n",
            "movie:   Terminator 2: Judgment Day Score : 2925 \n",
            "\n",
            "movie:   The Terminator Score : 2675 \n",
            "\n",
            "movie:   The Abyss Score : 2620 \n",
            "\n",
            "movie:   True Lies Score : 1850 \n",
            "\n",
            "movie:   Titanic Score : 1570 \n",
            "\n",
            "movie:   The Host Score : 1340 \n",
            "\n",
            "movie:   Megiddo: The Omega Code 2 Score : 830 \n",
            "\n",
            "movie:   Clockstoppers Score : 710 \n",
            "\n"
          ],
          "name": "stdout"
        }
      ]
    },
    {
      "cell_type": "code",
      "metadata": {
        "id": "zpWWA4BXW3Tw",
        "colab": {
          "base_uri": "https://localhost:8080/",
          "height": 357
        },
        "outputId": "7c9600ca-a201-4cc9-fa42-0dec6f573f0f"
      },
      "source": [
        "my_user1 = \"/content/drive/My Drive/AI_ex2/myuser1.csv\"\n",
        "my_ratings1 = pd.read_csv(my_user1) \n",
        "my_scores1 = make_movie_score(my_ratings1, movie_names)\n",
        "my_recs1 = recommender(my_scores1)\n",
        "\n",
        "\n",
        "for i in my_recs1:\n",
        "  print(\"movie:  \",i, \"Score :\",my_scores1[i],\"\\n\")"
      ],
      "execution_count": null,
      "outputs": [
        {
          "output_type": "stream",
          "text": [
            "movie:   Snowpiercer Score : 1650 \n",
            "\n",
            "movie:   Hellboy II: The Golden Army Score : 1330 \n",
            "\n",
            "movie:   The Host Score : 1040 \n",
            "\n",
            "movie:   Blade II Score : 1010 \n",
            "\n",
            "movie:   In Time Score : 950 \n",
            "\n",
            "movie:   The Watch Score : 920 \n",
            "\n",
            "movie:   Dylan Dog: Dead of Night Score : 890 \n",
            "\n",
            "movie:   The Scorpion King Score : 870 \n",
            "\n",
            "movie:   Ultramarines: A Warhammer 40,000 Movie Score : 810 \n",
            "\n",
            "movie:   A Nightmare on Elm Street 4: The Dream Master Score : 770 \n",
            "\n"
          ],
          "name": "stdout"
        }
      ]
    }
  ]
}